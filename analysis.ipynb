{
 "cells": [
  {
   "cell_type": "markdown",
   "metadata": {},
   "source": [
    "# Bring in Libraries and Packages"
   ]
  },
  {
   "cell_type": "code",
   "execution_count": 1,
   "metadata": {
    "ExecuteTime": {
     "end_time": "2021-10-28T14:16:34.377487Z",
     "start_time": "2021-10-28T14:16:33.957656Z"
    }
   },
   "outputs": [],
   "source": [
    "import pandas as pd"
   ]
  },
  {
   "cell_type": "markdown",
   "metadata": {},
   "source": [
    "# Bring in Data"
   ]
  },
  {
   "cell_type": "code",
   "execution_count": 11,
   "metadata": {
    "ExecuteTime": {
     "end_time": "2021-10-28T14:45:43.092298Z",
     "start_time": "2021-10-28T14:45:40.930504Z"
    }
   },
   "outputs": [
    {
     "name": "stderr",
     "output_type": "stream",
     "text": [
      "/Users/catherinepollack/opt/anaconda3/lib/python3.8/site-packages/IPython/core/interactiveshell.py:3165: DtypeWarning: Columns (13,37,38,39,40) have mixed types.Specify dtype option on import or set low_memory=False.\n",
      "  has_raised = await self.run_ast_nodes(code_ast.body, cell_name,\n"
     ]
    }
   ],
   "source": [
    "data_file_path = \"/Users/catherinepollack/Documents/dartmouth/research/aim3_facebook_covid19_obesity/data/\"\n",
    "facebook_1 = pd.read_csv(str(data_file_path + \"210526_facebook_obesity_1.csv\"))\n",
    "facebook_2 = pd.read_csv(str(data_file_path + \"210526_facebook_obesity_2.csv\"))\n",
    "facebook = pd.concat([facebook_1, facebook_2], axis = 0)"
   ]
  },
  {
   "cell_type": "code",
   "execution_count": 12,
   "metadata": {},
   "outputs": [],
   "source": [
    "facebook = facebook.reset_index()\n",
    "facebook.to_csv(\"220108_facebook_obesity_withindex.csv\")"
   ]
  },
  {
   "cell_type": "markdown",
   "metadata": {},
   "source": [
    "# Remove Posts on Pet-Specific Pages"
   ]
  },
  {
   "cell_type": "code",
   "execution_count": 13,
   "metadata": {
    "ExecuteTime": {
     "end_time": "2021-10-28T19:43:38.229068Z",
     "start_time": "2021-10-28T19:43:32.333806Z"
    }
   },
   "outputs": [],
   "source": [
    "#Identifying which could be pet related\n",
    "set(facebook[\"Page Category\"]) \n",
    "#ADOPTION_SERVICE, ANIMAL_RESCUE_SERVICE, ANIMAL_SHELTER, AQUARIUM, AQUATIC_PET_STORE,\n",
    "#DOG_BREEDER, DOG_DAY_CARE_CENTER, DOG_PARK, DOG_TRAINING, DOG_WALKER, EQUESTRIAN_FACILITY\n",
    "#HORSEBACK_RIDING_SERVICE, HORSE_TRAINER, KENNEL, PET, PETTING_ZOO, PET_ADOPTION_SERVICE\n",
    "#PET_BREEDER, PET_CAFE, PET_GROOMER, PET_SERVICE, PET_SITTER, PET_STORE, PET_SUPPLIES\n",
    "#REPTILE_PET_STORE, ZOO\n",
    "\n",
    "possible_pet_tags = [\"ADOPTION_SERVICE\", \"ANIMAL_RESCUE_SERVICE\", \"ANIMAL_SHELTER\", \"AQUARIUM\", \"AQUATIC_PET_STORE\",\n",
    "\"DOG_BREEDER\", \"DOG_DAY_CARE_CENTER\", \"DOG_PARK\", \"DOG_TRAINING\", \"DOG_WALKER\", \"EQUESTRIAN_FACILITY\",\n",
    "\"HORSEBACK_RIDING_SERVICE\", \"HORSE_TRAINER\", \"KENNEL\", \"PET\", \"PETTING_ZOO\", \"PET_ADOPTION_SERVICE\",\n",
    "\"PET_BREEDER\", \"PET_CAFE\", \"PET_GROOMER\", \"PET_SERVICE\", \"PET_SITTER\", \"PET_STORE\", \"PET_SUPPLIES\",\n",
    "\"REPTILE_PET_STORE\", \"ZOO\"]\n",
    "\n",
    "facebook_pet = facebook[(facebook[\"Page Category\"].isin(possible_pet_tags))] #4,392 in pet category\n",
    "facebook_no_pet = facebook[-(facebook[\"Page Category\"].isin(possible_pet_tags))] #522,467 not in pet category"
   ]
  },
  {
   "cell_type": "code",
   "execution_count": 15,
   "metadata": {
    "ExecuteTime": {
     "end_time": "2021-10-28T19:47:18.544522Z",
     "start_time": "2021-10-28T19:47:18.539966Z"
    }
   },
   "outputs": [
    {
     "data": {
      "text/plain": [
       "Index(['index', 'Page Name', 'User Name', 'Facebook Id', 'Page Category',\n",
       "       'Page Admin Top Country', 'Page Description', 'Page Created',\n",
       "       'Likes at Posting', 'Followers at Posting', 'Post Created',\n",
       "       'Post Created Date', 'Post Created Time', 'Type', 'Total Interactions',\n",
       "       'Likes', 'Comments', 'Shares', 'Love', 'Wow', 'Haha', 'Sad', 'Angry',\n",
       "       'Care', 'Video Share Status', 'Is Video Owner?', 'Post Views',\n",
       "       'Total Views', 'Total Views For All Crossposts', 'Video Length', 'URL',\n",
       "       'Message', 'Link', 'Final Link', 'Image Text', 'Link Text',\n",
       "       'Description', 'Sponsor Id', 'Sponsor Name', 'Sponsor Category',\n",
       "       'Total Interactions (weighted  —  Likes 1x Shares 1x Comments 1x Love 1x Wow 1x Haha 1x Sad 1x Angry 1x Care 1x )',\n",
       "       'Overperforming Score'],\n",
       "      dtype='object')"
      ]
     },
     "execution_count": 15,
     "metadata": {},
     "output_type": "execute_result"
    }
   ],
   "source": [
    "facebook_pet.columns"
   ]
  },
  {
   "cell_type": "markdown",
   "metadata": {},
   "source": [
    "# Extracting Text from Messages, Image Text, Link Text, and Description"
   ]
  },
  {
   "cell_type": "code",
   "execution_count": 16,
   "metadata": {
    "ExecuteTime": {
     "end_time": "2021-10-29T14:51:35.111535Z",
     "start_time": "2021-10-29T14:51:34.166704Z"
    }
   },
   "outputs": [],
   "source": [
    "messages = facebook_no_pet[~facebook_no_pet['Message'].isnull()][\"Message\"]\n",
    "image_text = facebook_no_pet[~facebook_no_pet['Image Text'].isnull()][\"Image Text\"]\n",
    "link_text = facebook_no_pet[~facebook_no_pet['Link Text'].isnull()][\"Link Text\"]\n",
    "descriptions = facebook_no_pet[~facebook_no_pet['Description'].isnull()][\"Description\"]"
   ]
  },
  {
   "cell_type": "code",
   "execution_count": 17,
   "metadata": {
    "ExecuteTime": {
     "end_time": "2021-10-29T14:53:53.364863Z",
     "start_time": "2021-10-29T14:53:53.068978Z"
    }
   },
   "outputs": [],
   "source": [
    "full_list_of_texts = list(messages) + list(image_text) + list(link_text) + list(descriptions)"
   ]
  },
  {
   "cell_type": "code",
   "execution_count": 18,
   "metadata": {},
   "outputs": [],
   "source": [
    "messages_index = facebook_no_pet[~facebook_no_pet['Message'].isnull()][\"index\"]\n",
    "image_text_index = facebook_no_pet[~facebook_no_pet['Image Text'].isnull()][\"index\"]\n",
    "link_text_index = facebook_no_pet[~facebook_no_pet['Link Text'].isnull()][\"index\"]\n",
    "descriptions_index = facebook_no_pet[~facebook_no_pet['Description'].isnull()][\"index\"]"
   ]
  },
  {
   "cell_type": "code",
   "execution_count": 19,
   "metadata": {},
   "outputs": [],
   "source": [
    "full_list_of_texts_index = list(messages_index) + list(image_text_index) + list(link_text_index) + list(descriptions_index)"
   ]
  },
  {
   "cell_type": "code",
   "execution_count": 20,
   "metadata": {
    "ExecuteTime": {
     "end_time": "2021-10-29T14:55:50.026266Z",
     "start_time": "2021-10-29T14:55:50.019372Z"
    }
   },
   "outputs": [
    {
     "ename": "TypeError",
     "evalue": "unsupported operand type(s) for +: 'int' and 'str'",
     "output_type": "error",
     "traceback": [
      "\u001b[0;31m---------------------------------------------------------------------------\u001b[0m",
      "\u001b[0;31mTypeError\u001b[0m                                 Traceback (most recent call last)",
      "\u001b[0;32m<ipython-input-20-2439dde9730c>\u001b[0m in \u001b[0;36m<module>\u001b[0;34m\u001b[0m\n\u001b[1;32m      1\u001b[0m \u001b[0mtextfile\u001b[0m \u001b[0;34m=\u001b[0m \u001b[0mopen\u001b[0m\u001b[0;34m(\u001b[0m\u001b[0mstr\u001b[0m\u001b[0;34m(\u001b[0m\u001b[0mdata_file_path\u001b[0m \u001b[0;34m+\u001b[0m \u001b[0;34m\"full_list_of_index.txt\"\u001b[0m\u001b[0;34m)\u001b[0m\u001b[0;34m,\u001b[0m \u001b[0;34m\"w\"\u001b[0m\u001b[0;34m)\u001b[0m\u001b[0;34m\u001b[0m\u001b[0;34m\u001b[0m\u001b[0m\n\u001b[1;32m      2\u001b[0m \u001b[0;32mfor\u001b[0m \u001b[0melement\u001b[0m \u001b[0;32min\u001b[0m \u001b[0mfull_list_of_texts_index\u001b[0m\u001b[0;34m:\u001b[0m\u001b[0;34m\u001b[0m\u001b[0;34m\u001b[0m\u001b[0m\n\u001b[0;32m----> 3\u001b[0;31m     \u001b[0mtextfile\u001b[0m\u001b[0;34m.\u001b[0m\u001b[0mwrite\u001b[0m\u001b[0;34m(\u001b[0m\u001b[0melement\u001b[0m \u001b[0;34m+\u001b[0m \u001b[0;34m\"\\n\"\u001b[0m\u001b[0;34m)\u001b[0m\u001b[0;34m\u001b[0m\u001b[0;34m\u001b[0m\u001b[0m\n\u001b[0m\u001b[1;32m      4\u001b[0m \u001b[0mtextfile\u001b[0m\u001b[0;34m.\u001b[0m\u001b[0mclose\u001b[0m\u001b[0;34m(\u001b[0m\u001b[0;34m)\u001b[0m\u001b[0;34m\u001b[0m\u001b[0;34m\u001b[0m\u001b[0m\n",
      "\u001b[0;31mTypeError\u001b[0m: unsupported operand type(s) for +: 'int' and 'str'"
     ]
    }
   ],
   "source": [
    "textfile = open(str(data_file_path + \"full_list_of_index.txt\"), \"w\")\n",
    "for element in full_list_of_texts_index:\n",
    "    textfile.write(element + \"\\n\")\n",
    "textfile.close()"
   ]
  },
  {
   "cell_type": "code",
   "execution_count": 23,
   "metadata": {},
   "outputs": [],
   "source": [
    "pd.DataFrame(full_list_of_texts_index).to_csv(\"220108_index_list.csv\")"
   ]
  },
  {
   "cell_type": "code",
   "execution_count": null,
   "metadata": {},
   "outputs": [],
   "source": []
  }
 ],
 "metadata": {
  "interpreter": {
   "hash": "ffe67d4efdf50a67adb541926f1b56bfeeb48b191d1b9a6489e883c5acad5bda"
  },
  "kernelspec": {
   "display_name": "Python 3.8.8 64-bit ('base': conda)",
   "name": "python3"
  },
  "language_info": {
   "codemirror_mode": {
    "name": "ipython",
    "version": 3
   },
   "file_extension": ".py",
   "mimetype": "text/x-python",
   "name": "python",
   "nbconvert_exporter": "python",
   "pygments_lexer": "ipython3",
   "version": "3.8.8"
  },
  "toc": {
   "base_numbering": 1,
   "nav_menu": {},
   "number_sections": true,
   "sideBar": true,
   "skip_h1_title": false,
   "title_cell": "Table of Contents",
   "title_sidebar": "Contents",
   "toc_cell": false,
   "toc_position": {},
   "toc_section_display": true,
   "toc_window_display": false
  },
  "varInspector": {
   "cols": {
    "lenName": 16,
    "lenType": 16,
    "lenVar": 40
   },
   "kernels_config": {
    "python": {
     "delete_cmd_postfix": "",
     "delete_cmd_prefix": "del ",
     "library": "var_list.py",
     "varRefreshCmd": "print(var_dic_list())"
    },
    "r": {
     "delete_cmd_postfix": ") ",
     "delete_cmd_prefix": "rm(",
     "library": "var_list.r",
     "varRefreshCmd": "cat(var_dic_list()) "
    }
   },
   "types_to_exclude": [
    "module",
    "function",
    "builtin_function_or_method",
    "instance",
    "_Feature"
   ],
   "window_display": false
  }
 },
 "nbformat": 4,
 "nbformat_minor": 4
}
