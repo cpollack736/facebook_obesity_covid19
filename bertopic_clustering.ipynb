{
 "cells": [
  {
   "cell_type": "markdown",
   "metadata": {},
   "source": [
    "# Libraries and Packages"
   ]
  },
  {
   "cell_type": "code",
   "execution_count": 11,
   "metadata": {},
   "outputs": [],
   "source": [
    "import pandas as pd\n",
    "\n",
    "from bertopic import BERTopic\n",
    "from sklearn.feature_extraction.text import CountVectorizer"
   ]
  },
  {
   "cell_type": "markdown",
   "metadata": {},
   "source": [
    "# Data"
   ]
  },
  {
   "cell_type": "code",
   "execution_count": 12,
   "metadata": {},
   "outputs": [
    {
     "name": "stderr",
     "output_type": "stream",
     "text": [
      "/Users/catherinepollack/opt/anaconda3/lib/python3.8/site-packages/IPython/core/interactiveshell.py:3165: DtypeWarning: Columns (361,363,364,366,367,375,379,384,389,394,399,400,401,402) have mixed types.Specify dtype option on import or set low_memory=False.\n",
      "  has_raised = await self.run_ast_nodes(code_ast.body, cell_name,\n"
     ]
    }
   ],
   "source": [
    "file_path = \"/Users/catherinepollack/Documents/dartmouth/research/aim3_facebook_covid19_obesity/data\"\n",
    "dat_obesity = \"/220120_feature_matrix_no_bert.csv\"\n",
    "\n",
    "dat_obesity = pd.read_csv(str(file_path + dat_obesity))"
   ]
  },
  {
   "cell_type": "code",
   "execution_count": 13,
   "metadata": {},
   "outputs": [
    {
     "name": "stderr",
     "output_type": "stream",
     "text": [
      "Batches: 100%|██████████| 16328/16328 [23:04:22<00:00,  5.09s/it]     \n",
      "2022-03-14 13:51:12,448 - BERTopic - Transformed documents to Embeddings\n",
      "2022-03-14 15:12:27,182 - BERTopic - Reduced dimensionality with UMAP\n",
      "2022-03-14 15:13:45,014 - BERTopic - Clustered UMAP embeddings with HDBSCAN\n"
     ]
    }
   ],
   "source": [
    "dat_obesity.processed_text_bert = dat_obesity.processed_text_bert.fillna('')\n",
    "topic_model = BERTopic(verbose = True, min_topic_size = 100)\n",
    "topics = topic_model.fit_transform(dat_obesity.processed_text_bert)"
   ]
  },
  {
   "cell_type": "code",
   "execution_count": 14,
   "metadata": {},
   "outputs": [],
   "source": [
    "dat_obesity[\"topics\"] = topics[0]"
   ]
  },
  {
   "cell_type": "code",
   "execution_count": 15,
   "metadata": {},
   "outputs": [
    {
     "name": "stderr",
     "output_type": "stream",
     "text": [
      "/Users/catherinepollack/opt/anaconda3/lib/python3.8/site-packages/scipy/sparse/_index.py:125: SparseEfficiencyWarning: Changing the sparsity structure of a csr_matrix is expensive. lil_matrix is more efficient.\n",
      "  self._set_arrayXarray(i, j, x)\n"
     ]
    }
   ],
   "source": [
    "dat_obesity.to_csv(file_path + \"/220314_obesity_with_topics.csv\")\n",
    "topic_model.save(\"220314_bert_topic_model_facebook\")"
   ]
  },
  {
   "cell_type": "code",
   "execution_count": 16,
   "metadata": {},
   "outputs": [
    {
     "data": {
      "text/html": [
       "<div>\n",
       "<style scoped>\n",
       "    .dataframe tbody tr th:only-of-type {\n",
       "        vertical-align: middle;\n",
       "    }\n",
       "\n",
       "    .dataframe tbody tr th {\n",
       "        vertical-align: top;\n",
       "    }\n",
       "\n",
       "    .dataframe thead th {\n",
       "        text-align: right;\n",
       "    }\n",
       "</style>\n",
       "<table border=\"1\" class=\"dataframe\">\n",
       "  <thead>\n",
       "    <tr style=\"text-align: right;\">\n",
       "      <th></th>\n",
       "      <th>Topic</th>\n",
       "      <th>Count</th>\n",
       "      <th>Name</th>\n",
       "    </tr>\n",
       "  </thead>\n",
       "  <tbody>\n",
       "    <tr>\n",
       "      <th>0</th>\n",
       "      <td>-1</td>\n",
       "      <td>251740</td>\n",
       "      <td>-1_the_to_in_is</td>\n",
       "    </tr>\n",
       "    <tr>\n",
       "      <th>1</th>\n",
       "      <td>0</td>\n",
       "      <td>8316</td>\n",
       "      <td>0_sexual_occurs_intercourse_sooner</td>\n",
       "    </tr>\n",
       "    <tr>\n",
       "      <th>2</th>\n",
       "      <td>1</td>\n",
       "      <td>8261</td>\n",
       "      <td>1_bariatric_surgery_bariatricsurgery_bariatrics</td>\n",
       "    </tr>\n",
       "    <tr>\n",
       "      <th>3</th>\n",
       "      <td>2</td>\n",
       "      <td>3485</td>\n",
       "      <td>2_sleep_night_deprivation_hours</td>\n",
       "    </tr>\n",
       "    <tr>\n",
       "      <th>4</th>\n",
       "      <td>3</td>\n",
       "      <td>3325</td>\n",
       "      <td>3_keto_carb_ketogenic_carbs</td>\n",
       "    </tr>\n",
       "    <tr>\n",
       "      <th>5</th>\n",
       "      <td>4</td>\n",
       "      <td>3314</td>\n",
       "      <td>4_pet_pets_dogs_dog</td>\n",
       "    </tr>\n",
       "    <tr>\n",
       "      <th>6</th>\n",
       "      <td>5</td>\n",
       "      <td>3063</td>\n",
       "      <td>5_covid19_virus_covid_deaths</td>\n",
       "    </tr>\n",
       "    <tr>\n",
       "      <th>7</th>\n",
       "      <td>6</td>\n",
       "      <td>2987</td>\n",
       "      <td>6_covid19_coronavirus_severe_factor</td>\n",
       "    </tr>\n",
       "    <tr>\n",
       "      <th>8</th>\n",
       "      <td>7</td>\n",
       "      <td>2811</td>\n",
       "      <td>7_read_interesting_oh_yikes</td>\n",
       "    </tr>\n",
       "    <tr>\n",
       "      <th>9</th>\n",
       "      <td>8</td>\n",
       "      <td>2773</td>\n",
       "      <td>8_my_myself_was_me</td>\n",
       "    </tr>\n",
       "    <tr>\n",
       "      <th>10</th>\n",
       "      <td>9</td>\n",
       "      <td>2773</td>\n",
       "      <td>9_vaccine_workers_vaccination_eligible</td>\n",
       "    </tr>\n",
       "    <tr>\n",
       "      <th>11</th>\n",
       "      <td>10</td>\n",
       "      <td>2710</td>\n",
       "      <td>10_childhood_children_child_kids</td>\n",
       "    </tr>\n",
       "    <tr>\n",
       "      <th>12</th>\n",
       "      <td>11</td>\n",
       "      <td>2680</td>\n",
       "      <td>11_type_diabetes_insulin_glucose</td>\n",
       "    </tr>\n",
       "  </tbody>\n",
       "</table>\n",
       "</div>"
      ],
      "text/plain": [
       "    Topic   Count                                             Name\n",
       "0      -1  251740                                  -1_the_to_in_is\n",
       "1       0    8316               0_sexual_occurs_intercourse_sooner\n",
       "2       1    8261  1_bariatric_surgery_bariatricsurgery_bariatrics\n",
       "3       2    3485                  2_sleep_night_deprivation_hours\n",
       "4       3    3325                      3_keto_carb_ketogenic_carbs\n",
       "5       4    3314                              4_pet_pets_dogs_dog\n",
       "6       5    3063                     5_covid19_virus_covid_deaths\n",
       "7       6    2987              6_covid19_coronavirus_severe_factor\n",
       "8       7    2811                      7_read_interesting_oh_yikes\n",
       "9       8    2773                               8_my_myself_was_me\n",
       "10      9    2773           9_vaccine_workers_vaccination_eligible\n",
       "11     10    2710                 10_childhood_children_child_kids\n",
       "12     11    2680                 11_type_diabetes_insulin_glucose"
      ]
     },
     "execution_count": 16,
     "metadata": {},
     "output_type": "execute_result"
    }
   ],
   "source": [
    "topic_model.get_topic_info()[0:13]"
   ]
  },
  {
   "cell_type": "code",
   "execution_count": 9,
   "metadata": {},
   "outputs": [
    {
     "name": "stdout",
     "output_type": "stream",
     "text": [
      "0\n",
      "#PREMATURE_EJACULATION *Premature ejaculation occurs when a man ejaculates sooner during sexual intercourse than he or his partner would like.Its when an Orgasm or Climax occurs sooner than wanted. #SYMPTOMS *Life long (primary),,,, it occurs all or nearly all of the time beginning wth ur first sexual intercourse . *Acquired (secondary). Develops after u have had previous sexual experience without ejaculatory problems #CAUSES 1•Stress & Anxiety. 2•Alcohol and Drugs 3•Diabetes. 4•High blood pressure/hypertension 5•Prostate surgery •Masturbation. 6•Depression. 7•prostate cancer & Baldness ,8•Ulcers & use of chemicals. 9•Low self-esteem. 10•Smoking & Narcotics 11•Hormone imbalance 12•Multiple sclerosis 13•Nerve Damage 14•Atherosclerosis 15•Gloom & Fear 16•Uncertainties, Sadness. 17•Fatigue and Obesity. 18•Problems in relationships. #SYMPTOMS 1.Inability to maintain an erection. 2.Decreased libido/sexual desires. 3.Early ejaculation CAUSES #Psychological Causes ☆Early sexual experience ☆Sexual abuse ☆Poor body Image ☆Depression ☆Worrying about premature ejaculation ☆Guilty feelings that increase ur tendency to rush through sexual intercourse ☆Sexual unexperience ☆Over excitment or too much stimulation ☆Relationship stress ☆Anxiety ☆Issues related to control and intimacy ☆Decreased confidence in relationships .Depression #Biological_Causes *Abnormal hormone levels (Hormonal imbalance) *Abnormal levels of brain chemicals called neurotransmitters *Inflammation and Infection of prostate or Urethra *Inherited traits #Medical_Causes *Diabetes *Multiple sclerosis *Prostate disease *Thyroid problems *Drug use *Excessive Alcohol Consumption. SOLUTUON Xpowerman capsules 100% natural health product from USA very effective and it's a permanent treatment. ~intensive formula ~Relieves fatigue and Exhaustion. ~Improves Vitality. ~Prevents & heals male Impotence. ~permanently. For help call or WhatsApp +256772994123 +256705413355\n",
      "-----\n",
      "#PREMATURE_EJACULATION *Premature ejaculation occurs when a man ejaculates sooner during sexual intercourse than he or his partner would like.Its when an Orgasm or Climax occurs sooner than wanted. #SYMPTOMS *Life long (primary),,,, it occurs all or nearly all of the time beginning wth ur first sexual intercourse . *Acquired (secondary). Develops after u have had previous sexual experience without ejaculatory problems #CAUSES 1•Stress & Anxiety. 2•Alcohol and Drugs 3•Diabetes. 4•High blood pressure/hypertension 5•Prostate surgery •Masturbation. 6•Depression. 7•prostate cancer & Baldness ,8•Ulcers & use of chemicals. 9•Low self-esteem. 10•Smoking & Narcotics 11•Hormone imbalance 12•Multiple sclerosis 13•Nerve Damage 14•Atherosclerosis 15•Gloom & Fear 16•Uncertainties, Sadness. 17•Fatigue and Obesity. 18•Problems in relationships. #SYMPTOMS 1.Inability to maintain an erection. 2.Decreased libido/sexual desires. 3.Early ejaculation CAUSES #Psychological Causes ☆Early sexual experience ☆Sexual abuse ☆Poor body Image ☆Depression ☆Worrying about premature ejaculation ☆Guilty feelings that increase ur tendency to rush through sexual intercourse ☆Sexual unexperience ☆Over excitment or too much stimulation ☆Relationship stress ☆Anxiety ☆Issues related to control and intimacy ☆Decreased confidence in relationships .Depression #Biological_Causes *Abnormal hormone levels (Hormonal imbalance) *Abnormal levels of brain chemicals called neurotransmitters *Inflammation and Infection of prostate or Urethra *Inherited traits #Medical_Causes *Diabetes *Multiple sclerosis *Prostate disease *Thyroid problems *Drug use *Excessive Alcohol Consumption. SOLUTUON Xpowerman capsules 100% natural health product from USA very effective and it's a permanent treatment. ~intensive formula ~Relieves fatigue and Exhaustion. ~Improves Vitality. ~Prevents & heals male Impotence. ~permanently. For help call or WhatsApp +256772994123 +256705413355\n",
      "-----\n",
      "#PREMATURE_EJACULATION *Premature ejaculation occurs when a man ejaculates sooner during sexual intercourse than he or his partner would like.Its when an Orgasm or Climax occurs sooner than wanted. #SYMPTOMS *Life long (primary),,,, it occurs all or nearly all of the time beginning wth ur first sexual intercourse . *Acquired (secondary). Develops after u have had previous sexual experience without ejaculatory problems #CAUSES 1•Stress & Anxiety. 2•Alcohol and Drugs 3•Diabetes. 4•High blood pressure/hypertension 5•Prostate surgery •Masturbation. 6•Depression. 7•prostate cancer & Baldness ,8•Ulcers & use of chemicals. 9•Low self-esteem. 10•Smoking & Narcotics 11•Hormone imbalance 12•Multiple sclerosis 13•Nerve Damage 14•Atherosclerosis 15•Gloom & Fear 16•Uncertainties, Sadness. 17•Fatigue and Obesity. 18•Problems in relationships. #SYMPTOMS 1.Inability to maintain an erection. 2.Decreased libido/sexual desires. 3.Early ejaculation CAUSES #Psychological Causes ☆Early sexual experience ☆Sexual abuse ☆Poor body Image ☆Depression ☆Worrying about premature ejaculation ☆Guilty feelings that increase ur tendency to rush through sexual intercourse ☆Sexual unexperience ☆Over excitment or too much stimulation ☆Relationship stress ☆Anxiety ☆Issues related to control and intimacy ☆Decreased confidence in relationships .Depression #Biological_Causes *Abnormal hormone levels (Hormonal imbalance) *Abnormal levels of brain chemicals called neurotransmitters *Inflammation and Infection of prostate or Urethra *Inherited traits #Medical_Causes *Diabetes *Multiple sclerosis *Prostate disease *Thyroid problems *Drug use *Excessive Alcohol Consumption. SOLUTUON Xpowerman capsules 100% natural health product from USA very effective and it's a permanent treatment. ~intensive formula ~Relieves fatigue and Exhaustion. ~Improves Vitality. ~Prevents & heals male Impotence. ~permanently. For help call or WhatsApp +256784120800 +256704120800\n",
      "-----\n",
      "**********\n",
      "1\n",
      "كورس خاص للاطباء واخصائيين التغذية ✅✅✅✅✅✅✅✅✅ Anew education course about #cryotherapy #cavitation #mesotherapy and asmall class how to deal with obesity in your #clinic #join_us for the new group Reserve on 01205551926\n",
      "-----\n",
      "Is Bariatric Surgery right for you or someone you care about? Bariatric surgery is intended for individuals who are diagnosed with severe or \"morbid\" obesity. These patients have a body mass index (BMI) of 40 or higher (or approximately 100 pounds or more of excess weight), or who have a BMI between 30 and 39.9 (or approximately 75 pounds or more of excess weight) and who have one or more of the obesity-related conditions listed above. Learn more here: http://ow.ly/Uib050uzjYB\n",
      "-----\n",
      "Stop struggling with obesity, fight against it! Come and consult India's most experienced Bariatric team in your very own city. To register, call - 9754231515 / 9737367367 #Ajmer #MohakBariatrics #DrMohitBhandari #WLS #WeightLoss #Obesity #BariatricSurgery #BariatricCamp\n",
      "-----\n",
      "**********\n",
      "2\n",
      "GETTING CHILDREN TO EAT HEALTHY FOODS Children require nutritionally dense food to enhance their physical and mental development, therefore, allowing children to indulge in processed and fast foods instead of healthy options such as fruits and vegetables can cause them to suffer child obesity or life threatening ailments. Read more https://www.seekapor.com/getting-children-to-eat-healthy-foods/ #seekapor #whoschildisthat #healthylifestyle #healthyeating\n",
      "-----\n",
      "One-third of kids in America are considered overweight or obese, and that is associated with poor motor skill performance and a lower level of physical activity in childhood.\n",
      "-----\n",
      "\"There’s virtually no debate that kids need nutritious food to stay healthy and learn at school. Numerous and broad studies have shown that school meal programs reduce obesity, poor health and food insecurity.\" The Hill https://thehill.com/opinion/education/459418-were-the-wealthiest-country-our-kids-shouldnt-go-to-school-hungry\n",
      "-----\n",
      "**********\n",
      "3\n",
      "****Not crime related but thought this may be of interest to men who are struggling with mental health issues at this time of year or want to lose weight***** It’s that time of year again when some of you may want to embark on a healthier lifestyle! Well if so this is for you (men only I’m afraid) I joined Manwell in May 2018 and weighed a hefty 19st 6. I was extremely obese, way in to the red with my BMI, and health wise was in a very bad way. Fast forward 18 months later and I’m now about 14st 7, on the BMI scale I’m only about half a stone off getting in to the green and I have no real health issues! I’m running 15K every week, playing footy at least once a week and still have energy to burn afterwards. Manwell has changed my life and has done more for me than I can actually put in to words on here. I feel like a totally different man and the confidence I’ve gained since joining is immeasurable. If you struggle with mental health issues this can be the one thing that changes your life! For a tenner a month as well it’s far cheaper than most other slimming programs and you get to make sine fantastic mates in the process. Give this a look and see what you think and if you have any questions you know where I am 👍🏻\n",
      "-----\n",
      "7 weeks completed and down 12.3 lbs! I broke some lines when we had a weekend away and that slowed things for another week. I wont be doing that again! It was hard to get back on track but I forced myself and 2 days later I was down another 2 pounds! This program is changing my life. Without it I feel I would have been obese till my dying day. At 49 I was feeling frumpy, resigned to my fate and sad that with all my health knowledge I had never been able to stick to a program either because I was hungry, felt sick to my stomach with too much protein or really bored. My sister in law is my buddy. We text often with our successes and yummy meals we have eaten. This is really helping so much and its fun to watch our bodies changing. I cant thank Susan enough for following the promptings she had to take this to the world. I believe this program is heaven sent xx\n",
      "-----\n",
      "In January 2014, I weighed 228 pounds and was morbidly obese. I was taking oral medications for type 2 diabetes and a comprehensive assessment of my fitness level conducted by Cleveland State’s Department of Exercise Science estimated that my “fitness age” was 20 years beyond my chronological age. Put another way, I had the body of an 81-year-old at 61. While I found the results of this assessment disconcerting, I was largely in denial about the severity of my weight problem. I felt okay and wasn’t restricted in what I needed to do. As my work schedule permitted, I sporadically participated in university-sponsored group exercise classes during my lunch hour. However, my administrative position--which involved a substantial amount of meeting attendance, data analysis and writing--had resulted in a largely sedentary lifestyle. In addition, given that I was working 12 to 16 hour days, 6 to 7 days a week, my sleeping and eating habits left much to be desired. All that changed in February of that year when I suffered an inexplicable attack of pancreatitis that put me in a coma for more than a week with very limited prospects for survival. I couldn’t breath and had to be intubated and my physicians were discussing organ donorship, having predicted that I probably wouldn’t live more than 2 or 3 days. When I did finally come out of my coma, I was so deconditioned it took two individuals to help me transfer from my hospital bed to a chair. I couldn’t walk and certainly couldn’t return home where I would also have to negotiate stairs. My road to recovery was long. In fact, it took almost a year for me to resume a normal level of activity. I went from trauma care, to intensive care, to a regular medical unit before ultimately spending a month in a hospital rehab unit. As part of that rehab, I had to learn to walk and climb stairs again. At the time of my release from the hospital, I could only manage the four steps needed to enter my home and was confined to living on the first floor. I continued to receive physical therapy and nursing support at home, later to be followed by outpatient surgery and more rehab. I had a 6-month medical leave of absence from work, but even at the conclusion of that leave, I had a restricted work schedule. Having lost 25% of my pancreas, I became a type 1 diabetic and was particularly concerned about the daily quantity of both short- and long-acting insulin I had to take to manage my blood sugar levels. Given that no one could tell me how much of my pancreatic functions were permanently lost, I thought I might benefit from increased exercise as a means of reducing the amount of insulin that I was taking. So, in the late fall of 2014, I started wearing my fitness tracker again and set a goal of walking 50,000 steps a week. In the spring of 2015, I thought I could profit from group exercise to complement my walking regimen and re-enrolled in Cleveland State’s Fitness for Life Program and Journey to Wellness lunchtime exercise classes for faculty and staff. Finally, in October of 2015, I joined the YMCA to enroll in the Real You Program that I had received emails about before I became ill. While there were plenty of exercises in Real You that I couldn’t manage when I began, I was fortunate to have instructors who were able to suggest modifications for me. Albeit, I often felt frustrated and uncoordinated, I realized from my experiences with physical and occupational therapy that, with time, I would get stronger if I stuck with it. Since the fall of 2015, I have continued to enroll in the Real You, Cleveland State’s Fitness for Life Program, and to participate in many other classes at the Y. Thus far I have lost 70 pounds and have greatly reduced the insulin that I must take. In fact, most days I no longer need any short-acting insulin and have reduced my need for long-acting insulin from 30 to 5-7 units per day. My A1C levels currently range from 5.8-6.2. My Body Mass Index is finally in the normal range for my height and gender. Moreover, my last fitness assessment as conducted by Cleveland State’s Exercise Science Department rated my flexibility as excellent and my cardiovascular results placed me in the elite category for my age. Overall, my “fitness age” is now estimated to be 10 years less than my chronological age! I currently weigh what I did in high school, am more energetic, and feel fitter than ever. In addition to my physical well-being, I am decidedly happier than I have been in a long time—although I’m certain that retirement has contributed to this, daily exercise, and liking the way that I now look have also played a role. Since I characteristically walk 7 to 10 miles every day and complete the equivalent of one or two 55-minute exercise classes 4 or 5 times a week, it would be erroneous to conclude that my weight loss and return to good health have been solely the result of participation in the Y’s Real You Program. It has, (truncated)\n",
      "-----\n",
      "**********\n",
      "4\n",
      "🐕Pet Obesity Awareness Day🐈 Obesity is the #1 health threat pets face. Over 50% of US pets are overweight to obese. 9 out of 10 owners mistakenly identify their pets weight as \"normal\". See the attached graphic, in the comments, for the standard we use in our office to determine your pet's body condition score (3/5 is normal weight). Common Health Risks of Obesity 🐕 Decreased life expectancy (up to 2.5 years) 🐈 Diabetes 🐕 Osteoarthritis 🐈 High blood pressure 🐕 ACL and back injuries 🐈 Kidney disease 🐕 Many forms of cancer 🐈 Respiratory problems What to feed, and how much to feed, your pet can be tricky to figure out. Schedule a visit with one of our amazing doctors to discuss your pet's body condition score and if a weight loss plan is right for your pet.\n",
      "-----\n",
      "Here is some helpful information for National Pet Obesity Awareness Day.\n",
      "-----\n",
      "Natural Dog Treats: Are You Being Scammed? What do you think of when you see the word natural on your dog’s treats? Do you picture: MSG Meat from diseased animals Cancer-causing chemicals? In reality, most natural dog treats contain very unnatural (and very unhealthy) ingredients. But don’t worry … there are ways to determine the truly natural treats from the imposters. Why Natural Is Just Marketing Pet food trends follow human trends. And that makes sense … you have access to the cash and credit card, not your dog! Pet food manufacturers know consumers are looking for healthier, less processed foods. They also know consumers will spend big to get them. So they find creative ways to put “natural” on the label … while adding the same harmful, low-quality ingredients you’ll find in the cheap treats. How do they get away with this? What Natural Means To Pet Food Manufacturers If you make dog treats, and you want to put the word “natural” on the label, you have to meet definitions set by AAFCO. AAFCO is the Association of American Feed Control Officials. This might sound like a good thing but there are two problems with AAFCO setting the standard: Most of the AAFCO board members work for large pet manufacturers. The definitions for “natural” are vague and complicated. Don’t think these two points are unrelated! [Related] AAFCO guidelines are pretty much useless. Here’s why. Let’s take a closer look at the definitions. According to AAFCO, natural can be: A feed or feed ingredient derived solely from plant, animal or mined sources Is unprocessed or has been subject to: physical processing heat processing rendering purification extraction hydrolysis enzymolysis fermentation Hasn’t been produced by or subject to a chemically synthetic process Doesn’t contain any additives or processing aids that are chemically synthetic … except in amounts as might occur in good manufacturing practices. Did you get that last part? This basically means pet food or treats can be rendered or extruded and still be called natural … as long as the manufacturer didn’t add synthetic ingredients … unless they had to. Any pet food without synthetic preservatives like: BHA (can cause cancer) BHT (can cause liver, thyroid and kidney problems) Ethoxyquin (liver, kidney, thyroid and reproductive dysfunction) Artificial flavors or colors can be called natural But that’s not exactly true … Natural treats can contain these dangerous, man-made ingredients if the label says: “Natural with added vitamins, minerals and trace nutrients.” So the term natural doesn’t mean natural at all. Natural Dog Treats: Perception Vs Reality Research shows that people look for the word natural. They believe it’s healthier. According to an Ipsos global survey, we believe natural means: Unprocessed Healthy 100% from nature No artificial ingredients Organic Do all natural dog treats hit the mark? Some do. Most don’t. In fact, most natural treats are downright harmful. Between 2010 and 2012, a reported 2,674 dogs became sick as a result of eating chicken jerky treats. A reported 501 dogs died as a result of eating “natural” chicken treats. The bottom line? You can’t rely on the word natural to determine the quality and safety of your dog’s treats. So how do you find a real, healthy natural treat for your dog? Avoid These Ingredients 1. Corn, Wheat, Rice, Grains These are cheap fillers that most dog treat manufacturers use. Too many carbs in your dog’s diet can cause dysbiosis which can become a major health issue. They also expose your dog to carcinogenic (cancer-causing) toxins called mycotoxins. This includes the most carcinogenic naturally occurring substance known to man, aflatoxin. Research done in 2013 found mycotoxin contamination in over 81% of the samples tested. These were grains and byproducts destined for animal foods. 2. Corn Syrup This cheap sweetener “enhances” the taste of your dog’s treats. The problems is, corn syrup, just like sugar, leads to serious issues like obesity and diabetes. If your dog’s treats are high-quality and healthy the treats don’t need to be sweetened. They’ll taste good on their own. 3. Soy Soy is a plant protein that hits all the makers as a natural ingredient … … but it’s terrible for your dog. Soy is one of the top three genetically modified crops grown in the US. Unless it says organic, it likely contains harmful pesticides like glyphosate. Glyphosate has been linked to: autism endocrine disruption cancer birth defects antibiotic resistance hormone disruption kidney disease That’s why so many countries have banned it. It can also suppress the thyroid gland’s ability to produce T3 and T4. These are necessary for normal thyroid function and it’s a common allergen. Avoid ingredients such as: soybean meal, soy flour and soy protein. 4. Unidentified “Meat” Or “Animal” Anything I’m talking about “meat meal” or “animal (truncated)\n",
      "-----\n",
      "**********\n",
      "5\n",
      "#TopTip - Get enough sleep! Poor sleep can drive insulin resistance, disrupt your appetite hormones, and reduce physical and mental performance. Poor sleep is one of the strongest individual risk factors for weight gain and obesity.\n",
      "-----\n",
      "Not getting enough sleep could be throwing a giant wrench into your progress... 😬 Ever hear the following? \"Proper Preparation Prevents Poor Performance\"👈 It's kind of obvious when you say it out loud, but when it comes to the performance of your fat loss strategy, a less obvious part of the \"preparation\" is making sure you're getting enough sleep! 😴 You may have noticed that not sleeping well has some interesting effects on your appetite. Many people report that they feel hungrier after a bad night of sleep, and several studies have shown that sleep-deprived people are hungrier than their well-rested peers. 🤪 Not only do subjects report higher levels of hunger, but blood samples looking at key hunger hormones tell the same story. Subjects who were sleep deprived had increased ghrelin (a hunger hormone) and decreased leptin (a satiety hormone), and their hunger scores were directly related to these hormone changes. If you’re trying to lose a few pounds, this certainly doesn’t help. Obviously, the added hunger after missing sleep can lead to overeating. What’s worse is that people often report a craving for high-sugar and high-fat foods (such as pastries and desserts) during times of sleep insufficiency. On their own, these foods aren’t inherently bad. However, they’re easy to overeat, which can result in a calorie surplus and weight gain in the long run. And other studies have found that lower amounts of sleep are associated with higher BMI and higher risk for obesity and diabetes. Poor sleep and fat loss don’t mix very well. So, if your goal is to maximize fat loss, your success could be greatly aided by getting a good night’s sleep.💪\n",
      "-----\n",
      "Are you aware of how harmful sleep deprivation can be to your health? It's so much more than simply feeling groggy. Nearly every element of our being is negatively impacted by chronic sleep deprivation! On a cognitive level, almost 90% of adults and children with major depressive disorder have admitted to having some sort of sleep problem in association with their depression. Sleep problems may increase the risk for developing a particular mental illness, as well as result from such disorders (particularly if left untreated). I want to help you find the restorative sleep that your body needs, and that you deserve! Check out my free downloadable sleep guide. It's designed to help you to change your sleep habits and ultimately improve your health! Link in bio! If you have any questions about the impacts that sleep deprivation has on our health and wellbeing comment below, or send me a DM! https://clevelandtmjsleep.com/\n",
      "-----\n",
      "**********\n",
      "6\n",
      "COVID-19 is a serious and highly infectious respiratory ailment. But after all these months, we know who the vulnerable are: The old, the sick, the obese, the improperly nourished. And we know who is probably safe: Most everyone else. We’ve done “15 days to flatten the curve” about 25 times already. https://news.gallup.com/poll/344183/americans-worry-catching-covid-drops-record-low.aspx\n",
      "-----\n",
      "FROM CARDIOLOGIST. JAMES STEIN, MD ❤👏🏼😷🏃‍♀️🗣 \"COVID-19 Update: as we start to leave our cocoons. The purpose of this post is to provide a perspective on the intense but expected anxiety so many people are experiencing as they prepare to leave the shelter of their homes. My opinions are not those of my employers and are not meant to invalidate anyone else’s – they simply are my perspective on managing risk. In March, we did not know much about COVID-19 other than the incredibly scary news reports from overrun hospitals in China, Italy, and other parts of Europe. The media was filled with scary pictures of chest CT scans, personal stories of people who decompensated quickly with shortness of breath, overwhelmed health care systems, and deaths. We heard confusing and widely varying estimates for risk of getting infected and of dying – some estimates were quite high. Key point #1: The COVID-19 we are facing now is the same disease it was 2 months ago. The “shelter at home” orders were the right step from a public health standpoint to make sure we flattened the curve and didn’t overrun the health care system which would have led to excess preventable deaths. It also bought us time to learn about the disease’s dynamics, preventive measures, and best treatment strategies – and we did. For hospitalized patients, we have learned to avoid early intubation, to use prone ventilation, and that remdesivir probably reduces time to recovery. We have learned how to best use and preserve PPE. We also know that several therapies suggested early on probably don’t do much and may even cause harm (ie, azithromycin, chloroquine, hydroxychloroquine, lopinavir/ritonavir). But all of our social distancing did not change the disease. Take home: We flattened the curve and with it our economy and psyches, but the disease itself is still here. Key point #2: COVID-19 is more deadly than seasonal influenza (about 5-10x so), but not nearly as deadly as Ebola, Rabies, or Marburg Hemorrhagic Fever where 25-90% of people who get infected die. COVID-19’s case fatality rate is about 0.8-1.5% overall, but much higher if you are 60-69 years old (3-4%), 70-79 years old (7-9%), and especially so if you are over 80 years old (CFR 13-17%). It is much lower if you are under 50 years old (<0.6%). The infection fatality rate is about half of these numbers. Take home: COVID-19 is dangerous, but the vast majority of people who get it, survive it. About 15% of people get very ill and could stay ill for a long time. We are going to be dealing with it for a long time. Key point #3: SARS-CoV-2 is very contagious, but not as contagious as Measles, Mumps, or even certain strains of pandemic Influenza. It is spread by respiratory droplets and aerosols, not food and incidental contact. Take home: social distancing, not touching our faces, and good hand hygiene are the key weapons to stop the spread. Masks could make a difference, too, especially in public places where people congregate. Incidental contact is not really an issue, nor is food. What does this all mean as we return to work and public life? COVID-19 is not going away anytime soon. It may not go away for a year or two and may not be eradicated for many years, so we have to learn to live with it and do what we can to mitigate (reduce) risk. That means being willing to accept *some* level of risk to live our lives as we desire. I can’t decide that level of risk for you – only you can make that decision. There are few certainties in pandemic risk management other than that fact that some people will die, some people in low risk groups will die, and some people in high risk groups will survive. It’s about probability. Here is some guidance – my point of view, not judging yours: 1. People over 60 years old are at higher risk of severe disease – people over 70 years old, even more so. They should be willing to tolerate less risk than people under 50 years old and should be extra careful. Some chronic diseases like heart disease and COPD increase risk, but it is not clear if other diseases like obesity, asthma, immune disorders, etc. increase risk appreciably. It looks like asthma and inflammatory bowel disease might not be as high risk as we thought, but we are not sure - their risks might be too small to pick up, or they might be associated with things that put them at higher risk. People over 60-70 years old probably should continue to be very vigilant about limiting exposures if they can. However, not seeing family – especially children and grandchildren – can take a serious emotional toll, so I encourage people to be creative and flexible. For example, in-person visits are not crazy – consider one, especially if you have been isolated and have no symptoms. They are especially safe in the early days after restrictions are lifted in places like Madison or parts of major cities where there is very little community transmission. Families (truncated)\n",
      "-----\n",
      "Fighting from the Frontline: In Conversation with Dr. Prabal Roy #Covid19 #CoronaWarriorsIndia ⁦ Spark.Live\n",
      "-----\n",
      "**********\n",
      "7\n",
      "Did you know that those who are considered to be obese are more likely to be severely ill from COVID-19? Check out more from the results in a study showing just that. http://ow.ly/AZib50CXOPj:=:https://www.talkingaboutmenshealth.com/obesity-worsens-covid-19-risks-outcomes/\n",
      "-----\n",
      "Are you interested to know why obese patients suffer worse from COVID-19? Learn more here: https://bit.ly/3rRRBjc:=:https://www.nxtbook.com/hoffmann/BerksCountyMedicalSociety/BCMS_MedicalRecord_Fall2020/index.php#/p/12\n",
      "-----\n",
      "Obese people are more likely to become dangerously ill if they are infected with the new coronavirus, the Centers for Disease Control and Prevention has reported.\n",
      "-----\n",
      "**********\n",
      "8\n",
      "Did you know a healthy digestive system is critical to your overall health? 🍉 An unhealthy gut can contribute to a wide range of diseases such as diabetes, obesity, rashes, skin conditions (such as acne, rosacea, psoriasis), allergies, rheumatoid arthritis, depression, chronic fatigue and more. 🤕 Regul8 can help you maintain optimal gut health for a healthier and happier YOU! 🥦 #Regul8 #GutHealth #DigestiveHealth #TrustYourGut\n",
      "-----\n",
      "‘Dysbiosis’ (which is a term for microbial imbalance) may occur in some instances, and there is a growing amount of data that it can lead to both intestinal (such as IBS and cancer), extra-intestinal disease (such as metabolic syndrome, obesity and diabetes) and can even be linked to neurological disorders such as Alzheimer’s, Parkinson’s, Autism, ADHD and MS.\n",
      "-----\n",
      "YOUR SECOND BRAIN Did you know we are only 10 percent human? Ninety percent of our cells are nonhuman, microbial cells. Since our diet influences our microbes, it’s true: We really are what we eat. The good news is that you can cultivate a new microbiota, formerly known as gut flora, in just 24 hours—by changing what you eat. Bacteria that live in our intestinal tract, also known as gut bugs, flourish off of colorful, plant-based foods. Healthy gut bugs act like quarterbacks in our intestinal tracts: They call the shots and control the tempo by helping our bodies digest and absorb nutrients, synthesize certain vitamins, and rally against intruders, such as influenza and toxic cancer-forming carcinogens. In addition to boosting our immune system, microbiota sends messages to our brain and helps regulate metabolism. Over time, microbiota forms colonies to combat obesity, type 2 diabetes, heart disease, autoimmune disease, and even certain forms of cancer. via:pcrmorg LEARN MORE HERE:❤️🖤💚 ON SALE NOW! #AfricanAmericanHealth “Shifting Your Paradigm For Optimum Health And Longevity” ~422 pages NEW BOOKS📚 Ready to Ship ORDER BOOK HERE: www.ushakainc.com:=:https://ushakainc.com/ or www.shiftingyourparadigm.com:=:https://ushakainc.com #WeArePeopleOfTheMighty #Maat #MightyPeopleOfTheSun #ResideInTheLight #ShiftingYourParadigm #Kemet #AfrikanAmericanHealth #VeganPlantBasedDiet #MAAT #MeditationForAfricanAmericansIgnitingTheInnerLight 👁️ ÅM Eternal👁️\n",
      "-----\n",
      "**********\n",
      "9\n",
      "The Newton County Health Department is scheduling for COVID-19 vaccine clinics for next week. We will have one on Tuesday, March 9th and Thursday, March 11th. The clinic on March 11th will be the Johnson & Johnson vaccine. This is a one-dose vaccine. It has approximately 85% efficacy against severe disease and hospitalization. At this time, in addition to health care workers, individuals 65 and older and individuals that are 18-64 with the following conditions qualify: Cancer, chronic kidney disease, COPD, intellectual/developmental disabilities, heart conditions, severe obesity, sickle cell disease, diabetes, and immunocompromised from solid organ transplant. Starting March 15th, Phase 1B-Tier 3: Critical Infrastructure will be able to receive the vaccine. This includes working in the following sectors: Education K-12, Childcare, Communications Sector, Dams Sector, Energy Sector, Food/Agriculture Sector, Government, Information Technology Sector, Nuclear Reactors, Materials, and Waste Sector, Transportation Sector, Water and Wastewater Systems Sector. If you are interested in receiving a COVID-19 vaccine, please reach out to us to be signed up for our waiting list. As we do clinics, we will call you and set up an appointment. You can call 417-451-3743, Option 1-if no one answers, please leave a voice mail and your message will be returned. You can also email administration@newtoncountyhealth.org. If you email, please provide your name, date of birth, telephone number, address, any conditions or what sector you currently work in, and please list your allergies to any medicines.\n",
      "-----\n",
      "Covid Vaccine Info Since Feb 21st, the vaccine eligibility has opened up to a wide variety of people, which includes almost anyone who has any kind of chronic health issues including: Cancer Chronic Kidney Disease Smoking COPD (Chronic Obstructive Pulmonary Disease) Diabetes Heart Condition (possibly including high blood pressure?) Immunocompromised State from a Solid Organ Transplant Obesity (many people qualify for this if they have a BMI over 30, which isn't really very high). Pregnancy Pulmonary Disease Sickle Cell Disease There is a site called vaccinefinder.org, and it lets you see what places are giving vaccinations. In Macon county there are 11 places! Krogers, Walmart, & Walgreens for sure. I would like to offer help in any way I can for people to receive the vaccine. If you would like assistance with obtaining your vaccine, you can email Marci Baumann at marcibaumann@comcast.net.\n",
      "-----\n",
      "As of 7:15 a.m. this morning, more than 200 people were waiting in line outside Hunt Regional Medical Center in Greenville for COVID-19 vaccines. Among them were Randy and Sherry Bakkem of Greenville, who had been there since 3:55 a.m., and James and Kay Chefchic of Poetry, who had been waiting since 4:30 a.m. Both couples had been there, in the cold, the previous day as well, but were turned away after the daily allotted amount of 125 doses had been administered. The hospital began the week with 500 doses of the vaccine, and has been administering 125 per day this week, Monday through Thursday, to “Tier 1B” residents of Hunt County – which includes people aged 65 and older, as well as younger people who are fighting cancer or have chronic kidney disease, COPD, type 2 diabetes, severe obesity, sickle cell disease or heart disease.\n",
      "-----\n",
      "**********\n",
      "10\n",
      "There are many misconceptions surrounding Type 1 Diabetes (also known as Juvenile Diabetes), most significantly its conflation with Type 2 Diabetes which affects an older (although not exclusively) population and is related to obesity and diet. Type 1 Diabetics largely control their chronic illness with food and synthetic insulin, a hormone their bodies fail to produce. Due to the potential for Type 1 Diabetics to experience low blood-sugars, they usually carry food and high sugar beverages with them and may need to consume these items quickly and without warning. While it is important for Diabetics to learn to advocate for themselves in similar situations, it is understandable that a young person who, in this case, was not in a position of power, may have trouble doing so. Shame, stigma, and misunderstanding often come into play. How could this scenario have been handled better? #type1diabetes #t1d #bctransit\n",
      "-----\n",
      "ATTENTION ATTENTION! DIABETES: SYMPTOMS, CAUSES PLUS POSSIBLE PERMANENT TREATMENT. Diabetes is a disease that occurs when your blood glucose (also called blood sugar) is too high. Blood glucose is the body’s main source of energy that make up your muscles and tissues. It's also your brain's main source of fuel. The underlying cause of diabetes varies by type. But, no matter what type of diabetes you have, it can lead to excess sugar in your blood. Too much sugar in your blood can lead to serious health problems. Chronic diabetes condition include; Type 1& Type 2 diabetes. *SYMPTOMS* Diabetes symptoms vary depending on how much blood sugar is elevated. Some of the signs and symptoms of type 1& type 2 diabetes are; ** Increased thirst ** Frequent urination ** Extreme hunger ** Unexplained weight loss ** Presence of ketones in the urine(ketones are a by-product of the breakdown of muscle and fat that happens when there is no enough available insulin). ** Fatigue ** Irritability ** Blurred vision ** Slow healing sores ** Frequent infections, such as gums or skin infections and vaginal infections. NB: Type 1 can develop at any age though it often appears during childhood or adolescence. Type 2 diabetes the more common type and develop at any age though its common in elderly people. *CAUSES* To understand diabetes, first you must understand how glucose is normally processed in the body. *HOW INSULIN WORKS* Insulin is a hormone that comes from a gland situated behind and below the stomach ( pancreas). >> The pancreas secretes insulin into the blood stream. >> The insulin circulates enabling sugar to enter your cells. >> Insulin lowers the amount of sugar in your bloodstream. >>As your blood sugar drops, so does the secretion of insulin from your pancreas. *THE ROLE OF GLUCOSE* Glucose - a sugar- Is a source of enough for the cells that made up muscles and other tissues. -- Glucose comes from two major sources food& your liver. -- Sugar is absorbed into the blood stream where it enters cells with the help of insulin. -- Your liver stores & makes glucose. -- When your glucose levels are low, such as when you haven't eaten in a while, the liver breaks down stored glucose into glucose to keep your glucose levels within a normal range. *CAUSES OF TYPE 1 DIABETES* Type 1 is thought to be caused by a combination of genetic susceptibility & environmental factors, which leave you with little or no insulin. *CAUSES OF TYPE 2 DIABETES* In type 2 diabetes, your body doesn’t make enough insulin or doesn’t use insulin well. Too much glucose then stays in your blood, and not enough reaches your cells. Over time, too much glucose in your blood can cause health problems, such as heart disease, nerve damage, eye problems, and kidney disease. You can develop type 2 diabetes at any age. However, type 2 diabetes occurs most often in middle-aged and older people. You’re more likely to develop type 2 diabetes if you are or have some of the following; 1. family history of diabetes 2. Environmental factors 3.:The presence of damaging immune system cells. 4. You are over weight or obese 5. Inactivity 6. Over the age of 45 and older 7. You are hypertensive. 8. Yiy Abnormal cholesterol and triglyceride levels in blood. *COMPLICATION OF DIABETES* ~ Cardiovascular diseases, which include; coronary artery disease with chest pain, heart attacks, stroke and narrowing of arteries. ~Nerve damage ~Kidney damage ~Eye damage ~Foot damage ~ Skin conditions ~ Depression ~ Low blood sugar ~Dealth. Are you a victim of the circumstance or do you know anybody with the problem? For more healthy details and information on how to obtain appropriate very effective treatments and other medical services. Call/ Whatsapp; +256 783136296 +256 708314628 ( Dr Byamungu Joel) from Bright future Health Group.\n",
      "-----\n",
      "New research suggests that having a high BMI in childhood coupled with obesity in adulthood may contribute to the development of type 2 diabetes. However, children with a high BMI who did not have obesity as adults do not appear to be at greater risk of type 2 diabetes when they grow up. More details: https://www.eurekalert.org/pub_releases/2019-04/eaft-cwh043019.php #research #diabetes #kids #type2diabetes\n",
      "-----\n",
      "**********\n",
      "11\n",
      "Who dat? Dr. Klaper taught me a thing or two more about whole food plant-based nutrition I can use to really help my clients lose that weight and get serious health benefits. Think I’m going to test what I learned on myself and lob off 5 pounds. Did you know about the links between cancer and obesity? According to Dr. McDougall, hormone-positive breast cancer survivors like me should maintain a very lean body (so fat cells are not creating estrogen). 💚 Tag someone who drinks cow’s milk and tell them Dr. Klaper’s famous quote, “milk is baby calf growth fluid meant to grow a little calf into a 400 pound animal...and that’s what it will do to you!”\n",
      "-----\n",
      "Studies show that a plant-based diet protects against 15 leading causes of death in the world, including many cancers, and some say that eating more plants helps prevent chronic diseases like high blood pressure, diabetes, obesity, and heart disease.\n",
      "-----\n",
      "The reason may be because plant-based diets are shown to reduce inflammation, promote healthy gut bacteria, reduce RA pain and swelling, and reduce obesity or high body mass index.\n",
      "-----\n",
      "**********\n"
     ]
    }
   ],
   "source": [
    "for i in range(0,12):\n",
    "    print(i)\n",
    "    docs = topic_model.get_representative_docs()[i]\n",
    "    for d in docs:\n",
    "        print(d)\n",
    "        print(\"-----\")\n",
    "    print(\"**********\")"
   ]
  },
  {
   "cell_type": "code",
   "execution_count": null,
   "metadata": {},
   "outputs": [],
   "source": []
  }
 ],
 "metadata": {
  "interpreter": {
   "hash": "ffe67d4efdf50a67adb541926f1b56bfeeb48b191d1b9a6489e883c5acad5bda"
  },
  "kernelspec": {
   "display_name": "Python 3.8.8 ('base')",
   "language": "python",
   "name": "python3"
  },
  "language_info": {
   "codemirror_mode": {
    "name": "ipython",
    "version": 3
   },
   "file_extension": ".py",
   "mimetype": "text/x-python",
   "name": "python",
   "nbconvert_exporter": "python",
   "pygments_lexer": "ipython3",
   "version": "3.8.8"
  },
  "orig_nbformat": 4
 },
 "nbformat": 4,
 "nbformat_minor": 2
}
