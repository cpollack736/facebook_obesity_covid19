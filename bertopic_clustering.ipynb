{
 "cells": [
  {
   "cell_type": "markdown",
   "metadata": {},
   "source": [
    "# Libraries and Packages"
   ]
  },
  {
   "cell_type": "code",
   "execution_count": 40,
   "metadata": {},
   "outputs": [],
   "source": [
    "import pandas as pd\n",
    "\n",
    "from bertopic import BERTopic\n",
    "from sklearn.feature_extraction.text import CountVectorizer"
   ]
  },
  {
   "cell_type": "markdown",
   "metadata": {},
   "source": [
    "# Data"
   ]
  },
  {
   "cell_type": "code",
   "execution_count": 41,
   "metadata": {},
   "outputs": [
    {
     "name": "stderr",
     "output_type": "stream",
     "text": [
      "/Users/catherinepollack/opt/anaconda3/lib/python3.8/site-packages/IPython/core/interactiveshell.py:3165: DtypeWarning: Columns (361,363,364,366,367,375,379,384,389,394,399,400,401,402) have mixed types.Specify dtype option on import or set low_memory=False.\n",
      "  has_raised = await self.run_ast_nodes(code_ast.body, cell_name,\n"
     ]
    }
   ],
   "source": [
    "file_path = \"/Users/catherinepollack/Documents/dartmouth/research/aim3_facebook_covid19_obesity/data\"\n",
    "dat_obesity = \"/220120_feature_matrix_no_bert.csv\"\n",
    "\n",
    "dat_obesity = pd.read_csv(str(file_path + dat_obesity))"
   ]
  },
  {
   "cell_type": "code",
   "execution_count": 42,
   "metadata": {},
   "outputs": [],
   "source": [
    "vectorizer_model = CountVectorizer(ngram_range=(1, 2), stop_words=\"english\", min_df=0.01, max_df = 0.75)\n",
    "topic_model = BERTopic(vectorizer_model=vectorizer_model)"
   ]
  },
  {
   "cell_type": "code",
   "execution_count": 43,
   "metadata": {},
   "outputs": [
    {
     "name": "stderr",
     "output_type": "stream",
     "text": [
      "Batches: 100%|██████████| 16328/16328 [13:31:15<00:00,  2.98s/it]  \n",
      "2022-03-05 04:53:21,178 - BERTopic - Transformed documents to Embeddings\n",
      "2022-03-05 05:24:58,335 - BERTopic - Reduced dimensionality with UMAP\n",
      "2022-03-05 05:26:06,747 - BERTopic - Clustered UMAP embeddings with HDBSCAN\n"
     ]
    }
   ],
   "source": [
    "dat_obesity.processed_text_bert = dat_obesity.processed_text_bert.fillna('')\n",
    "topic_model = BERTopic(verbose = True, calculate_probabilities = False, min_topic_size = 100, low_memory = True)\n",
    "topics = topic_model.fit_transform(dat_obesity.processed_text_bert)"
   ]
  },
  {
   "cell_type": "code",
   "execution_count": 45,
   "metadata": {},
   "outputs": [],
   "source": [
    "dat_obesity[\"topi|cs\"] = topics[0]"
   ]
  },
  {
   "cell_type": "code",
   "execution_count": 46,
   "metadata": {},
   "outputs": [],
   "source": [
    "dat_obesity.to_csv(file_path + \"/220305_obesity_with_topics.csv\")"
   ]
  },
  {
   "cell_type": "code",
   "execution_count": 49,
   "metadata": {},
   "outputs": [
    {
     "data": {
      "text/html": [
       "<div>\n",
       "<style scoped>\n",
       "    .dataframe tbody tr th:only-of-type {\n",
       "        vertical-align: middle;\n",
       "    }\n",
       "\n",
       "    .dataframe tbody tr th {\n",
       "        vertical-align: top;\n",
       "    }\n",
       "\n",
       "    .dataframe thead th {\n",
       "        text-align: right;\n",
       "    }\n",
       "</style>\n",
       "<table border=\"1\" class=\"dataframe\">\n",
       "  <thead>\n",
       "    <tr style=\"text-align: right;\">\n",
       "      <th></th>\n",
       "      <th>Topic</th>\n",
       "      <th>Count</th>\n",
       "      <th>Name</th>\n",
       "    </tr>\n",
       "  </thead>\n",
       "  <tbody>\n",
       "    <tr>\n",
       "      <th>0</th>\n",
       "      <td>-1</td>\n",
       "      <td>254473</td>\n",
       "      <td>-1_the_to_in_we</td>\n",
       "    </tr>\n",
       "    <tr>\n",
       "      <th>1</th>\n",
       "      <td>0</td>\n",
       "      <td>8316</td>\n",
       "      <td>0_sexual_occurs_intercourse_sooner</td>\n",
       "    </tr>\n",
       "    <tr>\n",
       "      <th>2</th>\n",
       "      <td>1</td>\n",
       "      <td>6255</td>\n",
       "      <td>1_bariatric_surgery_bariatricsurgery_bariatrics</td>\n",
       "    </tr>\n",
       "    <tr>\n",
       "      <th>3</th>\n",
       "      <td>2</td>\n",
       "      <td>5782</td>\n",
       "      <td>2_interesting_read_this_article</td>\n",
       "    </tr>\n",
       "    <tr>\n",
       "      <th>4</th>\n",
       "      <td>3</td>\n",
       "      <td>5744</td>\n",
       "      <td>3_childhood_children_kids_child</td>\n",
       "    </tr>\n",
       "    <tr>\n",
       "      <th>5</th>\n",
       "      <td>4</td>\n",
       "      <td>3453</td>\n",
       "      <td>4_sleep_night_deprivation_hours</td>\n",
       "    </tr>\n",
       "    <tr>\n",
       "      <th>6</th>\n",
       "      <td>5</td>\n",
       "      <td>3373</td>\n",
       "      <td>5_pet_pets_dogs_dog</td>\n",
       "    </tr>\n",
       "    <tr>\n",
       "      <th>7</th>\n",
       "      <td>6</td>\n",
       "      <td>3097</td>\n",
       "      <td>6_covid19_virus_covid_deaths</td>\n",
       "    </tr>\n",
       "    <tr>\n",
       "      <th>8</th>\n",
       "      <td>7</td>\n",
       "      <td>2995</td>\n",
       "      <td>7_my_myself_was_im</td>\n",
       "    </tr>\n",
       "    <tr>\n",
       "      <th>9</th>\n",
       "      <td>8</td>\n",
       "      <td>2862</td>\n",
       "      <td>8_covid19_coronavirus_factor_risk</td>\n",
       "    </tr>\n",
       "    <tr>\n",
       "      <th>10</th>\n",
       "      <td>9</td>\n",
       "      <td>2786</td>\n",
       "      <td>9_gut_microbiome_bacteria_probiotics</td>\n",
       "    </tr>\n",
       "    <tr>\n",
       "      <th>11</th>\n",
       "      <td>10</td>\n",
       "      <td>2708</td>\n",
       "      <td>10_type_diabetes_insulin_glucose</td>\n",
       "    </tr>\n",
       "    <tr>\n",
       "      <th>12</th>\n",
       "      <td>11</td>\n",
       "      <td>2607</td>\n",
       "      <td>11_meat_plantbased_vegan_animals</td>\n",
       "    </tr>\n",
       "  </tbody>\n",
       "</table>\n",
       "</div>"
      ],
      "text/plain": [
       "    Topic   Count                                             Name\n",
       "0      -1  254473                                  -1_the_to_in_we\n",
       "1       0    8316               0_sexual_occurs_intercourse_sooner\n",
       "2       1    6255  1_bariatric_surgery_bariatricsurgery_bariatrics\n",
       "3       2    5782                  2_interesting_read_this_article\n",
       "4       3    5744                  3_childhood_children_kids_child\n",
       "5       4    3453                  4_sleep_night_deprivation_hours\n",
       "6       5    3373                              5_pet_pets_dogs_dog\n",
       "7       6    3097                     6_covid19_virus_covid_deaths\n",
       "8       7    2995                               7_my_myself_was_im\n",
       "9       8    2862                8_covid19_coronavirus_factor_risk\n",
       "10      9    2786             9_gut_microbiome_bacteria_probiotics\n",
       "11     10    2708                 10_type_diabetes_insulin_glucose\n",
       "12     11    2607                 11_meat_plantbased_vegan_animals"
      ]
     },
     "execution_count": 49,
     "metadata": {},
     "output_type": "execute_result"
    }
   ],
   "source": [
    "topic_model.get_topic_info()[0:13]"
   ]
  },
  {
   "cell_type": "code",
   "execution_count": 50,
   "metadata": {},
   "outputs": [
    {
     "name": "stdout",
     "output_type": "stream",
     "text": [
      "0\n",
      "#PREMATURE_EJACULATION *Premature ejaculation occurs when a man ejaculates sooner during sexual intercourse than he or his partner would like.Its when an Orgasm or Climax occurs sooner than wanted. #SYMPTOMS *Life long (primary),,,, it occurs all or nearly all of the time beginning wth ur first sexual intercourse . *Acquired (secondary). Develops after u have had previous sexual experience without ejaculatory problems #CAUSES 1•Stress & Anxiety. 2•Alcohol and Drugs 3•Diabetes. 4•High blood pressure/hypertension 5•Prostate surgery •Masturbation. 6•Depression. 7•prostate cancer & Baldness ,8•Ulcers & use of chemicals. 9•Low self-esteem. 10•Smoking & Narcotics 11•Hormone imbalance 12•Multiple sclerosis 13•Nerve Damage 14•Atherosclerosis 15•Gloom & Fear 16•Uncertainties, Sadness. 17•Fatigue and Obesity. 18•Problems in relationships. #SYMPTOMS 1.Inability to maintain an erection. 2.Decreased libido/sexual desires. 3.Early ejaculation CAUSES #Psychological Causes ☆Early sexual experience ☆Sexual abuse ☆Poor body Image ☆Depression ☆Worrying about premature ejaculation ☆Guilty feelings that increase ur tendency to rush through sexual intercourse ☆Sexual unexperience ☆Over excitment or too much stimulation ☆Relationship stress ☆Anxiety ☆Issues related to control and intimacy ☆Decreased confidence in relationships .Depression #Biological_Causes *Abnormal hormone levels (Hormonal imbalance) *Abnormal levels of brain chemicals called neurotransmitters *Inflammation and Infection of prostate or Urethra *Inherited traits #Medical_Causes *Diabetes *Multiple sclerosis *Prostate disease *Thyroid problems *Drug use *Excessive Alcohol Consumption. SOLUTUON Xpowerman capsules 100% natural health product from USA very effective and it's a permanent treatment. ~intensive formula ~Relieves fatigue and Exhaustion. ~Improves Vitality. ~Prevents & heals male Impotence. ~permanently. For help call or WhatsApp +256772994123 +256705413355\n",
      "-----\n",
      "#PREMATURE_EJACULATION *Premature ejaculation occurs when a man ejaculates sooner during sexual intercourse than he or his partner would like.Its when an Orgasm or Climax occurs sooner than wanted. #SYMPTOMS *Life long (primary),,,, it occurs all or nearly all of the time beginning wth ur first sexual intercourse . *Acquired (secondary). Develops after u have had previous sexual experience without ejaculatory problems #CAUSES 1•Stress & Anxiety. 2•Alcohol and Drugs 3•Diabetes. 4•High blood pressure/hypertension 5•Prostate surgery •Masturbation. 6•Depression. 7•prostate cancer & Baldness ,8•Ulcers & use of chemicals. 9•Low self-esteem. 10•Smoking & Narcotics 11•Hormone imbalance 12•Multiple sclerosis 13•Nerve Damage 14•Atherosclerosis 15•Gloom & Fear 16•Uncertainties, Sadness. 17•Fatigue and Obesity. 18•Problems in relationships. #SYMPTOMS 1.Inability to maintain an erection. 2.Decreased libido/sexual desires. 3.Early ejaculation CAUSES #Psychological Causes ☆Early sexual experience ☆Sexual abuse ☆Poor body Image ☆Depression ☆Worrying about premature ejaculation ☆Guilty feelings that increase ur tendency to rush through sexual intercourse ☆Sexual unexperience ☆Over excitment or too much stimulation ☆Relationship stress ☆Anxiety ☆Issues related to control and intimacy ☆Decreased confidence in relationships .Depression #Biological_Causes *Abnormal hormone levels (Hormonal imbalance) *Abnormal levels of brain chemicals called neurotransmitters *Inflammation and Infection of prostate or Urethra *Inherited traits #Medical_Causes *Diabetes *Multiple sclerosis *Prostate disease *Thyroid problems *Drug use *Excessive Alcohol Consumption. SOLUTUON Xpowerman capsules 100% natural health product from USA very effective and it's a permanent treatment. ~intensive formula ~Relieves fatigue and Exhaustion. ~Improves Vitality. ~Prevents & heals male Impotence. ~permanently. For help call or WhatsApp +256772994123 +256705413355\n",
      "-----\n",
      "#PREMATURE_EJACULATION *Premature ejaculation occurs when a man ejaculates sooner during sexual intercourse than he or his partner would like.Its when an Orgasm or Climax occurs sooner than wanted. #SYMPTOMS *Life long (primary),,,, it occurs all or nearly all of the time beginning wth ur first sexual intercourse . *Acquired (secondary). Develops after u have had previous sexual experience without ejaculatory problems #CAUSES 1•Stress & Anxiety. 2•Alcohol and Drugs 3•Diabetes. 4•High blood pressure/hypertension 5•Prostate surgery •Masturbation. 6•Depression. 7•prostate cancer & Baldness ,8•Ulcers & use of chemicals. 9•Low self-esteem. 10•Smoking & Narcotics 11•Hormone imbalance 12•Multiple sclerosis 13•Nerve Damage 14•Atherosclerosis 15•Gloom & Fear 16•Uncertainties, Sadness. 17•Fatigue and Obesity. 18•Problems in relationships. #SYMPTOMS 1.Inability to maintain an erection. 2.Decreased libido/sexual desires. 3.Early ejaculation CAUSES #Psychological Causes ☆Early sexual experience ☆Sexual abuse ☆Poor body Image ☆Depression ☆Worrying about premature ejaculation ☆Guilty feelings that increase ur tendency to rush through sexual intercourse ☆Sexual unexperience ☆Over excitment or too much stimulation ☆Relationship stress ☆Anxiety ☆Issues related to control and intimacy ☆Decreased confidence in relationships .Depression #Biological_Causes *Abnormal hormone levels (Hormonal imbalance) *Abnormal levels of brain chemicals called neurotransmitters *Inflammation and Infection of prostate or Urethra *Inherited traits #Medical_Causes *Diabetes *Multiple sclerosis *Prostate disease *Thyroid problems *Drug use *Excessive Alcohol Consumption. SOLUTUON Xpowerman capsules 100% natural health product from USA very effective and it's a permanent treatment. ~intensive formula ~Relieves fatigue and Exhaustion. ~Improves Vitality. ~Prevents & heals male Impotence. ~permanently. For help call or WhatsApp +256772994123 +256705413355\n",
      "-----\n",
      "**********\n",
      "1\n",
      "Live longer with sleeve gastrectomy. Watch the seminar at www.alabamawls.com\n",
      "-----\n",
      "Type 2 diabetes is associated with various cardio-metabolic disorders including obesity, high blood pressure and increased blood cholesterol and triglycerides. Bariatric surgery has demonstrated dramatic improvement of type 2 diabetes, hypertension, dyslipidemia, and reduction of overall mortality. The anti-diabetes effect of certain bariatric procedures, particularly gastric bypass surgery, results from mechanisms that go beyond weight loss alone. Surgical treatment of type 2 diabetes may be offered to less obese patients with excellent results. If you have chronic diabetes that is preventing you from living your life to the fullest come and consult our bariatric surgeons and allow them to customize your treatment plan. #diabetes #IHD #iranianhospitaldubai #Surgery #Hospital #Dubai #Services #dubaidoctors #hypertension #treatment #CyberCityServices #cholesterol #triglycerides #Bariatricsurgery #weightloss\n",
      "-----\n",
      "What makes bariatric surgery the BEST tool for long-term weight loss and healthy living? Let our very own Dr. Nikhilesh Sekhar tell you in his featured ObesityHelp.com article. #NYBG #WeightLossSurgery #Obesity #ObesityHelp\n",
      "-----\n",
      "**********\n",
      "2\n",
      "What did I just read\n",
      "-----\n",
      "WESTERN CAPE STATS\n",
      "-----\n",
      "Interesting article.\n",
      "-----\n",
      "**********\n",
      "3\n",
      "Kids’ early eating experiences can affect how they eat as they get older. Be their role model by eating healthy foods. For adults, a healthy lifestyle can help protect against heart disease, type 2 diabetes, some cancers, and obesity. 🥑http://bit.ly/3ngeQRD:=:https://www.cdc.gov/nccdphp/dnpao/features/nutrition-month/ #EatWell #BeWell\n",
      "-----\n",
      "Parents: Children with obesity are at a higher risk for having chronic health conditions. Use these tips to help your child maintain a healthy weight and prevent obesity. https://bit.ly/2WbY1M6:=:https://www.cdc.gov/healthyweight/children/index.html\n",
      "-----\n",
      "Most affected children had no other health condition but about 30% were obese.\n",
      "-----\n",
      "**********\n",
      "4\n",
      "Make 2021 the year adequate sleep improves your mood, learning, and relationships Most Americans don’t get enough sleep. In fact, a recent survey from the American Academy of Sleep Medicine (AASM) has found that 85 percent of adults in the United States get less than seven hours of sleep a night. Sleep deprivation has previously been shown to increase the risk of several health conditions, including cardiovascular disease, diabetes, and obesity.... https://www.joshwho.net/sleeping-goals-to-achieve-adequate-sleep/\n",
      "-----\n",
      "Ladies, Here's how to maximise your sleep to also maximise your fat loss! 😴 Lack of sleep may be to blame for your larger-than-normal appetite, according to science... 💤 A 2012 study published in the International Journal of Obesity found that 6-8 hours of sleep time predicted weight loss success (among other things like less stress.) https://www.ncbi.nlm.nih.gov/pubmed/21448129 A 2015 meta analysis published in the Obesity Review suggested that sleep restriction may increase total food intake. https://www.ncbi.nlm.nih.gov/pmc/articles/PMC4532553/ A more recent study found significant impact on body composition when sleep was reduced (more lean muscle lost and less fat lost) and even suggested that making up for lost sleep on the weekend doesn't help to counteract these body composition effects! https://www.ncbi.nlm.nih.gov/pubmed/29438540 These findings may be partly due to changes in appetite regulating hormones leptin (may increase with sleep deprivation leading to increased hunger) and ghrelin (may decrease with sleep deprivation leading to increased hunger.) What do you think, are you more hungry when you're even just a little sleep-deprived? P.S. I help women lose weight by changing their habits and sleep is just one of the habits I look at with my clients who are trying to lose 30lbs or more. If you want to learn how my Iceberg weight loss method could help YOU lose the weight and become a badass 1%er, click the link below and book a 45min Weight Loss Map Consultation with me!⠀ ⠀ We will discuss your individual situation and come up with a plan for you to lose all 30, 50 or even 100lbs (not just 5 or 10lbs) without suffering. https://fitnessreloaded.com/weight-loss-coaching\n",
      "-----\n",
      "Poor diet and exercise aren’t the only factors that contribute to obesity. Instead of asking “Did I eat enough vegetables?” or “Did I lift enough weight?” you might want to ask yourself “Am I getting eight hours a night?”. https://www.foodnavigator.com/Article/2019/06/11/Don-t-just-blame-food-lack-of-sleep-increases-obesity-risk-study-suggests\n",
      "-----\n",
      "**********\n",
      "5\n",
      "https://www.prlog.org/12841184-halloween-pet-obesity-awareness-month-with-johnna-devereaux-cpn-from-bow-wow-labs.html Bow Wow Labs #halloween2020\n",
      "-----\n",
      "Tonight on my personal FB page I posted a picture of my dogs dinner. It wasn't until a FB friend commented that the \"diced beef and mixed beef with veg and blueberries in a beetroot/cottage cheese puree and coconut/pumpkin mash\" must of been my dinner as they didn't think dogs could eat those foods, that I thought it a good time to share an oldie but a goodie post I once wrote. How many other dog parents go to a similar extent with their fur-kids dinner? FROM GOOD DOG PARENT TO GREAT DOG PARENT... Foods which may increase your dogs health, life-span, reduce health conditions and improve their quality of life! Cranberries This superfood is very rich in antioxidants and very low in calories. Antioxidants make cells regenerate faster by protecting them from harmful free radicals.They also contain plenty of vitamins such as vitamin C, A and K. These vitamins strengthen a dog’s heart health and support his bone strength. But these aren’t the only ways cranberries can enrich your dog’s nutrition. This superfood is also very known as an effective cure for UTIs. So if your dog starts to pee a lot thanks to a urinary infection, you know what to do. Blueberries Bluberries are rich in fiber and antioxidants and contain vitamins C and K.They help in preventing colon cancer, heart diseases, and obesity. If you own a senior dog, you should definitely add them to her diet. They can slow down aging and memory loss. Celery Celery is a great source of fiber, calcium, iron, potassium, vitamins A, B, K, C, E and D.It’s also very low in calories. Not only does this veggie boost the immune system and protect against disease, it can also improve your dog’s teeth and breath and work to eliminate toxins from her body. Capsicum Capsicum are highly nutritious for both humans and dogs. When it comes to dog health and protecting against common dog diseases, the immune system is so important. This vegetable is rich in vitamins and minerals and low in calories. It has four times more vitamin C than an orange. It contains powerful antioxidants that have great healing properties and can help improve your dog’s cardiovascular system and protect her from free radicals. Carrot Carrots are an amazing source of fiber and antioxidants. They contain vitamin A that is crucial in promoting overall health both in humans and dogs. Carrots will improve bone growth and teeth health. Carrots also contain plenty of essential minerals. These nutrients help promote eye health and reduce damage caused by UVB radiation. Broccoli Broccoli is another veggie your dog can enjoy. Giving it as a treat will provide your pup with health benefits and boost his immune system.Broccoli is high in fiber and vitamin C while being low in fat and calories. Broccoli is also a great source of potassium, calcium and iron. These minerals help fight disease and strengthen overall health. Bananas Bananas are a natural source of fiber, potassium, copper, manganese and vitamin B and C. Potassium will keep the bones strong and blood vessels elastic and healthy. Other compounds will ensure a strong immune system and regular bowel movements. Cantaloupe This orange-colored melon is rich in vitamin C, vitamin A and beta-carotene. Cantaloupes contain also potassium, fiber and folic acid. This delicious fruit has anti-inflammatory and antioxidant properties. This makes cantaloupes a great food for all dogs. Feeding a senior dog canteloupe is also a great way of boosting vitamin C levels and overall health. Cabbage Cabbage contains antioxidants that are crucial for building a strong immune system. It is also rich in fiber which makes it a good digestive aid. Some compounds found in cabbage have been shown to prevent certain types of cancers too. This veggie can also improve your dog’s skin and fur by promoting the production of keratin. BENEFITS OF SAUERKRAUT: https://www.doggysdigest.com/can-dogs-eat-sauerkraut/:=:https://doggysdigest.com/can-dogs-eat/sauerkraut/ Coconut Oil Coconut oil contains healthy medium chain fatty acids that powerfully boost the immune system. This amazing oil can help with weight management, disinfecting wounds and even help with allergies and skin conditions. What makes it even more amazing is that it can also be used to clean teeth and repel fleas and ticks. Adding a bit of coconut oil to your dog’s diet will promote good brain function. As a result, this will improve his cognitive function. Flaxseed Loaded with omega-3 and omega-6 fatty acids. Flaxseeds also contain lignans, which can improve cardiovascular health and may help fight cancer. Anti-inflammatory properties of flaxseed can help ease symptoms of arthritis, lower blood pressure, improve kidney function, and maintain healthy skin and coat in dogs. BENEFITS OF FLAXSEED: https://www.petmd.com/dog/nutrition/healthy-foods-checklist-flaxseed-dogs Oats Oatmeal is a great alternative carbohydrate for dogs who may be sensitive to wheat or other grains. Oats are full of linoleic acid, a type of omega-6...\n",
      "-----\n",
      "National Pet Obesity Day!!! Because we care for them too, Because we love ♥️them! Ask your Veterinarian or Vet Tech about their weight today 🤗\n",
      "-----\n",
      "**********\n",
      "6\n",
      "There’s no better way to protect ourselves against Covid-19 but to know its science-based facts, which were simplified by our powerful resource experts for us to understand and fight this pandemic especially now that we are transitioning to GCQ starting tomorrow. For those who missed it, and those who want to review the discussions, please take a time to watch our Webinar. Here’s the link: facebook.com/gracefulliving:=:https://www.facebook.com/gracefulliving.anc.\n",
      "-----\n",
      "Death by Covid. Are the CDC numbers reliable or presented accurately for public understanding? From the CDC out of CDC published reports . . . August 2020 the CDC stated 94% of 180,000 deaths that have been attributed to COVID-19, “on average, there were 2.6 additional conditions or causes per individual death.” As the CDC report notes the only 6% of all deaths were Covid only deaths. In other words, 94 percent of Americans who have died from coronavirus from February 2020 through August 2020 had, on average, almost three comorbidities that played a role in their death besides Covid. According to CDC’s report, the leading comorbidities among these deaths in highest first order were respiratory diseases, circulatory diseases, sepsis, malignant neoplasms, diabetes, obesity and Alzheimer’s disease. A plethora of polls show that most Americans do not trust the federal government, state government or the local governments pertaining to all things related to coronavirus. Two resources below. Written by Hayes Kolb https://www.cdc.gov/nchs/nvss/vsrr/covid19/excess_deaths.htm https://thehill.com/opinion/healthcare/514915-is-us-covid-19-death-count-inflated?fbclid=IwAR0VlDLfCOahgM4med2BqppUxIo7KMIQ3_VPTSBUN7Rp5JERuOkn6qulhMw\n",
      "-----\n",
      "Some students, who have health issues that put them at higher risk of suffering severe complications if they contract COVID-19, are worried about the possibility of being on campus this fall.\n",
      "-----\n",
      "**********\n",
      "7\n",
      "\"In 1995, I weighed 260 pounds. I’d been overweight or obese all my life. My blood pressure was high and I was borderline diabetic. Cheese, ice cream and Coke were staples in my diet. Our daughter-in-law somehow convinced me to try the McDougall plan for six weeks. During those weeks I felt better and I lost weight. However, since I was in diet mentality, once those six weeks were up it was right back to hot fudge marshmallow malts, cheeseburgers and fries, and I regained all the weight back that I lost and more. Even though I slipped back into bad habits after my first round on the McDougall Plan, the sound practices he espouses eventually worked their way into my awareness and became the foundation for the way I have eaten ever since. During the next year, sticking to the McDougall Plan, I let go of 120 pounds and I’ve kept it off. Along with all of this, I got off the couch and completed five marathons. Today I’m an avid long-distance road cyclist, and I love backpacking in the mountains. Over the past 23 years as a Medical Hypnotherapist, I’ve helped many people end their desires for foods that make them fat and sick and create healthy desires for the McDougall Plan foods that make them slender and thin... These stories feed my passion. I love to be in my office or live online with people from around the world sharing with them about the Starch Solution, so they too can improve their health and change their life.\" - Roger, 2020\n",
      "-----\n",
      "September: 30 Days Of Hope Today I am celebrating Jennifer. Here's her story: \"Most of my life I have been told repeatedly how tall and skinny I was by family, friends, and total strangers. I’m not sure I liked hearing it, but I was glad to be tall (I’m 5’10”) and not unhappy to be thin. My older sister warned me that when I got to be 40-something, things would probably change. Even at my heaviest (178, which I didn’t realize at the time earned me an ‘obese’ notation in my medical chart), people still commented on how tall and thin I was. I didn’t look bad, but the skin around my knees jiggled when I ran (which wasn’t often) and the skin on my midriff jiggled when I brushed my teeth. That got my attention. I am a junk food- aholic and I cut back. I lost about 10 pounds and maintained that for several years. My husband started program last year and lost 30 pounds. I told myself I knew what was healthy to eat and I could lose weight (if I wanted to) myself. That didn’t work. I toyed with the idea for several months before I decided to take the plunge in April 2020. I brought my husband back on program with me as he’d picked back up some of his weight after starting a very demanding doctoral program. I am not a morning person so breakfast has never been my thing. Therefore, I have a Velvety Hot Chocolate EVERY morning while enjoying time on the porch while my dog has his breakfast. We travel quite a bit and it’s very easy to pack up our fuelings and go. I’ve always maintained weight loss while on the road. I weighed 143 pounds at a doctor’s appointment on September 1, down 25 pounds, and am now on the healthy side of the BMI scale for my height. My husband, also down 25 pounds, just ordered some 34-inch waist pants. I better understand why I eat and how to eat and have made sleeping 8 hours/night a priority.\" #healthcoach #lifelongtransformation\n",
      "-----\n",
      "Warning: this is long and please delete if not allowed. I’m 62 years old. I am morbidly obese...252# on my 5’2” frame. Last year I lost from 267# down to 230#. I lost the weight on a low carb low fat diet fairly easily without much exercise. I can’t really exercise because of an autoimmune disorder in my back. I lost the weight to get my knees replaced but when I went to the doctor in February, he told me I had to lose 30# more. And then the pandemic hit. My husband and I are both in a high risk group so we have been quarantining since early March. I didn’t get to be this age and morbidly obese without having a malfunctioning response to stress. In other words...I stress eat big time AND I have gained back 20 pounds. My brain keeps telling me “what’s the use in trying” but my heart wants my active life back. I want to be able to walk. So I’m asking you folks who I have been watching for a year...how can an anxious, sedentary old woman lose weight and keep it off? I didn’t mention that I tried for 14 months to lose weight and 37# was all I could lose and yes I tried very strict keto and it did not work. Is there someone out there who is my age with my restrictions who lost weight and kept it off and how the heck did you so it?\n",
      "-----\n",
      "**********\n",
      "8\n",
      "Many scientists say obesity increases your risk of death if you contract Covid-19, yet others say this isn't yet proven.\n",
      "-----\n",
      "Obesity and COVID-19: a call to action from people living with obesity. #peoplelivingwithobesity #supportnotstigma https://www.thelancet.com/journals/landia/article/PIIS2213-8587(20)30236-9/fulltext\n",
      "-----\n",
      "In #TheStarNews today: #RIPPeterMatlare, #Covid19 testing breakthrough, Pearl Pillay shines in male dominated world, 'Car driven by drunk cop killed my child', #InternationalWomensDay﻿﻿ profiles, NGO fights obesity and more:\n",
      "-----\n",
      "**********\n",
      "9\n",
      "There may be better ways to help improve your gut health... #perthbraincentre #perth #brainhealth #guthealth\n",
      "-----\n",
      "Problems with the good bacteria in the intestines have been correlated with everything from obesity to cardiovascular disease. However, correlation does not mean causation, and certainly does not mean we have successful treatments. So what about microbiota and weight gain? Can we manipulate the microbiota with probiotics or prebiotics to achieve weight loss? The answers might surprise you.\n",
      "-----\n",
      "See guys, I’m not the only one that says disease begins and ends in the gut....🤔🤷🏼‍♀️\n",
      "-----\n",
      "**********\n",
      "10\n",
      "Figures from the Royal College of Paediatrics and Child Health show that 745 children and young people under the age of 25 received care for Type 2 diabetes in Paediatric Diabetes Units in England and Wales in 2017/18.\n",
      "-----\n",
      "Type 2 diabetes is most common in people over 40, but it is increasing among young people including children and adolescents... Type 2 diabetes is more commonly associated with adult- onset diabetes..but type 2 diabetes in children is on the rise, fueled largely by the obesity epidemic.#awareness #diabetes #diabeticfoods #lifestylemodification #eatheathy\n",
      "-----\n",
      "This is so sad. “Only two drugs are currently approved for youth with type 2 diabetes, and we were disheartened to find that neither effectively slows disease progression,” said Dr. Ellen Leschek, project scientist for the RISE Consortium and program director in NIDDK’s Division of Diabetes, Endocrinology, and Metabolic Diseases. “Type 2 diabetes in youth has grown with the obesity epidemic, and we need treatments that work for kids. It’s clear from this study and others that type 2 diabetes in youth is more aggressive than in adults.” I’ll bet we have a good idea for effective therapy. 🥦 https://www.nih.gov/news-events/news-releases/two-diabetes-medications-dont-slow-progression-type-2-diabetes-youth\n",
      "-----\n",
      "**********\n",
      "11\n",
      "HAPPY PLANT BASED -UARY If you, a friend or family are going plantbased this year is a great tool to start your journey with. This 7 Day Plant Based Menu will give you 3 options per day what to eat for Breakfast, Lunch & Dinner. One of the top New Years Resolution every year is \"I will eat more healthy\". 2020 showed us you have to eat healthier, take vitamins and minerals to obtain your immunity, which should be a habit even if there was no pandemic. Reasons for trying a Plant based Lifestyle. Studies show: In the US 36.5 percent of adults are obese. Another 32.5 percent of American adults are overweight. In all, more than two-thirds of adults in the United States are overweight or obese. The standard American diet (SAD), characterized by high intakes of red meat, processed meats, pre-packaged foods, butter, with excessive sugar, refined carbohydrates, saturated fat and trans fats, is the primary cause of obesity and diabetes. Now is the time to go Plant Based your life depends on it. So if you claimed this year you're making that change to go Plant Based then here is a start for you. Eat Your Medicine! Eat More Greens! Food is Medicine! Www.theveggietaste.com #theveggietaste #veganvibes #plantbased #eattolive #atlvegan #veganinatlanta #atlevents #veganinatl #vegan #veganfoodie #poweredbyplants #vegansofig #veganatlanta #plantbasedatl #veganvilleatl #veganfestival #atlantavegans #veganlife #plantbasedliving #veganworld #veganfoods #blackvegansofig #veganism #alkalinevegans #veganhealth #alkalinediet #electricfoods #alkalinefoods #afrovegan #blackvegan\n",
      "-----\n",
      "Healthy Living Tip 🌿 Eating less red meat reduces your risk for inflammation, breast cancer, heart disease and obesity. Eat grass fed organic beef when possible. It is leaner and contains healthy omega 3 fats.\n",
      "-----\n",
      "Although American adults are eating less red meat than they did 18 years ago, processed meat consumption has remained the same\n",
      "-----\n",
      "**********\n"
     ]
    }
   ],
   "source": [
    "for i in range(0,12):\n",
    "    print(i)\n",
    "    docs = topic_model.get_representative_docs()[i]\n",
    "    for d in docs:\n",
    "        print(d)\n",
    "        print(\"-----\")\n",
    "    print(\"**********\")"
   ]
  },
  {
   "cell_type": "code",
   "execution_count": null,
   "metadata": {},
   "outputs": [],
   "source": []
  }
 ],
 "metadata": {
  "interpreter": {
   "hash": "ffe67d4efdf50a67adb541926f1b56bfeeb48b191d1b9a6489e883c5acad5bda"
  },
  "kernelspec": {
   "display_name": "Python 3.8.8 ('base')",
   "language": "python",
   "name": "python3"
  },
  "language_info": {
   "codemirror_mode": {
    "name": "ipython",
    "version": 3
   },
   "file_extension": ".py",
   "mimetype": "text/x-python",
   "name": "python",
   "nbconvert_exporter": "python",
   "pygments_lexer": "ipython3",
   "version": "3.8.8"
  },
  "orig_nbformat": 4
 },
 "nbformat": 4,
 "nbformat_minor": 2
}
