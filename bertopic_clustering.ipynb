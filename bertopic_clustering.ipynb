{
 "cells": [
  {
   "cell_type": "markdown",
   "metadata": {},
   "source": [
    "# Libraries and Packages"
   ]
  },
  {
   "cell_type": "code",
   "execution_count": 44,
   "metadata": {},
   "outputs": [],
   "source": [
    "import gensim.corpora as corpora\n",
    "import pandas as pd\n",
    "\n",
    "from bertopic import BERTopic\n",
    "from gensim.models.coherencemodel import CoherenceModel"
   ]
  },
  {
   "cell_type": "markdown",
   "metadata": {},
   "source": [
    "# Data"
   ]
  },
  {
   "cell_type": "code",
   "execution_count": 2,
   "metadata": {},
   "outputs": [
    {
     "name": "stderr",
     "output_type": "stream",
     "text": [
      "/Users/catherinepollack/opt/anaconda3/lib/python3.8/site-packages/IPython/core/interactiveshell.py:3165: DtypeWarning: Columns (361,363,364,366,367,375,379,384,389,394,399,400,401,402) have mixed types.Specify dtype option on import or set low_memory=False.\n",
      "  has_raised = await self.run_ast_nodes(code_ast.body, cell_name,\n"
     ]
    }
   ],
   "source": [
    "file_path = \"/Users/catherinepollack/Documents/dartmouth/research/aim3_facebook_covid19_obesity/data\"\n",
    "dat_obesity = \"/220120_feature_matrix_no_bert.csv\"\n",
    "\n",
    "dat_obesity = pd.read_csv(str(file_path + dat_obesity))"
   ]
  },
  {
   "cell_type": "code",
   "execution_count": 28,
   "metadata": {},
   "outputs": [],
   "source": [
    "dat_obesity[\"date\"] = pd.to_datetime(dat_obesity[\"Post Created Date\"], errors = 'coerce')\n",
    "dat_obesity_restricted = dat_obesity[(dat_obesity['date'] > '2020-01-06') & (dat_obesity['date'] < '2020-10-16')]"
   ]
  },
  {
   "cell_type": "code",
   "execution_count": 31,
   "metadata": {},
   "outputs": [],
   "source": [
    "dat_obesity_restricted = dat_obesity_restricted.reset_index(drop = True)"
   ]
  },
  {
   "cell_type": "code",
   "execution_count": 33,
   "metadata": {},
   "outputs": [
    {
     "name": "stderr",
     "output_type": "stream",
     "text": [
      "Batches: 100%|██████████| 5477/5477 [11:14:31<00:00,  7.39s/it]     \n",
      "2022-03-25 01:13:39,452 - BERTopic - Transformed documents to Embeddings\n",
      "2022-03-25 01:22:36,230 - BERTopic - Reduced dimensionality with UMAP\n",
      "2022-03-25 01:23:26,748 - BERTopic - Clustered UMAP embeddings with HDBSCAN\n"
     ]
    }
   ],
   "source": [
    "dat_obesity_restricted.processed_text_bert = dat_obesity_restricted.processed_text_bert.fillna('')\n",
    "topic_model = BERTopic(verbose = True, min_topic_size = 100)\n",
    "topics = topic_model.fit_transform(dat_obesity_restricted.processed_text_bert)"
   ]
  },
  {
   "cell_type": "code",
   "execution_count": 34,
   "metadata": {},
   "outputs": [],
   "source": [
    "dat_obesity_restricted[\"topics\"] = topics[0]"
   ]
  },
  {
   "cell_type": "code",
   "execution_count": 38,
   "metadata": {},
   "outputs": [],
   "source": [
    "dat_obesity_restricted.to_csv(file_path + \"/220325_obesity_with_topics.csv\")\n",
    "topic_model.save(\"220401_bert_topic_model_facebook\")"
   ]
  },
  {
   "cell_type": "code",
   "execution_count": 37,
   "metadata": {},
   "outputs": [
    {
     "data": {
      "text/html": [
       "<div>\n",
       "<style scoped>\n",
       "    .dataframe tbody tr th:only-of-type {\n",
       "        vertical-align: middle;\n",
       "    }\n",
       "\n",
       "    .dataframe tbody tr th {\n",
       "        vertical-align: top;\n",
       "    }\n",
       "\n",
       "    .dataframe thead th {\n",
       "        text-align: right;\n",
       "    }\n",
       "</style>\n",
       "<table border=\"1\" class=\"dataframe\">\n",
       "  <thead>\n",
       "    <tr style=\"text-align: right;\">\n",
       "      <th></th>\n",
       "      <th>Topic</th>\n",
       "      <th>Count</th>\n",
       "      <th>Name</th>\n",
       "    </tr>\n",
       "  </thead>\n",
       "  <tbody>\n",
       "    <tr>\n",
       "      <th>0</th>\n",
       "      <td>-1</td>\n",
       "      <td>87470</td>\n",
       "      <td>-1_the_to_and_of</td>\n",
       "    </tr>\n",
       "    <tr>\n",
       "      <th>1</th>\n",
       "      <td>0</td>\n",
       "      <td>3849</td>\n",
       "      <td>0_covid19_coronavirus_risk_obesity</td>\n",
       "    </tr>\n",
       "    <tr>\n",
       "      <th>2</th>\n",
       "      <td>1</td>\n",
       "      <td>2443</td>\n",
       "      <td>1_children_childhood_kids_child</td>\n",
       "    </tr>\n",
       "    <tr>\n",
       "      <th>3</th>\n",
       "      <td>2</td>\n",
       "      <td>2425</td>\n",
       "      <td>2_sugar_drinks_added_soda</td>\n",
       "    </tr>\n",
       "    <tr>\n",
       "      <th>4</th>\n",
       "      <td>3</td>\n",
       "      <td>2413</td>\n",
       "      <td>3_bariatric_surgery_bariatricsurgery_bariatrics</td>\n",
       "    </tr>\n",
       "    <tr>\n",
       "      <th>5</th>\n",
       "      <td>4</td>\n",
       "      <td>2090</td>\n",
       "      <td>4_my_me_was_myself</td>\n",
       "    </tr>\n",
       "    <tr>\n",
       "      <th>6</th>\n",
       "      <td>5</td>\n",
       "      <td>1807</td>\n",
       "      <td>5_sexual_occurs_intercourse_ejaculation</td>\n",
       "    </tr>\n",
       "    <tr>\n",
       "      <th>7</th>\n",
       "      <td>6</td>\n",
       "      <td>1668</td>\n",
       "      <td>6_she_owner_cat_her</td>\n",
       "    </tr>\n",
       "    <tr>\n",
       "      <th>8</th>\n",
       "      <td>7</td>\n",
       "      <td>1494</td>\n",
       "      <td>7_interesting_read_this_wow</td>\n",
       "    </tr>\n",
       "    <tr>\n",
       "      <th>9</th>\n",
       "      <td>8</td>\n",
       "      <td>1355</td>\n",
       "      <td>8_cancer_breast_colorectal_risk</td>\n",
       "    </tr>\n",
       "    <tr>\n",
       "      <th>10</th>\n",
       "      <td>9</td>\n",
       "      <td>1225</td>\n",
       "      <td>9_pet_pets_dogs_dog</td>\n",
       "    </tr>\n",
       "    <tr>\n",
       "      <th>11</th>\n",
       "      <td>10</td>\n",
       "      <td>1166</td>\n",
       "      <td>10_sleep_night_hours_sleeping</td>\n",
       "    </tr>\n",
       "    <tr>\n",
       "      <th>12</th>\n",
       "      <td>11</td>\n",
       "      <td>1130</td>\n",
       "      <td>11_yoga_asana_meditation_chakra</td>\n",
       "    </tr>\n",
       "    <tr>\n",
       "      <th>13</th>\n",
       "      <td>12</td>\n",
       "      <td>1120</td>\n",
       "      <td>12_heart_disease_pressure_blood</td>\n",
       "    </tr>\n",
       "    <tr>\n",
       "      <th>14</th>\n",
       "      <td>13</td>\n",
       "      <td>1105</td>\n",
       "      <td>13_gut_bacteria_microbiome_probiotics</td>\n",
       "    </tr>\n",
       "    <tr>\n",
       "      <th>15</th>\n",
       "      <td>14</td>\n",
       "      <td>1103</td>\n",
       "      <td>14_black_african_racism_americans</td>\n",
       "    </tr>\n",
       "  </tbody>\n",
       "</table>\n",
       "</div>"
      ],
      "text/plain": [
       "    Topic  Count                                             Name\n",
       "0      -1  87470                                 -1_the_to_and_of\n",
       "1       0   3849               0_covid19_coronavirus_risk_obesity\n",
       "2       1   2443                  1_children_childhood_kids_child\n",
       "3       2   2425                        2_sugar_drinks_added_soda\n",
       "4       3   2413  3_bariatric_surgery_bariatricsurgery_bariatrics\n",
       "5       4   2090                               4_my_me_was_myself\n",
       "6       5   1807          5_sexual_occurs_intercourse_ejaculation\n",
       "7       6   1668                              6_she_owner_cat_her\n",
       "8       7   1494                      7_interesting_read_this_wow\n",
       "9       8   1355                  8_cancer_breast_colorectal_risk\n",
       "10      9   1225                              9_pet_pets_dogs_dog\n",
       "11     10   1166                    10_sleep_night_hours_sleeping\n",
       "12     11   1130                  11_yoga_asana_meditation_chakra\n",
       "13     12   1120                  12_heart_disease_pressure_blood\n",
       "14     13   1105            13_gut_bacteria_microbiome_probiotics\n",
       "15     14   1103                14_black_african_racism_americans"
      ]
     },
     "execution_count": 37,
     "metadata": {},
     "output_type": "execute_result"
    }
   ],
   "source": [
    "topic_model.get_topic_info()[0:16]"
   ]
  },
  {
   "cell_type": "code",
   "execution_count": 47,
   "metadata": {},
   "outputs": [
    {
     "name": "stdout",
     "output_type": "stream",
     "text": [
      "0\n",
      "\"In two cohorts of Chinese adults with COVID-19, those with obesity were at least three times more likely to have a severe case of the disease than those with normal weight, according to two studies published in Diabetes Care.\" Read the full story at https://www.healio.com/endocrinology/obesity/news/online/%7B45e16aa9-6309-4fff-a22c-d6f706156dce%7D/obesity-triples-odds-of-more-severe-symptoms-with-covid-19:=:https://www.healio.com/news/endocrinology/20200520/obesity-triples-odds-of-more-severe-symptoms-with-covid19\n",
      "-----\n",
      "Check out the latest research on Check out the latest research on \"COVID-19 Rise in Younger Adults with Obesity: Visceral Adiposity Can Predict the Risk\"— Iacobellis et. al. Read more in #ObesityJournal. #TOSCOVID-19 https://onlinelibrary.wiley.com/doi/10.1002/oby.22951:=:https://onlinelibrary.wiley.com/doi/10.1002/oby.22951?cookieSet=1\n",
      "-----\n",
      "Check out the latest research on \"Obesity is Associated with Worst Outcomes in COVID-19: An Analysis of Early Data from New York City\" — Hajifathalian et. al. Read more in #ObesityJournal. #TOSCOVID-19 https://onlinelibrary.wiley.com/doi/10.1002/oby.22923:=:https://onlinelibrary.wiley.com/doi/10.1002/oby.22923?cookieSet=1\n",
      "-----\n",
      "**********\n",
      "1\n",
      "There is growing evidence of the importance of childhood nutrition for future good health. Some non-communicable diseases like obesity, heart disease, allergy, & type 2 diabetes are directly linked to nutrition. Proper nutrition not only supports the growth & development of your child but also reduces the risk factors for various diseases later in life. Learn more about this from our expert Dr. V.V Varadarajan in this article.\n",
      "-----\n",
      "It’s Childhood Obesity Awareness Month and Natividad Pediatrician, Dr. Lara has some tips on keeping your kids healthy! Watch calorie intake! With cheap, good tasting food readily available it’s very easy to eat portions larger than our body needs. Try cutting meals in half for younger kids: under age 5 should eat just half a burger and replace fries with apple slices as well as soda or juice with water. #InspiringHealthyLives\n",
      "-----\n",
      "Childhood obesity exists and it's actually pretty scary. As parents, we of course want the best for our children. Here's how to re-gain control over your child's diet.\n",
      "-----\n",
      "**********\n",
      "2\n",
      "Some of the foods we are eating every day are the slow killers and we are not even aware , Most of us have a number of these foods on our menu on a daily basis, but if you combine all of these, you’ll get a deadly combination that will accelerate your end in this world. So it is prudent to analyze what you eat everyday and start making the right choices soonest before it is too late. Some of these foods causes elevated blood pressure, high level of cholesterol, heart diseases, diabetes mellitus, Alzheimer’s disease, and even cancer. Try to avoid or limit the consuming these foods ; 1. Canned Tomato Sauce ￼ Canned tomato paste is a ruthless killer in disguise. It contains high levels sugar and it would never even cross your mind that it could lead to increased risk of obesity, diabetes, heart disease, and even tooth decay. Just use fresh tomatoes to make the sauce yourself, or switch to pureed tomatoes without the extra sugar or salt and add your own spices. 2. Soda ￼ Carbonated drinks are your worst enemies in regard to your health and well being. It can damage your skin, alter your blood sugar levels, impaire your hormones and mood. Don't mind the marketing tricks and the labels that say it’s good for you or it contains nutrients that is good for your body. All it has is a bunch of sugar, food color and preservatives. sugar-free versions are no better as well because they’re packed with harmful artificial sweeteners. Just make your own juice. 3. Sugar ￼ Sugar is quite addictive and it spikes your glucose levels and increases your bad fat, it can lead to heart disease. Stay away from sugar and reduce the risk of diabetes, cancer, obesity, heart disease, and much more. Enjoy a bowl of fruit or add honey to your recipes instead of this unhealthy sugar 4.Vegetable oil ￼ Vegetable oil is a part of our cuisine and we have never thought of of their health implication.Most Kenyans think liquid fat is better than solids but some of these oils are gene\n",
      "-----\n",
      "The festive season signals rich foods and alcohol… and many dishes high in sugar. An over-consumption of sugar is linked to obesity and coronary heart disease. Furthermore, turns out that an overload of sugar and all the booze could upset the balance of microbes in our gut, which could affect our general well-being. Read on to learn more from Gastroenterologist, Dr Eric Wee, as he explains more on how our diet affects the balance of microbes in our gut and tips to protect our gut health! #mountelizabethhospitals\n",
      "-----\n",
      "Sugary drinks may increase the risk of obesity and heart disease. Celebrate healthy and tasty alternatives by making them at home. Get tips and tricks: http://bit.ly/2OteZCB:=:https://rethinkyourdrinkday.com/beverage-breakdown/?utm_source=facebook&utm_medium=organicsocial&utm_campaign=HV-Water&utm_content=RYDD Host 2020 &utm_term=English\n",
      "-----\n",
      "**********\n",
      "3\n",
      "Change is hard but it's worth the effort. Dr. Ara Keshishian Central Valley Bariatrics www.dssurgery.com:=:https://www.dssurgery.com/ #duodenalswitch #DS #wlsfamily #weightlosssurgery #weightloss #bariatrics #VSG #sleevegastrectomy #metabolicsurgery #losing100lbs #weightlossmotivation #gastricsleeve #wlscommunity #bariatricsurgery #wlsjourney #pasadena #duarte #monrovia #socal #weightlossjou #overweight #obesity #losangeles #glendale #burbank #wlssupport #wlslife #vsgsurgery #vsginspiration #dscrew #WLSinspiration\n",
      "-----\n",
      "Bariatric Surgery is a lot more than a weight loss surgery. It can help to treat many other diseases associated to obesity. Such as, Diabetes, hypertension, breathlessness, infertility, heart risk and many more. Speak to our experts today to know more about this life saving surgery. Call us at +91 82830 00010 #bariatricsurgery #lifeafterbariatricsurgery #lifeafterbariatrics #jammuhospitaljalandhar #weightlossjourney\n",
      "-----\n",
      "Numerous studies have suggested that individuals report improvements in psychosocial functioning with weight reduction. The most consistent finding in this area is the association between surgical weight loss and improved quality of life. 😀 Obese patients who had bariatric surgery not only live longer, but also live much better. 🙌 See how we can help you: ☎️: 877-846-8184 📍: 450 N. Roxbury Dr. Ste 602 Beverly Hills 💻: www.DrFeiz.com:=:https://www.drfeiz.com/\n",
      "-----\n",
      "**********\n",
      "4\n",
      "🦄Weight Loss Update🦄 I had another weigh-in and I’m down to 49 pounds down from a starting weight of 90 pounds. 🦄🦄 My last weigh-in I was 49 pounds too, but I was actually 49.6 pounds, and this weigh-in I was 49.1 pounds. A half-pound weight loss is still trending in the right direction, but I was a little disappointed that I didn’t lose more. I tried to wink at Mom to make the scale lower, but she said that is not how things work. 🙅‍♀️ However, Mom said she is very proud of me. I was pretty sick recently so I had to rest. Plus, for several days Phoenix 🌵 🌞 was under a heat advisory (it was 110 degrees Fahrenheit) so I was not exercising. I get the occasional treat to keep me motivated, but I’ve been very good at sticking to my 600 calorie a day diet. I need to remain focused on my journey from “obese to beast” and I’m going to work hard this weekend so that my “weekend does not become my week’s end.” 🦄🦄\n",
      "-----\n",
      "Today's \"Transformation Tuesday\" story is from Johnson City location Lifestyle Fitness Member Laura Prime Jones. Laura is a long time Member here at Lifestyle Fitness and wanted to share her story so that it will inspire others. Read Laura's awesome and unique story below: \"I want to start my story by mentioning two ladies who changed my life back in 2011, Certified Instructors Dessi Foster and Sandra Talford. I started at Lifestyle Fitness with a bunch of weight to lose. These two ladies had me dancing it away! After repeated years of medical problems I had to drop out of the gym. I gained all of the weight I had lost plus more. After the weight gain and my many medical issues, I got serious and started my weight loss journey again. My doctors advised me that weight loss surgery was my best option to battle this life long battle with obesity. They informed me that this isn’t a fix just a tool to help people who’s bodies are built to store weight such as mine and for people who have tried everything conventional but are at their wits end. I had the surgery May 1st, 2017. This takes alot of dedication and discipline. Contrary to popular belief, this is not a quick fix and not the end of your Journey. You have to be willing to stay on a strict eating plan and you have to exercise. The Doctors asked me are you ready for this? Of course my first thoughts were of Dessi and Sandra, these ladies are so amazing!! I have lost 120 lbs and gone from a size 26 to a 14! I am toning up and losing weight dancing with these ladies in their WERQ and Club Zumba classes and I love it! Fitness is not a \"One Size Fits All' situation. You have to find what works for you, and for me, this was the Journey I chose. I say, find your Journey, you will know when it is the right Path. Lastly, I want to say \"Thank you guys\" for not only being amazing instructors but for being inspiring everyday!!\"\n",
      "-----\n",
      "Although most of the lines, veins , and shreds are gone (FOR NOW.... bulk season is in full effect).... I’m happy with where I’m at. I’m sitting at 18.4 % body fat which is lean (.4 % from ultra lean) is a good place to be right now. Bulking season is a mental game and it’s hard watching the scale go up but we do it to come back bigger and better. I didn’t wake up like this and yes I used to be obese and 1 prescription away from high blood pressure and diabetic! Trust the process and listen to your coach @lwestry ! So much love and respect for this man! We just getting started.... here I come 2020! I’d you stay ready.... you don’t have to get ready!\n",
      "-----\n",
      "**********\n",
      "5\n",
      "#PREMATURE_EJACULATION *Premature ejaculation occurs when a man ejaculates sooner during sexual intercourse than he or his partner would like.Its when an Orgasm or Climax occurs sooner than wanted. #SYMPTOMS *Life long (primary),,,, it occurs all or nearly all of the time beginning wth ur first sexual intercourse . *Acquired (secondary). Develops after u have had previous sexual experience without ejaculatory problems #CAUSES 1•Stress & Anxiety. 2•Alcohol and Drugs 3•Diabetes. 4•High blood pressure/hypertension 5•Prostate surgery •Masturbation. 6•Depression. 7•prostate cancer & Baldness ,8•Ulcers & use of chemicals. 9•Low self-esteem. 10•Smoking & Narcotics 11•Hormone imbalance 12•Multiple sclerosis 13•Nerve Damage 14•Atherosclerosis 15•Gloom & Fear 16•Uncertainties, Sadness. 17•Fatigue and Obesity. 18•Problems in relationships. #SYMPTOMS 1.Inability to maintain an erection. 2.Decreased libido/sexual desires. 3.Early ejaculation CAUSES #Psychological Causes ☆Early sexual experience ☆Sexual abuse ☆Poor body Image ☆Depression ☆Worrying about premature ejaculation ☆Guilty feelings that increase ur tendency to rush through sexual intercourse ☆Sexual unexperience ☆Over excitment or too much stimulation ☆Relationship stress ☆Anxiety ☆Issues related to control and intimacy ☆Decreased confidence in relationships .Depression #Medical_Causes *Diabetes *Multiple sclerosis *Prostate disease *Thyroid problems *Drug use *Excessive Alcohol Consumption. SOLUTUON Xpowerman capsules 100% natural health product from USA very effective and it's a permanent treatment. ~intensive formula ~Relieves fatigue and Exhaustion. ~Improves Vitality. ~Prevents & heals male Impotence. ~permanently. For help call or WhatsApp +256784120800 +256704120800\n",
      "-----\n",
      "#PREMATURE_EJACULATION *Premature ejaculation occurs when a man ejaculates sooner during sexual intercourse than he or his partner would like.Its when an Orgasm or Climax occurs sooner than wanted. #SYMPTOMS *Life long (primary),,,, it occurs all or nearly all of the time beginning wth ur first sexual intercourse . *Acquired (secondary). Develops after u have had previous sexual experience without ejaculatory problems #CAUSES 1•Stress & Anxiety. 2•Alcohol and Drugs 3•Diabetes. 4•High blood pressure/hypertension 5•Prostate surgery •Masturbation. 6•Depression. 7•prostate cancer & Baldness ,8•Ulcers & use of chemicals. 9•Low self-esteem. 10•Smoking & Narcotics 11•Hormone imbalance 12•Multiple sclerosis 13•Nerve Damage 14•Atherosclerosis 15•Gloom & Fear 16•Uncertainties, Sadness. 17•Fatigue and Obesity. 18•Problems in relationships. #SYMPTOMS 1.Inability to maintain an erection. 2.Decreased libido/sexual desires. 3.Early ejaculation CAUSES #Psychological Causes ☆Early sexual experience ☆Sexual abuse ☆Poor body Image ☆Depression ☆Worrying about premature ejaculation ☆Guilty feelings that increase ur tendency to rush through sexual intercourse ☆Sexual unexperience ☆Over excitment or too much stimulation ☆Relationship stress ☆Anxiety ☆Issues related to control and intimacy ☆Decreased confidence in relationships .Depression #Medical_Causes *Diabetes *Multiple sclerosis *Prostate disease *Thyroid problems *Drug use *Excessive Alcohol Consumption. SOLUTUON Xpowerman capsules 100% natural health product from USA very effective and it's a permanent treatment. ~intensive formula ~Relieves fatigue and Exhaustion. ~Improves Vitality. ~Prevents & heals male Impotence. ~permanently. For help call or WhatsApp +256784120800 +256704120800\n",
      "-----\n",
      "#PREMATURE_EJACULATION *Premature ejaculation occurs when a man ejaculates sooner during sexual intercourse than he or his partner would like.Its when an Orgasm or Climax occurs sooner than wanted. #SYMPTOMS *Life long (primary),,,, it occurs all or nearly all of the time beginning wth ur first sexual intercourse . *Acquired (secondary). Develops after u have had previous sexual experience without ejaculatory problems #CAUSES 1•Stress & Anxiety. 2•Alcohol and Drugs 3•Diabetes. 4•High blood pressure/hypertension 5•Prostate surgery •Masturbation. 6•Depression. 7•prostate cancer & Baldness ,8•Ulcers & use of chemicals. 9•Low self-esteem. 10•Smoking & Narcotics 11•Hormone imbalance 12•Multiple sclerosis 13•Nerve Damage 14•Atherosclerosis 15•Gloom & Fear 16•Uncertainties, Sadness. 17•Fatigue and Obesity. 18•Problems in relationships. #SYMPTOMS 1.Inability to maintain an erection. 2.Decreased libido/sexual desires. 3.Early ejaculation CAUSES #Psychological Causes ☆Early sexual experience ☆Sexual abuse ☆Poor body Image ☆Depression ☆Worrying about premature ejaculation ☆Guilty feelings that increase ur tendency to rush through sexual intercourse ☆Sexual unexperience ☆Over excitment or too much stimulation ☆Relationship stress ☆Anxiety ☆Issues related to control and intimacy ☆Decreased confidence in relationships .Depression #Biological_Causes *Abnormal hormone levels (Hormonal imbalance) *Abnormal levels of brain chemicals called neurotransmitters *Inflammation and Infection of prostate or Urethra *Inherited traits #Medical_Causes *Diabetes *Multiple sclerosis *Prostate disease *Thyroid problems *Drug use *Excessive Alcohol Consumption. SOLUTUON Xpowerman capsules 100% natural health product from USA very effective and it's a permanent treatment. ~intensive formula ~Relieves fatigue and Exhaustion. ~Improves Vitality. ~Prevents & heals male Impotence. ~permanently. For help call or WhatsApp +256784120800 +256704120800\n",
      "-----\n",
      "**********\n",
      "6\n",
      "Honey we shrunk the dog ❤️ Momo has lost a whopping 13 pounds on a healthy diet and exercise plan. He’s still got maybe 12 pounds to go to reach his optimum weight of around 70 pounds. When Mo arrived at a severely obese 95 pounds he struggled to walk or play. Now he’s feeling fabulous. Momo is a sweetheart of an 8 year old pitty mix boy. He’s affectionate and cuddly and loves other dogs. When he arrived it looked like he would need surgery for a ligament issue but now his vet feels he’ll do well with occasional pain management instead of surgery. Making a difference one animal at a time. www.dogwoodanimalrescue.org:=:https://dogwoodanimalrescue.org/\n",
      "-----\n",
      "Everybody meet Ben... Big Ben is a whopping 42kgs, more than double the weight he should be. At 10 years old Ben's joints and heart will be under massive strain carrying all that weight. We've started a weight loss plan of a strict diet and minimal gentle exercise just now to try to limit the strain on his body and hopefully catch diabetes and other obesity related health issues. Join us for his fortnightly Friday weigh-ins and to cheer Ben on. #rescuedog #adoptdontshop #olddogsrule #chubby #doggydiet #healthydog #happydog @ PADS\n",
      "-----\n",
      "BROOKLYN ACC ADOPTABLE Coco 100922 11 yr. spayed gray/white cat, OS, 13.7 pounds. ~WATCH MY VIDEO!~ https://youtu.be/yGhRbwLgkbU INTAKE INFO / OWNER PROFILE: This animal came from:Relative Origin Address Spay/Neuter statusYes Date of Intake17-Sep-2020 Is this cat having litter box issues?No If yes, Please elaborate:none Basic Information:Coco is an approx 11 year old grey and white altered male cat that was surrendered to ACC due to owner not being able to afford care. Owner had him for about 6 months and reported them to be healthy. Previously lived with:2 adults 1 cat How is this cat around strangers?Coco is friendly and outgoing around strangers. How is this cat around children?Coco has not been around children. How is this cat around other cats?Coco has grown up with his sibling and was reported to be relaxed and affectionate towards him. How is this cat around dogs?Coco has not been around dogs. Behavior NotesCoco has not been given a bath, had his nails trimmed, or had his coat brushed so behavior is unknown. Coco will allow to be picked up and held briefly. He is not bothered when placed in the carrier. Bite history:Coco has no bite history. Energy level/descriptors:medium Has this cat ever had any medical issues?No Medical Notesnone For a New Family to KnowCoco is described as friendly, affectionate, and mellow. He will follow the owner around and be in the same room when they are home. He will play with toy ball or mouse toys. He has been kept indoors only and will sleep anywhere in the home. He has been fed dry food twice a day. Coco is litter box trained with a hooded box and non clumping litter. He will scratch on the wooden fixtures or cardboard scratching post. Behavior Notes: upon intake, Coco was alert and vocal. Coco was observing the room. Coco allowed to be collared, scanned for a microchip, photo taken, and transferred into a carrier. MEDICAL: Medical History Report 2336 Linden Boulevard Brooklyn NY 11208 212-788-4000 Animal IDNameTypeMixedColor(1)Color(2)Gender 100922CocoCatYesGrayWhiteFemale Spayed / NeuteredAgePrimary Microchip #Rabies TagWeightSpay / Neuter Due DateTemperature Yes11 Years 4 Weeks (approx)98511300326617613 lbs 11.2 oz Veterinary Clinic Software Record #: Weight: 13 lbs 11.2 oz Date of Weighing: 9/17/2020 Date Spayed / Neutered: Schedule Surgery Date: Stitches Removal/Wound Recheck Date: Clinic Name: Previously Spayed / Neutered: Yes General Vet Notes: Previous Medical Details: Known Allergies or Medical Conditions: Feeding Requirements: Indemnities/Waivers: Medical Notes NotesDate No Medical Notes Stored Vet Treatments Date AdministeredVet Treatment TypeRoute of AdministrationTreatment ResultAdministered by External Vet 9/17/2020Weigh 9/17/2020Microchip Implantation 9/17/2020Gabapentin (100 Mg/Ml) 9/17/2020Flea/Tick Treatment - Frontline 9/17/2020Internal Parasite Treatment - Pyrantel 9/17/2020FeLV/FIV Snap Negative 9/17/2020Fvr-Cp 1 Of 2 9/17/2020Rabies 1-yearSQ Vet Treatments Due Date DueVet Treatment Type 10/1/2020Fvr-Cp 1 Of 2 10/1/2020Internal Parasite Treatment - Pyrantel 10/1/2020Weigh 10/17/2020Flea/Tick Treatment - Frontline 9/17/2021Rabies 1-year Medications MedicationAmount DispensedRoute of AdministrationFrequencyDate FromDate ToDoses AdministeredVet NameReasonNotes No medications administered to this animal. Drug Usage No drugs administered to this animal. Vet Consultations DateReasonsVet NotesVetDate Resolved 17-Sep-2020DVM Intake Vet Notes: 10:56 AM [DVM Intake] DVM Intake Exam Estimated age: 11y Microchip noted on Intake? No History: O/S Subjective: BARH. No csvd. Observed Behavior - Nervous, but friendly and allows all handling Evidence of Cruelty seen - no Evidence of Trauma seen - no Objective P = wnl R = wnl BCS 8/9 EENT: Eyes clear, ears clean, no nasal or ocular discharge noted Oral Exam: Grade III dental disease noted PLN: No enlargements noted H/L: NSR, NMA, CRT < 2, Lungs clear, eupnic ABD: Non painful, no masses palpated U/G: FS, no MGT palpated, no discharge MSI: Ambulatory x 4, severe matting of caudal dorsum noted CNS: Mentation appropriate - no signs of neurologic abnormalities Rectal: normal externally Assessment Obese, dental disease, matted Prognosis: fair Plan: clipped matting Recommend weight loss plan and dental with placement. PLEASE CONSIDER SAVING THE LIFE of a NYC ACC Death Row cat with your immediate offer to adopt. TO GET STARTED IMMEDIATELY SEND A PRIVATE MESSAGE TO THIS PAGE (click \"Send Message\" from our home page). We will respond asap. You will be directed to complete an app with a registered 501(c)3 New Hope Rescue Partner, who is approved to pull cats from the NYC ACC (shelter). We will immediately alert the rescue of your incoming app. ABOUT TRANSPORT: In most cases there is FREE TRANSPORT to your area up to a 4 hr. radius outside of NYC, including all or part of NY, NJ, CT, PA, NH, VT, RI, MA, MD, DE & DC (see the transport map provided). More distant adopters can meet the transport van, (i.e. a NC or VA (truncated)\n",
      "-----\n",
      "**********\n",
      "7\n",
      "Exactly\n",
      "-----\n",
      "~So true!\n",
      "-----\n",
      "This is something I've never really thought about but it is very true!\n",
      "-----\n",
      "**********\n",
      "8\n",
      "\"Early Detection is the Best prevention\" Breast Cancer Awareness Month 2020! #breastcancer #breastcancerawareness #october #cancer\n",
      "-----\n",
      "Cigarette smoking is the number one risk factor for lung cancer. In the United States, cigarette smoking is linked to about 80% to 90% of lung cancer deaths. Using other tobacco products such as cigars or pipes also increases the risk for lung cancer. Tobacco smoke is a toxic mix of more than 7,000 chemicals. . know more:https://www.cancercarepune.com/ #BestCancerSpecialistInPune #Cervicalcancer #OncologistInPune #CancerTreatmentInPune #CancerHospitalsInPune #cancercare #cancerpreventiontips #cancersurvivor #cancerawareness #cancerfighter #cancerwarrior #cancersupport #cancerprevention #cancercure #cancercouncil #cancertreatment #obesity #pharyngeal #exercise #oralcancer\n",
      "-----\n",
      "To recognize National Breast Cancer Awareness Month, the amazing staff at Lexington Surgery/SC Obesity Surgery Center donned special handmade masks promoting breast cancer awareness. We also honored two of our very own who are breast cancer survivors. Being a healthy weight helps to reduce your risk of breast cancer. Performing monthly breast self exams and receiving yearly mammograms (for women ages 45-54) are important tasks to detect breast cancer early to ensure the best treatment. And remember...breast cancer can occur in males too.\n",
      "-----\n",
      "**********\n",
      "9\n",
      "By keeping pets lean we help to prevent: Exercise intolerance, decreased stamina Respiratory compromise (breathing difficulty) Heat intolerance Hypertension (high blood pressure) Skin problems and dermatitis of skin folds Anal gland troubles Diabetes or insulin resistance Liver disease or dysfunction Osteoarthritis (lameness) Increased surgical/anesthetic risk Lowered immune system function Increased risk of developing malignant tumors (cancer) Just to name a few things. Talk to us about proper nutrition and how to ensure your pet is an ideal body weight. https://www.petmd.com/dog/nutrition/evr_multi_long_term_effects_of_obesity_on_pets\n",
      "-----\n",
      "It’s a simple equation: a healthy weight dog is a dog who lives longer than its overweight counterpart. And yet, 59% of cats and 54% of dogs in the U.S. were classified as overweight or obese (in 2016). That’s a huge number. Especially since we humans can (mostly!) control what our dogs and cats eat. So what is going on here? Why are pet owners – and vets – struggling with this health challenge? And what can and should we – trainers, behaviorists, and friends – about it? Read my blog for lots more info and links to studies – and then share your thoughts. I’m all ears. #theotherendoftheleash #healthyweightdogs #petobesity #helppetslivelonger\n",
      "-----\n",
      "Its Pet Obesity Awareness Day!! If your pet is getting a little heavy, give us a call to set up a time to talk with the Doctor. As much as we love to spoil our little furry ones, too much weight on them can lead to all kinds of complications down the road.\n",
      "-----\n",
      "**********\n",
      "10\n",
      "Not getting enough sleep skews our ability to regulate our emotions. In the long run, this can increase our risk of developing a mental health condition. In turn, conditions such as anxiety and depression may cause further sleep disruption. A lack of good quality sleep can negatively affect mental health. Fortunately, there are proven ways to improve sleep quality and break out of this vicious cycle. In this Special Feature, we discuss sleep and its deep relationship with mental health. More than 400 years ago, William Shakespeare described the gift of sleep and the distress of insomnia: O sleep! O gentle sleep! Nature’s soft nurse, how have I frighted thee, That thou no more wilt weigh my eyelids down And steep my senses in forgetfulness? – Henry IV, Part 2 Shakespeare’s description of sleep as “nature’s soft nurse” was closer to the truth than he could have known. According to the Centers for Disease Control and Prevention (CDC), insufficient sleep increases the risk of type 2 diabetes, cardiovascular disease, and obesity. Sleep is essential for the physical upkeep of the body, but it also helps maintain cognitive skills, such as attention, learning, memory, and emotional regulation. Getting a good night’s rest even underpins our ability to perceive the world accurately. Research suggests that going completely without sleep for 3 or more nights in a row results in perceptual distortions, hallucinations, and delusions. The latest discoveries about the importance of sleep for physical and mental well-being come at a time when technology is putting pressure on sleep time as never before. Social media, the internet, TV on demand, and video games are increasingly keeping us from our beds in the evenings. The CDC advise that adults get between 7 and 9 hours of sleep a day, with the specific recommendation varying by age. However, according to the 2012 National Health Interview Survey, almost one-third (29%) of adults in the United States sleep for less than 6 hours each night. Two-way link to mental health Poor sleep is a recognized risk factor for the development of a range of mental health issues. A study that followed 979 young adults in Michigan, for example, found that insomnia was associated with a four-fold higher risk of depression 3 years later. A review of research found evidence that insomnia preceded the development of not only depression but also bipolar disorder and anxiety disorders. The researchers also found a link between insomnia and an increased risk of suicide. In 2020, a study published in JAMA Psychiatry identified an association between sleep problems in early childhood and the development of psychosis and borderline personality disorder in adolescence. As well as increasing the risk of developing mental health problems, sleep disturbances are also a common feature of most mental illnesses, including anxiety, depression, bipolar disorder, and schizophrenia. Prof. Daniel Freeman, a psychiatrist, and his colleagues at the University of Oxford in the United Kingdom believe that the two-way relationship between sleep problems and poor mental health can result in a downward spiral. Writing in The Lancet Psychiatry, they say that doctors can be slow to address these issues in people with mental health problems: “The traditional view is that disrupted sleep is a symptom, consequence, or nonspecific epiphenomenon of [mental ill health]; the clinical result is that the treatment of sleep problems is given a low priority. An alternative perspective is that disturbed sleep is a contributory causal factor in the occurrence of many mental health disorders. An escalating cycle then emerges between the distress of the mental health symptoms, effect on daytime functioning, and struggles in gaining restorative sleep.” A form of cognitive behavioral therapy for treating insomnia (CBT-I) has proven its worth as a way to tackle this cycle of sleep problems and mental health conditions. When Prof. Freeman and his colleagues randomly assigned 3,755 students with insomnia from 26 universities in the U.K. to receive either CBT-I or usual care, they found that the treatment was associated with significant improvements. Students who received CBT-I not only slept better, but they also experienced less paranoia and had fewer hallucinations. According to a 2015 meta-analysis, CBT-I may also be an effective treatment for anxiety and depression in people with insomnia. How does CBT for insomnia work? The treatment involves educating people about sleep and aims to change their sleep-related behaviors and thought processes. People learn about good sleep hygiene, which involves practices such as limiting daytime naps, avoiding alcohol, nicotine, and caffeine in the evening, and refraining from using digital devices at bedtime. The behavioral techniques include: Sleep restriction: Reducing the time the person spends in bed to match more closely the amount of sleep they need. Stimulus control: For example, (truncated)\n",
      "-----\n",
      "New Times (Rwanda) Reasons for getting a good night’s rest: Sleep specialists encourage getting at least seven hours of sleep each night. Medics explain that a single night of poor sleep can leave one feeling lazy and too tired to work efficiently, exercise, or eat healthfully. And over time, continued sleep deprivation raises the risk of a number of chronic health problems, including obesity, diabetes, high blood pressure, and heart disease. Insufficient sleep can also leave a person more vulnerable to mental health issues such as depression and anxiety. Lack of sleep can reduce memory and learning ability. Researchers have found that just five hours of lost sleep in a 24-hour period can cut off the connection between neurons in the hippocampus, the area of the brain associated with memory. The World Health Organization (WHO) research on cardiovascular disease, explains that poor sleep and sleep disorders interfere with heart health, increasing one’s risk of heart attack and stroke. “During the last few decades, many studies have reported a strong association between sleep duration and mortality risk. These findings have shown that individuals sleeping between seven to nine hours at night, experience the lowest risks for all-cause mortality when compared to those who sleep for shorter or longer periods,” states Sleep Science, an official journal of the Brazilian Sleep Society. Sleep Science also adds that even though the lack of sleep is thought of as an individual or a personal issue, insufficient sleep can have much wider adverse social and economic effects. Due to its potential negative impact on higher functions, such as judgment, decision-making, and reaction time, sleep deprivation can increase the risk of fatal accidents and injury. According to Harvard Health Publishing, in rare cases, insufficient sleep can even be more dangerous. A sleep shortfall can lead to daytime drowsiness and “micro sleeps.” Micro sleeps are brief bouts of sleep that occur during the day that usually last just a few seconds. If you have ever briefly nodded off while sitting through a lecture or work, you have experienced micro sleep. They usually last just a few seconds but can go on for 10 or 15 seconds—and pose a serious danger if they happen while someone is driving as it can lead to motor accidents. The Centers for Disease Control and Prevention (CDC), explains that children and adolescents who do not get enough sleep have a higher risk of many health problems, including obesity, type 2 diabetes, poor mental health, and injuries. They are also more likely to have attention and behaviour problems, which can contribute to poor academic performance in school. CDC urges students to have the proper amount of sleep at night to help stay focused, improve concentration, and academic performance. “Getting enough sleep is important, but good sleep quality is also essential. Signs of poor sleep quality include feeling sleepy or tired even after getting enough sleep, repeatedly waking up during the night, and having symptoms of a sleep disorder (such as snoring or gasping for air). Better sleep habits may improve the quality of your sleep,” states CDC. Causes of insufficient sleep In 2006, the Institute of Medicine report emphasised insufficient sleep is more common in individuals who do the night shift work or who work more than 40 hours per week. This tendency is slightly greater among females. Patients often report daytime sleepiness that impedes their activities and functioning. While work schedules are an important environmental contributor to reduced duration of sleep, the demands of work do not have the same effect on all individuals. Dr Kenneth Ruzindana, a consultant at Kigali University Teaching Hospital of Kigali (CHUK), notes that lack of enough sleep can be due to insomnia. Insomnia is defined as trouble falling asleep, difficulty staying asleep, or waking up early in the morning and not being able to return to sleep. He carries on that people with insomnia sleep less or poorly, regardless of having a suitable chance to sleep. The poor sleep may lead to distress functioning during the daytime. Insomnia symptoms have been linked with an increased risk for suicidal thoughts and behaviours. Some studies have suggested that the association is primarily mediated by underlying depression. Insomnia is also allied with sympathetic nervous system activation, and a number of studies have shown an association between insomnia and elevated cardiovascular risk, including hypertension and myocardial infarction, Ruzindana adds. Health experts recommend the following hours for sleep depending on one’s age. Infants (4 to 12 months) require 12 to 16 hours per 24 hours (including naps), toddlers (1 to 2 years) need 11 to 14 hours per 24 hours (including naps). Yet pre-schoolers (3 to 5 years) need 10 to 13 hours per 24 hours (including naps). For school age (6 to 12 years) require 9 to 12 hours per 24 (truncated)\n",
      "-----\n",
      "🚨Tip of the Day🚨 . \"Do not under value sleep\". . Do you walk around tired most days? Finding that you need coffee, or even a nap, in order to make it throughout the day?😴 There may be underlying reasons you are unaware of that could be effecting your sleep quality negatively😞 . Our bodies need proper amounts of sleep in order for almost every system to function properly - make it a priority‼️\n",
      "-----\n",
      "**********\n",
      "11\n",
      "https://www.facebook.com/100001674133338/posts/3202590586473381/?d=n Yogantrikshakti Please Share On Your Feed And Help Others Too!! Thanks 😊 #ministryofayush #mylifemyyoga #covid192020 #stayhome #staystressfree #myyogajourney #indiangovermentinitiative #bestforhealthyliving\n",
      "-----\n",
      "Yoga a means for peaceful, contended life: Advisor Sharma Over 6.92 lakh students, teachers, parents participate in week long Intl Yoga Day celebration JAMMU, JUNE 21: Advisor to Lt Governor, KK Sharma, today maintained that practicing Yoga on regular basis can do wonders towards living a peaceful and contended life free of stress and related ailments. The Advisor was interacting with scores of people during International Yoga Day celebration through video conferencing. The event was organized by Directorate of School Education Jammu in connection with “International Day of Yoga-2020” and “Yoga Week on Common Protocol” in collaboration with Directorate of ISM/AYUSH (Department of Health and Medical Education). The Theme for this year was” Yoga at Home& Yoga with Family”. Advisor appreciated the mass involvement of students and teaching community in these Yoga sessions. “Yoga practices play key role in one’s life as stress and anxiety can only be tackled through this ancient old tradition”, he added. Students, teaching/non-teaching staff and officials participated in the event while being at their respective homes/ institutions/ offices via online medium following the scheduled programme of DISMJK. Director School Education Jammu, Anuradha Gupta, expressed gratitude to the participants especially Advisor Sharma for his motivating presence on this occasion. She said that the ultimate goal of Yoga is to help the individual to transcend the self and attain enlightenment. In this week long celebration, there were various themes fixed for each day including common Yoga Protocol, Yoga for respiratory health/ yoga for immunity boosting, life style disorders, mental health/ stress management, yoga for diabetes/ obesity and Surya Namaskar special session. More than 4 lakh of students, teachers and parents participated in this celebration and there was live telecast of these sessions every morning and evening by the Directorate of ISM from 14th to 20th June, 2020 on Take one Channel, Gulistan Channel and these were live on Facebook, YouTube and even on Instagram. Also, the event witnessed Yoga competition in which four groups including Pre-primary, 1st to 5th, 6th to 8th a\n",
      "-----\n",
      "🤸‍♀ Free Yoga Sessions🧘‍♀️🙏🏻 Conducting practice sessions daily in *ADI ashtanga YOGA* Youtube channel via Live streaming From *5:45 Am to 6:45 Am* . We will be discussing the different health issues like Sugar, thyroid, joint pains, backpain, obesity,etc and the related yoga practices ( Warmups,suryanamaskaras, Asanas, Pranayamas, Therapy Techniques, Relaxation techniques ). lifestyle tips and food tips to cure each of them. 👉 *How to join the class* Click the YouTube link below to Subscribe to our channel and click the bell icon to get the notification when live streaming begins. https://www.youtube.com/channel/UCQJYoP6H0_IWIIiN6W-2v1A 👉 *For further information or doubts* You can watsapp me or call me on 08686886108 no. Also, do forward this message with all your friends, Relatives and in all your groups. Lets stay healthy together ✊🏻 @ *Adi* Yoga Master\n",
      "-----\n",
      "**********\n",
      "12\n",
      "The most significant risk factor for developing or dying from coronary heart disease for women versus men is: a. obesity b. diabetes c. elevated CRP levels d. high levels of HDL-C Source: Mosby's Comprehensive Review for NCLEX-RN, 18th edition. good luck!😅\n",
      "-----\n",
      "WORLD HEART DAY Scale up prevention of heart attack and stroke Cardiovascular diseases (CVDs) take the lives of 17.9 million people every year, 31% of all global deaths. Triggering these diseases – which manifest primarily as heart attacks and strokes – are tobacco use, unhealthy diet, physical inactivity and the harmful use of alcohol. These in turn show up in people as raised blood pressure, elevated blood glucose and overweight and obesity, risks detrimental to good heart health.\n",
      "-----\n",
      "The Fullerton Hotel Singapore lights up in red in support of World Heart Day today! Did you know, cardiovascular disease is the number one cause of death on the planet? It has many causes: from smoking, diabetes, high blood pressure and obesity, to air pollution, and rare and neglected conditions such as Chagas Disease and cardiac amyloidosis. Together with the Singapore Heart Foundation, we commemorate World Heart Day and encourage individuals, families and communities around the world to participate in activities to take charge of their heart health and that of others. #GoRedforWHD #WorldHeartDay\n",
      "-----\n",
      "**********\n"
     ]
    }
   ],
   "source": [
    "for i in range(0,13):\n",
    "    print(i)\n",
    "    docs = topic_model.get_representative_docs()[i]\n",
    "    for d in docs:\n",
    "        print(d)\n",
    "        print(\"-----\")\n",
    "    print(\"**********\")"
   ]
  },
  {
   "cell_type": "code",
   "execution_count": 41,
   "metadata": {},
   "outputs": [
    {
     "data": {
      "application/vnd.plotly.v1+json": {
       "config": {
        "plotlyServerURL": "https://plot.ly"
       },
       "data": [
        {
         "hoverinfo": "text",
         "marker": {
          "color": "rgb(61,153,112)"
         },
         "mode": "lines",
         "type": "scatter",
         "x": [
          0,
          0.382550267160212,
          0.382550267160212,
          0
         ],
         "xaxis": "x",
         "y": [
          -25,
          -25,
          -35,
          -35
         ],
         "yaxis": "y"
        },
        {
         "hoverinfo": "text",
         "marker": {
          "color": "rgb(61,153,112)"
         },
         "mode": "lines",
         "type": "scatter",
         "x": [
          0,
          0.48725902784182445,
          0.48725902784182445,
          0.382550267160212
         ],
         "xaxis": "x",
         "y": [
          -15,
          -15,
          -30,
          -30
         ],
         "yaxis": "y"
        },
        {
         "hoverinfo": "text",
         "marker": {
          "color": "rgb(61,153,112)"
         },
         "mode": "lines",
         "type": "scatter",
         "x": [
          0,
          0.7191380576305806,
          0.7191380576305806,
          0.48725902784182445
         ],
         "xaxis": "x",
         "y": [
          -5,
          -5,
          -22.5,
          -22.5
         ],
         "yaxis": "y"
        },
        {
         "hoverinfo": "text",
         "marker": {
          "color": "rgb(61,153,112)"
         },
         "mode": "lines",
         "type": "scatter",
         "x": [
          0,
          0.8019842223720213,
          0.8019842223720213,
          0
         ],
         "xaxis": "x",
         "y": [
          -45,
          -45,
          -55,
          -55
         ],
         "yaxis": "y"
        },
        {
         "hoverinfo": "text",
         "marker": {
          "color": "rgb(61,153,112)"
         },
         "mode": "lines",
         "type": "scatter",
         "x": [
          0.7191380576305806,
          0.9561995539484265,
          0.9561995539484265,
          0.8019842223720213
         ],
         "xaxis": "x",
         "y": [
          -13.75,
          -13.75,
          -50,
          -50
         ],
         "yaxis": "y"
        },
        {
         "hoverinfo": "text",
         "marker": {
          "color": "rgb(255,65,54)"
         },
         "mode": "lines",
         "type": "scatter",
         "x": [
          0,
          0.49134410609166246,
          0.49134410609166246,
          0
         ],
         "xaxis": "x",
         "y": [
          -65,
          -65,
          -75,
          -75
         ],
         "yaxis": "y"
        },
        {
         "hoverinfo": "text",
         "marker": {
          "color": "rgb(35,205,205)"
         },
         "mode": "lines",
         "type": "scatter",
         "x": [
          0,
          0.711320479758838,
          0.711320479758838,
          0
         ],
         "xaxis": "x",
         "y": [
          -85,
          -85,
          -95,
          -95
         ],
         "yaxis": "y"
        },
        {
         "hoverinfo": "text",
         "marker": {
          "color": "rgb(0,116,217)"
         },
         "mode": "lines",
         "type": "scatter",
         "x": [
          0.49134410609166246,
          1.0564679616925126,
          1.0564679616925126,
          0.711320479758838
         ],
         "xaxis": "x",
         "y": [
          -70,
          -70,
          -90,
          -90
         ],
         "yaxis": "y"
        },
        {
         "hoverinfo": "text",
         "marker": {
          "color": "rgb(0,116,217)"
         },
         "mode": "lines",
         "type": "scatter",
         "x": [
          0.9561995539484265,
          1.2671502014410316,
          1.2671502014410316,
          1.0564679616925126
         ],
         "xaxis": "x",
         "y": [
          -31.875,
          -31.875,
          -80,
          -80
         ],
         "yaxis": "y"
        }
       ],
       "layout": {
        "autosize": false,
        "height": 350,
        "hoverlabel": {
         "bgcolor": "white",
         "font": {
          "family": "Rockwell",
          "size": 16
         }
        },
        "hovermode": "closest",
        "plot_bgcolor": "#ECEFF1",
        "showlegend": false,
        "template": {
         "data": {
          "bar": [
           {
            "error_x": {
             "color": "#2a3f5f"
            },
            "error_y": {
             "color": "#2a3f5f"
            },
            "marker": {
             "line": {
              "color": "white",
              "width": 0.5
             },
             "pattern": {
              "fillmode": "overlay",
              "size": 10,
              "solidity": 0.2
             }
            },
            "type": "bar"
           }
          ],
          "barpolar": [
           {
            "marker": {
             "line": {
              "color": "white",
              "width": 0.5
             },
             "pattern": {
              "fillmode": "overlay",
              "size": 10,
              "solidity": 0.2
             }
            },
            "type": "barpolar"
           }
          ],
          "carpet": [
           {
            "aaxis": {
             "endlinecolor": "#2a3f5f",
             "gridcolor": "#C8D4E3",
             "linecolor": "#C8D4E3",
             "minorgridcolor": "#C8D4E3",
             "startlinecolor": "#2a3f5f"
            },
            "baxis": {
             "endlinecolor": "#2a3f5f",
             "gridcolor": "#C8D4E3",
             "linecolor": "#C8D4E3",
             "minorgridcolor": "#C8D4E3",
             "startlinecolor": "#2a3f5f"
            },
            "type": "carpet"
           }
          ],
          "choropleth": [
           {
            "colorbar": {
             "outlinewidth": 0,
             "ticks": ""
            },
            "type": "choropleth"
           }
          ],
          "contour": [
           {
            "colorbar": {
             "outlinewidth": 0,
             "ticks": ""
            },
            "colorscale": [
             [
              0,
              "#0d0887"
             ],
             [
              0.1111111111111111,
              "#46039f"
             ],
             [
              0.2222222222222222,
              "#7201a8"
             ],
             [
              0.3333333333333333,
              "#9c179e"
             ],
             [
              0.4444444444444444,
              "#bd3786"
             ],
             [
              0.5555555555555556,
              "#d8576b"
             ],
             [
              0.6666666666666666,
              "#ed7953"
             ],
             [
              0.7777777777777778,
              "#fb9f3a"
             ],
             [
              0.8888888888888888,
              "#fdca26"
             ],
             [
              1,
              "#f0f921"
             ]
            ],
            "type": "contour"
           }
          ],
          "contourcarpet": [
           {
            "colorbar": {
             "outlinewidth": 0,
             "ticks": ""
            },
            "type": "contourcarpet"
           }
          ],
          "heatmap": [
           {
            "colorbar": {
             "outlinewidth": 0,
             "ticks": ""
            },
            "colorscale": [
             [
              0,
              "#0d0887"
             ],
             [
              0.1111111111111111,
              "#46039f"
             ],
             [
              0.2222222222222222,
              "#7201a8"
             ],
             [
              0.3333333333333333,
              "#9c179e"
             ],
             [
              0.4444444444444444,
              "#bd3786"
             ],
             [
              0.5555555555555556,
              "#d8576b"
             ],
             [
              0.6666666666666666,
              "#ed7953"
             ],
             [
              0.7777777777777778,
              "#fb9f3a"
             ],
             [
              0.8888888888888888,
              "#fdca26"
             ],
             [
              1,
              "#f0f921"
             ]
            ],
            "type": "heatmap"
           }
          ],
          "heatmapgl": [
           {
            "colorbar": {
             "outlinewidth": 0,
             "ticks": ""
            },
            "colorscale": [
             [
              0,
              "#0d0887"
             ],
             [
              0.1111111111111111,
              "#46039f"
             ],
             [
              0.2222222222222222,
              "#7201a8"
             ],
             [
              0.3333333333333333,
              "#9c179e"
             ],
             [
              0.4444444444444444,
              "#bd3786"
             ],
             [
              0.5555555555555556,
              "#d8576b"
             ],
             [
              0.6666666666666666,
              "#ed7953"
             ],
             [
              0.7777777777777778,
              "#fb9f3a"
             ],
             [
              0.8888888888888888,
              "#fdca26"
             ],
             [
              1,
              "#f0f921"
             ]
            ],
            "type": "heatmapgl"
           }
          ],
          "histogram": [
           {
            "marker": {
             "pattern": {
              "fillmode": "overlay",
              "size": 10,
              "solidity": 0.2
             }
            },
            "type": "histogram"
           }
          ],
          "histogram2d": [
           {
            "colorbar": {
             "outlinewidth": 0,
             "ticks": ""
            },
            "colorscale": [
             [
              0,
              "#0d0887"
             ],
             [
              0.1111111111111111,
              "#46039f"
             ],
             [
              0.2222222222222222,
              "#7201a8"
             ],
             [
              0.3333333333333333,
              "#9c179e"
             ],
             [
              0.4444444444444444,
              "#bd3786"
             ],
             [
              0.5555555555555556,
              "#d8576b"
             ],
             [
              0.6666666666666666,
              "#ed7953"
             ],
             [
              0.7777777777777778,
              "#fb9f3a"
             ],
             [
              0.8888888888888888,
              "#fdca26"
             ],
             [
              1,
              "#f0f921"
             ]
            ],
            "type": "histogram2d"
           }
          ],
          "histogram2dcontour": [
           {
            "colorbar": {
             "outlinewidth": 0,
             "ticks": ""
            },
            "colorscale": [
             [
              0,
              "#0d0887"
             ],
             [
              0.1111111111111111,
              "#46039f"
             ],
             [
              0.2222222222222222,
              "#7201a8"
             ],
             [
              0.3333333333333333,
              "#9c179e"
             ],
             [
              0.4444444444444444,
              "#bd3786"
             ],
             [
              0.5555555555555556,
              "#d8576b"
             ],
             [
              0.6666666666666666,
              "#ed7953"
             ],
             [
              0.7777777777777778,
              "#fb9f3a"
             ],
             [
              0.8888888888888888,
              "#fdca26"
             ],
             [
              1,
              "#f0f921"
             ]
            ],
            "type": "histogram2dcontour"
           }
          ],
          "mesh3d": [
           {
            "colorbar": {
             "outlinewidth": 0,
             "ticks": ""
            },
            "type": "mesh3d"
           }
          ],
          "parcoords": [
           {
            "line": {
             "colorbar": {
              "outlinewidth": 0,
              "ticks": ""
             }
            },
            "type": "parcoords"
           }
          ],
          "pie": [
           {
            "automargin": true,
            "type": "pie"
           }
          ],
          "scatter": [
           {
            "marker": {
             "colorbar": {
              "outlinewidth": 0,
              "ticks": ""
             }
            },
            "type": "scatter"
           }
          ],
          "scatter3d": [
           {
            "line": {
             "colorbar": {
              "outlinewidth": 0,
              "ticks": ""
             }
            },
            "marker": {
             "colorbar": {
              "outlinewidth": 0,
              "ticks": ""
             }
            },
            "type": "scatter3d"
           }
          ],
          "scattercarpet": [
           {
            "marker": {
             "colorbar": {
              "outlinewidth": 0,
              "ticks": ""
             }
            },
            "type": "scattercarpet"
           }
          ],
          "scattergeo": [
           {
            "marker": {
             "colorbar": {
              "outlinewidth": 0,
              "ticks": ""
             }
            },
            "type": "scattergeo"
           }
          ],
          "scattergl": [
           {
            "marker": {
             "colorbar": {
              "outlinewidth": 0,
              "ticks": ""
             }
            },
            "type": "scattergl"
           }
          ],
          "scattermapbox": [
           {
            "marker": {
             "colorbar": {
              "outlinewidth": 0,
              "ticks": ""
             }
            },
            "type": "scattermapbox"
           }
          ],
          "scatterpolar": [
           {
            "marker": {
             "colorbar": {
              "outlinewidth": 0,
              "ticks": ""
             }
            },
            "type": "scatterpolar"
           }
          ],
          "scatterpolargl": [
           {
            "marker": {
             "colorbar": {
              "outlinewidth": 0,
              "ticks": ""
             }
            },
            "type": "scatterpolargl"
           }
          ],
          "scatterternary": [
           {
            "marker": {
             "colorbar": {
              "outlinewidth": 0,
              "ticks": ""
             }
            },
            "type": "scatterternary"
           }
          ],
          "surface": [
           {
            "colorbar": {
             "outlinewidth": 0,
             "ticks": ""
            },
            "colorscale": [
             [
              0,
              "#0d0887"
             ],
             [
              0.1111111111111111,
              "#46039f"
             ],
             [
              0.2222222222222222,
              "#7201a8"
             ],
             [
              0.3333333333333333,
              "#9c179e"
             ],
             [
              0.4444444444444444,
              "#bd3786"
             ],
             [
              0.5555555555555556,
              "#d8576b"
             ],
             [
              0.6666666666666666,
              "#ed7953"
             ],
             [
              0.7777777777777778,
              "#fb9f3a"
             ],
             [
              0.8888888888888888,
              "#fdca26"
             ],
             [
              1,
              "#f0f921"
             ]
            ],
            "type": "surface"
           }
          ],
          "table": [
           {
            "cells": {
             "fill": {
              "color": "#EBF0F8"
             },
             "line": {
              "color": "white"
             }
            },
            "header": {
             "fill": {
              "color": "#C8D4E3"
             },
             "line": {
              "color": "white"
             }
            },
            "type": "table"
           }
          ]
         },
         "layout": {
          "annotationdefaults": {
           "arrowcolor": "#2a3f5f",
           "arrowhead": 0,
           "arrowwidth": 1
          },
          "autotypenumbers": "strict",
          "coloraxis": {
           "colorbar": {
            "outlinewidth": 0,
            "ticks": ""
           }
          },
          "colorscale": {
           "diverging": [
            [
             0,
             "#8e0152"
            ],
            [
             0.1,
             "#c51b7d"
            ],
            [
             0.2,
             "#de77ae"
            ],
            [
             0.3,
             "#f1b6da"
            ],
            [
             0.4,
             "#fde0ef"
            ],
            [
             0.5,
             "#f7f7f7"
            ],
            [
             0.6,
             "#e6f5d0"
            ],
            [
             0.7,
             "#b8e186"
            ],
            [
             0.8,
             "#7fbc41"
            ],
            [
             0.9,
             "#4d9221"
            ],
            [
             1,
             "#276419"
            ]
           ],
           "sequential": [
            [
             0,
             "#0d0887"
            ],
            [
             0.1111111111111111,
             "#46039f"
            ],
            [
             0.2222222222222222,
             "#7201a8"
            ],
            [
             0.3333333333333333,
             "#9c179e"
            ],
            [
             0.4444444444444444,
             "#bd3786"
            ],
            [
             0.5555555555555556,
             "#d8576b"
            ],
            [
             0.6666666666666666,
             "#ed7953"
            ],
            [
             0.7777777777777778,
             "#fb9f3a"
            ],
            [
             0.8888888888888888,
             "#fdca26"
            ],
            [
             1,
             "#f0f921"
            ]
           ],
           "sequentialminus": [
            [
             0,
             "#0d0887"
            ],
            [
             0.1111111111111111,
             "#46039f"
            ],
            [
             0.2222222222222222,
             "#7201a8"
            ],
            [
             0.3333333333333333,
             "#9c179e"
            ],
            [
             0.4444444444444444,
             "#bd3786"
            ],
            [
             0.5555555555555556,
             "#d8576b"
            ],
            [
             0.6666666666666666,
             "#ed7953"
            ],
            [
             0.7777777777777778,
             "#fb9f3a"
            ],
            [
             0.8888888888888888,
             "#fdca26"
            ],
            [
             1,
             "#f0f921"
            ]
           ]
          },
          "colorway": [
           "#636efa",
           "#EF553B",
           "#00cc96",
           "#ab63fa",
           "#FFA15A",
           "#19d3f3",
           "#FF6692",
           "#B6E880",
           "#FF97FF",
           "#FECB52"
          ],
          "font": {
           "color": "#2a3f5f"
          },
          "geo": {
           "bgcolor": "white",
           "lakecolor": "white",
           "landcolor": "white",
           "showlakes": true,
           "showland": true,
           "subunitcolor": "#C8D4E3"
          },
          "hoverlabel": {
           "align": "left"
          },
          "hovermode": "closest",
          "mapbox": {
           "style": "light"
          },
          "paper_bgcolor": "white",
          "plot_bgcolor": "white",
          "polar": {
           "angularaxis": {
            "gridcolor": "#EBF0F8",
            "linecolor": "#EBF0F8",
            "ticks": ""
           },
           "bgcolor": "white",
           "radialaxis": {
            "gridcolor": "#EBF0F8",
            "linecolor": "#EBF0F8",
            "ticks": ""
           }
          },
          "scene": {
           "xaxis": {
            "backgroundcolor": "white",
            "gridcolor": "#DFE8F3",
            "gridwidth": 2,
            "linecolor": "#EBF0F8",
            "showbackground": true,
            "ticks": "",
            "zerolinecolor": "#EBF0F8"
           },
           "yaxis": {
            "backgroundcolor": "white",
            "gridcolor": "#DFE8F3",
            "gridwidth": 2,
            "linecolor": "#EBF0F8",
            "showbackground": true,
            "ticks": "",
            "zerolinecolor": "#EBF0F8"
           },
           "zaxis": {
            "backgroundcolor": "white",
            "gridcolor": "#DFE8F3",
            "gridwidth": 2,
            "linecolor": "#EBF0F8",
            "showbackground": true,
            "ticks": "",
            "zerolinecolor": "#EBF0F8"
           }
          },
          "shapedefaults": {
           "line": {
            "color": "#2a3f5f"
           }
          },
          "ternary": {
           "aaxis": {
            "gridcolor": "#DFE8F3",
            "linecolor": "#A2B1C6",
            "ticks": ""
           },
           "baxis": {
            "gridcolor": "#DFE8F3",
            "linecolor": "#A2B1C6",
            "ticks": ""
           },
           "bgcolor": "white",
           "caxis": {
            "gridcolor": "#DFE8F3",
            "linecolor": "#A2B1C6",
            "ticks": ""
           }
          },
          "title": {
           "x": 0.05
          },
          "xaxis": {
           "automargin": true,
           "gridcolor": "#EBF0F8",
           "linecolor": "#EBF0F8",
           "ticks": "",
           "title": {
            "standoff": 15
           },
           "zerolinecolor": "#EBF0F8",
           "zerolinewidth": 2
          },
          "yaxis": {
           "automargin": true,
           "gridcolor": "#EBF0F8",
           "linecolor": "#EBF0F8",
           "ticks": "",
           "title": {
            "standoff": 15
           },
           "zerolinecolor": "#EBF0F8",
           "zerolinewidth": 2
          }
         }
        },
        "title": {
         "font": {
          "color": "Black",
          "size": 22
         },
         "text": "<b>Hierarchical Clustering",
         "x": 0.5,
         "xanchor": "center",
         "yanchor": "top"
        },
        "width": 1000,
        "xaxis": {
         "mirror": "allticks",
         "rangemode": "tozero",
         "showgrid": false,
         "showline": true,
         "showticklabels": true,
         "ticks": "outside",
         "type": "linear",
         "zeroline": false
        },
        "yaxis": {
         "mirror": "allticks",
         "range": [
          -100,
          0
         ],
         "rangemode": "tozero",
         "showgrid": false,
         "showline": true,
         "showticklabels": true,
         "tickmode": "array",
         "ticks": "outside",
         "ticktext": [
          "1_children_childhood_kids",
          "8_cancer_breast_colorectal",
          "0_covid19_coronavirus_risk",
          "12_heart_disease_pressure",
          "2_sugar_drinks_added",
          "3_bariatric_surgery_bariatr...",
          "4_my_me_was",
          "7_interesting_read_this",
          "10_sleep_night_hours",
          "11_yoga_asana_meditation"
         ],
         "tickvals": [
          -5,
          -15,
          -25,
          -35,
          -45,
          -55,
          -65,
          -75,
          -85,
          -95
         ],
         "type": "linear",
         "zeroline": false
        }
       }
      }
     },
     "metadata": {},
     "output_type": "display_data"
    }
   ],
   "source": [
    "topic_model.visualize_hierarchy(topics = [0, 1, 2, 3, 4, 7, 8, 10, 11, 12])"
   ]
  },
  {
   "cell_type": "code",
   "execution_count": null,
   "metadata": {},
   "outputs": [],
   "source": [
    "documents = pd.DataFrame({\"Document\": dat_obesity_restricted.processed_text_bert,\n",
    "                          \"ID\":range(len(dat_obesity_restricted.processed_text_bert)),\n",
    "                          \"Topic\":  topics[0]})\n",
    "\n",
    "documents_per_topic = documents.groupby(['Topic'], as_index=False).agg({'Document': ' '.join})\n",
    "cleaned_docs = topic_model._preprocess_text(documents_per_topic.Document.values)\n",
    "\n",
    "vectorizer = topic_model.vectorizer_model\n",
    "analyzer = vectorizer.build_analyzer()\n",
    "\n",
    "words = vectorizer.get_feature_names()\n",
    "tokens = [analyzer(doc) for doc in cleaned_docs]"
   ]
  },
  {
   "cell_type": "code",
   "execution_count": 45,
   "metadata": {},
   "outputs": [],
   "source": [
    "dictionary = corpora.Dictionary(tokens)\n",
    "\n",
    "corpus = [dictionary.doc2bow(token) for token in tokens]\n",
    "topic_words = [[words for words, _ in topic_model.get_topic(topic)] \n",
    "               for topic in range(len(set(topics[0]))-1)]\n",
    "coherence_model = CoherenceModel(topics=topic_words, \n",
    "                                 texts=tokens, \n",
    "                                 corpus=corpus,\n",
    "                                 dictionary=dictionary, \n",
    "                                 coherence='c_v')\n",
    "coherence = coherence_model.get_coherence()"
   ]
  },
  {
   "cell_type": "code",
   "execution_count": 46,
   "metadata": {},
   "outputs": [
    {
     "data": {
      "text/plain": [
       "0.7561582176383482"
      ]
     },
     "execution_count": 46,
     "metadata": {},
     "output_type": "execute_result"
    }
   ],
   "source": [
    "coherence"
   ]
  },
  {
   "cell_type": "code",
   "execution_count": null,
   "metadata": {},
   "outputs": [],
   "source": []
  }
 ],
 "metadata": {
  "interpreter": {
   "hash": "ffe67d4efdf50a67adb541926f1b56bfeeb48b191d1b9a6489e883c5acad5bda"
  },
  "kernelspec": {
   "display_name": "Python 3.8.8 ('base')",
   "language": "python",
   "name": "python3"
  },
  "language_info": {
   "codemirror_mode": {
    "name": "ipython",
    "version": 3
   },
   "file_extension": ".py",
   "mimetype": "text/x-python",
   "name": "python",
   "nbconvert_exporter": "python",
   "pygments_lexer": "ipython3",
   "version": "3.8.8"
  },
  "orig_nbformat": 4
 },
 "nbformat": 4,
 "nbformat_minor": 2
}
