{
 "cells": [
  {
   "cell_type": "markdown",
   "metadata": {},
   "source": [
    "# Bring in Libraries and Packages"
   ]
  },
  {
   "cell_type": "code",
   "execution_count": 1,
   "metadata": {
    "ExecuteTime": {
     "end_time": "2021-10-28T14:16:34.377487Z",
     "start_time": "2021-10-28T14:16:33.957656Z"
    }
   },
   "outputs": [],
   "source": [
    "import pandas as pd"
   ]
  },
  {
   "cell_type": "markdown",
   "metadata": {},
   "source": [
    "# Bring in Data"
   ]
  },
  {
   "cell_type": "code",
   "execution_count": 2,
   "metadata": {
    "ExecuteTime": {
     "end_time": "2021-10-28T14:45:43.092298Z",
     "start_time": "2021-10-28T14:45:40.930504Z"
    }
   },
   "outputs": [
    {
     "name": "stderr",
     "output_type": "stream",
     "text": [
      "/Users/catherinepollack/opt/anaconda3/lib/python3.8/site-packages/IPython/core/interactiveshell.py:3165: DtypeWarning: Columns (13,39,40) have mixed types.Specify dtype option on import or set low_memory=False.\n",
      "  has_raised = await self.run_ast_nodes(code_ast.body, cell_name,\n",
      "/Users/catherinepollack/opt/anaconda3/lib/python3.8/site-packages/IPython/core/interactiveshell.py:3165: DtypeWarning: Columns (13,37,38,39,40) have mixed types.Specify dtype option on import or set low_memory=False.\n",
      "  has_raised = await self.run_ast_nodes(code_ast.body, cell_name,\n"
     ]
    }
   ],
   "source": [
    "data_file_path = \"/Users/catherinepollack/Documents/dartmouth/research/aim3_facebook_covid19_obesity/data/\"\n",
    "nonhealth_comparator = pd.read_csv(str(data_file_path + \"211104_facebook_clarinet_comparator.csv\"))\n",
    "health_comparator1 = pd.read_csv(str(data_file_path + \"210627_headaches_1.csv\"))\n",
    "health_comparator2 = pd.read_csv(str(data_file_path + \"210627_headaches_2.csv\"))\n",
    "health_comparator3 = pd.read_csv(str(data_file_path + \"210627_headaches_3.csv\"))\n",
    "health_comparator = pd.concat([health_comparator1, health_comparator2, health_comparator3], axis = 0)"
   ]
  },
  {
   "cell_type": "markdown",
   "metadata": {},
   "source": [
    "# Remove Posts on Pet-Specific Pages"
   ]
  },
  {
   "cell_type": "code",
   "execution_count": 3,
   "metadata": {
    "ExecuteTime": {
     "end_time": "2021-10-28T19:43:38.229068Z",
     "start_time": "2021-10-28T19:43:32.333806Z"
    }
   },
   "outputs": [],
   "source": [
    "#Using the same tags as the Facebook data set\n",
    "#ADOPTION_SERVICE, ANIMAL_RESCUE_SERVICE, ANIMAL_SHELTER, AQUARIUM, AQUATIC_PET_STORE,\n",
    "#DOG_BREEDER, DOG_DAY_CARE_CENTER, DOG_PARK, DOG_TRAINING, DOG_WALKER, EQUESTRIAN_FACILITY\n",
    "#HORSEBACK_RIDING_SERVICE, HORSE_TRAINER, KENNEL, PET, PETTING_ZOO, PET_ADOPTION_SERVICE\n",
    "#PET_BREEDER, PET_CAFE, PET_GROOMER, PET_SERVICE, PET_SITTER, PET_STORE, PET_SUPPLIES\n",
    "#REPTILE_PET_STORE, ZOO\n",
    "\n",
    "possible_pet_tags = [\"ADOPTION_SERVICE\", \"ANIMAL_RESCUE_SERVICE\", \"ANIMAL_SHELTER\", \"AQUARIUM\", \"AQUATIC_PET_STORE\",\n",
    "\"DOG_BREEDER\", \"DOG_DAY_CARE_CENTER\", \"DOG_PARK\", \"DOG_TRAINING\", \"DOG_WALKER\", \"EQUESTRIAN_FACILITY\",\n",
    "\"HORSEBACK_RIDING_SERVICE\", \"HORSE_TRAINER\", \"KENNEL\", \"PET\", \"PETTING_ZOO\", \"PET_ADOPTION_SERVICE\",\n",
    "\"PET_BREEDER\", \"PET_CAFE\", \"PET_GROOMER\", \"PET_SERVICE\", \"PET_SITTER\", \"PET_STORE\", \"PET_SUPPLIES\",\n",
    "\"REPTILE_PET_STORE\", \"ZOO\"]\n",
    "\n",
    "nonhealth_comparator_pet = nonhealth_comparator[(nonhealth_comparator[\"Page Category\"].isin(possible_pet_tags))] #47 in pet category\n",
    "nonhealth_comparator_no_pet = nonhealth_comparator[-(nonhealth_comparator[\"Page Category\"].isin(possible_pet_tags))] #131,568 not in pet category\n",
    "\n",
    "health_comparator_pet = health_comparator[(health_comparator[\"Page Category\"].isin(possible_pet_tags))] #1,016 in pet category\n",
    "health_comparator_no_pet = health_comparator[-(health_comparator[\"Page Category\"].isin(possible_pet_tags))] #686,097 not in pet category"
   ]
  },
  {
   "cell_type": "code",
   "execution_count": 4,
   "metadata": {
    "ExecuteTime": {
     "end_time": "2021-10-28T19:47:18.544522Z",
     "start_time": "2021-10-28T19:47:18.539966Z"
    }
   },
   "outputs": [
    {
     "name": "stdout",
     "output_type": "stream",
     "text": [
      "(47, 41)\n",
      "(131568, 41)\n",
      "(1016, 41)\n",
      "(686097, 41)\n"
     ]
    }
   ],
   "source": [
    "print(nonhealth_comparator_pet.shape)\n",
    "print(nonhealth_comparator_no_pet.shape)\n",
    "print(health_comparator_pet.shape)\n",
    "print(health_comparator_no_pet.shape)"
   ]
  },
  {
   "cell_type": "markdown",
   "metadata": {},
   "source": [
    "# Extracting Text from Messages, Image Text, Link Text, and Description"
   ]
  },
  {
   "cell_type": "code",
   "execution_count": 5,
   "metadata": {
    "ExecuteTime": {
     "end_time": "2021-10-29T14:51:35.111535Z",
     "start_time": "2021-10-29T14:51:34.166704Z"
    }
   },
   "outputs": [],
   "source": [
    "nonhealth_messages = nonhealth_comparator_no_pet[~nonhealth_comparator_no_pet['Message'].isnull()][\"Message\"]\n",
    "nonhealth_image_text = nonhealth_comparator_no_pet[~nonhealth_comparator_no_pet['Image Text'].isnull()][\"Image Text\"]\n",
    "nonhealth_link_text = nonhealth_comparator_no_pet[~nonhealth_comparator_no_pet['Link Text'].isnull()][\"Link Text\"]\n",
    "nonhealth_descriptions = nonhealth_comparator_no_pet[~nonhealth_comparator_no_pet['Description'].isnull()][\"Description\"]\n",
    "\n",
    "health_messages = health_comparator_no_pet[~health_comparator_no_pet['Message'].isnull()][\"Message\"]\n",
    "health_image_text = health_comparator_no_pet[~health_comparator_no_pet['Image Text'].isnull()][\"Image Text\"]\n",
    "health_link_text = health_comparator_no_pet[~health_comparator_no_pet['Link Text'].isnull()][\"Link Text\"]\n",
    "health_descriptions = health_comparator_no_pet[~health_comparator_no_pet['Description'].isnull()][\"Description\"]"
   ]
  },
  {
   "cell_type": "code",
   "execution_count": 6,
   "metadata": {
    "ExecuteTime": {
     "end_time": "2021-10-29T14:53:53.364863Z",
     "start_time": "2021-10-29T14:53:53.068978Z"
    }
   },
   "outputs": [],
   "source": [
    "nonhealth_full_list_of_texts = list(nonhealth_messages) + list(nonhealth_image_text) + list(nonhealth_link_text) + list(nonhealth_descriptions)\n",
    "\n",
    "health_full_list_of_texts = list(health_messages) + list(health_image_text) + list(health_link_text) + list(health_descriptions)"
   ]
  },
  {
   "cell_type": "code",
   "execution_count": 7,
   "metadata": {},
   "outputs": [
    {
     "name": "stdout",
     "output_type": "stream",
     "text": [
      "306647\n",
      "1389826\n"
     ]
    }
   ],
   "source": [
    "print(len(nonhealth_full_list_of_texts))\n",
    "print(len(health_full_list_of_texts))"
   ]
  },
  {
   "cell_type": "code",
   "execution_count": 12,
   "metadata": {
    "ExecuteTime": {
     "end_time": "2021-10-29T14:55:50.026266Z",
     "start_time": "2021-10-29T14:55:50.019372Z"
    }
   },
   "outputs": [],
   "source": [
    "textfile = open(str(data_file_path + \"211118full_list_of_nonhealth_texts.txt\"), \"w\")\n",
    "for element in nonhealth_full_list_of_texts:\n",
    "    textfile.write(element + \"\\n\")\n",
    "textfile.close()\n",
    "\n",
    "textfile = open(str(data_file_path + \"211118full_list_of_health_texts.txt\"), \"w\")\n",
    "for element in health_full_list_of_texts:\n",
    "    textfile.write(element + \"\\n\")\n",
    "textfile.close()"
   ]
  },
  {
   "cell_type": "code",
   "execution_count": null,
   "metadata": {},
   "outputs": [],
   "source": []
  }
 ],
 "metadata": {
  "interpreter": {
   "hash": "ffe67d4efdf50a67adb541926f1b56bfeeb48b191d1b9a6489e883c5acad5bda"
  },
  "kernelspec": {
   "display_name": "Python 3.8.8 64-bit ('base': conda)",
   "name": "python3"
  },
  "language_info": {
   "codemirror_mode": {
    "name": "ipython",
    "version": 3
   },
   "file_extension": ".py",
   "mimetype": "text/x-python",
   "name": "python",
   "nbconvert_exporter": "python",
   "pygments_lexer": "ipython3",
   "version": "3.8.8"
  },
  "toc": {
   "base_numbering": 1,
   "nav_menu": {},
   "number_sections": true,
   "sideBar": true,
   "skip_h1_title": false,
   "title_cell": "Table of Contents",
   "title_sidebar": "Contents",
   "toc_cell": false,
   "toc_position": {},
   "toc_section_display": true,
   "toc_window_display": false
  },
  "varInspector": {
   "cols": {
    "lenName": 16,
    "lenType": 16,
    "lenVar": 40
   },
   "kernels_config": {
    "python": {
     "delete_cmd_postfix": "",
     "delete_cmd_prefix": "del ",
     "library": "var_list.py",
     "varRefreshCmd": "print(var_dic_list())"
    },
    "r": {
     "delete_cmd_postfix": ") ",
     "delete_cmd_prefix": "rm(",
     "library": "var_list.r",
     "varRefreshCmd": "cat(var_dic_list()) "
    }
   },
   "types_to_exclude": [
    "module",
    "function",
    "builtin_function_or_method",
    "instance",
    "_Feature"
   ],
   "window_display": false
  }
 },
 "nbformat": 4,
 "nbformat_minor": 4
}
