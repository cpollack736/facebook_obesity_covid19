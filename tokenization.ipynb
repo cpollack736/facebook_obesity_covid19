{
 "cells": [
  {
   "cell_type": "markdown",
   "metadata": {},
   "source": [
    "# Read in Modules"
   ]
  },
  {
   "cell_type": "code",
   "execution_count": 2,
   "metadata": {},
   "outputs": [],
   "source": [
    "import itertools\n",
    "import nltk\n",
    "import pandas as pd\n",
    "#nltk.download('punkt')\n",
    "\n",
    "from nltk.tokenize import sent_tokenize"
   ]
  },
  {
   "cell_type": "markdown",
   "metadata": {},
   "source": [
    "# Bring in Data"
   ]
  },
  {
   "cell_type": "code",
   "execution_count": 5,
   "metadata": {},
   "outputs": [],
   "source": [
    "data_file_path = \"/Users/catherinepollack/Documents/dartmouth/research/aim3_facebook_covid19_obesity/data/\"\n",
    "with open(str(data_file_path + 'full_list_of.txt')) as sentences:\n",
    "    lines = sentences.readlines()\n",
    "\n",
    "index_list = pd.read_csv(data_file_path + \"220108_index_list.csv\")"
   ]
  },
  {
   "cell_type": "markdown",
   "metadata": {},
   "source": [
    "# Functions"
   ]
  },
  {
   "cell_type": "markdown",
   "metadata": {},
   "source": [
    "## Selectively Sample Sentences"
   ]
  },
  {
   "cell_type": "code",
   "execution_count": 8,
   "metadata": {},
   "outputs": [],
   "source": [
    "def token_sample(text, terms = \"obese_only\"):\n",
    "    \"\"\"\n",
    "    Function that takes in a text and returns only those tokens that contain the word \"obese\" or \"obesity\"\n",
    "    \n",
    "    Params:\n",
    "        text (str): The text of interest\n",
    "        terms (str): The search terms of interest. Takes \"obese_only\" (only looks for obese or obesity) or \"expanded\" (looks for words that are synonymous with obesity as curated previously)\n",
    "        \n",
    "    Exceptions:\n",
    "        TypeError (if text is nan)\n",
    "        \n",
    "    Returns:\n",
    "        sent_obese (list): A list of sentences that contain \"obese\" or \"obesity\"\n",
    "    \"\"\"\n",
    "    \n",
    "    local_sent_obese = [] #Initialize list\n",
    "    \n",
    "    try:\n",
    "        sent_tokenize(text)\n",
    "        \n",
    "    except TypeError:\n",
    "        #print(\"Encountered a nan! Returning nothing\")\n",
    "        return local_sent_obese   \n",
    "    else:\n",
    "        sent_all = sent_tokenize(text) #Tokenize text as sentences\n",
    "    \n",
    "    if terms == \"obese_only\": #Only pull obese terms\n",
    "        for sent in sent_all: #For each sentences\n",
    "        #print(sent)\n",
    "            if \"obese\" in sent or \"obesity\" in sent: #If \"obesity\" or \"obese\" in sentence\n",
    "                local_sent_obese.append(sent) #Add to obesity-specific string\n",
    "    else: #If \"expanded\" list of search terms\n",
    "        expanded_obese_terms = [\"obese\", \"obesity\", \"body weight\", \"bariatrics\", \"chubb\", \"fat\", \"paunch\", \"plump\", \"rotund\", \"stout\", \"chunk\", \"portl\", \"adipos\", \"corpulent\", \"porcine\"]\n",
    "        for sent in sent_all:\n",
    "            if any(x in sent for x in expanded_obese_terms):\n",
    "                local_sent_obese.append(sent)\n",
    "    \n",
    "    return local_sent_obese"
   ]
  },
  {
   "cell_type": "markdown",
   "metadata": {},
   "source": [
    "# Tokenize"
   ]
  },
  {
   "cell_type": "code",
   "execution_count": 9,
   "metadata": {},
   "outputs": [],
   "source": [
    "tokenized_sentences = [token_sample(x, \"expanded\") for x in lines]"
   ]
  },
  {
   "cell_type": "markdown",
   "metadata": {},
   "source": [
    "## Turning Multiple Lists Into One List"
   ]
  },
  {
   "cell_type": "code",
   "execution_count": 5,
   "metadata": {},
   "outputs": [],
   "source": [
    "tokenized_sentences_combined = list(itertools.chain.from_iterable(tokenized_sentences))"
   ]
  },
  {
   "cell_type": "markdown",
   "metadata": {},
   "source": [
    "# Saving All Tweets"
   ]
  },
  {
   "cell_type": "code",
   "execution_count": 9,
   "metadata": {},
   "outputs": [],
   "source": [
    "textfile = open(str(data_file_path + \"211103_tokenized_sentences_expanded.txt\"), \"w\")\n",
    "for element in tokenized_sentences_combined:\n",
    "    textfile.write(element + \"\\n\")\n",
    "textfile.close()"
   ]
  },
  {
   "cell_type": "code",
   "execution_count": 27,
   "metadata": {},
   "outputs": [
    {
     "data": {
      "text/plain": [
       "['Now, ask yourself why me jiggling my butt fat made you feel weird...🧐 ...After you’ve sorted through that, decide if you’re interested & committed to growing your knowledge around how fat works in your body, & then, if you feel so inclined, please read on: That three letter word: F-A-T... we allow it to rule our lives without really considering what it is, why it is, & what we can do about it.',\n",
       " 'types of fat cells in the body: white, brown, & beige.',\n",
       " 'While some white fat cells are necessary for good hormonal health, too much white fat is very harmful.',\n",
       " 'On the other end of the spectrum, brown fat, when fully activated, generates 300 times more heat than any other tissue in the body; Just 2oz.',\n",
       " 'of brown fat appear capable of burning several hundred calories per day—the equivalent of a 30-min.',\n",
       " 'Similarly, beige cells can help burn fat rather than store it.',\n",
       " 'It’s believed that certain hormones & enzymes released when you’re stressed, cold, or when you exercise can help convert white fat into beige and/or brown fat.',\n",
       " 'This is an exciting area of research to possibly help prevent obesity & maximize healthy body fat levels.',\n",
       " 'A high body fat percentage, and in particular the presence of visceral fat(fat stored around your major organs in the abdomen), can increase your risk for a number of diseases.',\n",
       " 'A high-protein diet combined with regular exercise is particularly effective in preventing stores of visceral fat.',\n",
       " 'Find ways to convert more cells to brown/beige fat so you can turn on that burn!🔥There’s a zillion, books, podcasts, & vids on this subject, so start researching.📚 I know that even just by reading through a caption like this, you’re farther along your journey toward being a super-human than most, & for that I’m eternally grateful.']"
      ]
     },
     "execution_count": 27,
     "metadata": {},
     "output_type": "execute_result"
    }
   ],
   "source": [
    "tokenized_sentences[2]"
   ]
  },
  {
   "cell_type": "code",
   "execution_count": 47,
   "metadata": {},
   "outputs": [],
   "source": [
    "pd.DataFrame.from_dict(zip(list(index_list[\"Unnamed: 0\"]), tokenized_sentences)).to_csv(\"220109_meta_text_mapping.csv\")"
   ]
  }
 ],
 "metadata": {
  "interpreter": {
   "hash": "ffe67d4efdf50a67adb541926f1b56bfeeb48b191d1b9a6489e883c5acad5bda"
  },
  "kernelspec": {
   "display_name": "Python 3.8.8 64-bit ('base': conda)",
   "name": "python3"
  },
  "language_info": {
   "codemirror_mode": {
    "name": "ipython",
    "version": 3
   },
   "file_extension": ".py",
   "mimetype": "text/x-python",
   "name": "python",
   "nbconvert_exporter": "python",
   "pygments_lexer": "ipython3",
   "version": "3.8.8"
  },
  "orig_nbformat": 4
 },
 "nbformat": 4,
 "nbformat_minor": 2
}
