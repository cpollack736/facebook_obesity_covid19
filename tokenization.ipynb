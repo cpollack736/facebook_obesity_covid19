{
 "cells": [
  {
   "cell_type": "markdown",
   "metadata": {},
   "source": [
    "# Read in Modules"
   ]
  },
  {
   "cell_type": "code",
   "execution_count": 12,
   "metadata": {},
   "outputs": [
    {
     "name": "stderr",
     "output_type": "stream",
     "text": [
      "[nltk_data] Downloading package punkt to\n",
      "[nltk_data]     /Users/catherinepollack/nltk_data...\n",
      "[nltk_data]   Unzipping tokenizers/punkt.zip.\n"
     ]
    }
   ],
   "source": [
    "import pandas as pd\n",
    "import nltk\n",
    "nltk.download('punkt')\n",
    "\n",
    "from nltk.tokenize import sent_tokenize"
   ]
  },
  {
   "cell_type": "markdown",
   "metadata": {},
   "source": [
    "# Bring in Data"
   ]
  },
  {
   "cell_type": "code",
   "execution_count": 3,
   "metadata": {},
   "outputs": [],
   "source": [
    "data_file_path = data_file_path = \"/Users/catherinepollack/Documents/dartmouth/research/aim3_facebook_covid19_obesity/data/\"\n",
    "with open(str(data_file_path + 'full_list_of.txt')) as sentences:\n",
    "    lines = sentences.readlines()"
   ]
  },
  {
   "cell_type": "markdown",
   "metadata": {},
   "source": [
    "# Functions"
   ]
  },
  {
   "cell_type": "markdown",
   "metadata": {},
   "source": [
    "## Selectively Sample Sentences"
   ]
  },
  {
   "cell_type": "code",
   "execution_count": 21,
   "metadata": {},
   "outputs": [],
   "source": [
    "def token_sample(text, terms = \"obese_only\"):\n",
    "    \"\"\"\n",
    "    Function that takes in a text and returns only those tokens that contain the word \"obese\" or \"obesity\"\n",
    "    \n",
    "    Params:\n",
    "        text (str): The text of interest\n",
    "        terms (str): The search terms of interest. Takes \"obese_only\" (only looks for obese or obesity) or \"expanded\" (looks for words that are synonymous with obesity as curated previously)\n",
    "        \n",
    "    Exceptions:\n",
    "        TypeError (if text is nan)\n",
    "        \n",
    "    Returns:\n",
    "        sent_obese (list): A list of sentences that contain \"obese\" or \"obesity\"\n",
    "    \"\"\"\n",
    "    \n",
    "    local_sent_obese = [] #Initialize list\n",
    "    \n",
    "    try:\n",
    "        sent_tokenize(text)\n",
    "        \n",
    "    except TypeError:\n",
    "        #print(\"Encountered a nan! Returning nothing\")\n",
    "        return local_sent_obese   \n",
    "    else:\n",
    "        sent_all = sent_tokenize(text) #Tokenize text as sentences\n",
    "    \n",
    "    if terms == \"obese_only\": #Only pull obese terms\n",
    "        for sent in sent_all: #For each sentences\n",
    "        #print(sent)\n",
    "            if \"obese\" in sent or \"obesity\" in sent: #If \"obesity\" or \"obese\" in sentence\n",
    "                local_sent_obese.append(sent) #Add to obesity-specific string\n",
    "    else: #If \"expanded\" list of search terms\n",
    "        expanded_obese_terms = [\"obese\", \"obesity\", \"body weight\", \"bariatrics\", \"chubb\", \"fat\", \"paunch\", \"plump\", \"rotund\", \"stout\", \"chunk\", \"portl\", \"adipos\", \"corpulent\", \"porcine\"]\n",
    "        for sent in sent_all:\n",
    "            if any(x in sent for x in expanded_obese_terms):\n",
    "                local_sent_obese.append(sent)\n",
    "    \n",
    "    return local_sent_obese"
   ]
  },
  {
   "cell_type": "code",
   "execution_count": 22,
   "metadata": {},
   "outputs": [],
   "source": [
    "tokenized_sentences = [token_sample(x, \"expanded\") for x in lines]"
   ]
  }
 ],
 "metadata": {
  "interpreter": {
   "hash": "ffe67d4efdf50a67adb541926f1b56bfeeb48b191d1b9a6489e883c5acad5bda"
  },
  "kernelspec": {
   "display_name": "Python 3.8.8 64-bit ('base': conda)",
   "name": "python3"
  },
  "language_info": {
   "codemirror_mode": {
    "name": "ipython",
    "version": 3
   },
   "file_extension": ".py",
   "mimetype": "text/x-python",
   "name": "python",
   "nbconvert_exporter": "python",
   "pygments_lexer": "ipython3",
   "version": "3.8.8"
  },
  "orig_nbformat": 4
 },
 "nbformat": 4,
 "nbformat_minor": 2
}
