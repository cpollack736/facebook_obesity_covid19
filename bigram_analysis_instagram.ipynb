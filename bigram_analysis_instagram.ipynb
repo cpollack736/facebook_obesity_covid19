{
 "cells": [
  {
   "cell_type": "markdown",
   "metadata": {},
   "source": [
    "# Libraries and Packages"
   ]
  },
  {
   "cell_type": "code",
   "execution_count": 1,
   "metadata": {},
   "outputs": [],
   "source": [
    "from collections import Counter\n",
    "\n",
    "import ast\n",
    "import pandas as pd"
   ]
  },
  {
   "cell_type": "markdown",
   "metadata": {},
   "source": [
    "# Data"
   ]
  },
  {
   "cell_type": "code",
   "execution_count": 6,
   "metadata": {},
   "outputs": [],
   "source": [
    "file_path = \"/Users/catherinepollack/Documents/dartmouth/research/aim3_facebook_covid19_obesity/data\"\n",
    "bigrams = pd.read_csv(file_path + \"/220202_obesity_with_bigrams_instagram.csv\")"
   ]
  },
  {
   "cell_type": "markdown",
   "metadata": {},
   "source": [
    "# Bigram Analysis by Topic"
   ]
  },
  {
   "cell_type": "markdown",
   "metadata": {},
   "source": [
    "## Convert Strings to Lists"
   ]
  },
  {
   "cell_type": "code",
   "execution_count": 7,
   "metadata": {},
   "outputs": [],
   "source": [
    "bigrams[\"bigrams_list\"] = bigrams.V2.apply(lambda row: ast.literal_eval(row))"
   ]
  },
  {
   "cell_type": "markdown",
   "metadata": {},
   "source": [
    "## Count Bigrams Per Topic"
   ]
  },
  {
   "cell_type": "code",
   "execution_count": 8,
   "metadata": {},
   "outputs": [],
   "source": [
    "bigrams = bigrams.groupby('lda_topic_renamed').agg({'bigrams_list': 'sum'})\n",
    "bigrams = bigrams.bigrams_list.apply(lambda row: Counter(row)).to_frame()"
   ]
  },
  {
   "cell_type": "code",
   "execution_count": 9,
   "metadata": {},
   "outputs": [
    {
     "name": "stdout",
     "output_type": "stream",
     "text": [
      "Topic: 1\n",
      "[(('weight', 'loss'), 7944), (('lose', 'weight'), 6360), (('link', 'bio'), 3826), (('body', 'fat'), 1870), (('morbidly', 'obese'), 1776)]\n",
      "**********\n",
      "Topic: 2\n",
      "[(('heart', 'disease'), 6210), (('weight', 'loss'), 6115), (('link', 'bio'), 5305), (('blood', 'pressure'), 4569), (('type', 'diabetes'), 3759)]\n",
      "**********\n"
     ]
    }
   ],
   "source": [
    "for i in range(0, 2):\n",
    "    print(bigrams.reset_index().lda_topic_renamed.iloc[i])\n",
    "    print(bigrams.reset_index().bigrams_list.iloc[i].most_common(5))\n",
    "    print(\"**********\")"
   ]
  }
 ],
 "metadata": {
  "interpreter": {
   "hash": "ffe67d4efdf50a67adb541926f1b56bfeeb48b191d1b9a6489e883c5acad5bda"
  },
  "kernelspec": {
   "display_name": "Python 3.8.8 64-bit ('base': conda)",
   "language": "python",
   "name": "python3"
  },
  "language_info": {
   "codemirror_mode": {
    "name": "ipython",
    "version": 3
   },
   "file_extension": ".py",
   "mimetype": "text/x-python",
   "name": "python",
   "nbconvert_exporter": "python",
   "pygments_lexer": "ipython3",
   "version": "3.8.8"
  },
  "orig_nbformat": 4
 },
 "nbformat": 4,
 "nbformat_minor": 2
}
