{
 "cells": [
  {
   "cell_type": "markdown",
   "metadata": {},
   "source": [
    "# Bring in Libraries and Packages"
   ]
  },
  {
   "cell_type": "code",
   "execution_count": 1,
   "metadata": {
    "ExecuteTime": {
     "end_time": "2021-10-28T14:16:34.377487Z",
     "start_time": "2021-10-28T14:16:33.957656Z"
    }
   },
   "outputs": [],
   "source": [
    "import html\n",
    "import nltk\n",
    "import numpy as np\n",
    "#nltk.download('stopwords')\n",
    "#nltk.download('wordnet')\n",
    "#nltk.download('vader_lexicon')\n",
    "import pandas as pd\n",
    "import preprocessor as p \n",
    "import re\n",
    "\n",
    "from nltk.corpus import stopwords\n",
    "from nltk.tokenize import word_tokenize\n",
    "from nltk.sentiment.vader import SentimentIntensityAnalyzer\n",
    "from nltk.stem import WordNetLemmatizer\n",
    "from sentence_transformers import SentenceTransformer\n",
    "from sklearn.feature_extraction.text import CountVectorizer, TfidfVectorizer\n",
    "from urllib.parse import urlparse\n"
   ]
  },
  {
   "cell_type": "markdown",
   "metadata": {},
   "source": [
    "# Functions"
   ]
  },
  {
   "cell_type": "markdown",
   "metadata": {},
   "source": [
    "## URL Replacement"
   ]
  },
  {
   "cell_type": "code",
   "execution_count": 2,
   "metadata": {},
   "outputs": [],
   "source": [
    "def url_replacement(text, token_type = \"url\"):\n",
    "    \"\"\"\n",
    "    Function that will take in a block of text and replace the url with a token of some type\n",
    "    text (str): A block of text that contains a url\n",
    "    token_type (str): A specfication on what token should replace the url. Default is \"url\", which just returns \"url\". Other options include: \n",
    "        \"domain\", which returns the domain (e.g., \".gov url\")\n",
    "        \"host\", which returns the host of the website and domain (e.g., \"cdc.gov url\")\n",
    "    \"\"\"\n",
    "    urls = re.findall('http[s]?://(?:[a-zA-Z]|[0-9]|[$-_@.&+]|[!*\\(\\),]|(?:%[0-9a-fA-F][0-9a-fA-F]))+', text)\n",
    "    # Get a list of all urls\n",
    "    \n",
    "    if urls == []: # If list is blank\n",
    "        return text #Return previous text since nothing needs to change\n",
    "    \n",
    "    new_text = text[:] #Deep copy of the text to a new object\n",
    "    \n",
    "    if token_type == \"url\": #For the base case\n",
    "        for url in urls:\n",
    "            new_text = new_text.replace(url, \"url\") #Replace each url with the \"url\" token\n",
    "\n",
    "    elif token_type == \"domain\": #For the case of just extracting the domain\n",
    "        for url in urls:\n",
    "            try: \n",
    "                urlparse(url).netloc.split(\".\")[-1] #Extract just the domain \n",
    "            except ValueError:\n",
    "                print(str(\"URL parse error with \" + url))\n",
    "                domain = \"\"\n",
    "            else:\n",
    "                domain = urlparse(url).netloc.split(\".\")[-1] #Extract just the domain\n",
    "                \n",
    "            domain_url = domain + \" url\"\n",
    "            new_text = new_text.replace(url, domain_url)\n",
    "            \n",
    "    else: #Extracting full host name\n",
    "        for url in urls:\n",
    "            try:\n",
    "                urlparse(url).netloc #Extract the full host name\n",
    "            except ValueError:\n",
    "                print(str(\"URL parse error with \" + url))\n",
    "                domain = \"\"\n",
    "            else:\n",
    "                domain = urlparse(url).netloc #Extract the full host name\n",
    "            domain_url = domain + \" url\"\n",
    "            new_text = new_text.replace(url, domain_url)\n",
    "        \n",
    "    return new_text"
   ]
  },
  {
   "cell_type": "markdown",
   "metadata": {},
   "source": [
    "## VADER Sentiment Analysis"
   ]
  },
  {
   "cell_type": "code",
   "execution_count": 3,
   "metadata": {},
   "outputs": [],
   "source": [
    "def get_vader_score(sid, text, dataframe):\n",
    "    \"\"\"\n",
    "    Function that will take in a text and return an estimated valence. \n",
    "    Note that this assumes that the column names match the VADER output\n",
    "    (i.e., \"neg\", \"neu\", \"pos\", \"compound\")\n",
    "    param sid (str): Name of the SentimentIntensityAnalyzer() defined outside the function \n",
    "    param text (str): A string of text to analyze\n",
    "    param dataframe (DataFrame): The pandas dataframe to append results to\n",
    "    \"\"\"\n",
    "    scores = sid.polarity_scores(text)\n",
    "    return(dataframe.append(scores, ignore_index = True))"
   ]
  },
  {
   "cell_type": "markdown",
   "metadata": {},
   "source": [
    "# Bring in Data"
   ]
  },
  {
   "cell_type": "code",
   "execution_count": 4,
   "metadata": {
    "ExecuteTime": {
     "end_time": "2021-10-28T14:45:43.092298Z",
     "start_time": "2021-10-28T14:45:40.930504Z"
    }
   },
   "outputs": [
    {
     "name": "stderr",
     "output_type": "stream",
     "text": [
      "/Users/catherinepollack/opt/anaconda3/lib/python3.8/site-packages/IPython/core/interactiveshell.py:3165: DtypeWarning: Columns (2,7,8,13,14,15,16,17,18,19,20,21,22,25,26,27,32,36,37,38,39,40) have mixed types.Specify dtype option on import or set low_memory=False.\n",
      "  has_raised = await self.run_ast_nodes(code_ast.body, cell_name,\n"
     ]
    }
   ],
   "source": [
    "data_file_path = \"/Users/catherinepollack/Documents/dartmouth/research/aim3_facebook_covid19_obesity/data/\"\n",
    "#facebook_1 = pd.read_csv(str(data_file_path + \"210627_headaches_1.csv\"))\n",
    "#facebook_2 = pd.read_csv(str(data_file_path + \"210627_headaches_2.csv\"))\n",
    "#facebook_2 = pd.read_csv(str(data_file_path + \"210627_headaches_3.csv\"))\n",
    "#facebook = pd.concat([facebook_1, facebook_2], axis = 0)\n",
    "#facebook = facebook.reset_index()\n",
    "#facebook.to_csv(data_file_path + \"220119_combined_facebook_data_health_control.csv\")\n",
    "\n",
    "facebook_liwc = pd.read_csv(data_file_path + \"220131_facebook_non_health_comparator_liwc.csv\")"
   ]
  },
  {
   "cell_type": "markdown",
   "metadata": {},
   "source": [
    "# Rename Columns with Metadata"
   ]
  },
  {
   "cell_type": "code",
   "execution_count": 10,
   "metadata": {},
   "outputs": [],
   "source": [
    "colname_mapping = dict(zip(list(facebook_liwc.columns[0:41]), list(facebook_liwc.loc[0, \"A\":\"AO\"])))\n",
    "facebook_liwc = facebook_liwc.rename(columns = colname_mapping)\n",
    "facebook_liwc = facebook_liwc.iloc[1:,:]"
   ]
  },
  {
   "cell_type": "markdown",
   "metadata": {},
   "source": [
    "# Remove Posts on Pet-Specific Pages"
   ]
  },
  {
   "cell_type": "code",
   "execution_count": 11,
   "metadata": {
    "ExecuteTime": {
     "end_time": "2021-10-28T19:43:38.229068Z",
     "start_time": "2021-10-28T19:43:32.333806Z"
    }
   },
   "outputs": [],
   "source": [
    "#Identifying which could be pet related\n",
    "set(facebook_liwc[\"Page Category\"]) \n",
    "#ADOPTION_SERVICE, ANIMAL_RESCUE_SERVICE, ANIMAL_SHELTER, AQUARIUM, AQUATIC_PET_STORE,\n",
    "#DOG_BREEDER, DOG_DAY_CARE_CENTER, DOG_PARK, DOG_TRAINING, DOG_WALKER, EQUESTRIAN_FACILITY\n",
    "#HORSEBACK_RIDING_SERVICE, HORSE_TRAINER, KENNEL, PET, PETTING_ZOO, PET_ADOPTION_SERVICE\n",
    "#PET_BREEDER, PET_CAFE, PET_GROOMER, PET_SERVICE, PET_SITTER, PET_STORE, PET_SUPPLIES\n",
    "#REPTILE_PET_STORE, ZOO\n",
    "\n",
    "possible_pet_tags = [\"ADOPTION_SERVICE\", \"ANIMAL_RESCUE_SERVICE\", \"ANIMAL_SHELTER\", \"AQUARIUM\", \"AQUATIC_PET_STORE\",\n",
    "\"DOG_BREEDER\", \"DOG_DAY_CARE_CENTER\", \"DOG_PARK\", \"DOG_TRAINING\", \"DOG_WALKER\", \"EQUESTRIAN_FACILITY\",\n",
    "\"HORSEBACK_RIDING_SERVICE\", \"HORSE_TRAINER\", \"KENNEL\", \"PET\", \"PETTING_ZOO\", \"PET_ADOPTION_SERVICE\",\n",
    "\"PET_BREEDER\", \"PET_CAFE\", \"PET_GROOMER\", \"PET_SERVICE\", \"PET_SITTER\", \"PET_STORE\", \"PET_SUPPLIES\",\n",
    "\"REPTILE_PET_STORE\", \"ZOO\"]\n",
    "\n",
    "facebook_pet = facebook_liwc[(facebook_liwc[\"Page Category\"].isin(possible_pet_tags))] #4,392 in pet category\n",
    "facebook_liwc_no_pet = facebook_liwc[-(facebook_liwc[\"Page Category\"].isin(possible_pet_tags))] #522,467 not in pet category"
   ]
  },
  {
   "cell_type": "markdown",
   "metadata": {},
   "source": [
    "# Text Pre-Processing"
   ]
  },
  {
   "cell_type": "code",
   "execution_count": 12,
   "metadata": {},
   "outputs": [
    {
     "name": "stdout",
     "output_type": "stream",
     "text": [
      "Now processing text!\n"
     ]
    },
    {
     "name": "stderr",
     "output_type": "stream",
     "text": [
      "<ipython-input-12-5286c5d702dc>:2: SettingWithCopyWarning: \n",
      "A value is trying to be set on a copy of a slice from a DataFrame.\n",
      "Try using .loc[row_indexer,col_indexer] = value instead\n",
      "\n",
      "See the caveats in the documentation: https://pandas.pydata.org/pandas-docs/stable/user_guide/indexing.html#returning-a-view-versus-a-copy\n",
      "  facebook_liwc_no_pet['processed_text'] = facebook_liwc_no_pet.Message.apply(str) #Change to string\n",
      "<ipython-input-12-5286c5d702dc>:3: SettingWithCopyWarning: \n",
      "A value is trying to be set on a copy of a slice from a DataFrame.\n",
      "Try using .loc[row_indexer,col_indexer] = value instead\n",
      "\n",
      "See the caveats in the documentation: https://pandas.pydata.org/pandas-docs/stable/user_guide/indexing.html#returning-a-view-versus-a-copy\n",
      "  facebook_liwc_no_pet['processed_text'] = facebook_liwc_no_pet.processed_text.apply(html.unescape) #Remove HTML escape characters\n",
      "<ipython-input-12-5286c5d702dc>:4: SettingWithCopyWarning: \n",
      "A value is trying to be set on a copy of a slice from a DataFrame.\n",
      "Try using .loc[row_indexer,col_indexer] = value instead\n",
      "\n",
      "See the caveats in the documentation: https://pandas.pydata.org/pandas-docs/stable/user_guide/indexing.html#returning-a-view-versus-a-copy\n",
      "  facebook_liwc_no_pet['processed_text_bert'] = facebook_liwc_no_pet['processed_text'] #Create new column for BERT-specific embeddings (don't want to remove additional information)\n"
     ]
    },
    {
     "name": "stdout",
     "output_type": "stream",
     "text": [
      "URL parse error with https://www.garththomas.co.uk]\n",
      "URL parse error with http://www.keenanmckenzie.com]\n",
      "URL parse error with http://abesun.com](http://abesun.com/)\n",
      "URL parse error with https://solidarityformusic.ch]\n",
      "URL parse error with https://projectsam.com](https://projectsam.com/?fbclid=IwAR2I77AaVbP4dH5AYnxshPvJTWNOEalbCXLZeEqXBUOqixsvnOKStOLmod0)\n",
      "URL parse error with https://taipeimaf.com]\n",
      "URL parse error with http://abesun.com](http://abesun.com/)\n",
      "URL parse error with https://www.garththomas.co.uk]\n",
      "URL parse error with http://james.chirillo.com](https://l.facebook.com/l.php?u=http%3A%2F%2Fjames.chirillo.com%2F%3Ffbclid%3DIwAR2jCX3dInAb0n94c1sJK-xSiarHO5IOu0WLtlvcx2-MB-V8isrm8ALkr-8&h=AT3AmYtC52wAVXpDy252DYKknJO1GcS_CX3Tw1hx3Tkbt_rfT-Q8yChYh48e-I2NjvDg_n_w7EPym6oWUr1tjQqsAzADAoEsbYyLEQ7mKlRZaFUt4Z_oDiPSfYBpJQBdZjWPn0Ba8Vy1jVAc-2rkCU8uU7X6xWrM5NyVrfHacCXHsfNTC1RCsUAekuZ21CBnbiM-VQc1lZdpBEY0-icnn4kBXKq3ylg2ScOD_cS5mcynuiMfbrw2xEkaZFWSBDuZHv-oZVNCfOisZ4Ae7dJ6iWjs_809dckIrpK_YzuLqiyyqI38bz4wpXiuXn6QCMQ60rne79PHyFWyeDJ3hrl16x43nC5RCT6rzhZlGxT0GbcFtEbhJpmXUGZq7OiRC-m7SxYaJcLqlQQJFxZMzYHTS7CFTdHl8yx8gpgdEWcV60XDrbIuemZQVowDi91rZ3tTEmaslAB7oyFWjmuQUTSa1gx2nUFryh02sDBFM9eFIa66ZUvOn-nMMFmih-nHvbEsl61b-mbzUjMQGTtmchvm88Hyvk72Uhi4aDJDG-Uq_PbJXVcltX9fbOJy4-GX8PuxdfwP3fpPzxPZFW6dHxtxleg4ChL10drZniBrmybCsyzLBcobz1MaIXj35JnSJz2EqsLcHRUrAoQ)\n",
      "URL parse error with https://www.JazzvillePalmSprings.com***](https://l.facebook.com/l.php?u=https%3A%2F%2Fwww.JazzvillePalmSprings.com%2F%3Ffbclid%3DIwAR0_hJ71afUAIeSXqIrZMT4M71ZuC7oHkkAyUB5Bxk50SsblqHdQywQ_YZ4&h=AT2i3ZMP2WILuNdx74e3z8U8muuP6T1HFrsObBs7exrjeoaRsgggbhjaheitFFMhfHc_NdkT62OcB077BGyQhzBjywi-H3cOGc-nVh-snvDXc6tN_9ToPGtf1cLtCQrSvOvG79un5CYaBUjvFXd1qbDfPUN8lk_tl7mGCDO_4QC9gWMWxfYfIGTzmsHCcbTK7kSbbHLoBouYRFwbOiXUto89__BxeNhABHB5xtQEtds1mUMP8LfPi4I0RA0gmlhO_q64Wcz7IzlEwJy-bDCm9Wu0CDBltge_x0pCgnrIp0zBjZVH83c3D95WtBKbf7_MjWdmvj4SDv3Q5kiOBfVikQwhdxC6GNa-42Fd8yQhL5ehqS7i8AsxxbIrd52sPSYXf5LSRprUAtvulV-Dw7SfhEi9YL1AWUPI3pwIcudPp_epcwdKYf07kxrdZVhP3q35MN29iTd6dfcfVZLu6hgxH-6g_DnWpZM27T8Ih1r62XG8AJnPo9Rj1GZgQfyT64NV0_uVMcqxjbzy4cUNelPMtA7aO6VTwOJ3Y-wo_lGbIyp5uPt7dGpYDwhfm1w_)\n",
      "URL parse error with http://james.chirillo.com](https://l.facebook.com/l.php?u=http%3A%2F%2Fjames.chirillo.com%2F%3Ffbclid%3DIwAR2867I7bZ401302jqUItc4L0psJDID-CI_Z0Cpn_KAcNJ-hj9XC4bkR3gA&h=AT1Vti7CNgucz1S5hRnQR5PdR68Io_EXdrIpaJjJ9bKN1KjTXLy3oqfr1k6eMRS878pGxsRBAwBBZ2FJ2i1WrMqArRJJf5GDx2_8xVK08md_XUBi0etXRK0gf6_6QYyHGmrcRO8lTmu8PQ36VuO1YIpC)\n",
      "URL parse error with https://www.JazzvillePalmSprings.com***](https://l.facebook.com/l.php?u=https%3A%2F%2Fwww.JazzvillePalmSprings.com%2F%3Ffbclid%3DIwAR3SWGImFWJ16H590D3fDLq-jjRy4SMHpyxfZl9UtdM0S7yzg_wk7ZJchZ8&h=AT3N6NR-RR63n_RJYblPxwUYbZw_gIoUx2Tusf-XuvIDHp_HtSuo6JHXw7ZXgSCp0AXqPqWiMH1iwEHP6oJZ1c_sD9FxEZVQ1BVecrnKBgF6MuLmu-Ewy1I9S1RhPTR5rExhVvHPNCvwimtHIIrvt-R6msI-5ixt_Ry3ZyEU30H9nQpVYx13Qs035fz_j2vFoiiN78bNKS4yXCatDnha075Z1VTWSrIwcGJfKk_G2QGHpjnL8wc7vm8aJTqWs09PBCCl75BqCiXHakQHsHLpieC92eRtJ3gvwsOzgW59SSEKIQir-rFTGt3rQ30PVX4BCSsgoFWRvew8JRfNFc85wQ20R0jHuv0fPiW1Nje-JLN16A8ftGI_zOtafE9bvsfyRlSucSjpmBl9RCjhCAWohcKReHbGT-9PKpmv_3EJ6msYBCnsawdfR42ilSN_sQjVOIjo4EAsMFr3okx6B2CLzdYCxkrgclDS3T55YhOKuD8YgRhq2PCH6iQkgoMg9toE4iY_VmxAOS2CfMOymoljigDiuhbtDwGtpLKgOG3UgcwQ4iYIJuRqOYYw3MUW)\n",
      "URL parse error with https://www.JazzvillePalmSprings.com***](https://l.facebook.com/l.php?u=https%3A%2F%2Fwww.JazzvillePalmSprings.com%2F%3Ffbclid%3DIwAR0wP2DGEYCPNnwDbqQI84V3yuSJaKDD1Q-Ew2gt1KO-ywtzcmL1mMzdT2Y&h=AT2497S1ih0z2ptEkUpfUkFavail6Wv0vU8uZja5FvrdriTGbWr4gYnoMYvVC7AeOex48KcnDVVeVIs2MO5w39v8JjLlBjnTHHBUunC-yxUWro6gJZF2JUq2WV-eUzv5Ibc5juzDntPwXOFtoPdddlp7wZgRiK_V_h9o_EY5aLqJwxG8cyDREwFioNsPUDNbm-7jB8LjNSs41r7ILz5vvNdPxeIKa3qx0chosoVmRCdwDQ6pYfiLViOIvH6Nen7ezGZmq7XgHJ9k8ngoCWY3dL3JpncYiW0ARNaOkhuQ-li_wvtbGM8nwnvoJf8k66nIh9XJaIWQjZP4O4GpcINzFKfUyOrfbyx05fdOK99ewpXHEYKm_Fc7o4rLcxRG3mWVgEC0dylcIAZFWNMYNZSsR-DuB9nQuY6SwM1smDX3u_dKfu5BJUt5SC_Bu2IVTbo_bpsycgm4yn3lFYIbQwQHI5AFNLwEvhAxiYjWuP53sQjxA0sbHcs6QJVYkKGUq7SWMz_4_hZPDxCudOg8Ig6W6b0Hk7MC-NqiuhUxVR3QTdcE5WTUl53vK_KUHe8geGJ2AgLbVbHiXcfv)\n",
      "URL parse error with http://rollietussing.com](https://l.facebook.com/l.php?u=https%3A%2F%2Fwww.google.com%2Furl%3Fq%3Dhttp%253A%252F%252Frollietussing.com%26sa%3DD%26usd%3D2%26usg%3DAFQjCNE-gBKT60ad762jg7Y13ty2A7A8_w).\n",
      "URL parse error with https://www.*JazzvillePalmSprings*.com***](https://www.jazzvillepalmsprings.com/?fbclid=IwAR3xaLOeH-mZ3SyuFdp4gBP2OD7_dMkwUZ4zGURL9ATHQ4d1EZH8TNLpAJQ)\n",
      "URL parse error with https://www.robertoberaigner.com](https://l.facebook.com/l.php?u=https%3A%2F%2Fwww.robertoberaigner.com%2F%3Ffbclid%3DIwAR3z_XmZNOJFhFTdf7SPzCCQ9t9iGPOB6I-n8jAeVaHpk3TNGYqRbyYseJ0&h=AT0xY8YkMd3zhjeMv037HugQwQ3iSWRIlNK9Ti-tp0TkdtfMSLuGo5MqFpHNWN__TisZ8lTMmFgvySq1PSCGBVK0ptbtaAZmtyqFWOiYkRzIJ0D5fiYcs5aplSkH1T3zsEgAnOfg9Z-PYfODhO8YggA4xxZbdAbEJvDJ3Dz0)\n",
      "URL parse error with http://symposium.nottfar.org.uk](https://eur01.safelinks.protection.outlook.com/?url=http%3A%2F%2Fsymposium.nottfar.org.uk%2F&data=01%7C01%7Ci.garrelfs%40gold.ac.uk%7C5037648d962842f2077a08d792c308e0%7C0d431f3f20c1461c958a46b29d4e021b%7C0&sdata=OhtpVJ1%2FL37j%2BdauQYmgeUyWw30RBsT0HuuE%2BjjAoEc%3D&reserved=0)\n",
      "URL parse error with https://www.JazzvillePalmSprings.com***](https://l.facebook.com/l.php?u=https%3A%2F%2Fwww.JazzvillePalmSprings.com%2F%3Ffbclid%3DIwAR1CiyMg2NPQ_hrberquaZlzPPDRAmgDxJK5_44tB5AuB0FKyJTszq_YUoI&h=AT0oNPPsGDsGnf4-xqGQweFILVuQkYTfG27JlHvBRq8A3YDsl7rN2bUPlG5vvDgK68GEnx5Gh2PRxwwRqGUfLbFpmSlbtQ2nvqnLucLKqdoefdSrTGA3kr_j_QcEdXimtSbRrJPSIf8zCnTuzUM_UptB2YIhRUKSd2Jm6IQVZ5KZt6fNqVe5mjEiyxIkbCsbZH_UffRAHTYRU7wampdv7WVzBYdm2ZsAqvGm1gvYRMli9fw0gvK7rWGKLb65Rii-ZuROZPpRkOm_SRcbjzrfW4Vif4Sk-pxIHqbw1sCaeQHGF5zlo7oCOMbGDsGFzoAg2M82y0e_XVP0T4ebxqIBDyO-vrLdIx6ajRMxYZ53f3vb5nSoGdLWFDsT7UsYgkz9ogfcrKTToQEavUV_1PJ3IcWoIB4PJ5HnTyy6N3_zweMXuyUXimtTh7ipwhGH_O2IpA7tKv3ZjHbnQF3rcsr2qfRA4mLsCMASa4bPqAVSfZImJqGip47gUP54N5GtTAKe_86L9oidfvkIWzNXsH2ObcV7HuRqMdu5eXpPEuQyzqh70zhRQPZXBN1P22rWcSMf6ZFrKfg6D_PDLIkWqsGRQ8tsNz34qwbEc1Gb8G7an2oHqZidQLA-s8uRckoIK6NLSOmvyshHZ8jvwPifeAh3RCkmQSjeCDtEKLZOa1SK6HubHsSKBVPv05AUrbuvz0dxNVf-TA3bc1O6PgrTq7ZH2NtIBPt_jWfHKA7Z-65AjWu-ADEqydpv47jJrWVNfQ)\n",
      "URL parse error with https://www.*JazzvillePalmSprings*.com***](https://l.facebook.com/l.php?u=https%3A%2F%2Fwww.jazzvillepalmsprings.com%2F%3Ffbclid%3DIwAR3JuXEujFMF_tKUZCpGst55qjNnGszo6BCrWLWeELIA7RBk9pmd1hwLfrk&h=AT32kqw0T8UTDA93mYmEOzKGh1QtsZy1ZPwhJlHGJzjLmZgi9t1vYvLewHaM_K9XgSZV30pIqg9UmcxWUQXFIgxjbKaPRxtkYkkpqeoDQVLLea_NOydEaU6MbQlVVGtfrdRK-7LU1VoeVf3pJ2dPAB1HbbG8)\n",
      "URL parse error with https://www.JazzvillePalmSprings.com***](https://www.jazzvillepalmsprings.com/?fbclid=IwAR3SBfIBuMquX0gYmwHij6isQ2AqYa3BCyl0sh6RbW1Ep1uO8KJEtIupEK8)\n",
      "URL parse error with https://LuxsyPalmSprings.com***](https://l.facebook.com/l.php?u=https%3A%2F%2Fluxsypalmsprings.com%2F%3Ffbclid%3DIwAR0CCym6iromBPL9Qj2FKvq-D8M8vt3XVDXDv6T8ye2_q7OonsVPfG12fcE&h=AT0jIBn_ox5bbCMXAUXbnpeAbCKfmG7eT7iB6qIQtJBn5ekfU2sCmjd7eNP6XkLTeDDfkKBuPdu4Z7xW2FfLMpn6kHJdD4js8C8ROKfg1bpjdkrztfpzjL5UALAa3GI42ieIzfmBpfOtmyK_aL6Z-13dlYIGGbW6v71dj4C9)\n",
      "URL parse error with https://www.*JazzvillePalmSprings*.com***](https://www.jazzvillepalmsprings.com/?fbclid=IwAR1_bWk0mVwjiS_xIaN4DUmjipRnQRagjIPZYPGuOotWWXkTFUYvrEdfpSo)\n",
      "URL parse error with http://www.quintet.org](http://www.quintet.org/?fbclid=IwAR1Zf_MT15SB7cxmTmwMJsaBs5DPIEByrwhrgol8g7O4mtHeCbaxgKDhryI)\n",
      "URL parse error with https://www.isabelzuleta.com**](https://www.isabelzuleta.com/)\n",
      "URL parse error with http://www.iraida-noriega.com**](http://www.iraida-noriega.com/)\n",
      "URL parse error with https://www.JazzvillePalmSprings.com***](https://l.facebook.com/l.php?u=https%3A%2F%2Fwww.JazzvillePalmSprings.com%2F%3Ffbclid%3DIwAR12W8W8CsHE69xKxsKbJkXBIq4i4m2jzDJOChOas-gRQLzJngEtbTnrBLI&h=AT1XAZ7UiM8acvYaYPwCoFw3DeWINAl_R_MTk6Jh6efJ_H8Y5Qqn4W3nQLBrgEUabl-dnuz1j4BYmHONE-ikg8oCMX425FoXuenfJpUw0B-DEJVjliTAXchIXBvOzRe-bNLnFByPsOCdqw3Igmd08bcVn4w--FmDJ4gkSAofqdDczoK7SjMmswt7d69Apb0k35x1xNHIpyW8EMW_YUn1GQyP0fsiO9pAmzUwQbkqpbJxIf1q5jun_hWGZ10XLdu605x1V8Ubo9yNHqMw60YbMtUrElfG-uX0FUUSGzyjxh8n4-jfo-hddN1s2Lm6JQgVcCRp_acpaOv8RKUkuEEHek4tyBKvzrAPcoeHJWl6X7SzHudSg1DCehRbTzwhYJwvMYDM2WFxg5ewK4Y5GSDH_aKepSKFHgVXUTiIvdK8LDgT0mqG7n80HRYlI-JW-Kibu4Y5q6m6rAMSnPbKyywp3QYrPut-0JN45eHPyDToa2Mbu7YNOzKD6tlusMvE3oheW3qCMLp3P0XyqjhS1nrLkmGjxN6gWBWFm-8DafFZ9uDJGpi7Olrk5F2mDQAG)\n",
      "URL parse error with http://www.bartoszkoziak.com](http://www.bartoszkoziak.com/))\n",
      "URL parse error with http://www.noemigyori.com](http://www.noemigyori.com/))\n",
      "URL parse error with http://www.eaten-by-snakes.com.au](http://www.eaten-by-snakes.com.au/?fbclid=IwAR3gogevev6Of7cwYz8WSn4zhAuhBqLV2-CMP4RV7qQbIUaPDz0_3qiiHuQ)\n",
      "URL parse error with https://www.JazzvillePalmSprings.com](https://www.jazzvillepalmsprings.com/?fbclid=IwAR3bw5MjndPuCVaaN4yC330aURXs3EIlRubQF7_aJxFrf_skBiJ_YFRTMYY)\n",
      "URL parse error with https://LuxsyPalmSprings.com***](https://luxsypalmsprings.com/?fbclid=IwAR0ZtIXSWucP-6JHqz_Ovhhrljer6kw2YV5HYTtvKsU_wVA5rV4uqM6dguM)\n",
      "URL parse error with https://www.JazzvillePalmSprings.com](https://www.jazzvillepalmsprings.com/?fbclid=IwAR1Io94ea--sFvdWhYrtX5706TkChxZWsbuPLM0-6ABWC0JLoLs8RRS_he4)\n",
      "URL parse error with https://pelicanthree.bandcamp.com](https://l.facebook.com/l.php?u=https%3A%2F%2Fpelicanthree.bandcamp.com%2F%3Ffbclid%3DIwAR239gGXKf1JlQKeI4EuVuuuqXl655HmQMKE2Kn8vVDw56CDWGH1Oo6e2dQ&h=AT0rVc4qLafqU2Ob_4o3x5Hnpx4bWNz_Kl0K3Pi4pkLpktY7nPEC5XaoTUhtVjYcPj_60KbkkCQRCyBe7K72raTeFooBRN2kY2izQHhf67ATsAtaWepgidz2if2p_bMcUq3KXFKtyw&__tn__=-UK-R&c[0]=AT1BLqQIUjzSZsuF4mgjal-GUqJgJhDKJkMoDQ1fd4IrzCzzr4PrxLBsXdGrrU8PBHN2gJgmwKG8TyBfZNJhUB9kAIzZSytYg4pUvW9AqK29CTiZsdAwSkexG13sigLQoB-0g_GPW9EF08-XOKr9BKA23RGXbIE8SDBhCh7iiSJTUNGucQkTjGauD2mm)\n",
      "URL parse error with http://verdantvibes.com](http://verdantvibes.com/?fbclid=IwAR3U21srAvA3y-cvVUPfLYywQi32RYPI6XH8x14opYs20diwZgje8dzvIP8)\n",
      "URL parse error with https://www.*JazzvillePalmSprings*.com***](https://www.jazzvillepalmsprings.com/?fbclid=IwAR1_bWk0mVwjiS_xIaN4DUmjipRnQRagjIPZYPGuOotWWXkTFUYvrEdfpSo)\n",
      "URL parse error with https://www.atlantamusicproject.org](https://www.atlantamusicproject.org/).\n",
      "URL parse error with http://www.filmmusicworkshop.com](http://www.filmmusicworkshop.com/?fbclid=IwAR2l-1wkzU3F0o5yzDnV-ekffg7cSRRrG5Q8-kC8Uoc1NTEOdicuqTiJK7Q)\n",
      "URL parse error with https://liveatbirds.com](https://l.facebook.com/l.php?u=https%3A%2F%2Fliveatbirds.com%2F%3Ffbclid%3DIwAR10UBrEEb3NAd5dlvZrbvx-uTr_ShK5aST3XvheozUS92tiu0cD8l4SbKM&h=AT3Rqcc8M8hEsOYa1xXbBHeTkUbO4-vKRoBJyP3HUfCeCQxJMQ-lvlkInfmYDoDfPxArVeuKJJcKojvegIrQXY-lxNv7Fvt-ZD6E6i7NzHCy1j0YMBlx2sm876nsS4fEkvWpo3Y)\n",
      "URL parse error with http://reedwellbyhagen.com](http://reedwellbyhagen.com/)**\n",
      "URL parse error with https://www.JazzvillePalmSprings.com***](https://l.facebook.com/l.php?u=https%3A%2F%2Fwww.JazzvillePalmSprings.com%2F%3Ffbclid%3DIwAR2VZarW6lW4tP4przN4BHu5r-cqeHClGNYrIlp8lbbHqD-Zf6A4qEI3C7Q&h=AT0XU5H5_VjePGy2Oe782ATDtcUSNY6NH6uUoH8TBHJUimBULiBuFfdSTYI4gmOKYPWoF3Y1uAK5cJvBDTbxmzmEBjNOaQ1wNNLKTC5Fc8YeUT1EqpokDvzQxzwrQqNrP_pGNo0T_smP3AyjYiB0SFT3wf4-ipmVFz3J6RBDYTHFG_E5DryTumgWjGebx2UM7OODIvVmXuwEw_lAOgSwjK5s3LeFwjoaXAk1Z1IEoyjgTQT20f-sOzO4NW6qSFNQv-14KO8aolhCCbCRCdMMPPzTu_fkcHQQi2mSboF03XG7ldQoQ71QtrnRX3E2h0pqH4bJX4kzbPyU3l41Df7ip3WVe8p3xrEXQOVxLilFRRHY1wE1hlPbpLrl-3XtpXAM9X4goxDEkcwIvtZcPx7NaGp1Pk8PbZZoZ_UaHw0C4bnuVPM7p3US6lFGPjF1bg3egCa4mVt8WKlDv9LHTYRMcUXnfRl7EPZs2o650MwDaNqq5XpGaywvz2Xkw1ml4btfY0-1h01wC64H6Oa3PMMd21JmNihTypKZxAntj4Up6acRvI3VmbIbDnVUi2rX_2jk-y4UDg)\n",
      "URL parse error with https://www.JazzvillePalmSprings.com***](https://www.jazzvillepalmsprings.com/?fbclid=IwAR3SBfIBuMquX0gYmwHij6isQ2AqYa3BCyl0sh6RbW1Ep1uO8KJEtIupEK8)\n",
      "URL parse error with https://LuxsyPalmSprings.com***](https://l.facebook.com/l.php?u=https%3A%2F%2Fluxsypalmsprings.com%2F%3Ffbclid%3DIwAR0CCym6iromBPL9Qj2FKvq-D8M8vt3XVDXDv6T8ye2_q7OonsVPfG12fcE&h=AT0jIBn_ox5bbCMXAUXbnpeAbCKfmG7eT7iB6qIQtJBn5ekfU2sCmjd7eNP6XkLTeDDfkKBuPdu4Z7xW2FfLMpn6kHJdD4js8C8ROKfg1bpjdkrztfpzjL5UALAa3GI42ieIzfmBpfOtmyK_aL6Z-13dlYIGGbW6v71dj4C9)\n",
      "URL parse error with http://www.filmmusicworkshop.com](http://www.filmmusicworkshop.com/?fbclid=IwAR2l-1wkzU3F0o5yzDnV-ekffg7cSRRrG5Q8-kC8Uoc1NTEOdicuqTiJK7Q)\n",
      "URL parse error with http://hijirishimamoto.com](http://hijirishimamoto.com/tabs/home/?fbclid=IwAR1CWpYZQPKDFlzj30DZ77fym4ogX16I7CQZfmw12kkuhWLwjG9DLqpiGDQ)\n",
      "URL parse error with https://timwatsonsaxophonist.com](https://timwatsonsaxophonist.com/)\n",
      "URL parse error with http://www.filmmusicworkshop.com](http://www.filmmusicworkshop.com/?fbclid=IwAR2l-1wkzU3F0o5yzDnV-ekffg7cSRRrG5Q8-kC8Uoc1NTEOdicuqTiJK7Q)\n",
      "URL parse error with https://www.JazzvillePalmSprings.com***](https://l.facebook.com/l.php?u=https%3A%2F%2Fwww.JazzvillePalmSprings.com%2F%3Ffbclid%3DIwAR3zpdn4pLKwGygyc9wfT7y5HEUMZuDKe4KXzVaclLOzEgFRELs0QuAAvVg&h=AT1UbgHY08n-YPfY4XNtZO1DcDvo5lNp6kL-Ihs3IvD2-ENfmPJv4GcANoe6OGj6IIBGB4VFfQaOxKSn1sn5C-NmCswoerILdFUZVk4EEN9-U9u-IteoeQ62fTpQ4h-yZTV2XPoE5rILSxHZxt2bBpy-oHxyjmVNspb-VSXTsamx2BCQvTRcWdVlk3xAZYlCurNGmFTfQZj82wNhDlrm4wIuRt6ons6Pa6Qnz3zMnLh8yDUakw62d8dcMcsEi9TJIxdhDbQYP7b_CofteF9V7bnqNa1RJC32LlR_TgxfIIePlr53YHCnsUtB88Rutifrf-fztgy5A0lNT7w8z4WXJp839itzxCU1dOjkEgJaUVY0XE8sRHHD4JfHcygo2Nf5BgphehSfqSE6teKY6zMoeI64KIp3-6LcT_HVC-7ciA87cppl9xpGPsFNavYZcZfQGJR_ciELoYKKr56fzquQXfKTauZYfKrE3FRsKaHqNTbwTtb8JxlpFI4qpCIDUJ0LmJZbaZ9APMShbbfSYtMv7GjydAcEudmqSCKQz1-rrEdQ2X5aW8NsyoJMOC_n)\n",
      "URL parse error with https://www.**JazzvillePalmSprings**.com](https://l.facebook.com/l.php?u=https%3A%2F%2Fwww.jazzvillepalmsprings.com%2F%3Ffbclid%3DIwAR1J6EILxZprqkNmAYXoURWPKth6_iJrsFNuJjzKTgTbkNg8d9u3s5O5IMw&h=AT2IeRfO0xZopHylT5eTzKjeKaN9XymA98D-1ntUUkkDHkFUXVSg9klmq_-EU4LQOSFP-wDZZ-HQfCBr9Tp9QJctue9FlmIH_YBaJaS4udyGkov_02QVAe6cBMhkeeaam5giKRcJAtCLoeUWcsyayR28dlz2)\n",
      "URL parse error with http://hijirishimamoto.com](http://hijirishimamoto.com/tabs/home/)\n",
      "URL parse error with https://liveatbirds.com](https://l.facebook.com/l.php?u=https%3A%2F%2Fliveatbirds.com%2F%3Ffbclid%3DIwAR10UBrEEb3NAd5dlvZrbvx-uTr_ShK5aST3XvheozUS92tiu0cD8l4SbKM&h=AT3Rqcc8M8hEsOYa1xXbBHeTkUbO4-vKRoBJyP3HUfCeCQxJMQ-lvlkInfmYDoDfPxArVeuKJJcKojvegIrQXY-lxNv7Fvt-ZD6E6i7NzHCy1j0YMBlx2sm876nsS4fEkvWpo3Y)\n",
      "URL parse error with https://www.*JazzvillePalmSprings*.com***](https://l.facebook.com/l.php?u=https%3A%2F%2Fwww.jazzvillepalmsprings.com%2F%3Ffbclid%3DIwAR3JuXEujFMF_tKUZCpGst55qjNnGszo6BCrWLWeELIA7RBk9pmd1hwLfrk&h=AT32kqw0T8UTDA93mYmEOzKGh1QtsZy1ZPwhJlHGJzjLmZgi9t1vYvLewHaM_K9XgSZV30pIqg9UmcxWUQXFIgxjbKaPRxtkYkkpqeoDQVLLea_NOydEaU6MbQlVVGtfrdRK-7LU1VoeVf3pJ2dPAB1HbbG8)\n",
      "URL parse error with http://thirdpractice.org.](http://thirdpractice.org/?fbclid=IwAR2DVi0DKqIc1t7COw_yr9a-0kS2YTKxPRQuLckMs-BBXto0MSCk041PhiI)\n",
      "URL parse error with http://www.quintet.org](http://www.quintet.org/?fbclid=IwAR2hmC5R8wu3mx2xvnxTDRA8Vwkm0H8u0_2z_IchOI4kdcF5Z-k5yxQQwno)\n",
      "URL parse error with http://www.quintet.org](http://www.quintet.org/?fbclid=IwAR01FysZjn-uN0_XV-ZqC0QIBRdFpIIkDyBs4gBQGbWJo7wz1MrWHFuuWfk)\n",
      "URL parse error with http://thirdpractice.org.](http://thirdpractice.org/?fbclid=IwAR2DVi0DKqIc1t7COw_yr9a-0kS2YTKxPRQuLckMs-BBXto0MSCk041PhiI)\n",
      "URL parse error with http://www.quintet.org.](http://www.quintet.org/?fbclid=IwAR3EifysnP1t7dxoK9rUdnx6a24HIBQZ0LJffwA4aSf3lr5QpdJTBnPVDpw)\n",
      "URL parse error with http://www.filmmusicworkshop.com](http://www.filmmusicworkshop.com/?fbclid=IwAR2l-1wkzU3F0o5yzDnV-ekffg7cSRRrG5Q8-kC8Uoc1NTEOdicuqTiJK7Q)\n",
      "URL parse error with http://www.filmmusicworkshop.com](http://www.filmmusicworkshop.com/?fbclid=IwAR2l-1wkzU3F0o5yzDnV-ekffg7cSRRrG5Q8-kC8Uoc1NTEOdicuqTiJK7Q)\n",
      "URL parse error with http://www.filmmusicworkshop.com](http://www.filmmusicworkshop.com/?fbclid=IwAR2l-1wkzU3F0o5yzDnV-ekffg7cSRRrG5Q8-kC8Uoc1NTEOdicuqTiJK7Q)\n",
      "URL parse error with http://www.filmmusicworkshop.com](http://www.filmmusicworkshop.com/?fbclid=IwAR2l-1wkzU3F0o5yzDnV-ekffg7cSRRrG5Q8-kC8Uoc1NTEOdicuqTiJK7Q)\n",
      "URL parse error with http://hijirishimamoto.com](http://hijirishimamoto.com/tabs/home/?fbclid=IwAR0eF0RXRnkboZ15J_lcDBp9BBl3CWDAAKcTq6UIXRwqrE8VEFUtXAtXQAk)\n",
      "URL parse error with https://liveatbirds.com](https://l.facebook.com/l.php?u=https%3A%2F%2Fliveatbirds.com%2F%3Ffbclid%3DIwAR10UBrEEb3NAd5dlvZrbvx-uTr_ShK5aST3XvheozUS92tiu0cD8l4SbKM&h=AT3Rqcc8M8hEsOYa1xXbBHeTkUbO4-vKRoBJyP3HUfCeCQxJMQ-lvlkInfmYDoDfPxArVeuKJJcKojvegIrQXY-lxNv7Fvt-ZD6E6i7NzHCy1j0YMBlx2sm876nsS4fEkvWpo3Y)\n",
      "URL parse error with http://www.filmmusicworkshop.com](http://www.filmmusicworkshop.com/?fbclid=IwAR2l-1wkzU3F0o5yzDnV-ekffg7cSRRrG5Q8-kC8Uoc1NTEOdicuqTiJK7Q)\n",
      "URL parse error with http://www.gracemusicschool.com](http://www.gracemusicschool.com/?fbclid=IwAR38eoRdB53bEMFaJq6uUunoxxr9S-juVxDOQxTUOcudFH6AjLOVls-tZ0c)\n",
      "URL parse error with http://www.quintet.org.](http://www.quintet.org/?fbclid=IwAR3EifysnP1t7dxoK9rUdnx6a24HIBQZ0LJffwA4aSf3lr5QpdJTBnPVDpw)\n",
      "URL parse error with http://thirdpractice.org.](http://thirdpractice.org/?fbclid=IwAR2DVi0DKqIc1t7COw_yr9a-0kS2YTKxPRQuLckMs-BBXto0MSCk041PhiI)\n",
      "URL parse error with https://mandevilleduo.wordpress.com](https://mandevilleduo.wordpress.com/)\n",
      "URL parse error with http://www.quintet.org.](http://www.quintet.org/?fbclid=IwAR238DnO_3QcpeRizK5YjO-dse072tPEoj0MKnwsdW5RMyxEteNvwKVsBDA)\n",
      "URL parse error with http://www.quintet.org.](http://www.quintet.org/?fbclid=IwAR3EifysnP1t7dxoK9rUdnx6a24HIBQZ0LJffwA4aSf3lr5QpdJTBnPVDpw)\n",
      "URL parse error with http://www.filmmusicworkshop.com](http://www.filmmusicworkshop.com/?fbclid=IwAR2l-1wkzU3F0o5yzDnV-ekffg7cSRRrG5Q8-kC8Uoc1NTEOdicuqTiJK7Q)\n",
      "URL parse error with http://www.filmmusicworkshop.com](http://www.filmmusicworkshop.com/?fbclid=IwAR2l-1wkzU3F0o5yzDnV-ekffg7cSRRrG5Q8-kC8Uoc1NTEOdicuqTiJK7Q)\n",
      "URL parse error with https://liveatbirds.com](https://l.facebook.com/l.php?u=https%3A%2F%2Fliveatbirds.com%2F%3Ffbclid%3DIwAR10UBrEEb3NAd5dlvZrbvx-uTr_ShK5aST3XvheozUS92tiu0cD8l4SbKM&h=AT3Rqcc8M8hEsOYa1xXbBHeTkUbO4-vKRoBJyP3HUfCeCQxJMQ-lvlkInfmYDoDfPxArVeuKJJcKojvegIrQXY-lxNv7Fvt-ZD6E6i7NzHCy1j0YMBlx2sm876nsS4fEkvWpo3Y)\n",
      "URL parse error with https://liveatbirds.com](https://l.facebook.com/l.php?u=https%3A%2F%2Fliveatbirds.com%2F%3Ffbclid%3DIwAR10UBrEEb3NAd5dlvZrbvx-uTr_ShK5aST3XvheozUS92tiu0cD8l4SbKM&h=AT3Rqcc8M8hEsOYa1xXbBHeTkUbO4-vKRoBJyP3HUfCeCQxJMQ-lvlkInfmYDoDfPxArVeuKJJcKojvegIrQXY-lxNv7Fvt-ZD6E6i7NzHCy1j0YMBlx2sm876nsS4fEkvWpo3Y)\n",
      "URL parse error with https://liveatbirds.com](https://l.facebook.com/l.php?u=https%3A%2F%2Fliveatbirds.com%2F%3Ffbclid%3DIwAR10UBrEEb3NAd5dlvZrbvx-uTr_ShK5aST3XvheozUS92tiu0cD8l4SbKM&h=AT3Rqcc8M8hEsOYa1xXbBHeTkUbO4-vKRoBJyP3HUfCeCQxJMQ-lvlkInfmYDoDfPxArVeuKJJcKojvegIrQXY-lxNv7Fvt-ZD6E6i7NzHCy1j0YMBlx2sm876nsS4fEkvWpo3Y)\n",
      "URL parse error with http://www.filmmusicworkshop.com](http://www.filmmusicworkshop.com/?fbclid=IwAR2l-1wkzU3F0o5yzDnV-ekffg7cSRRrG5Q8-kC8Uoc1NTEOdicuqTiJK7Q)\n",
      "URL parse error with http://www.eaten-by-snakes.com.au](https://l.facebook.com/l.php?u=http%3A%2F%2Fwww.eaten-by-snakes.com.au%2F%3Ffbclid%3DIwAR0Oo9XWbM757nASpdWhoz-you4ggUX34Bl-KZQckQdXrT3OQczquIK1iFA&h=AT1dg60lxT_71Re4eVRGAK92CSkIZYrazf71H1immyH40n-ZkRZ1dauOmdELsGVOoLypHk35l0D1UV5DsQlpyaVX0TvPdjQ8S6r6gYvUoQfaW55F0V4bcUNFWRNx6LMK488wyS0HqbF7PGjE9Y0xm7weXLgxwm6fsc6sNpW8Rw)\n",
      "URL parse error with http://www.eaten-by-snakes.com.au](http://www.eaten-by-snakes.com.au/?fbclid=IwAR3zMpI0qnMfu8__3SizIGByfuFibQC8Mdws31Z8563jncGi6211fuhdwNE)\n",
      "URL parse error with http://www.quintet.org.](http://www.quintet.org/?fbclid=IwAR3EifysnP1t7dxoK9rUdnx6a24HIBQZ0LJffwA4aSf3lr5QpdJTBnPVDpw)\n",
      "URL parse error with http://thirdpractice.org.](http://thirdpractice.org/?fbclid=IwAR2DVi0DKqIc1t7COw_yr9a-0kS2YTKxPRQuLckMs-BBXto0MSCk041PhiI)\n",
      "URL parse error with https://liveatbirds.com](https://l.facebook.com/l.php?u=https%3A%2F%2Fliveatbirds.com%2F%3Ffbclid%3DIwAR10UBrEEb3NAd5dlvZrbvx-uTr_ShK5aST3XvheozUS92tiu0cD8l4SbKM&h=AT3Rqcc8M8hEsOYa1xXbBHeTkUbO4-vKRoBJyP3HUfCeCQxJMQ-lvlkInfmYDoDfPxArVeuKJJcKojvegIrQXY-lxNv7Fvt-ZD6E6i7NzHCy1j0YMBlx2sm876nsS4fEkvWpo3Y)\n",
      "URL parse error with https://pelicanthree.bandcamp.com](https://l.facebook.com/l.php?u=https%3A%2F%2Fpelicanthree.bandcamp.com%2F%3Ffbclid%3DIwAR239gGXKf1JlQKeI4EuVuuuqXl655HmQMKE2Kn8vVDw56CDWGH1Oo6e2dQ&h=AT0rVc4qLafqU2Ob_4o3x5Hnpx4bWNz_Kl0K3Pi4pkLpktY7nPEC5XaoTUhtVjYcPj_60KbkkCQRCyBe7K72raTeFooBRN2kY2izQHhf67ATsAtaWepgidz2if2p_bMcUq3KXFKtyw&__tn__=-UK-R&c[0]=AT1BLqQIUjzSZsuF4mgjal-GUqJgJhDKJkMoDQ1fd4IrzCzzr4PrxLBsXdGrrU8PBHN2gJgmwKG8TyBfZNJhUB9kAIzZSytYg4pUvW9AqK29CTiZsdAwSkexG13sigLQoB-0g_GPW9EF08-XOKr9BKA23RGXbIE8SDBhCh7iiSJTUNGucQkTjGauD2mm)\n",
      "URL parse error with https://liveatbirds.com](https://l.facebook.com/l.php?u=https%3A%2F%2Fliveatbirds.com%2F%3Ffbclid%3DIwAR10UBrEEb3NAd5dlvZrbvx-uTr_ShK5aST3XvheozUS92tiu0cD8l4SbKM&h=AT3Rqcc8M8hEsOYa1xXbBHeTkUbO4-vKRoBJyP3HUfCeCQxJMQ-lvlkInfmYDoDfPxArVeuKJJcKojvegIrQXY-lxNv7Fvt-ZD6E6i7NzHCy1j0YMBlx2sm876nsS4fEkvWpo3Y)\n",
      "URL parse error with https://liveatbirds.com](https://l.facebook.com/l.php?u=https%3A%2F%2Fliveatbirds.com%2F%3Ffbclid%3DIwAR10UBrEEb3NAd5dlvZrbvx-uTr_ShK5aST3XvheozUS92tiu0cD8l4SbKM&h=AT3Rqcc8M8hEsOYa1xXbBHeTkUbO4-vKRoBJyP3HUfCeCQxJMQ-lvlkInfmYDoDfPxArVeuKJJcKojvegIrQXY-lxNv7Fvt-ZD6E6i7NzHCy1j0YMBlx2sm876nsS4fEkvWpo3Y)\n",
      "URL parse error with https://mandevilleduo.wordpress.com](https://mandevilleduo.wordpress.com/)\n",
      "URL parse error with http://www.eaten-by-snakes.com.au](https://l.facebook.com/l.php?u=http%3A%2F%2Fwww.eaten-by-snakes.com.au%2F%3Ffbclid%3DIwAR01xungzeCaj03LSIb0Qw3uBJYYrd6rKyCoWYxVOOGo-2E8qAo9ldaQSXg&h=AT1r6_bd3TxzFsGJJyWy-3UdwjpyMe75tEMIAMZB1qyQW-cTs3E99Ia8yE2zctwkkkB13CmISpofhp9SBXgCXf7s7_tQFTW1LAThn6lw7854L6K7pRHmNxM7AWFsivnc0bPpehEmylr_ARPo7FWfuQoYfQ)\n",
      "URL parse error with http://www.filmmusicworkshop.com](http://www.filmmusicworkshop.com/?fbclid=IwAR2l-1wkzU3F0o5yzDnV-ekffg7cSRRrG5Q8-kC8Uoc1NTEOdicuqTiJK7Q)\n",
      "URL parse error with https://pelicanthree.bandcamp.com](https://l.facebook.com/l.php?u=https%3A%2F%2Fpelicanthree.bandcamp.com%2F%3Ffbclid%3DIwAR2VIhsEaMigNyPuxqravnHZINRKy2lFMj0ST21WgfvzwP6bUPrHXSnZ3pI&h=AT3vVaZeASF3rAf4UayKhFmJknk-N4gDprbcbufCw3LXFc2oKyM8ty6KCyWB_D2gK3bgS7896j45ixenA6YvOj4Y6kgK-BHqPHHAhtnzhFyIGdpj19vamVLgkFqD75V73ic4E3vUbQ)\n",
      "URL parse error with https://liveatbirds.com](https://l.facebook.com/l.php?u=https%3A%2F%2Fliveatbirds.com%2F%3Ffbclid%3DIwAR10UBrEEb3NAd5dlvZrbvx-uTr_ShK5aST3XvheozUS92tiu0cD8l4SbKM&h=AT3Rqcc8M8hEsOYa1xXbBHeTkUbO4-vKRoBJyP3HUfCeCQxJMQ-lvlkInfmYDoDfPxArVeuKJJcKojvegIrQXY-lxNv7Fvt-ZD6E6i7NzHCy1j0YMBlx2sm876nsS4fEkvWpo3Y)\n",
      "URL parse error with https://timwatsonsaxophonist.com](https://timwatsonsaxophonist.com/)\n",
      "URL parse error with https://liveatbirds.com](https://l.facebook.com/l.php?u=https%3A%2F%2Fliveatbirds.com%2F%3Ffbclid%3DIwAR10UBrEEb3NAd5dlvZrbvx-uTr_ShK5aST3XvheozUS92tiu0cD8l4SbKM&h=AT3Rqcc8M8hEsOYa1xXbBHeTkUbO4-vKRoBJyP3HUfCeCQxJMQ-lvlkInfmYDoDfPxArVeuKJJcKojvegIrQXY-lxNv7Fvt-ZD6E6i7NzHCy1j0YMBlx2sm876nsS4fEkvWpo3Y)\n",
      "URL parse error with http://www.quintet.org.](http://www.quintet.org/?fbclid=IwAR3EifysnP1t7dxoK9rUdnx6a24HIBQZ0LJffwA4aSf3lr5QpdJTBnPVDpw)\n",
      "URL parse error with http://www.quintet.org](http://www.quintet.org/?fbclid=IwAR1Zf_MT15SB7cxmTmwMJsaBs5DPIEByrwhrgol8g7O4mtHeCbaxgKDhryI)\n",
      "URL parse error with http://www.quintet.org.](http://www.quintet.org/?fbclid=IwAR238DnO_3QcpeRizK5YjO-dse072tPEoj0MKnwsdW5RMyxEteNvwKVsBDA)\n",
      "URL parse error with http://www.quintet.org.](http://www.quintet.org/?fbclid=IwAR2KqnN-WPKGhdM8qqGaeC04V0f8ocSTEwn9twlBd2ns0ZgZK3XcKurThmU)\n",
      "URL parse error with http://lovestruck2020.doattend.com](http://lovestruck2020.doattend.com/)\n",
      "URL parse error with http://www.filmmusicworkshop.com](http://www.filmmusicworkshop.com/?fbclid=IwAR2l-1wkzU3F0o5yzDnV-ekffg7cSRRrG5Q8-kC8Uoc1NTEOdicuqTiJK7Q)\n",
      "URL parse error with http://www.quintet.org.](http://www.quintet.org/?fbclid=IwAR3EifysnP1t7dxoK9rUdnx6a24HIBQZ0LJffwA4aSf3lr5QpdJTBnPVDpw)\n",
      "URL parse error with http://www.quintet.org.](http://www.quintet.org/?fbclid=IwAR238DnO_3QcpeRizK5YjO-dse072tPEoj0MKnwsdW5RMyxEteNvwKVsBDA)\n",
      "URL parse error with http://www.quintet.org.](http://www.quintet.org/?fbclid=IwAR2KqnN-WPKGhdM8qqGaeC04V0f8ocSTEwn9twlBd2ns0ZgZK3XcKurThmU)\n",
      "URL parse error with http://thirdpractice.org.](http://thirdpractice.org/?fbclid=IwAR2DVi0DKqIc1t7COw_yr9a-0kS2YTKxPRQuLckMs-BBXto0MSCk041PhiI)\n",
      "URL parse error with http://www.filmmusicworkshop.com](http://www.filmmusicworkshop.com/?fbclid=IwAR2l-1wkzU3F0o5yzDnV-ekffg7cSRRrG5Q8-kC8Uoc1NTEOdicuqTiJK7Q)\n",
      "URL parse error with https://timwatsonsaxophonist.com](https://timwatsonsaxophonist.com/)\n",
      "URL parse error with https://timwatsonsaxophonist.com](https://timwatsonsaxophonist.com/)\n",
      "URL parse error with https://timwatsonsaxophonist.com](https://timwatsonsaxophonist.com/)\n",
      "URL parse error with http://www.filmmusicworkshop.com](http://www.filmmusicworkshop.com/?fbclid=IwAR2l-1wkzU3F0o5yzDnV-ekffg7cSRRrG5Q8-kC8Uoc1NTEOdicuqTiJK7Q)\n",
      "URL parse error with http://www.eaten-by-snakes.com.au](https://l.facebook.com/l.php?u=http%3A%2F%2Fwww.eaten-by-snakes.com.au%2F%3Ffbclid%3DIwAR01xungzeCaj03LSIb0Qw3uBJYYrd6rKyCoWYxVOOGo-2E8qAo9ldaQSXg&h=AT1r6_bd3TxzFsGJJyWy-3UdwjpyMe75tEMIAMZB1qyQW-cTs3E99Ia8yE2zctwkkkB13CmISpofhp9SBXgCXf7s7_tQFTW1LAThn6lw7854L6K7pRHmNxM7AWFsivnc0bPpehEmylr_ARPo7FWfuQoYfQ)\n",
      "URL parse error with http://www.eaten-by-snakes.com.au](http://www.eaten-by-snakes.com.au/?fbclid=IwAR3zMpI0qnMfu8__3SizIGByfuFibQC8Mdws31Z8563jncGi6211fuhdwNE)\n",
      "URL parse error with http://www.filmmusicworkshop.com](http://www.filmmusicworkshop.com/?fbclid=IwAR2l-1wkzU3F0o5yzDnV-ekffg7cSRRrG5Q8-kC8Uoc1NTEOdicuqTiJK7Q)\n",
      "URL parse error with http://reedwellbyhagen.com](http://reedwellbyhagen.com/)**\n",
      "URL parse error with http://reedwellbyhagen.com](http://reedwellbyhagen.com/)\n",
      "URL parse error with http://reedwellbyhagen.com](http://reedwellbyhagen.com/)**\n",
      "URL parse error with http://www.filmmusicworkshop.com](http://www.filmmusicworkshop.com/?fbclid=IwAR2l-1wkzU3F0o5yzDnV-ekffg7cSRRrG5Q8-kC8Uoc1NTEOdicuqTiJK7Q)\n",
      "URL parse error with http://www.filmmusicworkshop.com](http://www.filmmusicworkshop.com/?fbclid=IwAR2l-1wkzU3F0o5yzDnV-ekffg7cSRRrG5Q8-kC8Uoc1NTEOdicuqTiJK7Q)\n",
      "URL parse error with http://www.filmmusicworkshop.com](http://www.filmmusicworkshop.com/?fbclid=IwAR2l-1wkzU3F0o5yzDnV-ekffg7cSRRrG5Q8-kC8Uoc1NTEOdicuqTiJK7Q)\n",
      "URL parse error with http://www.quintet.org.](http://www.quintet.org/?fbclid=IwAR3EifysnP1t7dxoK9rUdnx6a24HIBQZ0LJffwA4aSf3lr5QpdJTBnPVDpw)\n",
      "URL parse error with http://www.filmmusicworkshop.com](http://www.filmmusicworkshop.com/?fbclid=IwAR2l-1wkzU3F0o5yzDnV-ekffg7cSRRrG5Q8-kC8Uoc1NTEOdicuqTiJK7Q)\n",
      "URL parse error with http://www.filmmusicworkshop.com](http://www.filmmusicworkshop.com/?fbclid=IwAR2l-1wkzU3F0o5yzDnV-ekffg7cSRRrG5Q8-kC8Uoc1NTEOdicuqTiJK7Q)\n",
      "URL parse error with https://mandevilleduo.wordpress.com](https://mandevilleduo.wordpress.com/)\n",
      "URL parse error with http://www.quintet.org.](http://www.quintet.org/?fbclid=IwAR3EifysnP1t7dxoK9rUdnx6a24HIBQZ0LJffwA4aSf3lr5QpdJTBnPVDpw)\n",
      "URL parse error with http://www.quintet.org.](http://www.quintet.org/?fbclid=IwAR2KqnN-WPKGhdM8qqGaeC04V0f8ocSTEwn9twlBd2ns0ZgZK3XcKurThmU)\n",
      "URL parse error with http://thirdpractice.org.](http://thirdpractice.org/?fbclid=IwAR2DVi0DKqIc1t7COw_yr9a-0kS2YTKxPRQuLckMs-BBXto0MSCk041PhiI)\n",
      "URL parse error with http://thirdpractice.org.](http://thirdpractice.org/?fbclid=IwAR2DVi0DKqIc1t7COw_yr9a-0kS2YTKxPRQuLckMs-BBXto0MSCk041PhiI)\n",
      "URL parse error with http://thirdpractice.org.](http://thirdpractice.org/?fbclid=IwAR2DVi0DKqIc1t7COw_yr9a-0kS2YTKxPRQuLckMs-BBXto0MSCk041PhiI)\n"
     ]
    },
    {
     "name": "stderr",
     "output_type": "stream",
     "text": [
      "<ipython-input-12-5286c5d702dc>:5: SettingWithCopyWarning: \n",
      "A value is trying to be set on a copy of a slice from a DataFrame.\n",
      "Try using .loc[row_indexer,col_indexer] = value instead\n",
      "\n",
      "See the caveats in the documentation: https://pandas.pydata.org/pandas-docs/stable/user_guide/indexing.html#returning-a-view-versus-a-copy\n",
      "  facebook_liwc_no_pet['processed_text'] = facebook_liwc_no_pet.processed_text.apply(lambda x: url_replacement(x, \"host\"))\n",
      "<ipython-input-12-5286c5d702dc>:6: SettingWithCopyWarning: \n",
      "A value is trying to be set on a copy of a slice from a DataFrame.\n",
      "Try using .loc[row_indexer,col_indexer] = value instead\n",
      "\n",
      "See the caveats in the documentation: https://pandas.pydata.org/pandas-docs/stable/user_guide/indexing.html#returning-a-view-versus-a-copy\n",
      "  facebook_liwc_no_pet['processed_text'] = facebook_liwc_no_pet.processed_text.apply(p.clean) #Preprocessor removes hashtags and cleans text\n",
      "<ipython-input-12-5286c5d702dc>:7: SettingWithCopyWarning: \n",
      "A value is trying to be set on a copy of a slice from a DataFrame.\n",
      "Try using .loc[row_indexer,col_indexer] = value instead\n",
      "\n",
      "See the caveats in the documentation: https://pandas.pydata.org/pandas-docs/stable/user_guide/indexing.html#returning-a-view-versus-a-copy\n",
      "  facebook_liwc_no_pet['processed_text'] = facebook_liwc_no_pet.processed_text.apply(str.lower) #Convert to lowercase\n",
      "<ipython-input-12-5286c5d702dc>:8: SettingWithCopyWarning: \n",
      "A value is trying to be set on a copy of a slice from a DataFrame.\n",
      "Try using .loc[row_indexer,col_indexer] = value instead\n",
      "\n",
      "See the caveats in the documentation: https://pandas.pydata.org/pandas-docs/stable/user_guide/indexing.html#returning-a-view-versus-a-copy\n",
      "  facebook_liwc_no_pet['processed_text'] = facebook_liwc_no_pet.processed_text.apply(lambda x: ''.join([i for i in x if not i.isdigit()])) #Remove numbers\n",
      "<ipython-input-12-5286c5d702dc>:9: SettingWithCopyWarning: \n",
      "A value is trying to be set on a copy of a slice from a DataFrame.\n",
      "Try using .loc[row_indexer,col_indexer] = value instead\n",
      "\n",
      "See the caveats in the documentation: https://pandas.pydata.org/pandas-docs/stable/user_guide/indexing.html#returning-a-view-versus-a-copy\n",
      "  facebook_liwc_no_pet['processed_text'] = facebook_liwc_no_pet.processed_text.apply(lambda x: re.sub('[^a-zA-z]', \" \", x)) #Remove non-letters\n"
     ]
    }
   ],
   "source": [
    "print(\"Now processing text!\")\n",
    "facebook_liwc_no_pet['processed_text'] = facebook_liwc_no_pet.Message.apply(str) #Change to string\n",
    "facebook_liwc_no_pet['processed_text'] = facebook_liwc_no_pet.processed_text.apply(html.unescape) #Remove HTML escape characters\n",
    "facebook_liwc_no_pet['processed_text_bert'] = facebook_liwc_no_pet['processed_text'] #Create new column for BERT-specific embeddings (don't want to remove additional information)\n",
    "facebook_liwc_no_pet['processed_text'] = facebook_liwc_no_pet.processed_text.apply(lambda x: url_replacement(x, \"host\"))\n",
    "facebook_liwc_no_pet['processed_text'] = facebook_liwc_no_pet.processed_text.apply(p.clean) #Preprocessor removes hashtags and cleans text\n",
    "facebook_liwc_no_pet['processed_text'] = facebook_liwc_no_pet.processed_text.apply(str.lower) #Convert to lowercase\n",
    "facebook_liwc_no_pet['processed_text'] = facebook_liwc_no_pet.processed_text.apply(lambda x: ''.join([i for i in x if not i.isdigit()])) #Remove numbers\n",
    "facebook_liwc_no_pet['processed_text'] = facebook_liwc_no_pet.processed_text.apply(lambda x: re.sub('[^a-zA-z]', \" \", x)) #Remove non-letters"
   ]
  },
  {
   "cell_type": "markdown",
   "metadata": {},
   "source": [
    "# Additional Processing"
   ]
  },
  {
   "cell_type": "code",
   "execution_count": 13,
   "metadata": {},
   "outputs": [
    {
     "name": "stdout",
     "output_type": "stream",
     "text": [
      "Now tokenizing\n"
     ]
    },
    {
     "name": "stderr",
     "output_type": "stream",
     "text": [
      "<ipython-input-13-2b409486851a>:2: SettingWithCopyWarning: \n",
      "A value is trying to be set on a copy of a slice from a DataFrame.\n",
      "Try using .loc[row_indexer,col_indexer] = value instead\n",
      "\n",
      "See the caveats in the documentation: https://pandas.pydata.org/pandas-docs/stable/user_guide/indexing.html#returning-a-view-versus-a-copy\n",
      "  facebook_liwc_no_pet['tokens'] = facebook_liwc_no_pet.processed_text.apply(word_tokenize)\n"
     ]
    },
    {
     "name": "stdout",
     "output_type": "stream",
     "text": [
      "Now removing stop words\n"
     ]
    },
    {
     "name": "stderr",
     "output_type": "stream",
     "text": [
      "<ipython-input-13-2b409486851a>:6: SettingWithCopyWarning: \n",
      "A value is trying to be set on a copy of a slice from a DataFrame.\n",
      "Try using .loc[row_indexer,col_indexer] = value instead\n",
      "\n",
      "See the caveats in the documentation: https://pandas.pydata.org/pandas-docs/stable/user_guide/indexing.html#returning-a-view-versus-a-copy\n",
      "  facebook_liwc_no_pet['tokens'] = facebook_liwc_no_pet.tokens.apply(lambda x: [item for item in x if item not in stop_words])\n"
     ]
    },
    {
     "name": "stdout",
     "output_type": "stream",
     "text": [
      "Now lemmatizing\n"
     ]
    },
    {
     "name": "stderr",
     "output_type": "stream",
     "text": [
      "<ipython-input-13-2b409486851a>:10: SettingWithCopyWarning: \n",
      "A value is trying to be set on a copy of a slice from a DataFrame.\n",
      "Try using .loc[row_indexer,col_indexer] = value instead\n",
      "\n",
      "See the caveats in the documentation: https://pandas.pydata.org/pandas-docs/stable/user_guide/indexing.html#returning-a-view-versus-a-copy\n",
      "  facebook_liwc_no_pet['tokens'] = facebook_liwc_no_pet.tokens.apply(lambda x: [lemma.lemmatize(word = w, pos = 'v') for w in x])\n"
     ]
    },
    {
     "name": "stdout",
     "output_type": "stream",
     "text": [
      "Now converting back to final string\n"
     ]
    },
    {
     "name": "stderr",
     "output_type": "stream",
     "text": [
      "<ipython-input-13-2b409486851a>:14: SettingWithCopyWarning: \n",
      "A value is trying to be set on a copy of a slice from a DataFrame.\n",
      "Try using .loc[row_indexer,col_indexer] = value instead\n",
      "\n",
      "See the caveats in the documentation: https://pandas.pydata.org/pandas-docs/stable/user_guide/indexing.html#returning-a-view-versus-a-copy\n",
      "  facebook_liwc_no_pet['final_text'] = facebook_liwc_no_pet.tokens.apply(lambda x: ' '.join(x))\n"
     ]
    }
   ],
   "source": [
    "print(\"Now tokenizing\")\n",
    "facebook_liwc_no_pet['tokens'] = facebook_liwc_no_pet.processed_text.apply(word_tokenize)\n",
    "\n",
    "print(\"Now removing stop words\")\n",
    "stop_words = set(stopwords.words('english'))\n",
    "facebook_liwc_no_pet['tokens'] = facebook_liwc_no_pet.tokens.apply(lambda x: [item for item in x if item not in stop_words])\n",
    "\n",
    "print(\"Now lemmatizing\")\n",
    "lemma = WordNetLemmatizer()\n",
    "facebook_liwc_no_pet['tokens'] = facebook_liwc_no_pet.tokens.apply(lambda x: [lemma.lemmatize(word = w, pos = 'v') for w in x])\n",
    "\n",
    "print(\"Now converting back to final string\")\n",
    "\n",
    "facebook_liwc_no_pet['final_text'] = facebook_liwc_no_pet.tokens.apply(lambda x: ' '.join(x))"
   ]
  },
  {
   "cell_type": "markdown",
   "metadata": {},
   "source": [
    "# Feature Matrix Construction"
   ]
  },
  {
   "cell_type": "markdown",
   "metadata": {},
   "source": [
    "## TF-IDF"
   ]
  },
  {
   "cell_type": "code",
   "execution_count": 14,
   "metadata": {},
   "outputs": [
    {
     "name": "stdout",
     "output_type": "stream",
     "text": [
      "Now running TFIDF!\n",
      "Count Vectorizer\n",
      "Get Feature Names\n",
      "TFIDF Vectorizer\n"
     ]
    },
    {
     "name": "stderr",
     "output_type": "stream",
     "text": [
      "/Users/catherinepollack/opt/anaconda3/lib/python3.8/site-packages/sklearn/utils/deprecation.py:87: FutureWarning: Function get_feature_names is deprecated; get_feature_names is deprecated in 1.0 and will be removed in 1.2. Please use get_feature_names_out instead.\n",
      "  warnings.warn(msg, category=FutureWarning)\n"
     ]
    },
    {
     "name": "stdout",
     "output_type": "stream",
     "text": [
      "Compiling Rankings\n",
      "              term          rank\n",
      "52         com url  11743.031973\n",
      "14   bass clarinet   5135.896409\n",
      "137  play clarinet   3558.789838\n",
      "97         join us   3537.184052\n",
      "202      youtu url   3389.549444\n",
      "['ableton mix', 'abstractions clarinet', 'album page', 'also play', 'alto flute', 'alto sax', 'alto saxophone', 'alto tenor', 'aquasonic voice', 'bandcamp com', 'bandcamp leapoffaith', 'bandcamp metalchaosensemble', 'bandcamp peksolo', 'bandcamp turbulence', 'bass clarinet', 'bass guitar', 'bass piano', 'bass saxophones', 'bass trombone', 'bass tromboon', 'bite ly', 'bob moor', 'bowl brontosaurus', 'brand spankin', 'brontosaurus tank', 'bruce lee', 'bunch albums', 'call gong', 'cancel bunch', 'catalog specially', 'cello aquasonic', 'chamber music', 'chaos ensemble', 'christmas flute', 'clarinet alto', 'clarinet bass', 'clarinet concerto', 'clarinet contrabass', 'clarinet contralto', 'clarinet family', 'clarinet flute', 'clarinet piano', 'clarinet player', 'clarinet saxophone', 'clown album', 'clown arsenal', 'clown catalog', 'clown ensembles', 'clown evil', 'clown headquarter', 'clown sessions', 'clown usa', 'com url', 'concert band', 'contact us', 'contrabass clarinet', 'contralto clarinet', 'corona virus', 'crotales cymbells', 'dahlman trumpet', 'detail enrollment', 'double bass', 'double reeds', 'downtown music', 'drum percussion', 'drum violin', 'electric bass', 'english horn', 'enrollment kg', 'eric dahlman', 'eric woods', 'eric zinman', 'evil clown', 'evilclown rock', 'facebook com', 'faith orchestra', 'feature multiple', 'first time', 'flex tone', 'flute alto', 'flute christmas', 'flute clarinet', 'flute sheng', 'french horn', 'gallanter dmg', 'game call', 'glynis lomon', 'gong brontosaurus', 'guitar ukulele', 'hand chime', 'harmony arrange', 'headquarter waltham', 'high school', 'instruction guitar', 'january february', 'jazz band', 'joel simches', 'join us', 'kg school', 'last year', 'leap faith', 'leapoffaith bandcamp', 'lee gallanter', 'liner note', 'live stream', 'live track', 'log drum', 'lomon cello', 'long hiatus', 'look forward', 'ly url', 'many instrument', 'metal chaos', 'metalchaosensemble bandcamp', 'moog subsequent', 'moor trumpet', 'music gallery', 'music instruction', 'music lessons', 'music offer', 'music www', 'new orleans', 'new review', 'new work', 'new york', 'note pek', 'orchestral chime', 'org url', 'overtone voice', 'page www', 'pek alto', 'pek clarinet', 'pek clarinets', 'pek solo', 'peksolo bandcamp', 'percussion electronics', 'piano voice', 'play clarinet', 'play instrument', 'play one', 'principal clarinet', 'quartet peks', 'real time', 'record evil', 'review bruce', 'rock url', 'ronin daxophone', 'russian wood', 'sax clarinet', 'sax flute', 'saxophone clarinet', 'saxophone flute', 'saxophones clarinet', 'saxophones tarota', 'schematic abstractions', 'school music', 'sheng melodica', 'signal process', 'site www', 'slide whistle', 'social media', 'solo album', 'soprano alto', 'spankin new', 'specially record', 'squidco com', 'squidco www', 'style level', 'symphony orchestra', 'tank bell', 'temple block', 'tenor bass', 'tenor sax', 'tenor saxophone', 'tenor saxophones', 'theory harmony', 'tibetan bell', 'tibetan bowl', 'time solo', 'today detail', 'trumpet flugelhorn', 'trumpet overtone', 'truths know', 'turbulence bandcamp', 'ukulele bass', 'url bandcamp', 'url evil', 'url liner', 'url pek', 'url youtube', 'us today', 'wind instrument', 'wind siren', 'wood block', 'wood flute', 'wood metal', 'would like', 'www evilclown', 'www facebook', 'www squidco', 'www youtube', 'years ago', 'youtu url', 'youtube com', 'youtube evil', 'youtube www', 'youtube youtu', 'yuri zbitnov', 'zbitnov drum']\n"
     ]
    }
   ],
   "source": [
    "print(\"Now running TFIDF!\")\n",
    "count_vectorizer = CountVectorizer(ngram_range = (2,2), min_df = 0.01, max_df = 0.75)\n",
    "tfidf_vectorizer = TfidfVectorizer(ngram_range=(2,2), min_df = 0.01, max_df = 0.75)\n",
    "print(\"Count Vectorizer\")\n",
    "count_matrix = count_vectorizer.fit_transform(facebook_liwc_no_pet['final_text'])\n",
    "print(\"Get Feature Names\")\n",
    "features = count_vectorizer.get_feature_names()\n",
    "print(\"TFIDF Vectorizer\")\n",
    "tfidf_matrix = tfidf_vectorizer.fit_transform(facebook_liwc_no_pet['final_text'])\n",
    "scores = np.asarray(tfidf_matrix)\n",
    "sums = tfidf_matrix.sum(axis = 0)\n",
    "data = []\n",
    "print(\"Compiling Rankings\")\n",
    "for col, term in enumerate(features):\n",
    "    data.append((term, sums[0,col]))\n",
    "ranking = pd.DataFrame(data, columns = ['term', 'rank'])\n",
    "words = ranking.sort_values('rank', ascending = False)\n",
    "print(words.head())\n",
    "\n",
    "tf_idf_dataframe = pd.DataFrame(tfidf_matrix.todense())\n",
    "\n",
    "# Creating list of terms that can be used as column names\n",
    "terms = []\n",
    "for col, term in enumerate(features):\n",
    "    terms.append(term)\n",
    "print(terms)\n",
    "\n",
    "tf_idf_dataframe.columns = [x for x in terms]"
   ]
  },
  {
   "cell_type": "markdown",
   "metadata": {},
   "source": [
    "## Sentiment Analysis"
   ]
  },
  {
   "cell_type": "code",
   "execution_count": 15,
   "metadata": {},
   "outputs": [
    {
     "name": "stdout",
     "output_type": "stream",
     "text": [
      "Now running sentiment analysis!\n"
     ]
    }
   ],
   "source": [
    "print(\"Now running sentiment analysis!\")\n",
    "sid = SentimentIntensityAnalyzer()\n",
    "sentiments = pd.DataFrame(columns = ['neg', 'neu', 'pos', 'compound'])\n",
    "for text in facebook_liwc_no_pet['processed_text_bert']:\n",
    "    sentiments = get_vader_score(sid, text, sentiments)"
   ]
  },
  {
   "cell_type": "markdown",
   "metadata": {},
   "source": [
    "## Compiling Feature Matrix"
   ]
  },
  {
   "cell_type": "code",
   "execution_count": 16,
   "metadata": {},
   "outputs": [
    {
     "name": "stdout",
     "output_type": "stream",
     "text": [
      "Now running feature matrix!\n"
     ]
    }
   ],
   "source": [
    "print(\"Now running feature matrix!\")\n",
    "feature_matrix_no_bert = pd.concat([tf_idf_dataframe.reset_index(), \n",
    "                            sentiments.reset_index(), \n",
    "                            facebook_liwc_no_pet.reset_index()],\n",
    "                          axis = 1)\n",
    "file_name = \"/220131_feature_matrix_no_bert_non_health_comparator.csv\"\n",
    "feature_matrix_no_bert.to_csv(str(data_file_path + file_name))"
   ]
  }
 ],
 "metadata": {
  "interpreter": {
   "hash": "ffe67d4efdf50a67adb541926f1b56bfeeb48b191d1b9a6489e883c5acad5bda"
  },
  "kernelspec": {
   "display_name": "Python 3.8.8 64-bit ('base': conda)",
   "name": "python3"
  },
  "language_info": {
   "codemirror_mode": {
    "name": "ipython",
    "version": 3
   },
   "file_extension": ".py",
   "mimetype": "text/x-python",
   "name": "python",
   "nbconvert_exporter": "python",
   "pygments_lexer": "ipython3",
   "version": "3.8.8"
  },
  "toc": {
   "base_numbering": 1,
   "nav_menu": {},
   "number_sections": true,
   "sideBar": true,
   "skip_h1_title": false,
   "title_cell": "Table of Contents",
   "title_sidebar": "Contents",
   "toc_cell": false,
   "toc_position": {},
   "toc_section_display": true,
   "toc_window_display": false
  },
  "varInspector": {
   "cols": {
    "lenName": 16,
    "lenType": 16,
    "lenVar": 40
   },
   "kernels_config": {
    "python": {
     "delete_cmd_postfix": "",
     "delete_cmd_prefix": "del ",
     "library": "var_list.py",
     "varRefreshCmd": "print(var_dic_list())"
    },
    "r": {
     "delete_cmd_postfix": ") ",
     "delete_cmd_prefix": "rm(",
     "library": "var_list.r",
     "varRefreshCmd": "cat(var_dic_list()) "
    }
   },
   "types_to_exclude": [
    "module",
    "function",
    "builtin_function_or_method",
    "instance",
    "_Feature"
   ],
   "window_display": false
  }
 },
 "nbformat": 4,
 "nbformat_minor": 4
}
