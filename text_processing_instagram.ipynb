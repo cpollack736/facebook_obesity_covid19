{
 "cells": [
  {
   "cell_type": "markdown",
   "metadata": {},
   "source": [
    "# Bring in Libraries and Packages"
   ]
  },
  {
   "cell_type": "code",
   "execution_count": 1,
   "metadata": {
    "ExecuteTime": {
     "end_time": "2021-10-28T14:16:34.377487Z",
     "start_time": "2021-10-28T14:16:33.957656Z"
    }
   },
   "outputs": [],
   "source": [
    "import html\n",
    "import nltk\n",
    "import numpy as np\n",
    "#nltk.download('stopwords')\n",
    "#nltk.download('wordnet')\n",
    "#nltk.download('vader_lexicon')\n",
    "import pandas as pd\n",
    "import preprocessor as p \n",
    "import re\n",
    "\n",
    "from nltk.corpus import stopwords\n",
    "from nltk.tokenize import word_tokenize\n",
    "from nltk.sentiment.vader import SentimentIntensityAnalyzer\n",
    "from nltk.stem import WordNetLemmatizer\n",
    "from sentence_transformers import SentenceTransformer\n",
    "from sklearn.feature_extraction.text import CountVectorizer, TfidfVectorizer\n",
    "from urllib.parse import urlparse"
   ]
  },
  {
   "cell_type": "markdown",
   "metadata": {},
   "source": [
    "# Functions"
   ]
  },
  {
   "cell_type": "markdown",
   "metadata": {},
   "source": [
    "## URL Replacement"
   ]
  },
  {
   "cell_type": "code",
   "execution_count": 2,
   "metadata": {},
   "outputs": [],
   "source": [
    "def url_replacement(text, token_type = \"url\"):\n",
    "    \"\"\"\n",
    "    Function that will take in a block of text and replace the url with a token of some type\n",
    "    text (str): A block of text that contains a url\n",
    "    token_type (str): A specfication on what token should replace the url. Default is \"url\", which just returns \"url\". Other options include: \n",
    "        \"domain\", which returns the domain (e.g., \".gov url\")\n",
    "        \"host\", which returns the host of the website and domain (e.g., \"cdc.gov url\")\n",
    "    \"\"\"\n",
    "    urls = re.findall('http[s]?://(?:[a-zA-Z]|[0-9]|[$-_@.&+]|[!*\\(\\),]|(?:%[0-9a-fA-F][0-9a-fA-F]))+', text)\n",
    "    # Get a list of all urls\n",
    "    \n",
    "    if urls == []: # If list is blank\n",
    "        return text #Return previous text since nothing needs to change\n",
    "    \n",
    "    new_text = text[:] #Deep copy of the text to a new object\n",
    "    \n",
    "    if token_type == \"url\": #For the base case\n",
    "        for url in urls:\n",
    "            new_text = new_text.replace(url, \"url\") #Replace each url with the \"url\" token\n",
    "\n",
    "    elif token_type == \"domain\": #For the case of just extracting the domain\n",
    "        for url in urls:\n",
    "            try: \n",
    "                urlparse(url).netloc.split(\".\")[-1] #Extract just the domain \n",
    "            except ValueError:\n",
    "                print(str(\"URL parse error with \" + url))\n",
    "                domain = \"\"\n",
    "            else:\n",
    "                domain = urlparse(url).netloc.split(\".\")[-1] #Extract just the domain\n",
    "                \n",
    "            domain_url = domain + \" url\"\n",
    "            new_text = new_text.replace(url, domain_url)\n",
    "            \n",
    "    else: #Extracting full host name\n",
    "        for url in urls:\n",
    "            try:\n",
    "                urlparse(url).netloc #Extract the full host name\n",
    "            except ValueError:\n",
    "                print(str(\"URL parse error with \" + url))\n",
    "                domain = \"\"\n",
    "            else:\n",
    "                domain = urlparse(url).netloc #Extract the full host name\n",
    "            domain_url = domain + \" url\"\n",
    "            new_text = new_text.replace(url, domain_url)\n",
    "        \n",
    "    return new_text"
   ]
  },
  {
   "cell_type": "markdown",
   "metadata": {},
   "source": [
    "## VADER Sentiment Analysis"
   ]
  },
  {
   "cell_type": "code",
   "execution_count": 3,
   "metadata": {},
   "outputs": [],
   "source": [
    "def get_vader_score(sid, text, dataframe):\n",
    "    \"\"\"\n",
    "    Function that will take in a text and return an estimated valence. \n",
    "    Note that this assumes that the column names match the VADER output\n",
    "    (i.e., \"neg\", \"neu\", \"pos\", \"compound\")\n",
    "    param sid (str): Name of the SentimentIntensityAnalyzer() defined outside the function \n",
    "    param text (str): A string of text to analyze\n",
    "    param dataframe (DataFrame): The pandas dataframe to append results to\n",
    "    \"\"\"\n",
    "    scores = sid.polarity_scores(text)\n",
    "    return(dataframe.append(scores, ignore_index = True))"
   ]
  },
  {
   "cell_type": "markdown",
   "metadata": {},
   "source": [
    "# Bring in Data"
   ]
  },
  {
   "cell_type": "code",
   "execution_count": 5,
   "metadata": {
    "ExecuteTime": {
     "end_time": "2021-10-28T14:45:43.092298Z",
     "start_time": "2021-10-28T14:45:40.930504Z"
    }
   },
   "outputs": [
    {
     "ename": "ParserError",
     "evalue": "unexpected end of data",
     "output_type": "error",
     "traceback": [
      "\u001b[0;31m---------------------------------------------------------------------------\u001b[0m",
      "\u001b[0;31mError\u001b[0m                                     Traceback (most recent call last)",
      "\u001b[0;32m~/opt/anaconda3/lib/python3.8/site-packages/pandas/io/parsers.py\u001b[0m in \u001b[0;36m_next_iter_line\u001b[0;34m(self, row_num)\u001b[0m\n\u001b[1;32m   2967\u001b[0m             \u001b[0;32massert\u001b[0m \u001b[0mself\u001b[0m\u001b[0;34m.\u001b[0m\u001b[0mdata\u001b[0m \u001b[0;32mis\u001b[0m \u001b[0;32mnot\u001b[0m \u001b[0;32mNone\u001b[0m\u001b[0;34m\u001b[0m\u001b[0;34m\u001b[0m\u001b[0m\n\u001b[0;32m-> 2968\u001b[0;31m             \u001b[0;32mreturn\u001b[0m \u001b[0mnext\u001b[0m\u001b[0;34m(\u001b[0m\u001b[0mself\u001b[0m\u001b[0;34m.\u001b[0m\u001b[0mdata\u001b[0m\u001b[0;34m)\u001b[0m\u001b[0;34m\u001b[0m\u001b[0;34m\u001b[0m\u001b[0m\n\u001b[0m\u001b[1;32m   2969\u001b[0m         \u001b[0;32mexcept\u001b[0m \u001b[0mcsv\u001b[0m\u001b[0;34m.\u001b[0m\u001b[0mError\u001b[0m \u001b[0;32mas\u001b[0m \u001b[0me\u001b[0m\u001b[0;34m:\u001b[0m\u001b[0;34m\u001b[0m\u001b[0;34m\u001b[0m\u001b[0m\n",
      "\u001b[0;31mError\u001b[0m: unexpected end of data",
      "\nDuring handling of the above exception, another exception occurred:\n",
      "\u001b[0;31mParserError\u001b[0m                               Traceback (most recent call last)",
      "\u001b[0;32m<ipython-input-5-864556dfa67a>\u001b[0m in \u001b[0;36m<module>\u001b[0;34m\u001b[0m\n\u001b[1;32m      6\u001b[0m \u001b[0;31m#facebook.to_csv(data_file_path + \"220119_combined_facebook_data.csv\")\u001b[0m\u001b[0;34m\u001b[0m\u001b[0;34m\u001b[0m\u001b[0;34m\u001b[0m\u001b[0m\n\u001b[1;32m      7\u001b[0m \u001b[0;34m\u001b[0m\u001b[0m\n\u001b[0;32m----> 8\u001b[0;31m instagram_liwc = pd.read_csv(data_file_path + \"220106_obesity_instagram_liwc.csv\",\n\u001b[0m\u001b[1;32m      9\u001b[0m                              engine = \"python\")\n",
      "\u001b[0;32m~/opt/anaconda3/lib/python3.8/site-packages/pandas/io/parsers.py\u001b[0m in \u001b[0;36mread_csv\u001b[0;34m(filepath_or_buffer, sep, delimiter, header, names, index_col, usecols, squeeze, prefix, mangle_dupe_cols, dtype, engine, converters, true_values, false_values, skipinitialspace, skiprows, skipfooter, nrows, na_values, keep_default_na, na_filter, verbose, skip_blank_lines, parse_dates, infer_datetime_format, keep_date_col, date_parser, dayfirst, cache_dates, iterator, chunksize, compression, thousands, decimal, lineterminator, quotechar, quoting, doublequote, escapechar, comment, encoding, dialect, error_bad_lines, warn_bad_lines, delim_whitespace, low_memory, memory_map, float_precision, storage_options)\u001b[0m\n\u001b[1;32m    608\u001b[0m     \u001b[0mkwds\u001b[0m\u001b[0;34m.\u001b[0m\u001b[0mupdate\u001b[0m\u001b[0;34m(\u001b[0m\u001b[0mkwds_defaults\u001b[0m\u001b[0;34m)\u001b[0m\u001b[0;34m\u001b[0m\u001b[0;34m\u001b[0m\u001b[0m\n\u001b[1;32m    609\u001b[0m \u001b[0;34m\u001b[0m\u001b[0m\n\u001b[0;32m--> 610\u001b[0;31m     \u001b[0;32mreturn\u001b[0m \u001b[0m_read\u001b[0m\u001b[0;34m(\u001b[0m\u001b[0mfilepath_or_buffer\u001b[0m\u001b[0;34m,\u001b[0m \u001b[0mkwds\u001b[0m\u001b[0;34m)\u001b[0m\u001b[0;34m\u001b[0m\u001b[0;34m\u001b[0m\u001b[0m\n\u001b[0m\u001b[1;32m    611\u001b[0m \u001b[0;34m\u001b[0m\u001b[0m\n\u001b[1;32m    612\u001b[0m \u001b[0;34m\u001b[0m\u001b[0m\n",
      "\u001b[0;32m~/opt/anaconda3/lib/python3.8/site-packages/pandas/io/parsers.py\u001b[0m in \u001b[0;36m_read\u001b[0;34m(filepath_or_buffer, kwds)\u001b[0m\n\u001b[1;32m    466\u001b[0m \u001b[0;34m\u001b[0m\u001b[0m\n\u001b[1;32m    467\u001b[0m     \u001b[0;32mwith\u001b[0m \u001b[0mparser\u001b[0m\u001b[0;34m:\u001b[0m\u001b[0;34m\u001b[0m\u001b[0;34m\u001b[0m\u001b[0m\n\u001b[0;32m--> 468\u001b[0;31m         \u001b[0;32mreturn\u001b[0m \u001b[0mparser\u001b[0m\u001b[0;34m.\u001b[0m\u001b[0mread\u001b[0m\u001b[0;34m(\u001b[0m\u001b[0mnrows\u001b[0m\u001b[0;34m)\u001b[0m\u001b[0;34m\u001b[0m\u001b[0;34m\u001b[0m\u001b[0m\n\u001b[0m\u001b[1;32m    469\u001b[0m \u001b[0;34m\u001b[0m\u001b[0m\n\u001b[1;32m    470\u001b[0m \u001b[0;34m\u001b[0m\u001b[0m\n",
      "\u001b[0;32m~/opt/anaconda3/lib/python3.8/site-packages/pandas/io/parsers.py\u001b[0m in \u001b[0;36mread\u001b[0;34m(self, nrows)\u001b[0m\n\u001b[1;32m   1055\u001b[0m     \u001b[0;32mdef\u001b[0m \u001b[0mread\u001b[0m\u001b[0;34m(\u001b[0m\u001b[0mself\u001b[0m\u001b[0;34m,\u001b[0m \u001b[0mnrows\u001b[0m\u001b[0;34m=\u001b[0m\u001b[0;32mNone\u001b[0m\u001b[0;34m)\u001b[0m\u001b[0;34m:\u001b[0m\u001b[0;34m\u001b[0m\u001b[0;34m\u001b[0m\u001b[0m\n\u001b[1;32m   1056\u001b[0m         \u001b[0mnrows\u001b[0m \u001b[0;34m=\u001b[0m \u001b[0mvalidate_integer\u001b[0m\u001b[0;34m(\u001b[0m\u001b[0;34m\"nrows\"\u001b[0m\u001b[0;34m,\u001b[0m \u001b[0mnrows\u001b[0m\u001b[0;34m)\u001b[0m\u001b[0;34m\u001b[0m\u001b[0;34m\u001b[0m\u001b[0m\n\u001b[0;32m-> 1057\u001b[0;31m         \u001b[0mindex\u001b[0m\u001b[0;34m,\u001b[0m \u001b[0mcolumns\u001b[0m\u001b[0;34m,\u001b[0m \u001b[0mcol_dict\u001b[0m \u001b[0;34m=\u001b[0m \u001b[0mself\u001b[0m\u001b[0;34m.\u001b[0m\u001b[0m_engine\u001b[0m\u001b[0;34m.\u001b[0m\u001b[0mread\u001b[0m\u001b[0;34m(\u001b[0m\u001b[0mnrows\u001b[0m\u001b[0;34m)\u001b[0m\u001b[0;34m\u001b[0m\u001b[0;34m\u001b[0m\u001b[0m\n\u001b[0m\u001b[1;32m   1058\u001b[0m \u001b[0;34m\u001b[0m\u001b[0m\n\u001b[1;32m   1059\u001b[0m         \u001b[0;32mif\u001b[0m \u001b[0mindex\u001b[0m \u001b[0;32mis\u001b[0m \u001b[0;32mNone\u001b[0m\u001b[0;34m:\u001b[0m\u001b[0;34m\u001b[0m\u001b[0;34m\u001b[0m\u001b[0m\n",
      "\u001b[0;32m~/opt/anaconda3/lib/python3.8/site-packages/pandas/io/parsers.py\u001b[0m in \u001b[0;36mread\u001b[0;34m(self, rows)\u001b[0m\n\u001b[1;32m   2463\u001b[0m     \u001b[0;32mdef\u001b[0m \u001b[0mread\u001b[0m\u001b[0;34m(\u001b[0m\u001b[0mself\u001b[0m\u001b[0;34m,\u001b[0m \u001b[0mrows\u001b[0m\u001b[0;34m=\u001b[0m\u001b[0;32mNone\u001b[0m\u001b[0;34m)\u001b[0m\u001b[0;34m:\u001b[0m\u001b[0;34m\u001b[0m\u001b[0;34m\u001b[0m\u001b[0m\n\u001b[1;32m   2464\u001b[0m         \u001b[0;32mtry\u001b[0m\u001b[0;34m:\u001b[0m\u001b[0;34m\u001b[0m\u001b[0;34m\u001b[0m\u001b[0m\n\u001b[0;32m-> 2465\u001b[0;31m             \u001b[0mcontent\u001b[0m \u001b[0;34m=\u001b[0m \u001b[0mself\u001b[0m\u001b[0;34m.\u001b[0m\u001b[0m_get_lines\u001b[0m\u001b[0;34m(\u001b[0m\u001b[0mrows\u001b[0m\u001b[0;34m)\u001b[0m\u001b[0;34m\u001b[0m\u001b[0;34m\u001b[0m\u001b[0m\n\u001b[0m\u001b[1;32m   2466\u001b[0m         \u001b[0;32mexcept\u001b[0m \u001b[0mStopIteration\u001b[0m\u001b[0;34m:\u001b[0m\u001b[0;34m\u001b[0m\u001b[0;34m\u001b[0m\u001b[0m\n\u001b[1;32m   2467\u001b[0m             \u001b[0;32mif\u001b[0m \u001b[0mself\u001b[0m\u001b[0;34m.\u001b[0m\u001b[0m_first_chunk\u001b[0m\u001b[0;34m:\u001b[0m\u001b[0;34m\u001b[0m\u001b[0;34m\u001b[0m\u001b[0m\n",
      "\u001b[0;32m~/opt/anaconda3/lib/python3.8/site-packages/pandas/io/parsers.py\u001b[0m in \u001b[0;36m_get_lines\u001b[0;34m(self, rows)\u001b[0m\n\u001b[1;32m   3265\u001b[0m \u001b[0;34m\u001b[0m\u001b[0m\n\u001b[1;32m   3266\u001b[0m                         \u001b[0;32mwhile\u001b[0m \u001b[0;32mTrue\u001b[0m\u001b[0;34m:\u001b[0m\u001b[0;34m\u001b[0m\u001b[0;34m\u001b[0m\u001b[0m\n\u001b[0;32m-> 3267\u001b[0;31m                             \u001b[0mnew_row\u001b[0m \u001b[0;34m=\u001b[0m \u001b[0mself\u001b[0m\u001b[0;34m.\u001b[0m\u001b[0m_next_iter_line\u001b[0m\u001b[0;34m(\u001b[0m\u001b[0mrow_num\u001b[0m\u001b[0;34m=\u001b[0m\u001b[0mself\u001b[0m\u001b[0;34m.\u001b[0m\u001b[0mpos\u001b[0m \u001b[0;34m+\u001b[0m \u001b[0mrows\u001b[0m \u001b[0;34m+\u001b[0m \u001b[0;36m1\u001b[0m\u001b[0;34m)\u001b[0m\u001b[0;34m\u001b[0m\u001b[0;34m\u001b[0m\u001b[0m\n\u001b[0m\u001b[1;32m   3268\u001b[0m                             \u001b[0mrows\u001b[0m \u001b[0;34m+=\u001b[0m \u001b[0;36m1\u001b[0m\u001b[0;34m\u001b[0m\u001b[0;34m\u001b[0m\u001b[0m\n\u001b[1;32m   3269\u001b[0m \u001b[0;34m\u001b[0m\u001b[0m\n",
      "\u001b[0;32m~/opt/anaconda3/lib/python3.8/site-packages/pandas/io/parsers.py\u001b[0m in \u001b[0;36m_next_iter_line\u001b[0;34m(self, row_num)\u001b[0m\n\u001b[1;32m   2989\u001b[0m                     \u001b[0mmsg\u001b[0m \u001b[0;34m+=\u001b[0m \u001b[0;34m\". \"\u001b[0m \u001b[0;34m+\u001b[0m \u001b[0mreason\u001b[0m\u001b[0;34m\u001b[0m\u001b[0;34m\u001b[0m\u001b[0m\n\u001b[1;32m   2990\u001b[0m \u001b[0;34m\u001b[0m\u001b[0m\n\u001b[0;32m-> 2991\u001b[0;31m                 \u001b[0mself\u001b[0m\u001b[0;34m.\u001b[0m\u001b[0m_alert_malformed\u001b[0m\u001b[0;34m(\u001b[0m\u001b[0mmsg\u001b[0m\u001b[0;34m,\u001b[0m \u001b[0mrow_num\u001b[0m\u001b[0;34m)\u001b[0m\u001b[0;34m\u001b[0m\u001b[0;34m\u001b[0m\u001b[0m\n\u001b[0m\u001b[1;32m   2992\u001b[0m             \u001b[0;32mreturn\u001b[0m \u001b[0;32mNone\u001b[0m\u001b[0;34m\u001b[0m\u001b[0;34m\u001b[0m\u001b[0m\n\u001b[1;32m   2993\u001b[0m \u001b[0;34m\u001b[0m\u001b[0m\n",
      "\u001b[0;32m~/opt/anaconda3/lib/python3.8/site-packages/pandas/io/parsers.py\u001b[0m in \u001b[0;36m_alert_malformed\u001b[0;34m(self, msg, row_num)\u001b[0m\n\u001b[1;32m   2946\u001b[0m         \"\"\"\n\u001b[1;32m   2947\u001b[0m         \u001b[0;32mif\u001b[0m \u001b[0mself\u001b[0m\u001b[0;34m.\u001b[0m\u001b[0merror_bad_lines\u001b[0m\u001b[0;34m:\u001b[0m\u001b[0;34m\u001b[0m\u001b[0;34m\u001b[0m\u001b[0m\n\u001b[0;32m-> 2948\u001b[0;31m             \u001b[0;32mraise\u001b[0m \u001b[0mParserError\u001b[0m\u001b[0;34m(\u001b[0m\u001b[0mmsg\u001b[0m\u001b[0;34m)\u001b[0m\u001b[0;34m\u001b[0m\u001b[0;34m\u001b[0m\u001b[0m\n\u001b[0m\u001b[1;32m   2949\u001b[0m         \u001b[0;32melif\u001b[0m \u001b[0mself\u001b[0m\u001b[0;34m.\u001b[0m\u001b[0mwarn_bad_lines\u001b[0m\u001b[0;34m:\u001b[0m\u001b[0;34m\u001b[0m\u001b[0;34m\u001b[0m\u001b[0m\n\u001b[1;32m   2950\u001b[0m             \u001b[0mbase\u001b[0m \u001b[0;34m=\u001b[0m \u001b[0;34mf\"Skipping line {row_num}: \"\u001b[0m\u001b[0;34m\u001b[0m\u001b[0;34m\u001b[0m\u001b[0m\n",
      "\u001b[0;31mParserError\u001b[0m: unexpected end of data"
     ]
    }
   ],
   "source": [
    "data_file_path = \"/Users/catherinepollack/Documents/dartmouth/research/aim3_facebook_covid19_obesity/data/\"\n",
    "#facebook_1 = pd.read_csv(str(data_file_path + \"210526_facebook_obesity_1.csv\"))\n",
    "#facebook_2 = pd.read_csv(str(data_file_path + \"210526_facebook_obesity_2.csv\"))\n",
    "#facebook = pd.concat([facebook_1, facebook_2], axis = 0)\n",
    "#facebook = facebook.reset_index()\n",
    "#facebook.to_csv(data_file_path + \"220119_combined_facebook_data.csv\")\n",
    "\n",
    "instagram_liwc = pd.read_csv(data_file_path + \"220106_obesity_instagram_liwc.csv\",\n",
    "                             engine = \"python\")"
   ]
  },
  {
   "cell_type": "markdown",
   "metadata": {},
   "source": [
    "# Rename Columns with Metadata"
   ]
  },
  {
   "cell_type": "code",
   "execution_count": 42,
   "metadata": {},
   "outputs": [],
   "source": [
    "#colname_mapping = dict(zip(list(facebook_liwc.columns[1:42]), list(facebook_liwc.loc[0, \"B\":\"AQ\"])))\n",
    "#facebook_liwc = facebook_liwc.rename(columns = colname_mapping)\n",
    "facebook_liwc = facebook_liwc.iloc[1:,1:]"
   ]
  },
  {
   "cell_type": "markdown",
   "metadata": {},
   "source": [
    "# Remove Posts on Pet-Specific Pages"
   ]
  },
  {
   "cell_type": "code",
   "execution_count": 44,
   "metadata": {
    "ExecuteTime": {
     "end_time": "2021-10-28T19:43:38.229068Z",
     "start_time": "2021-10-28T19:43:32.333806Z"
    }
   },
   "outputs": [],
   "source": [
    "#Identifying which could be pet related\n",
    "set(facebook_liwc[\"Page Category\"]) \n",
    "#ADOPTION_SERVICE, ANIMAL_RESCUE_SERVICE, ANIMAL_SHELTER, AQUARIUM, AQUATIC_PET_STORE,\n",
    "#DOG_BREEDER, DOG_DAY_CARE_CENTER, DOG_PARK, DOG_TRAINING, DOG_WALKER, EQUESTRIAN_FACILITY\n",
    "#HORSEBACK_RIDING_SERVICE, HORSE_TRAINER, KENNEL, PET, PETTING_ZOO, PET_ADOPTION_SERVICE\n",
    "#PET_BREEDER, PET_CAFE, PET_GROOMER, PET_SERVICE, PET_SITTER, PET_STORE, PET_SUPPLIES\n",
    "#REPTILE_PET_STORE, ZOO\n",
    "\n",
    "possible_pet_tags = [\"ADOPTION_SERVICE\", \"ANIMAL_RESCUE_SERVICE\", \"ANIMAL_SHELTER\", \"AQUARIUM\", \"AQUATIC_PET_STORE\",\n",
    "\"DOG_BREEDER\", \"DOG_DAY_CARE_CENTER\", \"DOG_PARK\", \"DOG_TRAINING\", \"DOG_WALKER\", \"EQUESTRIAN_FACILITY\",\n",
    "\"HORSEBACK_RIDING_SERVICE\", \"HORSE_TRAINER\", \"KENNEL\", \"PET\", \"PETTING_ZOO\", \"PET_ADOPTION_SERVICE\",\n",
    "\"PET_BREEDER\", \"PET_CAFE\", \"PET_GROOMER\", \"PET_SERVICE\", \"PET_SITTER\", \"PET_STORE\", \"PET_SUPPLIES\",\n",
    "\"REPTILE_PET_STORE\", \"ZOO\"]\n",
    "\n",
    "facebook_pet = facebook_liwc[(facebook_liwc[\"Page Category\"].isin(possible_pet_tags))] #4,392 in pet category\n",
    "facebook_liwc_no_pet = facebook_liwc[-(facebook_liwc[\"Page Category\"].isin(possible_pet_tags))] #522,467 not in pet category"
   ]
  },
  {
   "cell_type": "markdown",
   "metadata": {},
   "source": [
    "# Text Pre-Processing"
   ]
  },
  {
   "cell_type": "code",
   "execution_count": 51,
   "metadata": {},
   "outputs": [
    {
     "name": "stdout",
     "output_type": "stream",
     "text": [
      "Now processing text!\n"
     ]
    },
    {
     "name": "stderr",
     "output_type": "stream",
     "text": [
      "<ipython-input-51-5286c5d702dc>:2: SettingWithCopyWarning: \n",
      "A value is trying to be set on a copy of a slice from a DataFrame.\n",
      "Try using .loc[row_indexer,col_indexer] = value instead\n",
      "\n",
      "See the caveats in the documentation: https://pandas.pydata.org/pandas-docs/stable/user_guide/indexing.html#returning-a-view-versus-a-copy\n",
      "  facebook_liwc_no_pet['processed_text'] = facebook_liwc_no_pet.Message.apply(str) #Change to string\n",
      "<ipython-input-51-5286c5d702dc>:3: SettingWithCopyWarning: \n",
      "A value is trying to be set on a copy of a slice from a DataFrame.\n",
      "Try using .loc[row_indexer,col_indexer] = value instead\n",
      "\n",
      "See the caveats in the documentation: https://pandas.pydata.org/pandas-docs/stable/user_guide/indexing.html#returning-a-view-versus-a-copy\n",
      "  facebook_liwc_no_pet['processed_text'] = facebook_liwc_no_pet.processed_text.apply(html.unescape) #Remove HTML escape characters\n",
      "<ipython-input-51-5286c5d702dc>:4: SettingWithCopyWarning: \n",
      "A value is trying to be set on a copy of a slice from a DataFrame.\n",
      "Try using .loc[row_indexer,col_indexer] = value instead\n",
      "\n",
      "See the caveats in the documentation: https://pandas.pydata.org/pandas-docs/stable/user_guide/indexing.html#returning-a-view-versus-a-copy\n",
      "  facebook_liwc_no_pet['processed_text_bert'] = facebook_liwc_no_pet['processed_text'] #Create new column for BERT-specific embeddings (don't want to remove additional information)\n"
     ]
    },
    {
     "name": "stdout",
     "output_type": "stream",
     "text": [
      "URL parse error with https://lowcarbconferences.com](https://lowcarbconferences.com/)\n",
      "URL parse error with https://lowcarbconferences.com](https://lowcarbconferences.com/)\n",
      "URL parse error with http://lowcarbconferences.com](http://lowcarbconferences.com/)\n",
      "URL parse error with https://lowcarbconferences.com](https://lowcarbconferences.com/)\n",
      "URL parse error with https://www.coronavirus.gov](https://www.coronavirus.gov/?fbclid=IwAR2qKrV9huvUMs-foDbZT8-A0psRFnuHRaIt1udn9gA6Sug4pWB0oBghywk)\n",
      "URL parse error with http://la211help.org](http://la211help.org/?fbclid=IwAR1uX8u1j6jPXNKJZcQhw8kK21gzJeyIwMb3-yEvH8ZC0S_a0Pwp1jUJDOc)\n",
      "URL parse error with https://lowcarbconferences.com](https://lowcarbconferences.com/)\n",
      "URL parse error with https://lowcarbconferences.com](https://lowcarbconferences.com/)\n",
      "URL parse error with https://lowcarbconferences.com](https://lowcarbconferences.com/)\n",
      "URL parse error with https://www.mamavation.com](https://www.mamavation.com/brands/dangers-of-eating-canned-soup.html?fbclid=IwAR0I_qq1M7XE8yLX7w3rvUO8wwJ6jvkKSlQmElFd059RCrsJi490IeBPLgc)\n",
      "URL parse error with https://www.thehotline.org](https://www.thehotline.org/)\n",
      "URL parse error with http://successgain.us](http://successgain.us/?fbclid=IwAR07_ix6ThXqr8imidxuRmOXPbA-QM1pS7yia0gfM_iPUjpjyChjLTljPaw)\n",
      "URL parse error with http://successgain.us](https://l.facebook.com/l.php?u=http%3A%2F%2Fsuccessgain.us%2F%3Ffbclid%3DIwAR1sTyYkMtM_rZ7kpyURgq78cO4SdQGuAQcNpLKj5jcMbNzyDpoWYPGAUwY&h=AT27OtJiwcZq5g3bnNQGIFp_GCeNiX2X7KhU2S6E0mKSU0VVLNIKWcws1n0jLxfRDbKZN_vUZuQYzfKMrfplC1aVEz43Wxn2n5kctxn6MTpDGjepNtNrZzydQb9t5m1GP4efp68Ut5wJ3bljZ_UCYGnH9rQeJJB-)\n",
      "URL parse error with http://successgain.info](https://l.facebook.com/l.php?u=http%3A%2F%2Fsuccessgain.info%2F%3Ffbclid%3DIwAR1G6Sapu7pLBfdTAq9lULpQxAJdZbutDIhisAPJZOFyaf59E5miU8AzEuI&h=AT1ORIb_cJUHc-XvV5Q5EcAnix2ARR41FYLE5iYySbUmf2BLFPKG04dmEd7lLDpF5W5r0-7cTIFlGof3Uxjy-auBSpip3Aycw8WbBrfCy8xI-cm5CqpRCEEfUIkqerAcFIjXWusSAZTkRFlURsFU)\n",
      "URL parse error with https://cardiacsurgery.alliedacademies.com](https://cardiacsurgery.alliedacademies.com/)\n",
      "URL parse error with https://fortissimo-landing-page.firebaseapp.com](https://fortissimo-landing-page.firebaseapp.com/?fbclid=IwAR3T-M8AJtsbZ2laztOAUljs4oyq1wu5oJmCRplqaRFOp0FbpBcyxGBISRA)\n",
      "URL parse error with https://cardiacsurgery.alliedacademies.com](https://cardiacsurgery.alliedacademies.com/)\n",
      "URL parse error with https://cardiacsurgery.alliedacademies.com](https://cardiacsurgery.alliedacademies.com/)\n",
      "URL parse error with http://www.chavanparalysismedicinecentre.com](http://www.chavanparalysismedicinecentre.com/).\n",
      "URL parse error with https://cardiacsurgery.alliedacademies.com](https://cardiacsurgery.alliedacademies.com/)\n",
      "URL parse error with https://cardiacsurgery.alliedacademies.com](https://cardiacsurgery.alliedacademies.com/)\n",
      "URL parse error with https://www.tipsforbehealthy.com](https://l.facebook.com/l.php?u=https%3A%2F%2Fwww.tipsforbehealthy.com%2Fhealthy-ife%2Fget-know-about-gastritis%2F%3Ffbclid%3DIwAR3QNxFY2_BH8FvvHcUBk98bFV7mVmtV2p1FpDBqqkAoLpvdaZeXjtuznHY&h=AT1ORIMPsDN2oFzmqzshTqbfXWpxuJe5gAjqr7UR8z9WQXf2PamX8Uhf_WGUzipFuxNX-B5VWffHkeM0C-wB8mh52qwvU_x25UDSQMupsGdZbta0H2BXTtM-RzChT2msUauKQgQbVD1WgU63os4rE_Bh8N9UkbNRgsP9Iw)\n",
      "URL parse error with https://cardiacsurgery.alliedacademies.com](https://cardiacsurgery.alliedacademies.com/)\n",
      "URL parse error with https://www.medilifetourism.com](https://www.medilifetourism.com/?fbclid=IwAR0zsyb4kvRuSSeKr2L498OBKvlj4QLcQdEy4uvhYOkrkUXEhXo2QUies3U)\n",
      "URL parse error with https://socialindiacraft.com](https://socialindiacraft.com/)\n",
      "URL parse error with http://www.chavanparalysismedicinecentre.com](http://www.chavanparalysismedicinecentre.com/).\n",
      "URL parse error with https://therejuvenationcenter.in](https://l.facebook.com/l.php?u=https%3A%2F%2Ftherejuvenationcenter.in%2F%3Ffbclid%3DIwAR0nw4wIfXBQ3J3COVeDdMMiWhKzkwfAPtDGV4_ajpvCo8kwGSiEW0uxr_0&h=AT0tW42GbHdmTFQqfnh9Hoa8rotMdHktGPO7PNiRI5a8JLievEFTLLrbI-cZjWaPeI3V4lC2cYM6itOoghx-f8vTyuG3AjjNKrXYY_7TrOeOZujxqf-qWYr5XKKWR4p0rMNg0RoKiRUdzq06k9oryech)\n",
      "URL parse error with https://thebrothersgreen.co](https://l.facebook.com/l.php?u=https%3A%2F%2Fthebrothersgreen.co%2F%3Ffbclid%3DIwAR2Wt0JKfXdfywM-VN__YzzW5zzXLNwgXfKf_oUPsw9TYLGltiJqlYwDtsc&h=AT2CwkgriNBIurRabpy2yk5vjUFXhdDsHZCtZzXtppv0JEoYaeJnPlLcH9_6319q75Qc5WB71ma7DhSm1mju0enx_RgqpqiRX1f6u4-A2W1LtbLA9tj1yTT7YOBzeLp6KV1qGwi-5O1pl9Mz1vqaJ4H-NH5ykUaKLNNr6qc)\n",
      "URL parse error with https://alternativeview.co.uk](https://t.co/0j2UyaeJq3?amp=1)\n",
      "URL parse error with https://www.leadingwithlove.store]\n",
      "URL parse error with https://www.BuddhaDailyWisdom.com](https://www.buddhadailywisdom.com/)\n",
      "URL parse error with https://americanhealth.jhu.edu](https://americanhealth.jhu.edu/)\n",
      "URL parse error with https://www.medcram.com](https://l.facebook.com/l.php?u=https%3A%2F%2Fwww.medcram.com%2F%3Ffbclid%3DIwAR3MslaTvt2yRbb1ne93jLIk9mHp4AOMCTN8sAHsLZsDVPtcxBqyptth_6U&h=AT0HAsPNh8a4ZMQvmk_JzL4b6ccB-zAUhbEWmNf-DcBww380KADouXHAq8k0C2H9fLCJYPbGoRDJi8OYA5kOw2ybcdxqnZqjUQ-3BHyJm-ceXzk_BZc97NRVmWmWd9NlauFFXHT3Hdhs3uVSaYwtBg&__tn__=-UK-R&c[0]=AT1KcQl9FE02Vmq0wzbOKEcoWQRGq0Ctrwp-C_d1_uV3GCiDv_T9otWz1qDRjCweBLSBaombOoJA9Afgubh7O-nfUWXU9gJmV0BVfVQy8JigAsfUng4iFZhUK5-NyXWwT5XIYOpuIrZtYsy5-KJPR4wXSqmsCMqC9_E)\n",
      "URL parse error with http://successgain.us](https://www.blogger.com/blog/post/edit/8975307458317806889/4966541034974995716\n",
      "URL parse error with http://successgain.info](https://l.facebook.com/l.php?u=http%3A%2F%2Fsuccessgain.info%2F%3Ffbclid%3DIwAR1cXnFPvrAG9WNp_Y7ETtOxnT6Vw8kE5HdUu4GZXqmw7qSqLmAGfxNHbdU&h=AT3Qf9E7anRyMYxM2COAzPYEuX6w9uJwIzBShfKmPwjhV_1ku-MYJgr6lZ5uScXYGpxSL72PypkT1fuUyxgiCii2wySBWxXC6SuU8gXWboeYVS07Evngn_cYBl6GWBsOJFc&__tn__=-UK-R&c[0]=AT0Y5x9vo3E3VjPgPGWEKJQeiDQonuYw4WwxgE1aVkMdvMg8_AFy_F18cLP7JZbcFK7FqnFGdibacZmTg6ePkZgJ7vKX9Pkn4B26sn2SEtekA29KIdYp__V9L-c72VM)\n",
      "URL parse error with https://www.MedCram.com](https://www.youtube.com/redirect?q=https%3A%2F%2Fwww.MedCram.com&redir_token=K5X2nOufQFBVZF7ZYOL7voeaIfB8MTU4ODE4NzIxNEAxNTg4MTAwODE0&event=video_description&v=22Bn8jsGI54)Thrombosis\n",
      "URL parse error with http://successgain.us](http://successgain.us/?fbclid=IwAR3ASzJaShLLUkQFfygfYJNZXETrF7I39ezdtY9zHMGlsVMguZjgqo4Lbos)\n",
      "URL parse error with https://www.uptodate.com](https://www.uptodate.com/).\n",
      "URL parse error with http://successgain.info](http://successgain.info/)\n",
      "URL parse error with http://successgain.us](https://l.facebook.com/l.php?u=http%3A%2F%2Fsuccessgain.us%2F%3Ffbclid%3DIwAR3x0M1Ju4Q0d1nxJa72EwP6aaBTI_6k6EdBeiE9YOa-NkLM4spbVighzbU&h=AT1iCTwlDSIvIc5Q9IXgZzR_1sp4C_wgCID2NRPnbQ7sJrgRv7ZjgAYovpkBHFEU4OmapbFTQqqzATaiLVZs4vAtVmTOMBsV5cXW1OUgkbhNCMXTbH8d-iPzsi-tjawgxBc&__tn__=-UK-R&c[0]=AT2WukhjbUAfhlZdbH2FaIpK75vx48v0Wagl814CVA1xwkBPc2s23GxAb0iic3_Tp_ewBOO4QbxciMd4r2bR6kk_gZVpEFStb1wU9Gt_h39q57QzoA0ssN4M_yHrPMz5eNwG)\n",
      "URL parse error with http://successgain.info](https://www.blogger.com/blog/post/edit/8975307458317806889/684522973370442004\n",
      "URL parse error with http://pldha.mexico.org.](http://pldha.mexico.org./)\n",
      "URL parse error with http://www.endobariatric.com](https://www.youtube.com/redirect?q=http%3A%2F%2Fwww.endobariatric.com&redir_token=QUFFLUhqbVl4UGNPOVNQZWM3MjV3ZzNXc0wxTmNoek8yd3xBQ3Jtc0tuaFpScEgxamJmU1hZU0lMNERQSXNoZmZFaGZyWGV3dlNnREZpOWE4QUR6S3hJS05aZndGa1hJWHZnakk1T1NzU1dweTNCOG1HYjJGNm42NXJGQ1ZQQkJZTnByaGxZajJJbnBsM1UtVXg4ZVNJRmJFNA%3D%3D&v=Kr7CkMIFiHU&event=video_description)\n",
      "URL parse error with http://www.endobariatric.com](https://www.youtube.com/redirect?q=http%3A%2F%2Fwww.endobariatric.com&redir_token=QUFFLUhqbktmOGlXd05jYWIxWnRqUVJudkRJeE5hNDVFd3xBQ3Jtc0trdDRycTdTUzZqY2ZiNC10dXM3b1hSWC1FX2RnZnYySUFFR0g1T2Q2bEpiekFSNWwxdm9Vcll0NWl5V2xYXy1NZ3NCeFhwNGloOWdHZVBoU3RONjBFVXpGcWlrY0JKOVVWOXNBZDk3N0lENi1TNGd0dw%3D%3D&v=Kr7CkMIFiHU&event=video_description)\n",
      "URL parse error with http://successgain.us](https://l.facebook.com/l.php?u=http%3A%2F%2Fsuccessgain.us%2F%3Ffbclid%3DIwAR3x0M1Ju4Q0d1nxJa72EwP6aaBTI_6k6EdBeiE9YOa-NkLM4spbVighzbU&h=AT1iCTwlDSIvIc5Q9IXgZzR_1sp4C_wgCID2NRPnbQ7sJrgRv7ZjgAYovpkBHFEU4OmapbFTQqqzATaiLVZs4vAtVmTOMBsV5cXW1OUgkbhNCMXTbH8d-iPzsi-tjawgxBc&__tn__=-UK-R&c[0]=AT2WukhjbUAfhlZdbH2FaIpK75vx48v0Wagl814CVA1xwkBPc2s23GxAb0iic3_Tp_ewBOO4QbxciMd4r2bR6kk_gZVpEFStb1wU9Gt_h39q57QzoA0ssN4M_yHrPMz5eNwG)\n",
      "URL parse error with http://successgain.info](https://l.facebook.com/l.php?u=http%3A%2F%2Fsuccessgain.info%2F%3Ffbclid%3DIwAR1V9nswpMFsYdj5ZwusuDRGPkIdtfxQ2BGM2Vmk7yiqWzPdzDVZPE4C2GM&h=AT1Ar0Y568pLvJaPLp53t1YfegRXcyfbSfuvA_NB2VtWuONGUd8pRPnzMNPKuKHOUNUqSdu2djVR6sDoDkaGq5WqH7BJOJtXG5Nx8GGF5H2IgcQ3NVEKipp3fgvXTtG0kng&__tn__=-UK-R&c[0]=AT3Y_TaZ2TSl92VFduTKaYwBeEZi4peQSN2N-kgqPWMUn5DDWkjsGmYUmAHMjQYukdOPZd0uGzQ4qGDt7UDB3Ebogl3fa0FIRLI5kxv49ZcW0Vlb8CiVOwZYBU64An6Z0hybH2oWAG1zVcCZlvUjpJVFVK4-nChi4lPWiM5A8zUq5_RRgd0)\n",
      "URL parse error with https://www.thefrontstepsproject.com](https://www.thefrontstepsproject.com/).\n",
      "URL parse error with https://www.MedCram.com*](https://www.youtube.com/redirect?event=video_description&v=22Bn8jsGI54&q=https%3A%2F%2Fwww.MedCram.com&redir_token=FhApocDz_QlLkXayd_L_BmE5nCl8MTU4ODE3MjY1M0AxNTg4MDg2MjUz)\n",
      "URL parse error with http://successgain.info](https://l.facebook.com/l.php?u=http%3A%2F%2Fsuccessgain.info%2F%3Ffbclid%3DIwAR1V9nswpMFsYdj5ZwusuDRGPkIdtfxQ2BGM2Vmk7yiqWzPdzDVZPE4C2GM&h=AT1Ar0Y568pLvJaPLp53t1YfegRXcyfbSfuvA_NB2VtWuONGUd8pRPnzMNPKuKHOUNUqSdu2djVR6sDoDkaGq5WqH7BJOJtXG5Nx8GGF5H2IgcQ3NVEKipp3fgvXTtG0kng&__tn__=-UK-R&c[0]=AT3Y_TaZ2TSl92VFduTKaYwBeEZi4peQSN2N-kgqPWMUn5DDWkjsGmYUmAHMjQYukdOPZd0uGzQ4qGDt7UDB3Ebogl3fa0FIRLI5kxv49ZcW0Vlb8CiVOwZYBU64An6Z0hybH2oWAG1zVcCZlvUjpJVFVK4-nChi4lPWiM5A8zUq5_RRgd0)\n",
      "URL parse error with http://successgain.us](http://successgain.us/?fbclid=IwAR1J6al-XLkLe62YapM0dHLVe2n7Y2DezklGw6GGnyDj2XazZ88b9s8PZR0)\n",
      "URL parse error with http://successgain.us](http://successgain.us/)\n",
      "URL parse error with http://successgain.us](https://www.blogger.com/blog/post/edit/8975307458317806889/4966541034974995716\n",
      "URL parse error with http://successgain.us](https://l.facebook.com/l.php?u=http%3A%2F%2Fsuccessgain.us%2F%3Ffbclid%3DIwAR3eal5mITYpg3qzqXCNpsRb6y59R2YNSRmz0Qzy8Pk0Blh32jVUM_TtQ2g&h=AT3fmGNFtPagZirX2sy2kIrfhw78Uqx1VWj5KeSfMR5Vw13zqtiUExZnZKZCY61XGM0PUQ2MM8TbVWmMRcfHywt28sni698iO6Ko8AME895cN0k6YOWijclOarwFil3Z5Ig&__tn__=-UK-R&c[0]=AT2LGFIS3492YREORmH3ZLQd7JkVNkkKVsKQKaBDANf3OCs2Dm7uPvNwpuc1bWWRHvJucTL9kg8_OjThhWguTcbjGnkfstncqgMB0QmY_fbAgBvaDtgJwjfosV_VGDQSEdK5Zy_FfI7WZo90qUewmcV5ZOtb7bys45u2AHbRk0WgjKpTtQw)\n",
      "URL parse error with http://successgain.info](http://successgain.info/)\n",
      "URL parse error with http://successgain.info](http://successgain.info/?fbclid=IwAR2tk4XkvoIe1IgVFjkdbCkQ3P5v8c3mnOTguCvjJGoZ06HbeXyNlGRvXXg)\n",
      "URL parse error with http://successgain.info](https://www.blogger.com/blog/post/edit/8975307458317806889/7238779459574879743\n",
      "URL parse error with http://morningglorie.in](http://morningglorie.in/?fbclid=IwAR1FaELqZprYw24YWFp64cY5I4f5s4gjRjYTH9Fscm4kecoXQ_Vn7GMMBU0)\n",
      "URL parse error with http://successgain.us](http://successgain.us/?fbclid=IwAR3ASzJaShLLUkQFfygfYJNZXETrF7I39ezdtY9zHMGlsVMguZjgqo4Lbos)\n",
      "URL parse error with http://successgain.us](http://successgain.us/?fbclid=IwAR1J6al-XLkLe62YapM0dHLVe2n7Y2DezklGw6GGnyDj2XazZ88b9s8PZR0)\n",
      "URL parse error with http://successgain.us](http://successgain.us/)\n",
      "URL parse error with https://weightlossdocter.weebly.com](https://weightlossdocter.weebly.com/)\n",
      "URL parse error with https://kalyannutritionist.com](https://l.facebook.com/l.php?u=https%3A%2F%2Fkalyannutritionist.com%2F%3Ffbclid%3DIwAR2s6omgArEU9w6xd1A0l3wChOmdjMug8V6IJR8xQk55__7qCBi3AMOW02o&h=AT0wz9_2sNbxfIVzi51aHa10VXGv6nRHAKXg3cja-PeM49ijuk1EfR1olXfZO_y9qHDsp_o6v3-Ufq3huJKt0JxbEigaoijRn0aGkckZfPUilmBP9DpIU9mhyGk8vQlV6Rw&__tn__=-UK-R&c[0]=AT32kzP20m7aHmtPIXaw2wdRFcN4Kb6B35gZzWDuIQ8Z3uCs9FoFj59vWklHzE-QYJBko-Mhi7AXJjAbVdQqc6tjb2MfKhjSWEtBbq_-ua6PYAvylZQKbFDQ7Q4uFDJxpJ8sSgWqqirf3jvJ6_-4VtSACQ8WstbcvEthsxH3wvFECV1ymhKm0T49DA)\n",
      "URL parse error with http://GreenAgric.co.za](http://greenagric.co.za/)**\n",
      "URL parse error with http://successgain.info](https://l.facebook.com/l.php?u=http%3A%2F%2Fsuccessgain.info%2F%3Ffbclid%3DIwAR1cXnFPvrAG9WNp_Y7ETtOxnT6Vw8kE5HdUu4GZXqmw7qSqLmAGfxNHbdU&h=AT3Qf9E7anRyMYxM2COAzPYEuX6w9uJwIzBShfKmPwjhV_1ku-MYJgr6lZ5uScXYGpxSL72PypkT1fuUyxgiCii2wySBWxXC6SuU8gXWboeYVS07Evngn_cYBl6GWBsOJFc&__tn__=-UK-R&c[0]=AT0Y5x9vo3E3VjPgPGWEKJQeiDQonuYw4WwxgE1aVkMdvMg8_AFy_F18cLP7JZbcFK7FqnFGdibacZmTg6ePkZgJ7vKX9Pkn4B26sn2SEtekA29KIdYp__V9L-c72VM)\n",
      "URL parse error with http://successgain.info](https://www.blogger.com/blog/post/edit/8975307458317806889/684522973370442004\n",
      "URL parse error with https://kalyannutritionist.com](https://l.facebook.com/l.php?u=https%3A%2F%2Fkalyannutritionist.com%2F%3Ffbclid%3DIwAR1s5eiZJENuW2nKbl-4thNGkOQDOt3RYlm5oqr9uSyIzSyIlfW8Daqc1_c&h=AT2PFOnHU0wHODTBSITPU_lqi0nNhN7YuBTK709ndJMRecb2DmiH2zQFuv2j5tdl0PRHnSHKQsjqCsgs06Vd8G1_K8XFe_j3s8O47Q75iN7wS_K2L1pfY6Wo1Y7KVCixou4&__tn__=-UK-R&c[0]=AT0fcbzSPlx-fo0r9pZVH3ExBWzOMgv7Kfqnl2jIEA8LMOZvBPoG0Ra5Zsx-5G-ibwonXTnUejUTFyjXX7Pv5k00XiUj2OYAE057NRwvYxAN5qVQub6JM1yEahWV4eApHpGil1n8mMu7uQGROhc-pLmsd3MuxQwNi8D6zQnR7DcXHBinkrklH4Cn4_WovjNqHVx7huc4wYJMCcY5)\n",
      "URL parse error with http://successgain.us](https://l.facebook.com/l.php?u=http%3A%2F%2Fsuccessgain.us%2F%3Ffbclid%3DIwAR3eal5mITYpg3qzqXCNpsRb6y59R2YNSRmz0Qzy8Pk0Blh32jVUM_TtQ2g&h=AT3fmGNFtPagZirX2sy2kIrfhw78Uqx1VWj5KeSfMR5Vw13zqtiUExZnZKZCY61XGM0PUQ2MM8TbVWmMRcfHywt28sni698iO6Ko8AME895cN0k6YOWijclOarwFil3Z5Ig&__tn__=-UK-R&c[0]=AT2LGFIS3492YREORmH3ZLQd7JkVNkkKVsKQKaBDANf3OCs2Dm7uPvNwpuc1bWWRHvJucTL9kg8_OjThhWguTcbjGnkfstncqgMB0QmY_fbAgBvaDtgJwjfosV_VGDQSEdK5Zy_FfI7WZo90qUewmcV5ZOtb7bys45u2AHbRk0WgjKpTtQw)\n",
      "URL parse error with http://successgain.info](http://successgain.info/?fbclid=IwAR2tk4XkvoIe1IgVFjkdbCkQ3P5v8c3mnOTguCvjJGoZ06HbeXyNlGRvXXg)\n",
      "URL parse error with http://successgain.info](https://www.blogger.com/blog/post/edit/8975307458317806889/7238779459574879743\n",
      "URL parse error with http://www.andreaasolution.com]\n",
      "URL parse error with https://www.MedCram.com](https://www.youtube.com/redirect?redir_token=cDS745r0BlJApODrQAFF9XmN3C98MTU4ODEyNjYxNEAxNTg4MDQwMjE0&v=22Bn8jsGI54&q=https%3A%2F%2Fwww.MedCram.com&event=video_description)\n",
      "URL parse error with http://green-weight-loss-tea.blogspot.com]weight\n",
      "URL parse error with http://green-weight-loss-tea.blogspot.com]Click\n",
      "URL parse error with https://UltimateBliss.in](https://l.facebook.com/l.php?u=https%3A%2F%2FUltimateBliss.in%2F%3Ffbclid%3DIwAR3PLi2jVNmbgyg82UHN_LQnFDQ-e8AdcxHbqbx9QXjAbyj0iOKPdSFrjEk&h=AT1eisJwsUYpubhXMhGfvqEmSh0F2cUYVgpsMVWnMpjbsxNf3WcBCg9QeBpfnsMcV3PAFJi8tthTuznI8NFJfhPn5zzTFbE8XqZoekJvY-Jj1pcfmxac94gGOJUk1TLGwfWTDqY04yrpRJsF9yaz&__tn__=-UK-R&c[0]=AT2J1JKp6Uss2EPDe3TrwXQjRalnMhcmQs2Rd_9pXRu0RvmhisTcfKQvs0nbYAzzBO0YnuV4pnlrK-P-e4SPmsxewPyV7gekLonNTBzU8aoFEhUN1lTf2G9hr-BHMt_VDPCV)\n",
      "URL parse error with https://Spirituality.in.net](https://l.facebook.com/l.php?u=https%3A%2F%2FSpirituality.in.net%2F%3Ffbclid%3DIwAR2vBr9PFVaQ87pPp0P6z12FZfRaBlwZIZ41MBDZMxEsYTPbLT-Luhgc42U&h=AT3n7UDJUd2iJzX_D1RJXU3pKYvhbsqoSbfqpbThkMlWwoPhWV_FcZCxj8aoHpGU9Ta-Dt5Q8R1Qy8OSyXWv41Y8xrvood1IL6MGgtT67DPLKvbjBBXitcv02NILgRcC19aYQeqSDcJTvXDsO0bj&__tn__=-UK-R&c[0]=AT2J1JKp6Uss2EPDe3TrwXQjRalnMhcmQs2Rd_9pXRu0RvmhisTcfKQvs0nbYAzzBO0YnuV4pnlrK-P-e4SPmsxewPyV7gekLonNTBzU8aoFEhUN1lTf2G9hr-BHMt_VDPCV)\n",
      "URL parse error with https://cspinet.org](https://cspinet.org/)).\n"
     ]
    },
    {
     "name": "stderr",
     "output_type": "stream",
     "text": [
      "<ipython-input-51-5286c5d702dc>:5: SettingWithCopyWarning: \n",
      "A value is trying to be set on a copy of a slice from a DataFrame.\n",
      "Try using .loc[row_indexer,col_indexer] = value instead\n",
      "\n",
      "See the caveats in the documentation: https://pandas.pydata.org/pandas-docs/stable/user_guide/indexing.html#returning-a-view-versus-a-copy\n",
      "  facebook_liwc_no_pet['processed_text'] = facebook_liwc_no_pet.processed_text.apply(lambda x: url_replacement(x, \"host\"))\n",
      "<ipython-input-51-5286c5d702dc>:6: SettingWithCopyWarning: \n",
      "A value is trying to be set on a copy of a slice from a DataFrame.\n",
      "Try using .loc[row_indexer,col_indexer] = value instead\n",
      "\n",
      "See the caveats in the documentation: https://pandas.pydata.org/pandas-docs/stable/user_guide/indexing.html#returning-a-view-versus-a-copy\n",
      "  facebook_liwc_no_pet['processed_text'] = facebook_liwc_no_pet.processed_text.apply(p.clean) #Preprocessor removes hashtags and cleans text\n",
      "<ipython-input-51-5286c5d702dc>:7: SettingWithCopyWarning: \n",
      "A value is trying to be set on a copy of a slice from a DataFrame.\n",
      "Try using .loc[row_indexer,col_indexer] = value instead\n",
      "\n",
      "See the caveats in the documentation: https://pandas.pydata.org/pandas-docs/stable/user_guide/indexing.html#returning-a-view-versus-a-copy\n",
      "  facebook_liwc_no_pet['processed_text'] = facebook_liwc_no_pet.processed_text.apply(str.lower) #Convert to lowercase\n",
      "<ipython-input-51-5286c5d702dc>:8: SettingWithCopyWarning: \n",
      "A value is trying to be set on a copy of a slice from a DataFrame.\n",
      "Try using .loc[row_indexer,col_indexer] = value instead\n",
      "\n",
      "See the caveats in the documentation: https://pandas.pydata.org/pandas-docs/stable/user_guide/indexing.html#returning-a-view-versus-a-copy\n",
      "  facebook_liwc_no_pet['processed_text'] = facebook_liwc_no_pet.processed_text.apply(lambda x: ''.join([i for i in x if not i.isdigit()])) #Remove numbers\n",
      "<ipython-input-51-5286c5d702dc>:9: SettingWithCopyWarning: \n",
      "A value is trying to be set on a copy of a slice from a DataFrame.\n",
      "Try using .loc[row_indexer,col_indexer] = value instead\n",
      "\n",
      "See the caveats in the documentation: https://pandas.pydata.org/pandas-docs/stable/user_guide/indexing.html#returning-a-view-versus-a-copy\n",
      "  facebook_liwc_no_pet['processed_text'] = facebook_liwc_no_pet.processed_text.apply(lambda x: re.sub('[^a-zA-z]', \" \", x)) #Remove non-letters\n"
     ]
    }
   ],
   "source": [
    "print(\"Now processing text!\")\n",
    "facebook_liwc_no_pet['processed_text'] = facebook_liwc_no_pet.Message.apply(str) #Change to string\n",
    "facebook_liwc_no_pet['processed_text'] = facebook_liwc_no_pet.processed_text.apply(html.unescape) #Remove HTML escape characters\n",
    "facebook_liwc_no_pet['processed_text_bert'] = facebook_liwc_no_pet['processed_text'] #Create new column for BERT-specific embeddings (don't want to remove additional information)\n",
    "facebook_liwc_no_pet['processed_text'] = facebook_liwc_no_pet.processed_text.apply(lambda x: url_replacement(x, \"host\"))\n",
    "facebook_liwc_no_pet['processed_text'] = facebook_liwc_no_pet.processed_text.apply(p.clean) #Preprocessor removes hashtags and cleans text\n",
    "facebook_liwc_no_pet['processed_text'] = facebook_liwc_no_pet.processed_text.apply(str.lower) #Convert to lowercase\n",
    "facebook_liwc_no_pet['processed_text'] = facebook_liwc_no_pet.processed_text.apply(lambda x: ''.join([i for i in x if not i.isdigit()])) #Remove numbers\n",
    "facebook_liwc_no_pet['processed_text'] = facebook_liwc_no_pet.processed_text.apply(lambda x: re.sub('[^a-zA-z]', \" \", x)) #Remove non-letters"
   ]
  },
  {
   "cell_type": "markdown",
   "metadata": {},
   "source": [
    "# Additional Processing"
   ]
  },
  {
   "cell_type": "code",
   "execution_count": 52,
   "metadata": {},
   "outputs": [
    {
     "name": "stdout",
     "output_type": "stream",
     "text": [
      "Now tokenizing\n"
     ]
    },
    {
     "name": "stderr",
     "output_type": "stream",
     "text": [
      "<ipython-input-52-2b409486851a>:2: SettingWithCopyWarning: \n",
      "A value is trying to be set on a copy of a slice from a DataFrame.\n",
      "Try using .loc[row_indexer,col_indexer] = value instead\n",
      "\n",
      "See the caveats in the documentation: https://pandas.pydata.org/pandas-docs/stable/user_guide/indexing.html#returning-a-view-versus-a-copy\n",
      "  facebook_liwc_no_pet['tokens'] = facebook_liwc_no_pet.processed_text.apply(word_tokenize)\n"
     ]
    },
    {
     "name": "stdout",
     "output_type": "stream",
     "text": [
      "Now removing stop words\n"
     ]
    },
    {
     "name": "stderr",
     "output_type": "stream",
     "text": [
      "<ipython-input-52-2b409486851a>:6: SettingWithCopyWarning: \n",
      "A value is trying to be set on a copy of a slice from a DataFrame.\n",
      "Try using .loc[row_indexer,col_indexer] = value instead\n",
      "\n",
      "See the caveats in the documentation: https://pandas.pydata.org/pandas-docs/stable/user_guide/indexing.html#returning-a-view-versus-a-copy\n",
      "  facebook_liwc_no_pet['tokens'] = facebook_liwc_no_pet.tokens.apply(lambda x: [item for item in x if item not in stop_words])\n"
     ]
    },
    {
     "name": "stdout",
     "output_type": "stream",
     "text": [
      "Now lemmatizing\n"
     ]
    },
    {
     "name": "stderr",
     "output_type": "stream",
     "text": [
      "<ipython-input-52-2b409486851a>:10: SettingWithCopyWarning: \n",
      "A value is trying to be set on a copy of a slice from a DataFrame.\n",
      "Try using .loc[row_indexer,col_indexer] = value instead\n",
      "\n",
      "See the caveats in the documentation: https://pandas.pydata.org/pandas-docs/stable/user_guide/indexing.html#returning-a-view-versus-a-copy\n",
      "  facebook_liwc_no_pet['tokens'] = facebook_liwc_no_pet.tokens.apply(lambda x: [lemma.lemmatize(word = w, pos = 'v') for w in x])\n"
     ]
    },
    {
     "name": "stdout",
     "output_type": "stream",
     "text": [
      "Now converting back to final string\n"
     ]
    },
    {
     "name": "stderr",
     "output_type": "stream",
     "text": [
      "<ipython-input-52-2b409486851a>:14: SettingWithCopyWarning: \n",
      "A value is trying to be set on a copy of a slice from a DataFrame.\n",
      "Try using .loc[row_indexer,col_indexer] = value instead\n",
      "\n",
      "See the caveats in the documentation: https://pandas.pydata.org/pandas-docs/stable/user_guide/indexing.html#returning-a-view-versus-a-copy\n",
      "  facebook_liwc_no_pet['final_text'] = facebook_liwc_no_pet.tokens.apply(lambda x: ' '.join(x))\n"
     ]
    }
   ],
   "source": [
    "print(\"Now tokenizing\")\n",
    "facebook_liwc_no_pet['tokens'] = facebook_liwc_no_pet.processed_text.apply(word_tokenize)\n",
    "\n",
    "print(\"Now removing stop words\")\n",
    "stop_words = set(stopwords.words('english'))\n",
    "facebook_liwc_no_pet['tokens'] = facebook_liwc_no_pet.tokens.apply(lambda x: [item for item in x if item not in stop_words])\n",
    "\n",
    "print(\"Now lemmatizing\")\n",
    "lemma = WordNetLemmatizer()\n",
    "facebook_liwc_no_pet['tokens'] = facebook_liwc_no_pet.tokens.apply(lambda x: [lemma.lemmatize(word = w, pos = 'v') for w in x])\n",
    "\n",
    "print(\"Now converting back to final string\")\n",
    "\n",
    "facebook_liwc_no_pet['final_text'] = facebook_liwc_no_pet.tokens.apply(lambda x: ' '.join(x))"
   ]
  },
  {
   "cell_type": "markdown",
   "metadata": {},
   "source": [
    "# Feature Matrix Construction"
   ]
  },
  {
   "cell_type": "markdown",
   "metadata": {},
   "source": [
    "## TF-IDF"
   ]
  },
  {
   "cell_type": "code",
   "execution_count": 53,
   "metadata": {},
   "outputs": [
    {
     "name": "stdout",
     "output_type": "stream",
     "text": [
      "Now running TFIDF!\n",
      "Count Vectorizer\n",
      "Get Feature Names\n",
      "TFIDF Vectorizer\n"
     ]
    },
    {
     "name": "stderr",
     "output_type": "stream",
     "text": [
      "/Users/catherinepollack/opt/anaconda3/lib/python3.8/site-packages/sklearn/utils/deprecation.py:87: FutureWarning: Function get_feature_names is deprecated; get_feature_names is deprecated in 1.0 and will be removed in 1.2. Please use get_feature_names_out instead.\n",
      "  warnings.warn(msg, category=FutureWarning)\n"
     ]
    },
    {
     "name": "stdout",
     "output_type": "stream",
     "text": [
      "Compiling Rankings\n",
      "              term          rank\n",
      "44         com url  37808.973986\n",
      "336    weight loss  26146.941193\n",
      "193         ly url  15374.250588\n",
      "186    lose weight  14369.514303\n",
      "138  heart disease  13899.112503\n",
      "['abnormal hormone', 'abnormal level', 'abuse poor', 'acquire secondary', 'alcohol consumption', 'alcohol drug', 'also help', 'anxiety alcohol', 'anxiety issue', 'api whatsapp', 'arm reduce', 'atherosclerosis gloom', 'attack land', 'back fruit', 'bad dream', 'baldness ulcers', 'become slim', 'begin wth', 'belly fat', 'best result', 'best without', 'bite ly', 'blood pressure', 'blood sugar', 'body fat', 'body image', 'body mass', 'body weight', 'brain chemicals', 'business boom', 'call neurotransmitters', 'call whatsapp', 'cancer baldness', 'capsule natural', 'cardiovascular disease', 'cause cause', 'cause early', 'challenge reduce', 'chemicals call', 'chemicals low', 'childhood obesity', 'chronic diseases', 'click link', 'climax occur', 'com url', 'command tone', 'confidence relationships', 'consumption solutuon', 'contact us', 'control intimacy', 'court case', 'damage atherosclerosis', 'days challenge', 'decrease confidence', 'decrease libido', 'depression abnormal', 'depression prostate', 'depression worry', 'desire early', 'detail inbox', 'detail whatsapp', 'develop previous', 'diabetes diabetic', 'diabetes heart', 'diabetes high', 'diabetes multiple', 'diabetes obesity', 'diabetic obesity', 'diet exercise', 'diet without', 'disease diabetes', 'disease obesity', 'disease thyroid', 'dream promise', 'drug diabetes', 'drug use', 'early ejaculation', 'early sexual', 'effect skip', 'effect without', 'effective permanent', 'ejaculate sooner', 'ejaculation cause', 'ejaculation guilty', 'ejaculation occur', 'ejaculatory problems', 'erectile dysfunction', 'erection decrease', 'esteem smoke', 'every day', 'examination success', 'excessive alcohol', 'excitment much', 'exercise side', 'exercise without', 'exhaustion improve', 'experience sexual', 'experience without', 'facebook com', 'family history', 'fat obesity', 'fat post', 'fat thyroid', 'fatigue exhaustion', 'fatigue obesity', 'favour ring', 'fear uncertainties', 'fedup mummy', 'feel increase', 'fight obesity', 'figure reduce', 'figure thighs', 'financial breakthrough', 'first sexual', 'fit figure', 'fit remove', 'forever detail', 'formula relieve', 'fruit womb', 'get back', 'get days', 'get rid', 'get slim', 'gloom fear', 'good luck', 'guarantee weight', 'guide best', 'guilty feel', 'heal male', 'health benefit', 'health care', 'health condition', 'health issue', 'health problems', 'health product', 'healthy lifestyle', 'healthy weight', 'heart attack', 'heart disease', 'help call', 'help get', 'help prevent', 'help reduce', 'high blood', 'high cholesterol', 'high risk', 'higher risk', 'hormonal imbalance', 'hormone imbalance', 'hormone level', 'hypertension diabetes', 'hypertension prostate', 'image depression', 'imbalance abnormal', 'imbalance multiple', 'immune system', 'impotence permanently', 'improve vitality', 'inability maintain', 'inch loss', 'increase risk', 'increase ur', 'infection prostate', 'inflammation infection', 'inherit traits', 'intensive formula', 'intercourse acquire', 'intercourse partner', 'intercourse sexual', 'intimacy decrease', 'issue relate', 'join us', 'join weight', 'joint pain', 'kgs want', 'kidney disease', 'land court', 'level brain', 'level hormonal', 'libido sexual', 'life long', 'like orgasm', 'liver disease', 'long primary', 'long term', 'lose glory', 'lose weight', 'loss best', 'loss inch', 'loss program', 'love ring', 'low self', 'lower risk', 'ly url', 'maintain erection', 'maintain healthy', 'make sure', 'male impotence', 'man ejaculate', 'management course', 'many people', 'marriage success', 'mass index', 'masturbation depression', 'may also', 'meals get', 'meals slim', 'medical condition', 'mental health', 'morbidly obese', 'much stimulation', 'multiple sclerosis', 'mummy tummy', 'narcotics hormone', 'natural health', 'nearly time', 'nerve damage', 'neurotransmitters inflammation', 'new study', 'obesity diabetes', 'obesity diet', 'obesity fedup', 'obesity pcod', 'obesity problems', 'obesity stroke', 'occur man', 'occur nearly', 'occur sooner', 'org url', 'orgasm climax', 'overweight obese', 'ow ly', 'partner would', 'pcod pcos', 'pcos obesity', 'per day', 'permanent treatment', 'permanently help', 'physical activity', 'political appointment', 'poor body', 'post pregnancy', 'pregnancy fat', 'premature ejaculation', 'pressure hypertension', 'prevent heal', 'previous sexual', 'primary occur', 'problems drug', 'problems relationships', 'problems stress', 'product usa', 'program get', 'promise fail', 'promotion work', 'prostate cancer', 'prostate disease', 'prostate surgery', 'prostate urethra', 'protection ring', 'public health', 'recover lose', 'reduce arm', 'reduce get', 'reduce kgs', 'reduce risk', 'reduce weight', 'relate control', 'relationship stress', 'relationships depression', 'relationships inability', 'relieve fatigue', 'remove belly', 'result join', 'result weight', 'ring favour', 'ring marriage', 'ring recover', 'risk develop', 'risk factor', 'risk obesity', 'rush sexual', 'sadness fatigue', 'sclerosis nerve', 'sclerosis prostate', 'secondary develop', 'self esteem', 'sexual abuse', 'sexual desire', 'sexual experience', 'sexual intercourse', 'sexual unexperience', 'sickle cell', 'side effect', 'skip meals', 'slim body', 'slim fit', 'slim forever', 'smoke narcotics', 'solutuon xpowerman', 'sooner sexual', 'sooner want', 'spend get', 'spiritual attack', 'stimulation relationship', 'stress anxiety', 'study show', 'success love', 'sugar level', 'surgery masturbation', 'tendency rush', 'thighs reduce', 'thyroid obesity', 'thyroid problems', 'time begin', 'tone protection', 'traits diabetes', 'treatment intensive', 'tummy guide', 'type diabetes', 'ulcers use', 'uncertainties sadness', 'unexperience excitment', 'unite state', 'ur first', 'ur tendency', 'urethra inherit', 'usa effective', 'use chemicals', 'use excessive', 'visa approval', 'vitality prevent', 'wa url', 'want become', 'want life', 'weight gain', 'weight loss', 'weight management', 'whatsapp call', 'whatsapp com', 'without diet', 'without ejaculatory', 'without exercise', 'without side', 'without skip', 'work command', 'worry premature', 'would like', 'wth ur', 'www facebook', 'xpowerman capsule', 'year old', 'years old']\n"
     ]
    }
   ],
   "source": [
    "print(\"Now running TFIDF!\")\n",
    "count_vectorizer = CountVectorizer(ngram_range = (2,2), min_df = 0.01, max_df = 0.75)\n",
    "tfidf_vectorizer = TfidfVectorizer(ngram_range=(2,2), min_df = 0.01, max_df = 0.75)\n",
    "print(\"Count Vectorizer\")\n",
    "count_matrix = count_vectorizer.fit_transform(facebook_liwc_no_pet['final_text'])\n",
    "print(\"Get Feature Names\")\n",
    "features = count_vectorizer.get_feature_names()\n",
    "print(\"TFIDF Vectorizer\")\n",
    "tfidf_matrix = tfidf_vectorizer.fit_transform(facebook_liwc_no_pet['final_text'])\n",
    "scores = np.asarray(tfidf_matrix)\n",
    "sums = tfidf_matrix.sum(axis = 0)\n",
    "data = []\n",
    "print(\"Compiling Rankings\")\n",
    "for col, term in enumerate(features):\n",
    "    data.append((term, sums[0,col]))\n",
    "ranking = pd.DataFrame(data, columns = ['term', 'rank'])\n",
    "words = ranking.sort_values('rank', ascending = False)\n",
    "print(words.head())\n",
    "\n",
    "tf_idf_dataframe = pd.DataFrame(tfidf_matrix.todense())\n",
    "\n",
    "# Creating list of terms that can be used as column names\n",
    "terms = []\n",
    "for col, term in enumerate(features):\n",
    "    terms.append(term)\n",
    "print(terms)\n",
    "\n",
    "tf_idf_dataframe.columns = [x for x in terms]"
   ]
  },
  {
   "cell_type": "markdown",
   "metadata": {},
   "source": [
    "## Sentiment Analysis"
   ]
  },
  {
   "cell_type": "code",
   "execution_count": 54,
   "metadata": {},
   "outputs": [
    {
     "name": "stdout",
     "output_type": "stream",
     "text": [
      "Now running sentiment analysis!\n"
     ]
    }
   ],
   "source": [
    "print(\"Now running sentiment analysis!\")\n",
    "sid = SentimentIntensityAnalyzer()\n",
    "sentiments = pd.DataFrame(columns = ['neg', 'neu', 'pos', 'compound'])\n",
    "for text in facebook_liwc_no_pet['processed_text_bert']:\n",
    "    sentiments = get_vader_score(sid, text, sentiments)"
   ]
  },
  {
   "cell_type": "markdown",
   "metadata": {},
   "source": [
    "## Compiling Feature Matrix"
   ]
  },
  {
   "cell_type": "code",
   "execution_count": 57,
   "metadata": {},
   "outputs": [
    {
     "name": "stdout",
     "output_type": "stream",
     "text": [
      "Now running feature matrix!\n"
     ]
    }
   ],
   "source": [
    "print(\"Now running feature matrix!\")\n",
    "feature_matrix_no_bert = pd.concat([tf_idf_dataframe.reset_index(), \n",
    "                            sentiments.reset_index(), \n",
    "                            facebook_liwc_no_pet.reset_index()],\n",
    "                          axis = 1)\n",
    "file_name = \"/220120_feature_matrix_no_bert.csv\"\n",
    "feature_matrix_no_bert.to_csv(str(data_file_path + file_name))"
   ]
  }
 ],
 "metadata": {
  "interpreter": {
   "hash": "ffe67d4efdf50a67adb541926f1b56bfeeb48b191d1b9a6489e883c5acad5bda"
  },
  "kernelspec": {
   "display_name": "Python 3.8.8 64-bit ('base': conda)",
   "name": "python3"
  },
  "language_info": {
   "codemirror_mode": {
    "name": "ipython",
    "version": 3
   },
   "file_extension": ".py",
   "mimetype": "text/x-python",
   "name": "python",
   "nbconvert_exporter": "python",
   "pygments_lexer": "ipython3",
   "version": "3.8.8"
  },
  "toc": {
   "base_numbering": 1,
   "nav_menu": {},
   "number_sections": true,
   "sideBar": true,
   "skip_h1_title": false,
   "title_cell": "Table of Contents",
   "title_sidebar": "Contents",
   "toc_cell": false,
   "toc_position": {},
   "toc_section_display": true,
   "toc_window_display": false
  },
  "varInspector": {
   "cols": {
    "lenName": 16,
    "lenType": 16,
    "lenVar": 40
   },
   "kernels_config": {
    "python": {
     "delete_cmd_postfix": "",
     "delete_cmd_prefix": "del ",
     "library": "var_list.py",
     "varRefreshCmd": "print(var_dic_list())"
    },
    "r": {
     "delete_cmd_postfix": ") ",
     "delete_cmd_prefix": "rm(",
     "library": "var_list.r",
     "varRefreshCmd": "cat(var_dic_list()) "
    }
   },
   "types_to_exclude": [
    "module",
    "function",
    "builtin_function_or_method",
    "instance",
    "_Feature"
   ],
   "window_display": false
  }
 },
 "nbformat": 4,
 "nbformat_minor": 4
}
