{
 "cells": [
  {
   "cell_type": "markdown",
   "metadata": {},
   "source": [
    "# Libraries"
   ]
  },
  {
   "cell_type": "code",
   "execution_count": 12,
   "metadata": {},
   "outputs": [],
   "source": [
    "import matplotlib.pyplot as plt\n",
    "import numpy as np\n",
    "import pandas as pd\n",
    "import scipy.cluster.hierarchy as shc\n",
    "\n",
    "from collections import Counter\n",
    "from sklearn.cluster import AgglomerativeClustering, DBSCAN, KMeans\n",
    "from sklearn.metrics import silhouette_score\n",
    "from sklearn.neighbors._nearest_centroid import NearestCentroid"
   ]
  },
  {
   "cell_type": "markdown",
   "metadata": {},
   "source": [
    "# Data"
   ]
  },
  {
   "cell_type": "code",
   "execution_count": 3,
   "metadata": {},
   "outputs": [
    {
     "name": "stderr",
     "output_type": "stream",
     "text": [
      "/Users/catherinepollack/opt/anaconda3/lib/python3.8/site-packages/IPython/core/interactiveshell.py:3165: DtypeWarning: Columns (84) have mixed types.Specify dtype option on import or set low_memory=False.\n",
      "  has_raised = await self.run_ast_nodes(code_ast.body, cell_name,\n",
      "/Users/catherinepollack/opt/anaconda3/lib/python3.8/site-packages/IPython/core/interactiveshell.py:3165: DtypeWarning: Columns (97,98,99,100) have mixed types.Specify dtype option on import or set low_memory=False.\n",
      "  has_raised = await self.run_ast_nodes(code_ast.body, cell_name,\n"
     ]
    }
   ],
   "source": [
    "file_path = \"/Users/catherinepollack/Documents/dartmouth/research/aim3_facebook_covid19_obesity/data\"\n",
    "dat_obesity = \"/211105_feature_matrix_bert.csv\"\n",
    "dat_health = \"/211214_feature_matrix_bert_health_comparator.csv\"\n",
    "dat_nonhealth = \"/211214_feature_matrix_bert_nonhealth_comparator.csv\"\n",
    "\n",
    "dat_obesity = pd.read_csv(str(file_path + dat_obesity))\n",
    "dat_health = pd.read_csv(str(file_path + dat_health))\n",
    "dat_nonhealth = pd.read_csv(str(file_path + dat_nonhealth))"
   ]
  },
  {
   "cell_type": "markdown",
   "metadata": {},
   "source": [
    "# Feature Matrix Curation"
   ]
  },
  {
   "cell_type": "markdown",
   "metadata": {},
   "source": [
    "## Obesity"
   ]
  },
  {
   "cell_type": "code",
   "execution_count": 4,
   "metadata": {},
   "outputs": [
    {
     "name": "stdout",
     "output_type": "stream",
     "text": [
      "(629960, 938)\n"
     ]
    }
   ],
   "source": [
    "#api whatsapp : without skip\n",
    "#neg: compound\n",
    "#WC: OtherP\n",
    "#BERT 0 : BERT 767\n",
    "dat_obesity_1 = dat_obesity.loc[:,\"api whatsapp\":\"without skip\"]\n",
    "dat_obesity_2 = dat_obesity.loc[:,\"neg\":\"compound\"]\n",
    "dat_obesity_3 = dat_obesity.loc[:,\"WC\":\"OtherP\"]\n",
    "dat_obesity_4 = dat_obesity.loc[:,\"BERT 0\":\"BERT 767\"]\n",
    "dat_obesity_fm = pd.concat([dat_obesity_1,\n",
    "                            dat_obesity_2,\n",
    "                            dat_obesity_3,\n",
    "                            dat_obesity_4],\n",
    "                            axis = 1)\n",
    "dat_obesity_fm.head()\n",
    "print(dat_obesity_fm.shape) #629960                           \n"
   ]
  },
  {
   "cell_type": "markdown",
   "metadata": {},
   "source": [
    "## Health Comparator"
   ]
  },
  {
   "cell_type": "code",
   "execution_count": 5,
   "metadata": {},
   "outputs": [
    {
     "name": "stdout",
     "output_type": "stream",
     "text": [
      "(400618, 892)\n"
     ]
    }
   ],
   "source": [
    "#api whatsapp : without skip\n",
    "#neg: compound\n",
    "#WC: OtherP\n",
    "#BERT 0 : BERT 767\n",
    "dat_health_1 = dat_health.loc[:,\"back pain\":\"taste smell\"]\n",
    "dat_health_2 = dat_health.loc[:,\"neg\":\"compound\"]\n",
    "dat_health_3 = dat_health.loc[:,\"WC\":\"OtherP\"]\n",
    "dat_health_4 = dat_health.loc[:,\"BERT 0\":\"BERT 767\"]\n",
    "dat_health_fm = pd.concat([dat_health_1,\n",
    "                            dat_health_2,\n",
    "                            dat_health_3,\n",
    "                            dat_health_4],\n",
    "                            axis = 1)\n",
    "print(dat_health_fm.shape) #400,618                             \n"
   ]
  },
  {
   "cell_type": "markdown",
   "metadata": {},
   "source": [
    "## Non-Health Comparator"
   ]
  },
  {
   "cell_type": "code",
   "execution_count": 6,
   "metadata": {},
   "outputs": [
    {
     "name": "stdout",
     "output_type": "stream",
     "text": [
      "(133083, 951)\n"
     ]
    }
   ],
   "source": [
    "#api whatsapp : without skip\n",
    "#neg: compound\n",
    "#WC: OtherP\n",
    "#BERT 0 : BERT 767\n",
    "dat_nonhealth_1 = dat_nonhealth.loc[:,\"ableton mix\":\"zbitnov drum\"]\n",
    "dat_nonhealth_2 = dat_nonhealth.loc[:,\"neg\":\"compound\"]\n",
    "dat_nonhealth_3 = dat_nonhealth.loc[:,\"WC\":\"OtherP\"]\n",
    "dat_nonhealth_4 = dat_nonhealth.loc[:,\"BERT 0\":\"BERT 767\"]\n",
    "dat_nonhealth_fm = pd.concat([dat_nonhealth_1,\n",
    "                            dat_nonhealth_2,\n",
    "                            dat_nonhealth_3,\n",
    "                            dat_nonhealth_4],\n",
    "                            axis = 1)\n",
    "print(dat_nonhealth_fm.shape) #133,083              "
   ]
  },
  {
   "cell_type": "markdown",
   "metadata": {},
   "source": [
    "# Clustering"
   ]
  },
  {
   "cell_type": "markdown",
   "metadata": {},
   "source": [
    "- Randomly Sample and Run Hierarchical Clustering, then run KMeans and DBSCAN\n",
    "- LDA\n",
    "- Pick Features Based on Reddit Analysis"
   ]
  },
  {
   "cell_type": "markdown",
   "metadata": {},
   "source": [
    "## Randomly Sample and Run Hierarchical Clustering"
   ]
  },
  {
   "cell_type": "markdown",
   "metadata": {},
   "source": [
    "### Part 1. Sample and Run Initial Hierarchical Clustering"
   ]
  },
  {
   "cell_type": "code",
   "execution_count": 8,
   "metadata": {},
   "outputs": [
    {
     "data": {
      "image/png": "[encoded data removed]",
      "text/plain": [
       "<Figure size 1008x504 with 1 Axes>"
      ]
     },
     "metadata": {
      "needs_background": "light"
     },
     "output_type": "display_data"
    }
   ],
   "source": [
    "## Randomly sample 1% of the data frame\n",
    "dat_obesity_fm_1 = dat_obesity_fm.sample(frac = 0.01,\n",
    "                                          random_state = 110295)\n",
    "\n",
    "## Run hierarchical clustering\n",
    "plt.figure(figsize=(14, 7))\n",
    "dend = shc.dendrogram(shc.linkage(dat_obesity_fm_1, \n",
    "                                  method='ward'))"
   ]
  },
  {
   "cell_type": "markdown",
   "metadata": {},
   "source": [
    "### Part 2: Assign Labels to Sample and Identify Centroids"
   ]
  },
  {
   "cell_type": "markdown",
   "metadata": {},
   "source": [
    "#### Identify Number of Clusters"
   ]
  },
  {
   "cell_type": "code",
   "execution_count": 9,
   "metadata": {},
   "outputs": [
    {
     "data": {
      "text/plain": [
       "Counter({'C1': 2, 'C2': 4380, 'C3': 731, 'C4': 1047, 'C5': 140})"
      ]
     },
     "execution_count": 9,
     "metadata": {},
     "output_type": "execute_result"
    }
   ],
   "source": [
    "Counter(dend['leaves_color_list']) #4 clusters"
   ]
  },
  {
   "cell_type": "markdown",
   "metadata": {},
   "source": [
    "#### Clustering Sampled Data to Find Centroid"
   ]
  },
  {
   "cell_type": "code",
   "execution_count": 10,
   "metadata": {},
   "outputs": [],
   "source": [
    "model_agg = AgglomerativeClustering(n_clusters = 4,\n",
    "                                    affinity=\"euclidean\",\n",
    "                                    linkage = \"ward\")\n",
    "\n",
    "yhat_agg = model_agg.fit_predict(dat_obesity_fm_1)"
   ]
  },
  {
   "cell_type": "markdown",
   "metadata": {},
   "source": [
    "#### Finding Centroids"
   ]
  },
  {
   "cell_type": "code",
   "execution_count": 13,
   "metadata": {},
   "outputs": [
    {
     "data": {
      "text/plain": [
       "NearestCentroid()"
      ]
     },
     "execution_count": 13,
     "metadata": {},
     "output_type": "execute_result"
    }
   ],
   "source": [
    "find_center = NearestCentroid()\n",
    "find_center.fit(dat_obesity_fm_1, yhat_agg)\n",
    "centoids = find_center.centroids_"
   ]
  },
  {
   "cell_type": "markdown",
   "metadata": {},
   "source": [
    "### Part 3. Run K-Means and DBSCAN to Get Full Clustering"
   ]
  },
  {
   "cell_type": "markdown",
   "metadata": {},
   "source": [
    "#### KMeans with Centers from Agglomerative Clustering"
   ]
  },
  {
   "cell_type": "code",
   "execution_count": 17,
   "metadata": {},
   "outputs": [
    {
     "name": "stdout",
     "output_type": "stream",
     "text": [
      "KMeans\n"
     ]
    },
    {
     "name": "stderr",
     "output_type": "stream",
     "text": [
      "/Users/catherinepollack/opt/anaconda3/lib/python3.8/site-packages/sklearn/cluster/_kmeans.py:984: RuntimeWarning: Explicit initial center position passed: performing only one init in KMeans instead of n_init=10.\n",
      "  self._check_params(X)\n"
     ]
    }
   ],
   "source": [
    "model_kmeans = KMeans(n_clusters = 4,\n",
    "                      random_state = 110295,\n",
    "                      init = centoids)\n",
    "yhat_kmeans = model_kmeans.fit_predict(dat_obesity_fm)"
   ]
  },
  {
   "cell_type": "markdown",
   "metadata": {},
   "source": [
    "#### K-Means ++ "
   ]
  },
  {
   "cell_type": "code",
   "execution_count": null,
   "metadata": {},
   "outputs": [],
   "source": [
    "model_kmeans = KMeans(n_clusters = 4,\n",
    "                      random_state = 110295,\n",
    "                      init = \"k-means++\")\n",
    "yhat_kmeans = model_kmeans.fit_predict(dat_obesity_fm)\n",
    "print(silhouette_score(dat_obesity_fm, yhat_kmeans, metric='euclidean')) #0.358"
   ]
  },
  {
   "cell_type": "markdown",
   "metadata": {},
   "source": [
    "#### DBSCAN"
   ]
  },
  {
   "cell_type": "code",
   "execution_count": null,
   "metadata": {},
   "outputs": [],
   "source": [
    "model_db = DBSCAN()\n",
    "yhat_db = model_db.fit_predict(dat_obesity_fm)"
   ]
  },
  {
   "cell_type": "markdown",
   "metadata": {},
   "source": [
    "## Obesity Data"
   ]
  },
  {
   "cell_type": "code",
   "execution_count": null,
   "metadata": {},
   "outputs": [],
   "source": [
    "print(\"Agglomerative\")\n",
    "model_agg = AgglomerativeClustering()\n",
    "yhat_agg = model_agg.fit_predict(dat_obesity_fm)\n",
    "\n",
    "print(\"DBSCAN\")\n",
    "model_db = DBSCAN()\n",
    "yhat_db = model_db.fit_predict(dat_obesity_fm)\n",
    "\n",
    "print(\"BIRCH\")\n",
    "model_birch= Birch()\n",
    "yhat_birch = model_birch.fit_predict(dat_obesity_fm)\n",
    "\n",
    "print(\"KMeans\")\n",
    "model_kmeans = KMeans()\n",
    "yhat_kmeans = model_kmeans.fit_predict(dat_obesity_fm)\n",
    "\n",
    "obesity_labels = pd.DataFrame({\"agglomerate\": yhat_agg,\n",
    "                    \"dbscan\": yhat_db,\n",
    "                    \"birch\": yhat_birch,\n",
    "                    \"kmeans\": yhat_kmeans})\n",
    "\n",
    "print(\"Silhouette Scores for Health Comparator\")\n",
    "print(\"Agglomerative\")\n",
    "print(silhouette_score(dat_obesity_fm, obesity_labels.agglomerate, metric='euclidean')) #0.358\n",
    "print(\"DBSCAN\")\n",
    "print(silhouette_score(dat_obesity_fm, obesity_labels.dbscan, metric='euclidean')) #0.106\n",
    "print(\"BIRCH\")\n",
    "print(silhouette_score(dat_obesity_fm, obesity_labels.birch, metric='euclidean')) #0.343\n",
    "print(\"KMeans\")\n",
    "print(silhouette_score(dat_obesity_fm, obesity_labels.kmeans, metric='euclidean')) #0.241"
   ]
  }
 ],
 "metadata": {
  "interpreter": {
   "hash": "ffe67d4efdf50a67adb541926f1b56bfeeb48b191d1b9a6489e883c5acad5bda"
  },
  "kernelspec": {
   "display_name": "Python 3.8.8 64-bit ('base': conda)",
   "language": "python",
   "name": "python3"
  },
  "language_info": {
   "codemirror_mode": {
    "name": "ipython",
    "version": 3
   },
   "file_extension": ".py",
   "mimetype": "text/x-python",
   "name": "python",
   "nbconvert_exporter": "python",
   "pygments_lexer": "ipython3",
   "version": "3.8.8"
  },
  "orig_nbformat": 4
 },
 "nbformat": 4,
 "nbformat_minor": 2
}
