{
 "cells": [
  {
   "cell_type": "markdown",
   "metadata": {},
   "source": [
    "# Libraries"
   ]
  },
  {
   "cell_type": "code",
   "execution_count": 70,
   "metadata": {},
   "outputs": [
    {
     "name": "stderr",
     "output_type": "stream",
     "text": [
      "/Users/catherinepollack/opt/anaconda3/lib/python3.8/site-packages/ipykernel/ipkernel.py:287: DeprecationWarning: `should_run_async` will not call `transform_cell` automatically in the future. Please pass the result to `transformed_cell` argument and any exception that happen during thetransform in `preprocessing_exc_tuple` in IPython 7.17 and above.\n",
      "  and should_run_async(code)\n"
     ]
    }
   ],
   "source": [
    "import ast\n",
    "import gensim\n",
    "import gensim.corpora as corpora \n",
    "import matplotlib.pyplot as plt\n",
    "import numpy as np\n",
    "import pandas as pd\n",
    "import pyLDAvis\n",
    "import pyLDAvis.gensim_models\n",
    "import scipy.cluster.hierarchy as shc\n",
    "\n",
    "from collections import Counter\n",
    "from sklearn.cluster import AgglomerativeClustering, DBSCAN, KMeans\n",
    "from sklearn.metrics import silhouette_score\n",
    "from sklearn.neighbors._nearest_centroid import NearestCentroid"
   ]
  },
  {
   "cell_type": "markdown",
   "metadata": {},
   "source": [
    "# Data"
   ]
  },
  {
   "cell_type": "code",
   "execution_count": 2,
   "metadata": {},
   "outputs": [
    {
     "name": "stderr",
     "output_type": "stream",
     "text": [
      "/Users/catherinepollack/opt/anaconda3/lib/python3.8/site-packages/IPython/core/interactiveshell.py:3165: DtypeWarning: Columns (84) have mixed types.Specify dtype option on import or set low_memory=False.\n",
      "  has_raised = await self.run_ast_nodes(code_ast.body, cell_name,\n",
      "/Users/catherinepollack/opt/anaconda3/lib/python3.8/site-packages/IPython/core/interactiveshell.py:3165: DtypeWarning: Columns (97,98,99,100) have mixed types.Specify dtype option on import or set low_memory=False.\n",
      "  has_raised = await self.run_ast_nodes(code_ast.body, cell_name,\n"
     ]
    }
   ],
   "source": [
    "file_path = \"/Users/catherinepollack/Documents/dartmouth/research/aim3_facebook_covid19_obesity/data\"\n",
    "dat_obesity = \"/211105_feature_matrix_bert.csv\"\n",
    "dat_health = \"/211214_feature_matrix_bert_health_comparator.csv\"\n",
    "dat_nonhealth = \"/211214_feature_matrix_bert_nonhealth_comparator.csv\"\n",
    "\n",
    "dat_obesity = pd.read_csv(str(file_path + dat_obesity))\n",
    "dat_health = pd.read_csv(str(file_path + dat_health))\n",
    "dat_nonhealth = pd.read_csv(str(file_path + dat_nonhealth))"
   ]
  },
  {
   "cell_type": "markdown",
   "metadata": {},
   "source": [
    "# Feature Matrix Curation"
   ]
  },
  {
   "cell_type": "markdown",
   "metadata": {},
   "source": [
    "## Obesity"
   ]
  },
  {
   "cell_type": "code",
   "execution_count": 3,
   "metadata": {},
   "outputs": [
    {
     "name": "stdout",
     "output_type": "stream",
     "text": [
      "(629960, 938)\n"
     ]
    }
   ],
   "source": [
    "#api whatsapp : without skip\n",
    "#neg: compound\n",
    "#WC: OtherP\n",
    "#BERT 0 : BERT 767\n",
    "dat_obesity_1 = dat_obesity.loc[:,\"api whatsapp\":\"without skip\"]\n",
    "dat_obesity_2 = dat_obesity.loc[:,\"neg\":\"compound\"]\n",
    "dat_obesity_3 = dat_obesity.loc[:,\"WC\":\"OtherP\"]\n",
    "dat_obesity_4 = dat_obesity.loc[:,\"BERT 0\":\"BERT 767\"]\n",
    "dat_obesity_fm = pd.concat([dat_obesity_1,\n",
    "                            dat_obesity_2,\n",
    "                            dat_obesity_3,\n",
    "                            dat_obesity_4],\n",
    "                            axis = 1)\n",
    "dat_obesity_fm.head()\n",
    "print(dat_obesity_fm.shape) #629960                           \n"
   ]
  },
  {
   "cell_type": "markdown",
   "metadata": {},
   "source": [
    "# Clustering"
   ]
  },
  {
   "cell_type": "markdown",
   "metadata": {},
   "source": [
    "- Randomly Sample and Run Hierarchical Clustering, then run KMeans and DBSCAN\n",
    "- LDA\n",
    "- Pick Features Based on Reddit Analysis"
   ]
  },
  {
   "cell_type": "markdown",
   "metadata": {},
   "source": [
    "## Randomly Sample and Run Hierarchical Clustering"
   ]
  },
  {
   "cell_type": "markdown",
   "metadata": {},
   "source": [
    "### Part 1. Sample and Run Initial Hierarchical Clustering"
   ]
  },
  {
   "cell_type": "code",
   "execution_count": 6,
   "metadata": {},
   "outputs": [],
   "source": [
    "## Randomly sample 1% of the data frame\n",
    "dat_obesity_fm_1 = dat_obesity_fm.sample(frac = 0.01,\n",
    "                                          random_state = 110295)"
   ]
  },
  {
   "cell_type": "code",
   "execution_count": null,
   "metadata": {},
   "outputs": [],
   "source": [
    "## Run hierarchical clustering - Note: takes a long time\n",
    "plt.figure(figsize=(14, 7))\n",
    "dend = shc.dendrogram(shc.linkage(dat_obesity_fm_1, \n",
    "                                  method='ward'))"
   ]
  },
  {
   "cell_type": "markdown",
   "metadata": {},
   "source": [
    "### Part 2: Assign Labels to Sample and Identify Centroids"
   ]
  },
  {
   "cell_type": "markdown",
   "metadata": {},
   "source": [
    "#### Identify Number of Clusters"
   ]
  },
  {
   "cell_type": "code",
   "execution_count": 9,
   "metadata": {},
   "outputs": [
    {
     "data": {
      "text/plain": [
       "Counter({'C1': 2, 'C2': 4380, 'C3': 731, 'C4': 1047, 'C5': 140})"
      ]
     },
     "execution_count": 9,
     "metadata": {},
     "output_type": "execute_result"
    }
   ],
   "source": [
    "Counter(dend['leaves_color_list']) #4 clusters"
   ]
  },
  {
   "cell_type": "markdown",
   "metadata": {},
   "source": [
    "#### Clustering Sampled Data to Find Centroid"
   ]
  },
  {
   "cell_type": "code",
   "execution_count": 7,
   "metadata": {},
   "outputs": [],
   "source": [
    "model_agg = AgglomerativeClustering(n_clusters = 4,\n",
    "                                    affinity=\"euclidean\",\n",
    "                                    linkage = \"ward\")\n",
    "\n",
    "yhat_agg = model_agg.fit_predict(dat_obesity_fm_1)"
   ]
  },
  {
   "cell_type": "markdown",
   "metadata": {},
   "source": [
    "#### Finding Centroids"
   ]
  },
  {
   "cell_type": "code",
   "execution_count": 8,
   "metadata": {},
   "outputs": [],
   "source": [
    "find_center = NearestCentroid()\n",
    "find_center.fit(dat_obesity_fm_1, yhat_agg)\n",
    "centoids = find_center.centroids_"
   ]
  },
  {
   "cell_type": "markdown",
   "metadata": {},
   "source": [
    "### Part 3. Run K-Means and DBSCAN to Get Full Clustering"
   ]
  },
  {
   "cell_type": "markdown",
   "metadata": {},
   "source": [
    "#### KMeans with Centers from Agglomerative Clustering"
   ]
  },
  {
   "cell_type": "code",
   "execution_count": 11,
   "metadata": {},
   "outputs": [
    {
     "name": "stderr",
     "output_type": "stream",
     "text": [
      "/Users/catherinepollack/opt/anaconda3/lib/python3.8/site-packages/sklearn/cluster/_kmeans.py:984: RuntimeWarning: Explicit initial center position passed: performing only one init in KMeans instead of n_init=10.\n",
      "  self._check_params(X)\n"
     ]
    }
   ],
   "source": [
    "model_kmeans = KMeans(n_clusters = 4,\n",
    "                      random_state = 110295,\n",
    "                      init = centoids)\n",
    "yhat_kmeans = model_kmeans.fit_predict(dat_obesity_fm)"
   ]
  },
  {
   "cell_type": "markdown",
   "metadata": {},
   "source": [
    "#### K-Means ++ with Same # of Clusters but No Centroids"
   ]
  },
  {
   "cell_type": "code",
   "execution_count": 12,
   "metadata": {},
   "outputs": [],
   "source": [
    "model_kmeans = KMeans(n_clusters = 4,\n",
    "                      random_state = 110295,\n",
    "                      init = \"k-means++\")\n",
    "yhat_kmeans_plus = model_kmeans.fit_predict(dat_obesity_fm)"
   ]
  },
  {
   "cell_type": "markdown",
   "metadata": {},
   "source": [
    "#### DBSCAN on Cluster"
   ]
  },
  {
   "cell_type": "markdown",
   "metadata": {},
   "source": [
    "## LDA Clustering"
   ]
  },
  {
   "cell_type": "code",
   "execution_count": 44,
   "metadata": {},
   "outputs": [],
   "source": [
    "texts = [ast.literal_eval(x) for x in dat_obesity.tokens]\n",
    "\n",
    "terms = [item for sublist in texts for item in sublist]\n",
    "terms = list(set(terms)) #106269"
   ]
  },
  {
   "cell_type": "code",
   "execution_count": 65,
   "metadata": {},
   "outputs": [
    {
     "name": "stderr",
     "output_type": "stream",
     "text": [
      "/Users/catherinepollack/opt/anaconda3/lib/python3.8/site-packages/ipykernel/ipkernel.py:287: DeprecationWarning: `should_run_async` will not call `transform_cell` automatically in the future. Please pass the result to `transformed_cell` argument and any exception that happen during thetransform in `preprocessing_exc_tuple` in IPython 7.17 and above.\n",
      "  and should_run_async(code)\n"
     ]
    },
    {
     "ename": "TypeError",
     "evalue": "prepare() missing 2 required positional arguments: 'vocab' and 'term_frequency'",
     "output_type": "error",
     "traceback": [
      "\u001b[0;31m---------------------------------------------------------------------------\u001b[0m",
      "\u001b[0;31mTypeError\u001b[0m                                 Traceback (most recent call last)",
      "\u001b[0;32m<ipython-input-65-f1f1de28b3ea>\u001b[0m in \u001b[0;36m<module>\u001b[0;34m\u001b[0m\n\u001b[1;32m     16\u001b[0m \u001b[0mlda_model\u001b[0m\u001b[0;34m.\u001b[0m\u001b[0mprint_topics\u001b[0m\u001b[0;34m(\u001b[0m\u001b[0;34m)\u001b[0m\u001b[0;34m\u001b[0m\u001b[0;34m\u001b[0m\u001b[0m\n\u001b[1;32m     17\u001b[0m \u001b[0;34m\u001b[0m\u001b[0m\n\u001b[0;32m---> 18\u001b[0;31m \u001b[0mpyLDAvis\u001b[0m\u001b[0;34m.\u001b[0m\u001b[0mprepare\u001b[0m\u001b[0;34m(\u001b[0m\u001b[0mlda_model\u001b[0m\u001b[0;34m,\u001b[0m \u001b[0mcorpus\u001b[0m\u001b[0;34m,\u001b[0m \u001b[0mid2word\u001b[0m\u001b[0;34m)\u001b[0m\u001b[0;34m\u001b[0m\u001b[0;34m\u001b[0m\u001b[0m\n\u001b[0m",
      "\u001b[0;31mTypeError\u001b[0m: prepare() missing 2 required positional arguments: 'vocab' and 'term_frequency'"
     ]
    }
   ],
   "source": [
    "# Create Dictionary\n",
    "id2word = corpora.Dictionary(texts) \n",
    "\n",
    "# Term Document Frequency\n",
    "corpus = [id2word.doc2bow(text) for text in texts] \n",
    "\n",
    "# number of topics\n",
    "num_topics = 4\n",
    "\n",
    "# Build LDA model\n",
    "lda_model = gensim.models.LdaMulticore(corpus=corpus,\n",
    "                                       id2word=id2word,\n",
    "                                       num_topics=num_topics)\n",
    "                                       \n",
    "# Print the Keyword in the 4 topics\n",
    "lda_model.print_topics()"
   ]
  },
  {
   "cell_type": "code",
   "execution_count": 72,
   "metadata": {},
   "outputs": [
    {
     "name": "stderr",
     "output_type": "stream",
     "text": [
      "/Users/catherinepollack/opt/anaconda3/lib/python3.8/site-packages/ipykernel/ipkernel.py:287: DeprecationWarning: `should_run_async` will not call `transform_cell` automatically in the future. Please pass the result to `transformed_cell` argument and any exception that happen during thetransform in `preprocessing_exc_tuple` in IPython 7.17 and above.\n",
      "  and should_run_async(code)\n"
     ]
    },
    {
     "data": {
      "text/html": [
       "\n",
       "<link rel=\"stylesheet\" type=\"text/css\" href=\"https://cdn.jsdelivr.net/gh/bmabey/pyLDAvis@3.3.1/pyLDAvis/js/ldavis.v1.0.0.css\">\n",
       "\n",
       "\n",
       "<div id=\"ldavis_el46391406278736784965691865335\"></div>\n",
       "<script type=\"text/javascript\">\n",
       "\n",
       "var ldavis_el46391406278736784965691865335_data = {\"mdsDat\": {\"x\": [0.07817155767847622, 0.08659461443862582, 0.0374456201644499, -0.2022117922815518], \"y\": [0.09721456120948158, 0.03857917384717013, -0.1602256175510316, 0.024431882494379796], \"topics\": [1, 2, 3, 4], \"cluster\": [1, 1, 1, 1], \"Freq\": [38.28960169067784, 27.95625360985842, 17.00330595171667, 16.750838747747068]}, \"tinfo\": {\"Term\": [\"obese\", \"fat\", \"reduce\", \"url\", \"slim\", \"weight\", \"thyroid\", \"pregnancy\", \"pcod\", \"without\", \"post\", \"whatsapp\", \"belly\", \"obesity\", \"pcos\", \"com\", \"disease\", \"remove\", \"effect\", \"side\", \"get\", \"www\", \"fit\", \"loss\", \"overweight\", \"skip\", \"detail\", \"people\", \"arm\", \"figure\", \"diabetwatch\", \"sars\", \"tcm\", \"cardiomyopathies\", \"dph\", \"klapers\", \"thalassemia\", \"irritableness\", \"eta\", \"untramx\", \"drucker\", \"duo\", \"sickle\", \"acai\", \"bespeak\", \"workshops\", \"juniors\", \"cerebrovascular\", \"intracranial\", \"cardiomyopathy\", \"wireless\", \"agility\", \"wharton\", \"smyrna\", \"diabete\", \"broaden\", \"amyloidosis\", \"immunodeficiencies\", \"substrates\", \"irregularity\", \"copd\", \"hancock\", \"misalignment\", \"grapple\", \"preexist\", \"pulmonary\", \"corticosteroids\", \"crispr\", \"nnc\", \"amzn\", \"chronic\", \"cardiovascular\", \"asthma\", \"disease\", \"immune\", \"coronary\", \"fibrosis\", \"osteoporosis\", \"ohioans\", \"heart\", \"syndrome\", \"kidney\", \"transplant\", \"epidemic\", \"allergies\", \"diseases\", \"childhood\", \"depression\", \"pressure\", \"lung\", \"diabetes\", \"anxiety\", \"blood\", \"include\", \"cancer\", \"condition\", \"liver\", \"mental\", \"factor\", \"metabolic\", \"disorder\", \"arthritis\", \"risk\", \"health\", \"prevent\", \"obesity\", \"type\", \"high\", \"increase\", \"cause\", \"lead\", \"help\", \"problems\", \"issue\", \"covid\", \"improve\", \"cholesterol\", \"link\", \"reduce\", \"may\", \"study\", \"diet\", \"people\", \"fat\", \"konkol\", \"frugal\", \"isang\", \"stifle\", \"mas\", \"loob\", \"argentine\", \"pelosi\", \"newsome\", \"crepitus\", \"exercisers\", \"jab\", \"mainstay\", \"baptists\", \"maradona\", \"kino\", \"mataas\", \"toronto\", \"cabin\", \"crew\", \"rom\", \"lhl\", \"unsure\", \"bizarre\", \"essex\", \"impediment\", \"doo\", \"pelosis\", \"pedophile\", \"buenos\", \"wood\", \"robert\", \"turtle\", \"myobesityteam\", \"hospitalizations\", \"kaya\", \"bye\", \"kapag\", \"semaglutide\", \"donald\", \"wrestlers\", \"obese\", \"morbidly\", \"nationwide\", \"column\", \"flail\", \"johnsons\", \"trump\", \"nancy\", \"percent\", \"ap\", \"dog\", \"president\", \"severely\", \"consider\", \"hospitalize\", \"thirds\", \"overweight\", \"johnson\", \"million\", \"cat\", \"pound\", \"likely\", \"estimate\", \"nearly\", \"people\", \"half\", \"foundation\", \"year\", \"children\", \"adults\", \"new\", \"report\", \"women\", \"bmi\", \"say\", \"study\", \"weight\", \"accord\", \"body\", \"fat\", \"find\", \"one\", \"obesity\", \"covid\", \"years\", \"eat\", \"lose\", \"age\", \"risk\", \"become\", \"may\", \"make\", \"healthy\", \"get\", \"health\", \"loss\", \"diet\", \"oildok\", \"softgels\", \"lishou\", \"ija\", \"naughton\", \"cmhc\", \"internship\", \"dssurgery\", \"kinoki\", \"kuala\", \"eft\", \"ifa\", \"linkedin\", \"cancercarepune\", \"lumpur\", \"crate\", \"edo\", \"tunde\", \"customfatloss\", \"octagonal\", \"mammals\", \"faty\", \"malad\", \"fudge\", \"prancer\", \"cashmere\", \"petrol\", \"decodingobesity\", \"pinterest\", \"fas\", \"ring\", \"spiritual\", \"visa\", \"favourite\", \"baba\", \"dosage\", \"luck\", \"favour\", \"court\", \"breakthrough\", \"dress\", \"cambodia\", \"ritual\", \"betja\", \"womb\", \"bese\", \"yahoo\", \"examination\", \"glory\", \"land\", \"boom\", \"marriage\", \"approval\", \"caesar\", \"success\", \"www\", \"command\", \"political\", \"financial\", \"promise\", \"facebook\", \"appointment\", \"tone\", \"[\", \"]\", \"love\", \"ly\", \"url\", \"business\", \"com\", \"money\", \"bite\", \"back\", \"fail\", \"fruit\", \"fat\", \"protection\", \"sugar\", \"foods\", \"burn\", \"good\", \"natural\", \"body\", \"get\", \"obesity\", \"bad\", \"call\", \"say\", \"help\", \"food\", \"health\", \"diet\", \"need\", \"work\", \"high\", \"diabetes\", \"gaikwad\", \"harmon\", \"c_\", \"whtasp\", \"superb\", \"timeto\", \"masturbation\", \"enhancers\", \"tush\", \"proteect\", \"fedup\", \"whatup\", \"api\", \"cl\", \"whtsapp\", \"cappuccino\", \"damini\", \"pallavi\", \"wmc\", \"mummy\", \"jel\", \"atin\", \"vishwakarma\", \"helo\", \"urlstruggling\", \"inbox\", \"agro\", \"seriours\", \"challeges\", \"guranteed\", \"pcod\", \"slim\", \"thighs\", \"skip\", \"forever\", \"herbalifechange\", \"pcos\", \"arm\", \"upto\", \"thyroid\", \"plz\", \"remove\", \"figure\", \"without\", \"post\", \"detail\", \"tummy\", \"guide\", \"belly\", \"inch\", \"xxl\", \"side\", \"meals\", \"fit\", \"whatsapp\", \"pregnancy\", \"click\", \"course\", \"month\", \"whats\", \"exhaustion\", \"reduce\", \"effect\", \"formula\", \"loss\", \"fat\", \"weight\", \"get\", \"exercise\", \"obesity\", \"diet\", \"call\", \"url\", \"body\", \"com\"], \"Freq\": [133779.0, 179708.0, 79393.0, 56313.0, 32404.0, 102376.0, 30175.0, 34595.0, 27479.0, 29157.0, 28568.0, 29745.0, 26727.0, 445606.0, 23270.0, 38355.0, 86560.0, 22141.0, 32734.0, 21262.0, 53977.0, 22071.0, 19774.0, 41436.0, 40778.0, 15163.0, 15955.0, 58781.0, 14382.0, 14398.0, 1027.0203979057324, 395.9106009244949, 255.7158506345819, 690.929878926613, 165.59993371384735, 399.45305771709326, 245.75843989899963, 133.39244877006752, 601.1084950613048, 124.70020117469896, 121.84231685085695, 161.20408785110848, 2540.3225612816022, 130.75534118241382, 86.72377227653942, 77.22205100027423, 98.57379016026802, 466.02860322776166, 70.74904568110595, 291.13202003078385, 75.01131492731454, 84.68925150977168, 67.9205177566937, 64.66554909893537, 64.32463185567548, 67.80436116759553, 67.52341034989337, 61.68324809351744, 59.91689961218765, 169.6565620357822, 2900.36734844619, 1102.9638419653727, 459.3693074430478, 1158.3807254889698, 339.0823337037131, 2975.0211105808694, 559.6453534583296, 271.8839433799926, 308.8435656614872, 224.61760228083526, 26459.659507848493, 10573.041426898668, 9588.093356261625, 76413.32020471526, 9164.544608961967, 2984.5163099219194, 976.3084753629986, 2325.20649569396, 577.8746546063533, 47015.456525852635, 7849.449778851414, 10476.357305939315, 2217.604409073591, 11165.341433174932, 2888.0280931297852, 23200.326075711233, 22936.135031792182, 10810.02443376446, 20768.82852543054, 4132.160822548229, 78118.02904570232, 5362.764351111946, 31265.925093132682, 26766.9317485808, 34338.720349241514, 30226.327635385955, 14507.913463076182, 6949.751523132274, 17333.006111933053, 9528.380978538837, 11603.669624004531, 7091.399588240591, 52488.8299448853, 63002.56753792749, 16139.132645836793, 265750.7639874341, 20874.417918232422, 39650.9325652235, 29192.524609439482, 22369.399042673424, 19117.33276914124, 29001.142973598402, 18469.6991878346, 14289.675236351179, 17653.552582769782, 13283.956401773667, 12909.4171673425, 16049.346517338263, 22595.757940129028, 15700.169489239071, 16819.473363081543, 16887.38418253599, 15859.771334496414, 16750.28473654644, 1050.3305258850874, 1206.9478222689263, 542.8377010780217, 416.92257889946075, 262.89736199989494, 312.3528441499482, 311.13994564758457, 2724.243305719542, 247.38583240753607, 314.74930643654943, 217.8559912368303, 282.29464113048414, 271.5189389800289, 177.6379916093111, 316.79786256001603, 123.74206196430382, 567.3993955192454, 123.06841913787393, 100.66602724256724, 160.9878773851245, 127.2440230942185, 108.20444334047224, 203.32654577971184, 178.03710999092, 88.71080437775393, 97.67129169054058, 109.3031812724871, 102.78622431814938, 79.68014734105786, 78.40798978808476, 5944.09725817716, 6098.82751907922, 1120.377699854144, 919.909716786766, 543.9209742677473, 921.6367365473122, 480.24774488678906, 502.1629356308611, 412.4029658501154, 1750.9773754244386, 296.6284244669321, 119364.45267003166, 8993.16025894322, 5608.197575048752, 1129.6871827127832, 658.2790261186327, 515.4186793069275, 6192.762587432576, 1924.9122182543292, 7715.668054956051, 1066.62733195555, 9185.992051006107, 4379.061564972887, 3051.3727616652445, 11323.45492173983, 2169.845165088945, 1049.7645859479485, 32981.27246249591, 6441.346336522422, 5164.122232991264, 4349.122722360867, 4398.265607824734, 10170.212544370836, 2484.184324547714, 4929.2069351661885, 40020.28515473182, 4393.421111649068, 5989.95573336288, 7448.938289478836, 21783.195114332655, 12120.482357833676, 22412.988242384978, 11515.813764472807, 9931.056156088118, 6955.381881623557, 23127.547115687845, 23721.03383560586, 41093.960635639385, 9451.265592558708, 26996.00525265734, 53811.300735210636, 14793.1980856284, 14482.241807660843, 75197.48291903565, 14389.44886162546, 10075.218012017045, 13178.020060086037, 13641.520466148786, 11363.41842134918, 16565.106343973235, 8821.143987540168, 11444.00381203627, 9860.843306099996, 10092.584883915628, 10849.962203238785, 11042.212512006996, 10330.068699112178, 10636.223606982785, 945.9451510550759, 2203.45901367876, 2076.605321619798, 437.564881631088, 362.1871270867239, 514.5958216436436, 199.28245618993205, 344.285696250732, 397.02298482372225, 316.9744198508496, 229.87663335270761, 357.3233093176655, 220.42801692015354, 152.07549459683977, 319.315590148464, 150.99891309400672, 158.48121259937005, 576.5548938432361, 144.18783596005, 123.90091745577945, 119.54987789506876, 1632.065700061733, 106.12096321039967, 114.35358421668425, 117.39578591862426, 116.43951979293037, 115.75829732432088, 108.30045843923321, 124.8465140788566, 229.5940076547112, 11298.658459038408, 8027.590160885851, 3723.4958652354467, 1865.1986765421393, 4112.261174164537, 923.8721496159612, 3793.421353667969, 3657.122323896847, 4295.860335833292, 3780.4148884447823, 2272.6446042089487, 581.8262565573172, 3533.042866454258, 3640.617901175565, 3649.121153227736, 1523.7762321664886, 899.202620205849, 4137.693115357025, 3721.7633893790507, 4119.481790798423, 3150.9364200648147, 3786.7869722406, 3766.9074347453325, 1310.615034515112, 8008.815770744853, 19894.119494930914, 3613.4639760319433, 4128.203187047501, 4017.4147877583323, 4442.476842941482, 5165.03905764363, 4531.622627488639, 4356.494804993551, 12548.033663317778, 11730.09609531913, 9231.624596575275, 7079.464223605786, 36226.87366231539, 4445.428565621872, 22283.958680916952, 5878.263476662554, 5605.524213561992, 10531.577778821229, 4772.833278114026, 6615.143644745645, 42910.00397883367, 4183.175961830727, 11097.680767791227, 7511.9007766999985, 7526.144412418668, 7615.670965694295, 7179.737548008786, 13276.522493004826, 12008.475194660763, 25667.972339215466, 5831.48444272627, 7805.4546683523085, 8605.32430116427, 8792.295298886616, 7908.98878947821, 10030.517607872427, 8759.377820452375, 6793.029089673776, 6203.391882875563, 6743.890688541688, 6743.961946064926, 2231.809300386854, 790.7712241997745, 536.0655368529664, 674.8580968341231, 297.1163494918864, 241.81140438127966, 1240.935958214805, 616.2222562554329, 191.38263161760764, 252.80481025115276, 4398.620339905379, 223.12567755476792, 12204.901004869946, 425.94093285601747, 2004.0386807979553, 540.7667488328414, 137.851946130864, 2212.948680485731, 1311.9479029857516, 4458.71583445098, 141.9555877062913, 125.13438659455575, 119.99321658397437, 126.99098525885515, 833.4072891315848, 4353.267598061783, 668.253854400229, 270.72815400744656, 586.8803798542904, 89.92666107171526, 27056.44826216091, 31599.65197335941, 5926.7743590550945, 14794.087042710997, 12456.029102631117, 2219.947095168121, 22405.25965842064, 13885.598930512122, 938.1073411572746, 28804.908068795532, 2319.7576240250205, 21017.06359679858, 13770.565665373924, 27437.34118029879, 26789.61442983744, 15118.627433811254, 7800.141870941011, 4924.360200400111, 24904.578299649696, 6500.305855076275, 2318.92578168908, 19788.32113798678, 13923.312848895932, 17921.271579540287, 26511.543512228247, 29881.051495140753, 11347.936728913683, 7887.701728730346, 9772.785232802093, 3488.506872813501, 7510.784771475408, 50896.95744648295, 23744.731249673052, 8043.864138617358, 23352.165406516615, 66236.8760445664, 42814.125273570695, 26224.619707713755, 19453.544542568303, 78989.82914795354, 23583.47571658395, 13653.130113645058, 17065.578646362017, 15788.82318678397, 14133.195520556641], \"Total\": [133779.0, 179708.0, 79393.0, 56313.0, 32404.0, 102376.0, 30175.0, 34595.0, 27479.0, 29157.0, 28568.0, 29745.0, 26727.0, 445606.0, 23270.0, 38355.0, 86560.0, 22141.0, 32734.0, 21262.0, 53977.0, 22071.0, 19774.0, 41436.0, 40778.0, 15163.0, 15955.0, 58781.0, 14382.0, 14398.0, 1027.8711677758406, 396.9961580787689, 256.7734337288749, 694.4204178871327, 166.46372886360203, 401.56744216553363, 247.21302790783176, 134.2783790108333, 605.2375457122059, 125.592726371584, 122.72623292206289, 162.58571584922288, 2563.164820132159, 131.95572369872826, 87.68053602682535, 78.10187829589756, 99.7459741197118, 471.6062338824333, 71.62757683620545, 294.7653057808708, 75.95828913389197, 85.76128326254396, 68.79503134088455, 65.51877255626538, 65.18752652480421, 68.71662339518952, 68.44984456452728, 62.53865971231592, 60.77424250705218, 172.1531771963117, 2972.0142206412243, 1122.431862283205, 466.22749220829684, 1188.1715910879907, 344.44249889658784, 3091.7007060432024, 573.2172451808207, 276.47000955800536, 316.2881696870038, 229.4224225722929, 28366.821398584936, 11235.620460038517, 10409.88689423759, 86560.09075994862, 9968.654259004936, 3178.50428523412, 1017.7194998739104, 2473.1527773998964, 598.8142153637878, 53883.13915160514, 8598.714804223822, 11597.50264373578, 2365.8100156630467, 12544.399325510276, 3131.442263774285, 27037.320415433012, 26760.939275402445, 12228.811224336574, 24178.93832990032, 4552.8676161632575, 97547.94600728739, 5999.895021790237, 37988.4712259035, 32340.85426300259, 42241.15119657337, 36982.41445268857, 17297.12439091337, 7943.052097477848, 21179.99541273655, 11208.787241015147, 13869.86601637572, 8193.863244349908, 72913.38543959515, 89508.59420204558, 20118.440836357036, 445606.04839363875, 27848.62638629755, 57993.184829682345, 45707.13605488037, 33648.96955634714, 27705.0913666667, 51211.093419958604, 29640.792892231697, 20858.56639286031, 32299.3705600769, 18881.824582290265, 18082.225039998626, 30884.87598210509, 79393.46261152106, 31845.552457751517, 43402.18717252041, 59866.4613265551, 58781.59838055243, 179708.46549515714, 1051.2150969665067, 1208.8378259747421, 543.9270829930206, 418.1125486112136, 263.90570521011125, 313.5813414327195, 312.4437579867542, 2737.3822116277806, 248.58917394299965, 316.3656459299517, 219.05798547515948, 283.9696341238414, 273.1926254561905, 178.75431073356168, 319.005561917762, 124.6362876247279, 572.1515351589175, 124.18795954439861, 101.59854644636896, 162.51373082504685, 128.47844913335476, 109.2555632988225, 205.41751634001596, 179.88510277264845, 89.63495115708133, 98.69525481375693, 110.45497204258426, 103.91994426302419, 80.59275210005664, 79.30708901645538, 6043.3136258348195, 6262.274577151023, 1137.2331081726713, 933.8100851024863, 551.1300929662626, 939.5316057419702, 488.4583386660602, 511.0655363369762, 419.2212153882711, 1809.435253362918, 301.13013241480957, 133779.57054707233, 9610.79212317145, 5949.140374349783, 1163.872469351086, 674.480080085597, 526.657598239453, 6673.1048075533345, 2036.217986946564, 8533.685886634015, 1116.2031920726658, 10374.644957223649, 4819.423193891083, 3310.4915661658383, 13028.167698685358, 2334.1207810873316, 1104.2677906990205, 40778.85919521392, 7326.804002920764, 5807.361788290984, 4941.427009426266, 5082.1549971799595, 12626.783205225302, 2774.688777781414, 5859.7856858461655, 58781.59838055243, 5221.919347644305, 7347.068180948476, 9530.801177882164, 32118.297702520773, 16579.55544700172, 37814.77579128218, 17272.684934412195, 14787.600855427925, 9602.170415873023, 41658.24764548365, 43402.18717252041, 102376.81869988683, 14533.934012318467, 66868.2064440283, 179708.46549515714, 28842.56419296364, 29624.776053592403, 445606.04839363875, 32299.3705600769, 17970.042723990355, 28687.36581822582, 32847.80326451752, 26416.20279588516, 72913.38543959515, 15715.284158066173, 31845.552457751517, 23684.224854061256, 29249.914176330487, 53977.51451387436, 89508.59420204558, 41436.22474484172, 59866.4613265551, 946.7630559431161, 2206.255155388245, 2079.322864649934, 438.6880885570658, 363.15862707018243, 516.0922851751865, 200.17718514763934, 345.87017276733695, 399.0145487666791, 318.59703219044565, 231.08136183950597, 359.1964702198068, 221.66042729182976, 152.93777818472134, 321.1443711828488, 151.868583100518, 159.3995276656766, 580.322623126838, 145.1345651345992, 124.7742253944249, 120.48131132172549, 1644.9527597413119, 106.97282291586629, 115.27926460781553, 118.36498849594464, 117.40842393772145, 116.72551753741851, 109.23345439540914, 125.9239808388336, 231.5798769766649, 11577.63663565387, 8221.75457556493, 3792.006923755588, 1888.7570761080954, 4209.259298087004, 933.1993529961612, 3888.453258366161, 3751.2096833964692, 4422.474256462663, 3888.590303678326, 2327.454697846869, 587.8121580472834, 3635.402726733955, 3751.3722962726915, 3761.9668932022455, 1559.7899361228006, 915.5782088447423, 4304.957786364582, 3866.9639230327152, 4294.532563969172, 3271.6784618166294, 3947.2929278315673, 3929.6792545669414, 1343.5057190651119, 8575.86442313237, 22071.94052070331, 3821.43859833217, 4385.722554296039, 4301.087112881056, 4778.2848842049825, 5597.05379151621, 4904.270597836776, 4715.151717122274, 14801.75449376994, 13898.227878667838, 11171.889294524726, 8403.079184195534, 56313.313717003875, 4950.948184606623, 38355.47368845924, 7052.876310565247, 6848.352085457931, 16952.515532280253, 5494.092874107456, 8939.623047142395, 179708.46549515714, 4662.391425587535, 30890.875764158656, 14946.244643927335, 15885.59569989411, 16299.52262012313, 15662.360899430685, 66868.2064440283, 53977.51451387436, 445606.04839363875, 10214.642449512741, 28777.164920328556, 41658.24764548365, 51211.093419958604, 35135.262598103, 89508.59420204558, 59866.4613265551, 21782.169377930746, 15229.262178021709, 57993.184829682345, 97547.94600728739, 2234.2602047163236, 792.1351337095715, 537.2539981013414, 676.6779946622983, 297.94699244753036, 242.70138483325525, 1245.5585795804718, 618.5465048160576, 192.22983075813477, 254.02023537921352, 4419.887640481959, 224.28405578501915, 12268.98990509244, 428.20446138915133, 2015.4181990956556, 543.8775765018577, 138.6738856101562, 2226.9890448098577, 1320.2916965454058, 4488.1489766618715, 142.89374644285488, 125.9821609279321, 120.81307157062594, 127.86349258947602, 839.1649821548394, 4385.579649478823, 673.7530756455728, 273.01278203922004, 592.1137494484705, 90.77332032905566, 27479.48061759833, 32404.246257508818, 6012.552788968849, 15163.809100776738, 12807.686962705713, 2245.9279001167356, 23270.907435837114, 14382.649094422808, 947.805149165481, 30175.659842788467, 2372.524689665702, 22141.182091551265, 14398.486821972057, 29157.05559053145, 28568.78183056464, 15955.852790195913, 8163.850887321475, 5109.497006460301, 26727.301082254915, 6804.507573300557, 2378.374708712575, 21262.277149938553, 14837.500818380095, 19774.928466007423, 29745.496577270984, 34595.01731597311, 12785.040733116704, 8698.42744846783, 11242.57884125951, 3662.636313840367, 8645.89981275589, 79393.46261152106, 32734.856073236646, 9523.598171424499, 41436.22474484172, 179708.46549515714, 102376.81869988683, 53977.51451387436, 35531.89864446958, 445606.04839363875, 59866.4613265551, 28777.164920328556, 56313.313717003875, 66868.2064440283, 38355.47368845924], \"Category\": [\"Default\", \"Default\", \"Default\", \"Default\", \"Default\", \"Default\", \"Default\", \"Default\", \"Default\", \"Default\", \"Default\", \"Default\", \"Default\", \"Default\", \"Default\", \"Default\", \"Default\", \"Default\", \"Default\", \"Default\", \"Default\", \"Default\", \"Default\", \"Default\", \"Default\", \"Default\", \"Default\", \"Default\", \"Default\", \"Default\", \"Topic1\", \"Topic1\", \"Topic1\", \"Topic1\", \"Topic1\", \"Topic1\", \"Topic1\", \"Topic1\", \"Topic1\", \"Topic1\", \"Topic1\", \"Topic1\", \"Topic1\", \"Topic1\", \"Topic1\", \"Topic1\", \"Topic1\", \"Topic1\", \"Topic1\", \"Topic1\", \"Topic1\", \"Topic1\", \"Topic1\", \"Topic1\", \"Topic1\", \"Topic1\", \"Topic1\", \"Topic1\", \"Topic1\", \"Topic1\", \"Topic1\", \"Topic1\", \"Topic1\", \"Topic1\", \"Topic1\", \"Topic1\", \"Topic1\", \"Topic1\", \"Topic1\", \"Topic1\", \"Topic1\", \"Topic1\", \"Topic1\", \"Topic1\", \"Topic1\", \"Topic1\", \"Topic1\", \"Topic1\", \"Topic1\", \"Topic1\", \"Topic1\", \"Topic1\", \"Topic1\", \"Topic1\", \"Topic1\", \"Topic1\", \"Topic1\", \"Topic1\", \"Topic1\", \"Topic1\", \"Topic1\", \"Topic1\", \"Topic1\", \"Topic1\", \"Topic1\", \"Topic1\", \"Topic1\", \"Topic1\", \"Topic1\", \"Topic1\", \"Topic1\", \"Topic1\", \"Topic1\", \"Topic1\", \"Topic1\", \"Topic1\", \"Topic1\", \"Topic1\", \"Topic1\", \"Topic1\", \"Topic1\", \"Topic1\", \"Topic1\", \"Topic1\", \"Topic1\", \"Topic1\", \"Topic1\", \"Topic1\", \"Topic1\", \"Topic1\", \"Topic1\", \"Topic1\", \"Topic1\", \"Topic1\", \"Topic2\", \"Topic2\", \"Topic2\", \"Topic2\", \"Topic2\", \"Topic2\", \"Topic2\", \"Topic2\", \"Topic2\", \"Topic2\", \"Topic2\", \"Topic2\", \"Topic2\", \"Topic2\", \"Topic2\", \"Topic2\", \"Topic2\", \"Topic2\", \"Topic2\", \"Topic2\", \"Topic2\", \"Topic2\", \"Topic2\", \"Topic2\", \"Topic2\", \"Topic2\", \"Topic2\", \"Topic2\", \"Topic2\", \"Topic2\", \"Topic2\", \"Topic2\", \"Topic2\", \"Topic2\", \"Topic2\", \"Topic2\", \"Topic2\", \"Topic2\", \"Topic2\", \"Topic2\", \"Topic2\", \"Topic2\", \"Topic2\", \"Topic2\", \"Topic2\", \"Topic2\", \"Topic2\", \"Topic2\", \"Topic2\", \"Topic2\", \"Topic2\", \"Topic2\", \"Topic2\", \"Topic2\", \"Topic2\", \"Topic2\", \"Topic2\", \"Topic2\", \"Topic2\", \"Topic2\", \"Topic2\", \"Topic2\", \"Topic2\", \"Topic2\", \"Topic2\", \"Topic2\", \"Topic2\", \"Topic2\", \"Topic2\", \"Topic2\", \"Topic2\", \"Topic2\", \"Topic2\", \"Topic2\", \"Topic2\", \"Topic2\", \"Topic2\", \"Topic2\", \"Topic2\", \"Topic2\", \"Topic2\", \"Topic2\", \"Topic2\", \"Topic2\", \"Topic2\", \"Topic2\", \"Topic2\", \"Topic2\", \"Topic2\", \"Topic2\", \"Topic2\", \"Topic2\", \"Topic2\", \"Topic2\", \"Topic2\", \"Topic2\", \"Topic2\", \"Topic2\", \"Topic3\", \"Topic3\", \"Topic3\", \"Topic3\", \"Topic3\", \"Topic3\", \"Topic3\", \"Topic3\", \"Topic3\", \"Topic3\", \"Topic3\", \"Topic3\", \"Topic3\", \"Topic3\", \"Topic3\", \"Topic3\", \"Topic3\", \"Topic3\", \"Topic3\", \"Topic3\", \"Topic3\", \"Topic3\", \"Topic3\", \"Topic3\", \"Topic3\", \"Topic3\", \"Topic3\", \"Topic3\", \"Topic3\", \"Topic3\", \"Topic3\", \"Topic3\", \"Topic3\", \"Topic3\", \"Topic3\", \"Topic3\", \"Topic3\", \"Topic3\", \"Topic3\", \"Topic3\", \"Topic3\", \"Topic3\", \"Topic3\", \"Topic3\", \"Topic3\", \"Topic3\", \"Topic3\", \"Topic3\", \"Topic3\", \"Topic3\", \"Topic3\", \"Topic3\", \"Topic3\", \"Topic3\", \"Topic3\", \"Topic3\", \"Topic3\", \"Topic3\", \"Topic3\", \"Topic3\", \"Topic3\", \"Topic3\", \"Topic3\", \"Topic3\", \"Topic3\", \"Topic3\", \"Topic3\", \"Topic3\", \"Topic3\", \"Topic3\", \"Topic3\", \"Topic3\", \"Topic3\", \"Topic3\", \"Topic3\", \"Topic3\", \"Topic3\", \"Topic3\", \"Topic3\", \"Topic3\", \"Topic3\", \"Topic3\", \"Topic3\", \"Topic3\", \"Topic3\", \"Topic3\", \"Topic3\", \"Topic3\", \"Topic3\", \"Topic3\", \"Topic3\", \"Topic3\", \"Topic3\", \"Topic3\", \"Topic3\", \"Topic3\", \"Topic4\", \"Topic4\", \"Topic4\", \"Topic4\", \"Topic4\", \"Topic4\", \"Topic4\", \"Topic4\", \"Topic4\", \"Topic4\", \"Topic4\", \"Topic4\", \"Topic4\", \"Topic4\", \"Topic4\", \"Topic4\", \"Topic4\", \"Topic4\", \"Topic4\", \"Topic4\", \"Topic4\", \"Topic4\", \"Topic4\", \"Topic4\", \"Topic4\", \"Topic4\", \"Topic4\", \"Topic4\", \"Topic4\", \"Topic4\", \"Topic4\", \"Topic4\", \"Topic4\", \"Topic4\", \"Topic4\", \"Topic4\", \"Topic4\", \"Topic4\", \"Topic4\", \"Topic4\", \"Topic4\", \"Topic4\", \"Topic4\", \"Topic4\", \"Topic4\", \"Topic4\", \"Topic4\", \"Topic4\", \"Topic4\", \"Topic4\", \"Topic4\", \"Topic4\", \"Topic4\", \"Topic4\", \"Topic4\", \"Topic4\", \"Topic4\", \"Topic4\", \"Topic4\", \"Topic4\", \"Topic4\", \"Topic4\", \"Topic4\", \"Topic4\", \"Topic4\", \"Topic4\", \"Topic4\", \"Topic4\", \"Topic4\", \"Topic4\", \"Topic4\", \"Topic4\", \"Topic4\", \"Topic4\", \"Topic4\"], \"logprob\": [30.0, 29.0, 28.0, 27.0, 26.0, 25.0, 24.0, 23.0, 22.0, 21.0, 20.0, 19.0, 18.0, 17.0, 16.0, 15.0, 14.0, 13.0, 12.0, 11.0, 10.0, 9.0, 8.0, 7.0, 6.0, 5.0, 4.0, 3.0, 2.0, 1.0, -8.3229, -9.2761, -9.7132, -8.7192, -10.1477, -9.2672, -9.7529, -10.364, -8.8585, -10.4314, -10.4545, -10.1746, -7.4172, -10.3839, -10.7945, -10.9106, -10.6665, -9.113, -10.9981, -9.5835, -10.9396, -10.8183, -11.0389, -11.088, -11.0933, -11.0406, -11.0448, -11.1353, -11.1643, -10.1235, -7.2847, -8.2515, -9.1274, -8.2025, -9.431, -7.2593, -8.93, -9.6519, -9.5244, -9.8429, -5.0739, -5.9912, -6.089, -4.0134, -6.1342, -7.2561, -8.3735, -7.5057, -8.8979, -4.499, -6.2891, -6.0004, -7.5531, -5.9367, -7.2889, -5.2054, -5.2168, -5.969, -5.3161, -6.9307, -3.9913, -6.67, -4.907, -5.0624, -4.8132, -4.9408, -5.6748, -6.4108, -5.4969, -6.0952, -5.8982, -6.3906, -4.3889, -4.2063, -5.5683, -2.767, -5.311, -4.6694, -4.9756, -5.2418, -5.3989, -4.9822, -5.4334, -5.69, -5.4786, -5.763, -5.7916, -5.5739, -5.2318, -5.5958, -5.527, -5.523, -5.5857, -5.5311, -7.9859, -7.8469, -8.6459, -8.9098, -9.371, -9.1986, -9.2025, -7.0328, -9.4318, -9.191, -9.5589, -9.2998, -9.3387, -9.763, -9.1845, -10.1245, -8.6017, -10.13, -10.3309, -9.8614, -10.0966, -10.2587, -9.6279, -9.7607, -10.4574, -10.3611, -10.2486, -10.3101, -10.5647, -10.5808, -6.2526, -6.2269, -7.9213, -8.1185, -8.6439, -8.1166, -8.7684, -8.7238, -8.9207, -7.4748, -9.2503, -3.2528, -5.8385, -6.3108, -7.913, -8.4531, -8.6978, -6.2116, -7.3801, -5.9917, -7.9705, -5.8173, -6.5581, -6.9194, -5.6081, -7.2603, -7.9864, -4.539, -6.1722, -6.3932, -6.565, -6.5538, -5.7155, -7.125, -6.4398, -4.3456, -6.5549, -6.2449, -6.0269, -4.9538, -5.5401, -4.9253, -5.5913, -5.7393, -6.0955, -4.894, -4.8686, -4.3191, -5.7888, -4.7393, -4.0495, -5.3408, -5.3621, -3.7149, -5.3685, -5.7249, -5.4564, -5.4219, -5.6046, -5.2277, -5.8578, -5.5975, -5.7464, -5.7232, -5.6508, -5.6333, -5.6999, -5.6707, -7.5933, -6.7477, -6.807, -8.3643, -8.5533, -8.2021, -9.1508, -8.604, -8.4615, -8.6867, -9.008, -8.5669, -9.0499, -9.4211, -8.6793, -9.4282, -9.3799, -8.0884, -9.4744, -9.626, -9.6618, -7.0479, -9.7809, -9.7062, -9.68, -9.6881, -9.694, -9.7606, -9.6184, -9.0092, -5.1131, -5.4549, -6.2231, -6.9144, -6.1238, -7.6169, -6.2045, -6.2411, -6.0801, -6.2079, -6.7168, -8.0793, -6.2756, -6.2456, -6.2433, -7.1166, -7.644, -6.1176, -6.2236, -6.122, -6.39, -6.2062, -6.2115, -7.2673, -5.4572, -4.5473, -6.2531, -6.1199, -6.1471, -6.0465, -5.8958, -6.0267, -6.0661, -5.0082, -5.0756, -5.3151, -5.5806, -3.9479, -6.0459, -4.4339, -5.7665, -5.814, -5.1834, -5.9748, -5.6484, -3.7786, -6.1067, -5.131, -5.5213, -5.5194, -5.5075, -5.5665, -4.9518, -5.0521, -4.2925, -5.7745, -5.4829, -5.3854, -5.3639, -5.4697, -5.2321, -5.3676, -5.6219, -5.7127, -5.6291, -5.6291, -6.72, -7.7575, -8.1463, -7.916, -8.7364, -8.9424, -7.3069, -8.0069, -9.1763, -8.8979, -6.0415, -9.0228, -5.021, -8.3762, -6.8276, -8.1376, -9.5044, -6.7285, -7.2513, -6.0279, -9.475, -9.6012, -9.6431, -9.5864, -7.705, -6.0519, -7.9259, -8.8294, -8.0557, -9.9316, -4.2249, -4.0696, -5.7433, -4.8286, -5.0006, -6.7253, -4.4135, -4.8919, -7.5867, -4.1622, -6.6813, -4.4775, -4.9003, -4.2109, -4.2348, -4.8069, -5.4686, -5.9286, -4.3077, -5.6509, -6.6817, -4.5377, -4.8892, -4.6368, -4.2452, -4.1256, -5.0938, -5.4575, -5.2432, -6.2733, -5.5065, -3.593, -4.3554, -5.4379, -4.3721, -3.3296, -3.7659, -4.2561, -4.5548, -3.1535, -4.3622, -4.9088, -4.6857, -4.7635, -4.8743], \"loglift\": [30.0, 29.0, 28.0, 27.0, 26.0, 25.0, 24.0, 23.0, 22.0, 21.0, 20.0, 19.0, 18.0, 17.0, 16.0, 15.0, 14.0, 13.0, 12.0, 11.0, 10.0, 9.0, 8.0, 7.0, 6.0, 5.0, 4.0, 3.0, 2.0, 1.0, 0.9592, 0.9573, 0.9559, 0.955, 0.9548, 0.9547, 0.9541, 0.9534, 0.9531, 0.9529, 0.9528, 0.9515, 0.951, 0.9509, 0.949, 0.9487, 0.9482, 0.9481, 0.9477, 0.9476, 0.9474, 0.9474, 0.9472, 0.9469, 0.9467, 0.9466, 0.9464, 0.9462, 0.9458, 0.9454, 0.9356, 0.9425, 0.9452, 0.9346, 0.9443, 0.9215, 0.936, 0.9433, 0.9362, 0.9388, 0.8904, 0.8992, 0.8778, 0.8353, 0.8759, 0.897, 0.9185, 0.8983, 0.9244, 0.8237, 0.8688, 0.8583, 0.8953, 0.8435, 0.8791, 0.8069, 0.8058, 0.8367, 0.808, 0.863, 0.7379, 0.8477, 0.7652, 0.7708, 0.7529, 0.7583, 0.7841, 0.8264, 0.7595, 0.7976, 0.7816, 0.8155, 0.6313, 0.6088, 0.7396, 0.4431, 0.6717, 0.5798, 0.5117, 0.5517, 0.589, 0.3914, 0.487, 0.5818, 0.3559, 0.6083, 0.623, 0.3054, -0.2967, 0.2528, 0.012, -0.3056, -0.3501, -1.4129, 1.2737, 1.273, 1.2725, 1.2717, 1.2707, 1.2706, 1.2703, 1.2697, 1.2697, 1.2694, 1.269, 1.2686, 1.2684, 1.2683, 1.2676, 1.2673, 1.2662, 1.2655, 1.2653, 1.2651, 1.2649, 1.2649, 1.2643, 1.2642, 1.2642, 1.2641, 1.264, 1.2636, 1.2631, 1.2631, 1.258, 1.2481, 1.2596, 1.2595, 1.2614, 1.2553, 1.2576, 1.257, 1.2581, 1.2417, 1.2595, 1.1605, 1.2081, 1.2155, 1.2447, 1.2502, 1.253, 1.1998, 1.2183, 1.1738, 1.2291, 1.1528, 1.1787, 1.193, 1.1343, 1.2015, 1.2239, 1.0623, 1.1457, 1.1571, 1.1468, 1.13, 1.0582, 1.1639, 1.1016, 0.8901, 1.1018, 1.0703, 1.0281, 0.8862, 0.9613, 0.7515, 0.8691, 0.8764, 0.9521, 0.6861, 0.6704, 0.3617, 0.8442, 0.3675, 0.0687, 0.6068, 0.5588, -0.5048, 0.466, 0.6959, 0.4966, 0.3958, 0.431, -0.2074, 0.697, 0.2511, 0.3983, 0.2105, -0.3299, -0.8181, -0.1146, -0.4533, 1.7709, 1.7705, 1.7705, 1.7692, 1.7691, 1.7689, 1.7673, 1.7672, 1.7668, 1.7667, 1.7665, 1.7665, 1.7662, 1.7661, 1.7661, 1.766, 1.766, 1.7652, 1.7652, 1.7647, 1.764, 1.7639, 1.7638, 1.7637, 1.7635, 1.7635, 1.7634, 1.7632, 1.7632, 1.7632, 1.7474, 1.7479, 1.7535, 1.7592, 1.7484, 1.7617, 1.747, 1.7464, 1.7427, 1.7435, 1.7479, 1.7615, 1.7432, 1.7418, 1.7413, 1.7484, 1.7537, 1.7321, 1.7335, 1.7301, 1.7342, 1.7303, 1.7295, 1.747, 1.7034, 1.6679, 1.7158, 1.7113, 1.7035, 1.6989, 1.6914, 1.6927, 1.6926, 1.6066, 1.6022, 1.581, 1.6004, 1.3306, 1.6641, 1.2287, 1.5896, 1.5715, 1.2957, 1.631, 1.4706, 0.3395, 1.6633, 0.748, 1.0838, 1.0247, 1.0108, 0.9918, 0.155, 0.2688, -1.0824, 1.2112, 0.467, 0.1946, 0.0097, 0.2806, -0.4169, -0.1502, 0.6066, 0.8736, -0.3799, -0.8999, 1.7856, 1.785, 1.7845, 1.784, 1.7839, 1.783, 1.783, 1.783, 1.7823, 1.7819, 1.7819, 1.7815, 1.7815, 1.7814, 1.7811, 1.781, 1.7808, 1.7804, 1.7804, 1.7801, 1.7801, 1.78, 1.7799, 1.7799, 1.7798, 1.7793, 1.7785, 1.7783, 1.7778, 1.7774, 1.7712, 1.7616, 1.7724, 1.762, 1.7589, 1.7751, 1.7488, 1.7516, 1.7764, 1.7402, 1.7642, 1.7346, 1.7421, 1.7259, 1.7224, 1.7328, 1.7411, 1.7498, 1.7161, 1.741, 1.7614, 1.7149, 1.7231, 1.6883, 1.6716, 1.6402, 1.6675, 1.6889, 1.6466, 1.738, 1.646, 1.3421, 1.4656, 1.6179, 1.2133, 0.7886, 0.9149, 1.0649, 1.1843, 0.0566, 0.8552, 1.0411, 0.5929, 0.3433, 0.7884]}, \"token.table\": {\"Topic\": [1, 2, 3, 4, 1, 2, 3, 4, 1, 3, 1, 2, 3, 4, 1, 2, 3, 4, 1, 2, 3, 4, 1, 1, 4, 1, 2, 3, 4, 1, 1, 2, 3, 4, 1, 2, 3, 4, 1, 2, 3, 4, 1, 2, 3, 4, 1, 2, 3, 4, 1, 2, 3, 4, 1, 2, 1, 2, 3, 4, 1, 2, 3, 4, 1, 2, 3, 4, 4, 1, 3, 4, 1, 2, 3, 4, 1, 2, 3, 4, 2, 3, 1, 2, 3, 4, 1, 2, 3, 4, 1, 2, 3, 4, 1, 1, 3, 4, 1, 2, 3, 4, 1, 2, 1, 2, 3, 4, 1, 2, 3, 4, 1, 2, 3, 4, 1, 2, 3, 4, 1, 2, 3, 4, 1, 2, 1, 2, 3, 4, 1, 2, 3, 4, 1, 2, 3, 4, 1, 4, 2, 1, 3, 4, 1, 2, 3, 4, 3, 4, 1, 2, 3, 4, 3, 1, 4, 1, 2, 3, 1, 2, 3, 4, 1, 2, 3, 4, 3, 1, 2, 3, 4, 1, 2, 3, 4, 1, 2, 1, 4, 1, 2, 3, 4, 1, 2, 3, 4, 1, 2, 3, 4, 1, 2, 3, 4, 1, 4, 1, 2, 3, 4, 1, 3, 4, 1, 2, 3, 4, 1, 2, 3, 4, 1, 2, 3, 4, 1, 2, 3, 4, 1, 2, 3, 4, 1, 2, 3, 4, 1, 2, 3, 4, 1, 2, 3, 4, 1, 2, 3, 4, 1, 2, 3, 4, 1, 2, 3, 4, 3, 2, 3, 1, 2, 1, 2, 4, 3, 4, 3, 1, 2, 3, 4, 1, 2, 3, 4, 1, 1, 2, 3, 4, 1, 1, 2, 3, 4, 1, 2, 3, 4, 1, 2, 3, 4, 1, 2, 3, 4, 1, 2, 3, 4, 1, 2, 3, 4, 2, 1, 2, 3, 4, 1, 1, 2, 3, 4, 1, 1, 3, 1, 2, 1, 2, 3, 4, 3, 1, 2, 3, 4, 3, 1, 2, 4, 1, 2, 3, 4, 2, 1, 2, 3, 4, 1, 2, 1, 2, 3, 4, 1, 2, 3, 4, 1, 2, 1, 2, 3, 4, 1, 2, 3, 4, 1, 2, 3, 4, 1, 2, 3, 4, 1, 3, 4, 1, 2, 3, 4, 1, 2, 3, 4, 1, 2, 3, 4, 1, 2, 3, 4, 1, 2, 3, 4, 1, 2, 3, 4, 1, 2, 3, 4, 1, 2, 3, 4, 1, 2, 3, 4, 1, 2, 3, 4, 1, 2, 3, 1, 2, 3, 4, 1, 2, 3, 4, 1, 2, 3, 4, 1, 2, 3, 4, 1, 2, 3, 4, 1, 2, 3, 1, 2, 3, 4, 3, 3, 4, 1, 2, 3, 4, 1, 2, 3, 4, 1, 2, 3, 4, 1, 2, 3, 4, 1, 2, 3, 4, 4, 1, 2, 3, 4, 1, 2, 3, 4, 1, 4, 1, 2, 3, 4, 1, 2, 3, 4, 1, 2, 3, 4, 4, 1, 2, 3, 4, 2, 3, 4, 1, 2, 3, 4, 1, 2, 3, 4, 1, 2, 3, 4, 3, 4, 3, 1, 2, 3, 4, 1, 2, 1, 2, 3, 4, 1, 2, 3, 4, 1, 2, 3, 4, 1, 2, 3, 4, 1, 2, 3, 4, 3, 1, 1, 4, 1, 2, 1, 2, 3, 4, 1, 2, 3, 4, 1, 2, 3, 4, 1, 2, 3, 1, 1, 2, 1, 2, 3, 4, 1, 2, 3, 4, 2, 1, 3, 4, 1, 3, 4, 2, 1, 3, 1, 2, 3, 4, 1, 2, 3, 4, 2, 1, 2, 3, 4, 1, 2, 3, 4, 2, 3, 2, 3, 4, 1, 2, 3, 4, 2, 1, 2, 3, 4, 1, 2, 3, 4, 1, 2, 3, 4, 1, 2, 3, 4, 1, 3, 1, 2, 3, 4, 1, 2, 3, 4, 1, 2, 1, 2, 3, 4, 3, 3, 1, 2, 3, 1, 2, 3, 4, 2, 1, 2, 3, 4, 2, 4, 1, 2, 3, 4, 1, 2, 3, 4, 1, 2, 3, 4, 1, 2, 3, 4, 1, 2, 3, 4, 1, 2, 3, 1, 2, 3, 4, 1, 2, 3, 4, 1, 2, 3, 4, 1, 2, 3, 4, 1, 2, 3, 4, 1, 2, 3, 4, 1, 2, 3, 4, 1, 2, 3, 4, 3, 1, 2, 3, 4, 1, 2, 3, 4, 1, 2, 3, 4, 2, 1, 2, 3, 4, 1, 2, 3, 4, 1, 2, 3, 4, 3, 1, 2, 3, 4, 3, 1, 2, 3, 4, 1, 2, 3, 4, 1, 2, 3, 4, 3, 4, 1, 2, 3, 4, 1, 2, 3, 4, 2, 1, 2, 3, 4, 2, 3, 1, 2, 3, 4, 1, 2, 3, 4, 3, 3, 1, 2, 3, 4, 1, 2, 3, 4, 1, 2, 3, 4, 1, 2, 3, 4, 3, 1, 2, 3, 4, 1, 2, 3, 4, 1, 2, 3, 4, 1, 2, 3, 4, 1, 2, 3, 4, 1, 2, 3, 4, 1, 2, 3, 4, 1, 2, 3, 4, 4, 1, 2, 3, 4, 1, 2, 3, 4, 1, 2, 3, 4, 1, 2, 3, 4, 1, 2, 3, 4, 1, 2, 3, 4, 1, 2, 3, 4, 1, 2, 3, 4, 2, 3, 1, 1, 2, 3, 4, 1, 2, 3, 1, 2, 3, 4, 1, 2, 3, 4, 1, 2, 3, 4, 1, 2, 3, 4, 1, 2, 3, 4, 1, 2, 3, 4, 1, 3, 4, 1, 2, 3, 4, 2, 3, 1, 2, 3, 4, 1, 1, 2, 3, 4, 1, 2, 3, 4, 4, 1, 2, 3, 4, 1, 1, 2, 3, 1, 2, 3, 4, 1, 2, 3, 4, 1, 2, 3, 4, 4, 1, 2, 3, 4, 2, 1, 2, 3, 4, 1, 2, 3, 4, 1, 2, 3, 4, 3, 4, 1, 2, 3, 4, 4, 1, 2, 3, 4, 1, 2, 3, 1, 1, 2, 3, 4, 1, 2, 3, 4, 3, 4, 1, 2, 3, 4, 4, 1, 2, 3, 4, 1, 1, 2, 3, 4, 1, 2, 3, 4, 1, 4, 2, 3, 4, 1, 2, 3, 4, 1, 1, 2, 3, 4, 1, 2, 3, 4, 1, 2, 3, 4, 1, 2, 3, 4, 1, 2, 3, 4, 1, 2, 3, 4, 1, 1, 2, 4, 1, 2, 3, 4, 1, 2, 3, 4, 2, 3, 4, 1, 2, 3, 4, 1, 2, 3, 4], \"Freq\": [0.0774232541474966, 0.02371340506611807, 0.8477373412240727, 0.05114258585484723, 0.08087361999044562, 0.02547087319983786, 0.8439924933166613, 0.04964661725392125, 0.9927572395350557, 0.007578299538435539, 0.2914558437109809, 0.6502712886951086, 0.01981569475655394, 0.038461713086505735, 0.1761205244214228, 0.7310208068450837, 0.019119933644380492, 0.07370523316540366, 0.49655130608110065, 0.4301526637950405, 0.017678543869777696, 0.055609809303433476, 0.9911232291124491, 0.007421116401152053, 0.9914611511939142, 0.9222587410949524, 0.022034575185440344, 0.010857616758043068, 0.044707833709589105, 0.9934281141558587, 0.9807236689304013, 0.013076315585738683, 0.004358771861912894, 0.004358771861912894, 0.8938489724441544, 0.03566729071472106, 0.013333566622325628, 0.057167666893221135, 0.04031524037880592, 0.9559191440930204, 0.002687682691920395, 0.0017917884612802632, 0.001222594534353151, 0.003178745789318192, 0.0008150630229021006, 0.9947844194520138, 0.047917421217266463, 0.007340541122645075, 0.9240925657729856, 0.02079819984749438, 0.003308158034753558, 0.0015268421698862577, 0.9586024089935887, 0.03638973838228914, 0.0032005760218848547, 0.9953791428061898, 0.018216393814516153, 0.009664422672586815, 0.006744237404610942, 0.9654688721693562, 0.8654037526059043, 0.03600255352118767, 0.04698638340900763, 0.051624000472753846, 0.9210474712561433, 0.03871319679977323, 0.008069251938414271, 0.03218094523058073, 0.9922039682388529, 0.00047514297845916657, 0.9768939637120465, 0.022569291476810412, 0.11078001942685102, 0.15950435172002403, 0.6212647308858332, 0.1084794758924276, 0.14518374062821376, 0.19716793905948923, 0.5708471959562471, 0.08673822939757074, 0.9957801815773495, 0.005594270683018817, 0.15036317359792342, 0.5613007000877202, 0.05790541175374961, 0.2304126329234366, 0.014142842138706101, 0.021625827397280757, 0.032401326169628264, 0.9318187393240092, 0.0012822239416234713, 0.014104463357858185, 0.9770546435170852, 0.007693343649740828, 0.9922384595525608, 0.0007997073505556236, 0.9705781544576751, 0.028522895503150576, 0.04482830265866387, 0.06308086888776153, 0.818591090242572, 0.07359434703572179, 0.005559104031331994, 0.9895205175770949, 0.8230391745451553, 0.0737065722742415, 0.05757009770134506, 0.0456717510342175, 0.1988092188870442, 0.7243154098268163, 0.0514467020063907, 0.025410921638784067, 0.16161641794663575, 0.4037195168767816, 0.1985547497989713, 0.2361211828406988, 0.014060061383433775, 0.0021395745583486178, 0.9631142047652135, 0.020478785058479627, 0.012600967490365218, 0.0018001382129093169, 0.9720746349710312, 0.013372455295897784, 0.9895713240875034, 0.9835186358159713, 0.09643956883594941, 0.32746647329282563, 0.47376252941211183, 0.10229392908512912, 0.03272100493874825, 0.04261809902515976, 0.8978078206959011, 0.02686354109168838, 0.00818903002234269, 0.9826836026811228, 0.0020472575055856725, 0.006141772516757018, 0.0018613170000297914, 0.9976659120159682, 0.9941087105347033, 0.017863712568860945, 0.9758052990740291, 0.006698892213322854, 0.10237283652354885, 0.15196076514510493, 0.27122199221530846, 0.4744386751717626, 0.9901122187288682, 0.00850611871760196, 0.8129276553141288, 0.023602576439272736, 0.10212789845438573, 0.06133829042543195, 0.9938682371625102, 0.003677298139157919, 0.9947091466422171, 0.9950744278263883, 0.0028800996463860733, 0.0014400498231930366, 0.9872260890036023, 0.006785059030952593, 0.0033925295154762967, 0.0033925295154762967, 0.9410250228373908, 0.028391845482372804, 0.01521945322095846, 0.015397458521788384, 0.9880040640144481, 0.07669849200990314, 0.8801101365463555, 0.029141379549936813, 0.01396357770101139, 0.6647751861328716, 0.17643928115118507, 0.06190382729289515, 0.09685289157347349, 0.9881124686663263, 0.010602065114445561, 0.008444323417007786, 0.9913635691567141, 0.8570700663366412, 0.10597535351110544, 0.020514974992100456, 0.016441874310608742, 0.2714340616911268, 0.6782115354230116, 0.018618670439469354, 0.03172646350805899, 0.71390550507168, 0.10231041787765188, 0.091360438018314, 0.09241119366138179, 0.9327798708289518, 0.027426407388697067, 0.006380693749812557, 0.03341932417028897, 0.002335332977979419, 0.9948518486192326, 0.005240499533681729, 0.005788014410335044, 0.10136846859181374, 0.887599831465974, 0.0019376379549261272, 0.9978835467869556, 0.0019376379549261272, 0.01288800997961848, 0.9708967517979255, 0.011169608649002682, 0.005155203991847392, 0.03034768934036748, 0.020205720995519587, 0.5809861763408496, 0.36847413526410105, 0.006803720465729176, 0.0020934524509935927, 0.9454554631799812, 0.04553259080911064, 0.817307372904708, 0.1062396833237146, 0.02617460255977494, 0.05029417434006342, 0.0748378453938987, 0.8691168445078103, 0.037073517256669825, 0.018958920833121007, 0.9757692207052472, 0.013458885802830996, 0.0060564986112739486, 0.004374137885920074, 0.9391209613486908, 0.04121435374763099, 0.007865334684662403, 0.012269922108073348, 0.9769419966130793, 0.013956314237329705, 0.0017445392796662132, 0.006978157118664853, 0.036558332167961415, 0.03977730481168129, 0.016899606379529333, 0.9068305790593699, 0.0038440020255985684, 0.011305888310584026, 0.9714019236453795, 0.01356706597270083, 0.5465741187483366, 0.4454885575319937, 0.006346872909448794, 0.0015789781384482366, 0.9942806926700362, 0.9956833305147991, 0.003160899461951743, 0.0061533262138726225, 0.9906855204334922, 0.9838318464807391, 0.0036170288473556583, 0.010851086542066976, 0.9921826676260959, 0.9951405009876868, 0.9887080894563288, 0.883977992765724, 0.049473328919820814, 0.017499656841060585, 0.04906445843288015, 0.02074473889627405, 0.008460845169175217, 0.023314328910616154, 0.9475519860204452, 0.9817829178661603, 0.8008164517801752, 0.06669540740011035, 0.06913523324720937, 0.06335346107173101, 0.9991524543122212, 0.28207780493131296, 0.17766207930653427, 0.14630896508517618, 0.3939267409069197, 0.8827740281824694, 0.08406876582628388, 0.012407565548636649, 0.020748591923046015, 0.8580731982137307, 0.03602427995949025, 0.013869717643540906, 0.0920209533256794, 0.8366338929517789, 0.06640294858743437, 0.0669076398361988, 0.030137277426218856, 0.04019414656784487, 0.8854278905808705, 0.06139969151970547, 0.012916104652496912, 0.002210634501878869, 0.967705253197475, 0.02044836914237954, 0.009947855258454912, 0.986827464480066, 0.0010715823974688434, 0.0021431647949376868, 0.9901421352612114, 0.006429494384813061, 0.9972142347959657, 0.003007577336081217, 0.005585500767007975, 0.9766033264160867, 0.015037886680406086, 0.9940824964249976, 0.002891258277633235, 0.9945928475058328, 0.9902468932098966, 0.0061506018211794815, 0.3246376840247637, 0.4593659830428794, 0.18900306268466324, 0.02701537690531428, 0.9912200011745834, 0.1632816099157975, 0.06234944169095279, 0.04899975721327206, 0.7253735879234071, 0.9953204281344983, 0.0016166933160464282, 0.0016166933160464282, 0.9958830826845997, 0.8900386308091188, 0.025270241465874668, 0.05771499943625634, 0.0269442953169263, 0.9929162547769049, 0.06523254119502513, 0.8952355377262011, 0.021624046804980705, 0.017659638224067575, 0.992998541246777, 0.004956731487088737, 0.003948935353987764, 0.018815515510176992, 0.9612173232236098, 0.016028031730891512, 0.24383723725803555, 0.12098987568932304, 0.0876677047620938, 0.5475080348127682, 0.004565001352636821, 0.9951702948748269, 0.023016690490260092, 0.10814374677584515, 0.00011566176125758841, 0.8687354888057465, 0.016437219191898764, 0.007325282465954884, 0.9228069252843165, 0.05359962779966988, 0.8183665606262046, 0.10613788889907737, 0.02001889007705018, 0.05547687698239141, 0.0697112350985185, 0.0502357725514128, 0.8687512405358453, 0.011284847457201427, 0.004318164484130738, 0.9931778313500698, 0.004318164484130738, 0.09320651619748757, 0.299434975707642, 0.23877561850950396, 0.3685802993058498, 0.0018237605804994578, 0.0030396009674990964, 0.992125755791705, 0.0030396009674990964, 0.00533161344952899, 0.003732129414670293, 0.9748855192463758, 0.01599484034858697, 0.003176692268104368, 0.003176692268104368, 0.9874218466691077, 0.005823935824858008, 0.0020362508579558846, 0.0013575005719705898, 0.0013575005719705898, 0.9952741693497706, 0.9590068777506187, 0.020634369295863722, 0.016704013239508726, 0.003930356056354995, 0.018751970490953302, 0.02139113670819858, 0.003472587127954315, 0.9564199467811775, 0.024877431493901255, 0.004417487835365643, 0.9339499281401994, 0.03696739820121775, 0.357145777021899, 0.51288782443306, 0.09870828338815128, 0.031238554033271623, 0.025537386942667408, 0.06063233058268955, 0.007534793375163255, 0.9062485374248369, 0.0014826234747705104, 0.9755662463989958, 0.022239352121557657, 0.42774690976157487, 0.21573767888700096, 0.22510149107088268, 0.1314064463616469, 0.34523722332462353, 0.11635029677548844, 0.5026011669795682, 0.03579494466640961, 0.020300308772152657, 0.003747749311782029, 0.0033573587584714007, 0.9725409464074365, 0.0071401584543994735, 0.13671303393570755, 0.011550256323293265, 0.8446387442233729, 0.13787812703668498, 0.8152911954094205, 0.023819024907620803, 0.023002372625073802, 0.0008272408246272849, 0.9984796753251328, 0.0008272408246272849, 0.1148818014567501, 0.046422539050196, 0.7399640863061363, 0.09866187817415151, 0.9889029079759691, 0.0008951508851915183, 0.9989883878737345, 0.09066738333685313, 0.201009625910269, 0.22246300349589954, 0.4858504552531617, 0.0010344032371687993, 0.002586008092921998, 0.9625122121855677, 0.03387670601727817, 0.2524000301040057, 0.23835053888042346, 0.46725294829171304, 0.04202577069062807, 0.9746067055345407, 0.01346606847025272, 0.00336651711756318, 0.00841629279390795, 0.011742838859507642, 0.012329980802483025, 0.01213426682149123, 0.963695642403594, 0.9914807530863434, 0.031597577253741814, 0.8412615568223503, 0.08272820226434222, 0.04423660815523854, 0.9826877132268168, 0.0017818453548990331, 0.014254762839192265, 0.0008909226774495166, 0.001262410865829163, 0.998566994870868, 0.7038765446118487, 0.12336245584502378, 0.11206745105790922, 0.06069808210523585, 0.42342004579357523, 0.34506084151752564, 0.13459868553002063, 0.09692336131003519, 0.8725363952482241, 0.07905998178788545, 0.010133039919292361, 0.0382680005743239, 0.9932467620585933, 0.5663030812909255, 0.19156005749677527, 0.17168155203992336, 0.07045348495905863, 0.001335750804753826, 0.010240756169779333, 0.9884555955178312, 0.683718269938947, 0.14889680615678816, 0.11628952642980653, 0.0511094537867655, 0.003628907268038492, 0.9870627769064697, 0.007257814536076984, 0.001814453634019246, 0.057409197110004376, 0.9296862517067873, 0.009425390570299227, 0.0038558415969405925, 0.9938850450883809, 0.0027839917229366415, 0.9984314856614205, 0.9193818705991358, 0.036614771715077425, 0.009931129862445657, 0.034106910638702255, 0.9913867723613872, 0.9929555396045239, 0.7035337047066625, 0.07907074835343625, 0.08749154472865149, 0.12991329250567923, 0.0027362403511303384, 0.0013681201755651692, 0.0031922804096520614, 0.9925711873725303, 0.0014696140598384924, 0.027922667136931357, 0.015430947628304171, 0.9552491388950202, 0.8276528437475756, 0.04566978930082449, 0.06242877765630647, 0.06422217493419938, 0.6386967664075055, 0.21508676431172494, 0.07839038516213107, 0.0678231074525834, 0.9941192841393433, 0.9912383349552567, 0.9874926665230443, 0.011617560782624051, 0.9904796362582678, 0.9982955748628672, 0.6850902277201242, 0.10403399539206926, 0.0497637268280958, 0.16113283802430634, 0.003521503287086999, 0.9930639269585338, 0.003521503287086999, 0.9937453774912935, 0.04790629036344865, 0.8791009009429424, 0.07110876717765455, 0.0017743070504980982, 0.003797533742389242, 0.9778649386652298, 0.01708890184075159, 0.9925212608699725, 0.0156535697111165, 0.9822614993725604, 0.0031930804473904095, 0.9813400574979858, 0.0010643601491301365, 0.014901042087821911, 0.9032979186823862, 0.031989645650168506, 0.014054749975680502, 0.050528119544471006, 0.9948948445364185, 0.0025061742813411616, 0.9949511896924412, 0.0025061742813411616, 0.9936064483921102, 0.0024902417252935095, 0.0024902417252935095, 0.9988441024391552, 0.0031387611903498105, 0.9949872973408899, 0.01443696120042858, 0.008149897451854843, 0.95912650297686, 0.018162628606990795, 0.6900175764444713, 0.19025383927597467, 0.03439800964333217, 0.0852911823580209, 0.9885080149613212, 0.14192054863652226, 0.805430792206156, 0.03587612083278158, 0.016789707762802857, 0.5196394510147588, 0.08842515675252703, 0.09049736840838998, 0.30144203931381425, 0.004511405180517123, 0.9925091397137672, 0.00048092579416153134, 0.9988828744735007, 0.0009618515883230627, 0.8387521342924162, 0.07440543126787563, 0.05289896628601881, 0.033936276732123544, 0.9949571571270965, 0.017778966687578827, 0.4153093553971753, 0.17371024643719998, 0.3932074207821372, 0.11743347831430408, 0.24929877332239234, 0.0696974692502487, 0.5635648552395456, 0.04394959411570933, 0.11251454135121514, 0.8263597818253128, 0.01718599199636699, 0.005143433306538842, 0.0015430299919616528, 0.9754521265850915, 0.01800201657288595, 0.0031138643231290943, 0.993322719078181, 0.9075598827716571, 0.07050501509431314, 0.006149970163989932, 0.015814208993116967, 0.070212357525997, 0.017374583387789088, 0.8424292863161571, 0.06997434953438345, 0.0036604209148404015, 0.9956344888365892, 0.2622842857757617, 0.4163530814608477, 0.21681097995147075, 0.10454215897952124, 0.9909058872211738, 0.996005095591629, 0.0031347415825238646, 0.9937130816600651, 0.0031347415825238646, 0.010640203493352738, 0.012413570742244862, 0.9593916816506386, 0.01773367248892123, 0.9965680726402252, 0.0024085579347142855, 0.0008028526449047618, 0.0008028526449047618, 0.9963401323268094, 0.9909962049520908, 0.006991154885023569, 0.49300447906591327, 0.3593594432121217, 0.02505844422258591, 0.12256028546460251, 0.03369839746735651, 0.011053074369292938, 0.016849198733678256, 0.9383655758760095, 0.8749785239614415, 0.032229424767500583, 0.053254088580674784, 0.03953140381638743, 0.8500473597299789, 0.09073238505933968, 0.023374518078217305, 0.03577550286017229, 0.050108811988728665, 0.8892161687621816, 0.024623917918859792, 0.035988803112179696, 0.984497927880521, 0.002144875659870416, 0.010724378299352081, 0.02197684932710491, 0.1234957146058605, 0.8334188409336946, 0.02112613257895891, 0.06679962049666757, 0.04803168451158521, 0.015921613939951392, 0.869284542095782, 0.014462907762292919, 0.9357189173115124, 0.03849838756869338, 0.011237367182213203, 0.0031193260457260293, 0.0017824720261291596, 0.0017824720261291596, 0.9935053455637403, 0.001070881559273639, 0.9852110345317479, 0.0064252893556418335, 0.008567052474189112, 0.01178655731059006, 0.9453801176202444, 0.0333952457133385, 0.009331024537550464, 0.04151860343806328, 0.9426571987071211, 0.007564118035274688, 0.008404575594749653, 0.06352809811936894, 0.015387207685193883, 0.4584238638161497, 0.4626377879125098, 0.9968095840665283, 0.04027451047741196, 0.8411570429795066, 0.09966234796105332, 0.01894267230081664, 0.17922916364590635, 0.2921196640058663, 0.3118605811082587, 0.21678281524999227, 0.32759681211321445, 0.5927048232074165, 0.05402650041550671, 0.02570423808314857, 0.9936072278700115, 0.9769571852965094, 0.006323347477647311, 0.009485021216470966, 0.006323347477647311, 0.03477362037399518, 0.8922438569048927, 0.037621588852604845, 0.0353566690389074, 0.5963810432062209, 0.16875219775646447, 0.057602449725559925, 0.17726420070991034, 0.9937949893739874, 0.9652409464742869, 0.03339934070845284, 0.0016699670354226419, 0.0016699670354226419, 0.999194037052538, 0.2723058559297284, 0.48884757723742733, 0.09913998994243364, 0.1396803807905313, 0.9400955821436741, 0.011321581204310914, 0.013343292133652148, 0.035177770170537484, 0.15083796166426164, 0.8087769165418652, 0.012702660403525854, 0.027685914277182797, 0.005837478199678324, 0.9937184042990871, 0.00902491584361229, 0.004803584239342026, 0.0015648039567553568, 0.9845892059063472, 0.02260332999262254, 0.009239003704208834, 0.00532854167126463, 0.9627901301990648, 0.9926450941975435, 0.0003653125222163811, 0.9951113105174221, 0.004018437744380192, 0.0003653125222163811, 0.991147567778753, 0.009622791920182068, 0.26981232965667695, 0.680825311025234, 0.030655852335519033, 0.018713339383502184, 0.026014550213022264, 0.9041813938904495, 0.02027259994077861, 0.04956826459508296, 0.9937844136164491, 0.99266239176463, 0.001685967702432473, 0.017281168949932847, 0.003371935404864946, 0.9778612674108343, 0.03534195291222186, 0.01254069296885292, 0.94123601046227, 0.010716592173383404, 0.03234299612353257, 0.017256598581062293, 0.012671173805972718, 0.9377368681270971, 0.022628196122277348, 0.8653809264850068, 0.0706393252860658, 0.04132105378850646, 0.9884679708646158, 0.9841991075026376, 0.00870972661506759, 0.00290324220502253, 0.00290324220502253, 0.10339639281950692, 0.02615983659537427, 0.006706168055388763, 0.8637371019959984, 0.04751605965839888, 0.908614957397942, 0.036518893012568575, 0.007262279860453977, 0.8589707172674534, 0.06162388024115295, 0.037884210940198726, 0.04152374212222655, 0.8021993419507146, 0.06834525653276118, 0.09478865760580041, 0.034694537498085314, 0.6231277303260212, 0.05114573032887104, 0.20522392980905182, 0.1205433340798524, 0.04269314303011504, 0.010254725531743319, 0.9296222614694657, 0.017370249370095826, 0.05769571351811195, 0.02166270284509036, 0.8971790693169601, 0.023378560496186626, 0.9959836452490076, 0.9622535564923561, 0.019730240990263437, 0.013584756091656791, 0.004528252030552264, 0.2846078160183559, 0.052598789152622324, 0.021714634219138145, 0.6410729337885581, 0.018065882767507424, 0.013775235610224411, 0.018924012198964026, 0.9492266453117588, 0.2767954153135082, 0.6667174237085046, 0.03734219679506647, 0.019163204866925587, 0.010364809656441836, 0.0008637341380368197, 0.9759332025678026, 0.012869638656748613, 0.7198815372999562, 0.22718736621718408, 0.021888984997441942, 0.03105054012168456, 0.0027507268799855903, 0.000550145375997118, 0.971831806698909, 0.02503161460786887, 0.01373302925965362, 0.973927272728226, 0.011018360685070928, 0.0014371774806614254, 0.9884926293605849, 0.007783406530398306, 0.9974907614129324, 0.16500934121133728, 0.5551841785766379, 0.20656173714337467, 0.07323879837587868, 0.01431225276717679, 0.9827746900128063, 0.0023853754611961315, 0.003662832166797024, 0.003662832166797024, 0.003662832166797024, 0.9926275172019935, 0.03020699433945953, 0.9216153972969103, 0.02446766541496222, 0.023561455584778436, 0.9909624149215014, 0.0039014268303996114, 0.0031211414643196895, 0.0015605707321598447, 0.027701642483843842, 0.021305337937489406, 0.020364704915966696, 0.9306623114945705, 0.01371687012264917, 0.006990328043273134, 0.003627057003585117, 0.9756123874734222, 0.013146425212753896, 0.007313856280334914, 0.004382141737584632, 0.9751808373779886, 0.9920820776088277, 0.9985245789090645, 0.0009065134624685107, 0.006203055507345366, 0.0009730283148777044, 0.9764339139797764, 0.016541481352920977, 0.9973391169078542, 0.00239170052016272, 0.38751503312830177, 0.5465392770578777, 0.042209854372498294, 0.023731522927769238, 0.9872603511765311, 0.019356649290330992, 0.010494568892348129, 0.9339000250979573, 0.03626456583911409, 0.4073047360670282, 0.07011779195049937, 0.35926466069558727, 0.16331683305183256, 0.9968216076297628, 0.9128108303050648, 0.034191156084811956, 0.026050404636047207, 0.02686447978092368, 0.9969878748060378, 0.9950931877737285, 0.004045094259242798, 0.004045094259242798, 0.0026610992970165664, 0.006320110830414345, 0.005322198594033133, 0.9857709708385743, 0.022639436023190147, 0.9508563129739861, 0.0036223097637104232, 0.02354501346411775, 0.03449800287461762, 0.006429022629851891, 0.004506943699277614, 0.9545773033653799, 0.9971100913423419, 0.020359896300132248, 0.01484575771884643, 0.9238302946185007, 0.04093187485339087, 0.9904341809885853, 0.9375224491043415, 0.049877208744054234, 0.006340323145430623, 0.006763011355125998, 0.004645513729218052, 0.9280537588724966, 0.03266845138611404, 0.03461657004675387, 0.002327333051796322, 0.01592385772281694, 0.02633561084927417, 0.9554314633690164, 0.9942745242139012, 0.005169538254145067, 0.005275963174903445, 0.9848464593153098, 0.0017586543916344817, 0.007913944762355168, 0.993602289752405, 0.7495522296306399, 0.15059988747105987, 0.03569296331574476, 0.06413242704418526, 0.004868134021953399, 0.9882312064565401, 0.004868134021953399, 0.9952805676832722, 0.00316520753515786, 0.00316520753515786, 0.00316520753515786, 0.9896548893260243, 0.037930639470698246, 0.015715644162719075, 0.6433114588506486, 0.30305444438526974, 0.005958303916782624, 0.992653432535985, 0.00026371259865992126, 0.00026371259865992126, 0.9818020048108869, 0.017405031511554803, 0.9932700033195446, 0.12417850213989949, 0.4013994625137285, 0.05622366540684823, 0.4182001408493398, 0.9884434773065934, 0.008463848808263388, 0.025937601186613608, 0.013378341664674387, 0.9525925320009987, 0.011295827559212544, 0.004773831885143397, 0.0926526808130648, 0.8912945840769136, 0.004458631695863929, 0.9942748681776562, 0.001477807772512328, 0.001477807772512328, 0.9975202464458214, 0.0014885248140292368, 0.0009923498760194911, 0.0029770496280584736, 0.9943345757715302, 0.9873840084496533, 0.01563943926313612, 0.019515002062992216, 0.023836426069911407, 0.9410072260146176, 0.0007574083837810528, 0.0015148167675621057, 0.003787041918905264, 0.9937197995207413, 0.0069112782589823354, 0.0050505494969486295, 0.9699713218087131, 0.018075650831184568, 0.19340527432144008, 0.671576146603574, 0.09420054095446365, 0.04084502996159085, 0.009431911618210291, 0.9835663624323153, 0.005460580410542801, 0.0014892492028753092, 0.3029037090619732, 0.20486875618325523, 0.4073079790399783, 0.08490234030286828, 0.9858917823752845, 0.006641646865299356, 0.9862845594969544, 0.006641646865299356, 0.042723928107520646, 0.010103325522775297, 0.9013253719735056, 0.045850069188558745, 0.0004204551941864975, 0.000840910388372995, 0.02354549087444386, 0.9750355953184876, 0.007645441899313501, 0.9818931810689767, 0.00982985387054593, 0.11247742765715828, 0.781571230054265, 0.04196918942431279, 0.064003013872077, 0.2435720419382543, 0.5606553170043208, 0.0282136224040884, 0.16750099297101792], \"Term\": [\"[\", \"[\", \"[\", \"[\", \"]\", \"]\", \"]\", \"]\", \"acai\", \"acai\", \"accord\", \"accord\", \"accord\", \"accord\", \"adults\", \"adults\", \"adults\", \"adults\", \"age\", \"age\", \"age\", \"age\", \"agility\", \"agro\", \"agro\", \"allergies\", \"allergies\", \"allergies\", \"allergies\", \"amyloidosis\", \"amzn\", \"amzn\", \"amzn\", \"amzn\", \"anxiety\", \"anxiety\", \"anxiety\", \"anxiety\", \"ap\", \"ap\", \"ap\", \"ap\", \"api\", \"api\", \"api\", \"api\", \"appointment\", \"appointment\", \"appointment\", \"appointment\", \"approval\", \"approval\", \"approval\", \"approval\", \"argentine\", \"argentine\", \"arm\", \"arm\", \"arm\", \"arm\", \"arthritis\", \"arthritis\", \"arthritis\", \"arthritis\", \"asthma\", \"asthma\", \"asthma\", \"asthma\", \"atin\", \"baba\", \"baba\", \"baba\", \"back\", \"back\", \"back\", \"back\", \"bad\", \"bad\", \"bad\", \"bad\", \"baptists\", \"baptists\", \"become\", \"become\", \"become\", \"become\", \"belly\", \"belly\", \"belly\", \"belly\", \"bese\", \"bese\", \"bese\", \"bese\", \"bespeak\", \"betja\", \"betja\", \"betja\", \"bite\", \"bite\", \"bite\", \"bite\", \"bizarre\", \"bizarre\", \"blood\", \"blood\", \"blood\", \"blood\", \"bmi\", \"bmi\", \"bmi\", \"bmi\", \"body\", \"body\", \"body\", \"body\", \"boom\", \"boom\", \"boom\", \"boom\", \"breakthrough\", \"breakthrough\", \"breakthrough\", \"breakthrough\", \"broaden\", \"buenos\", \"burn\", \"burn\", \"burn\", \"burn\", \"business\", \"business\", \"business\", \"business\", \"bye\", \"bye\", \"bye\", \"bye\", \"c_\", \"c_\", \"cabin\", \"caesar\", \"caesar\", \"caesar\", \"call\", \"call\", \"call\", \"call\", \"cambodia\", \"cambodia\", \"cancer\", \"cancer\", \"cancer\", \"cancer\", \"cancercarepune\", \"cappuccino\", \"cappuccino\", \"cardiomyopathies\", \"cardiomyopathies\", \"cardiomyopathies\", \"cardiomyopathy\", \"cardiomyopathy\", \"cardiomyopathy\", \"cardiomyopathy\", \"cardiovascular\", \"cardiovascular\", \"cardiovascular\", \"cardiovascular\", \"cashmere\", \"cat\", \"cat\", \"cat\", \"cat\", \"cause\", \"cause\", \"cause\", \"cause\", \"cerebrovascular\", \"cerebrovascular\", \"challeges\", \"challeges\", \"childhood\", \"childhood\", \"childhood\", \"childhood\", \"children\", \"children\", \"children\", \"children\", \"cholesterol\", \"cholesterol\", \"cholesterol\", \"cholesterol\", \"chronic\", \"chronic\", \"chronic\", \"chronic\", \"cl\", \"cl\", \"click\", \"click\", \"click\", \"click\", \"cmhc\", \"cmhc\", \"cmhc\", \"column\", \"column\", \"column\", \"column\", \"com\", \"com\", \"com\", \"com\", \"command\", \"command\", \"command\", \"command\", \"condition\", \"condition\", \"condition\", \"condition\", \"consider\", \"consider\", \"consider\", \"consider\", \"copd\", \"copd\", \"copd\", \"copd\", \"coronary\", \"coronary\", \"coronary\", \"coronary\", \"corticosteroids\", \"corticosteroids\", \"corticosteroids\", \"corticosteroids\", \"course\", \"course\", \"course\", \"course\", \"court\", \"court\", \"court\", \"court\", \"covid\", \"covid\", \"covid\", \"covid\", \"crate\", \"crepitus\", \"crepitus\", \"crew\", \"crew\", \"crispr\", \"crispr\", \"crispr\", \"customfatloss\", \"damini\", \"decodingobesity\", \"depression\", \"depression\", \"depression\", \"depression\", \"detail\", \"detail\", \"detail\", \"detail\", \"diabete\", \"diabetes\", \"diabetes\", \"diabetes\", \"diabetes\", \"diabetwatch\", \"diet\", \"diet\", \"diet\", \"diet\", \"disease\", \"disease\", \"disease\", \"disease\", \"diseases\", \"diseases\", \"diseases\", \"diseases\", \"disorder\", \"disorder\", \"disorder\", \"disorder\", \"dog\", \"dog\", \"dog\", \"dog\", \"donald\", \"donald\", \"donald\", \"donald\", \"doo\", \"dosage\", \"dosage\", \"dosage\", \"dosage\", \"dph\", \"dress\", \"dress\", \"dress\", \"dress\", \"drucker\", \"dssurgery\", \"dssurgery\", \"duo\", \"duo\", \"eat\", \"eat\", \"eat\", \"eat\", \"edo\", \"effect\", \"effect\", \"effect\", \"effect\", \"eft\", \"enhancers\", \"enhancers\", \"enhancers\", \"epidemic\", \"epidemic\", \"epidemic\", \"epidemic\", \"essex\", \"estimate\", \"estimate\", \"estimate\", \"estimate\", \"eta\", \"eta\", \"examination\", \"examination\", \"examination\", \"examination\", \"exercise\", \"exercise\", \"exercise\", \"exercise\", \"exercisers\", \"exercisers\", \"exhaustion\", \"exhaustion\", \"exhaustion\", \"exhaustion\", \"facebook\", \"facebook\", \"facebook\", \"facebook\", \"factor\", \"factor\", \"factor\", \"factor\", \"fail\", \"fail\", \"fail\", \"fail\", \"fas\", \"fas\", \"fas\", \"fat\", \"fat\", \"fat\", \"fat\", \"faty\", \"faty\", \"faty\", \"faty\", \"favour\", \"favour\", \"favour\", \"favour\", \"favourite\", \"favourite\", \"favourite\", \"favourite\", \"fedup\", \"fedup\", \"fedup\", \"fedup\", \"fibrosis\", \"fibrosis\", \"fibrosis\", \"fibrosis\", \"figure\", \"figure\", \"figure\", \"figure\", \"financial\", \"financial\", \"financial\", \"financial\", \"find\", \"find\", \"find\", \"find\", \"fit\", \"fit\", \"fit\", \"fit\", \"flail\", \"flail\", \"flail\", \"food\", \"food\", \"food\", \"food\", \"foods\", \"foods\", \"foods\", \"foods\", \"forever\", \"forever\", \"forever\", \"forever\", \"formula\", \"formula\", \"formula\", \"formula\", \"foundation\", \"foundation\", \"foundation\", \"foundation\", \"frugal\", \"frugal\", \"frugal\", \"fruit\", \"fruit\", \"fruit\", \"fruit\", \"fudge\", \"gaikwad\", \"gaikwad\", \"get\", \"get\", \"get\", \"get\", \"glory\", \"glory\", \"glory\", \"glory\", \"good\", \"good\", \"good\", \"good\", \"grapple\", \"grapple\", \"grapple\", \"grapple\", \"guide\", \"guide\", \"guide\", \"guide\", \"guranteed\", \"half\", \"half\", \"half\", \"half\", \"hancock\", \"hancock\", \"hancock\", \"hancock\", \"harmon\", \"harmon\", \"health\", \"health\", \"health\", \"health\", \"healthy\", \"healthy\", \"healthy\", \"healthy\", \"heart\", \"heart\", \"heart\", \"heart\", \"helo\", \"help\", \"help\", \"help\", \"help\", \"herbalifechange\", \"herbalifechange\", \"herbalifechange\", \"high\", \"high\", \"high\", \"high\", \"hospitalizations\", \"hospitalizations\", \"hospitalizations\", \"hospitalizations\", \"hospitalize\", \"hospitalize\", \"hospitalize\", \"hospitalize\", \"ifa\", \"ifa\", \"ija\", \"immune\", \"immune\", \"immune\", \"immune\", \"immunodeficiencies\", \"impediment\", \"improve\", \"improve\", \"improve\", \"improve\", \"inbox\", \"inbox\", \"inbox\", \"inbox\", \"inch\", \"inch\", \"inch\", \"inch\", \"include\", \"include\", \"include\", \"include\", \"increase\", \"increase\", \"increase\", \"increase\", \"internship\", \"intracranial\", \"irregularity\", \"irregularity\", \"irritableness\", \"isang\", \"issue\", \"issue\", \"issue\", \"issue\", \"jab\", \"jab\", \"jab\", \"jel\", \"johnson\", \"johnson\", \"johnson\", \"johnson\", \"johnsons\", \"johnsons\", \"johnsons\", \"juniors\", \"kapag\", \"kapag\", \"kaya\", \"kaya\", \"kaya\", \"kaya\", \"kidney\", \"kidney\", \"kidney\", \"kidney\", \"kino\", \"kinoki\", \"kinoki\", \"kinoki\", \"klapers\", \"klapers\", \"klapers\", \"konkol\", \"kuala\", \"kuala\", \"land\", \"land\", \"land\", \"land\", \"lead\", \"lead\", \"lead\", \"lead\", \"lhl\", \"likely\", \"likely\", \"likely\", \"likely\", \"link\", \"link\", \"link\", \"link\", \"linkedin\", \"linkedin\", \"lishou\", \"lishou\", \"lishou\", \"liver\", \"liver\", \"liver\", \"liver\", \"loob\", \"lose\", \"lose\", \"lose\", \"lose\", \"loss\", \"loss\", \"loss\", \"loss\", \"love\", \"love\", \"love\", \"love\", \"luck\", \"luck\", \"luck\", \"luck\", \"lumpur\", \"lumpur\", \"lung\", \"lung\", \"lung\", \"lung\", \"ly\", \"ly\", \"ly\", \"ly\", \"mainstay\", \"mainstay\", \"make\", \"make\", \"make\", \"make\", \"malad\", \"mammals\", \"maradona\", \"maradona\", \"maradona\", \"marriage\", \"marriage\", \"marriage\", \"marriage\", \"mas\", \"masturbation\", \"masturbation\", \"masturbation\", \"masturbation\", \"mataas\", \"mataas\", \"may\", \"may\", \"may\", \"may\", \"meals\", \"meals\", \"meals\", \"meals\", \"mental\", \"mental\", \"mental\", \"mental\", \"metabolic\", \"metabolic\", \"metabolic\", \"metabolic\", \"million\", \"million\", \"million\", \"million\", \"misalignment\", \"misalignment\", \"misalignment\", \"money\", \"money\", \"money\", \"money\", \"month\", \"month\", \"month\", \"month\", \"morbidly\", \"morbidly\", \"morbidly\", \"morbidly\", \"mummy\", \"mummy\", \"mummy\", \"mummy\", \"myobesityteam\", \"myobesityteam\", \"myobesityteam\", \"myobesityteam\", \"nancy\", \"nancy\", \"nancy\", \"nancy\", \"nationwide\", \"nationwide\", \"nationwide\", \"nationwide\", \"natural\", \"natural\", \"natural\", \"natural\", \"naughton\", \"nearly\", \"nearly\", \"nearly\", \"nearly\", \"need\", \"need\", \"need\", \"need\", \"new\", \"new\", \"new\", \"new\", \"newsome\", \"nnc\", \"nnc\", \"nnc\", \"nnc\", \"obese\", \"obese\", \"obese\", \"obese\", \"obesity\", \"obesity\", \"obesity\", \"obesity\", \"octagonal\", \"ohioans\", \"ohioans\", \"ohioans\", \"ohioans\", \"oildok\", \"one\", \"one\", \"one\", \"one\", \"osteoporosis\", \"osteoporosis\", \"osteoporosis\", \"osteoporosis\", \"overweight\", \"overweight\", \"overweight\", \"overweight\", \"pallavi\", \"pallavi\", \"pcod\", \"pcod\", \"pcod\", \"pcod\", \"pcos\", \"pcos\", \"pcos\", \"pcos\", \"pedophile\", \"pelosi\", \"pelosi\", \"pelosi\", \"pelosi\", \"pelosis\", \"pelosis\", \"people\", \"people\", \"people\", \"people\", \"percent\", \"percent\", \"percent\", \"percent\", \"petrol\", \"pinterest\", \"plz\", \"plz\", \"plz\", \"plz\", \"political\", \"political\", \"political\", \"political\", \"post\", \"post\", \"post\", \"post\", \"pound\", \"pound\", \"pound\", \"pound\", \"prancer\", \"preexist\", \"preexist\", \"preexist\", \"preexist\", \"pregnancy\", \"pregnancy\", \"pregnancy\", \"pregnancy\", \"president\", \"president\", \"president\", \"president\", \"pressure\", \"pressure\", \"pressure\", \"pressure\", \"prevent\", \"prevent\", \"prevent\", \"prevent\", \"problems\", \"problems\", \"problems\", \"problems\", \"promise\", \"promise\", \"promise\", \"promise\", \"protection\", \"protection\", \"protection\", \"protection\", \"proteect\", \"pulmonary\", \"pulmonary\", \"pulmonary\", \"pulmonary\", \"reduce\", \"reduce\", \"reduce\", \"reduce\", \"remove\", \"remove\", \"remove\", \"remove\", \"report\", \"report\", \"report\", \"report\", \"ring\", \"ring\", \"ring\", \"ring\", \"risk\", \"risk\", \"risk\", \"risk\", \"ritual\", \"ritual\", \"ritual\", \"ritual\", \"robert\", \"robert\", \"robert\", \"robert\", \"rom\", \"rom\", \"sars\", \"say\", \"say\", \"say\", \"say\", \"semaglutide\", \"semaglutide\", \"semaglutide\", \"seriours\", \"seriours\", \"seriours\", \"seriours\", \"severely\", \"severely\", \"severely\", \"severely\", \"sickle\", \"sickle\", \"sickle\", \"sickle\", \"side\", \"side\", \"side\", \"side\", \"skip\", \"skip\", \"skip\", \"skip\", \"slim\", \"slim\", \"slim\", \"slim\", \"smyrna\", \"softgels\", \"softgels\", \"spiritual\", \"spiritual\", \"spiritual\", \"spiritual\", \"stifle\", \"stifle\", \"study\", \"study\", \"study\", \"study\", \"substrates\", \"success\", \"success\", \"success\", \"success\", \"sugar\", \"sugar\", \"sugar\", \"sugar\", \"superb\", \"syndrome\", \"syndrome\", \"syndrome\", \"syndrome\", \"tcm\", \"thalassemia\", \"thalassemia\", \"thalassemia\", \"thighs\", \"thighs\", \"thighs\", \"thighs\", \"thirds\", \"thirds\", \"thirds\", \"thirds\", \"thyroid\", \"thyroid\", \"thyroid\", \"thyroid\", \"timeto\", \"tone\", \"tone\", \"tone\", \"tone\", \"toronto\", \"transplant\", \"transplant\", \"transplant\", \"transplant\", \"trump\", \"trump\", \"trump\", \"trump\", \"tummy\", \"tummy\", \"tummy\", \"tummy\", \"tunde\", \"tunde\", \"turtle\", \"turtle\", \"turtle\", \"turtle\", \"tush\", \"type\", \"type\", \"type\", \"type\", \"unsure\", \"unsure\", \"unsure\", \"untramx\", \"upto\", \"upto\", \"upto\", \"upto\", \"url\", \"url\", \"url\", \"url\", \"urlstruggling\", \"urlstruggling\", \"visa\", \"visa\", \"visa\", \"visa\", \"vishwakarma\", \"weight\", \"weight\", \"weight\", \"weight\", \"wharton\", \"whats\", \"whats\", \"whats\", \"whats\", \"whatsapp\", \"whatsapp\", \"whatsapp\", \"whatsapp\", \"whatup\", \"whatup\", \"whtasp\", \"whtasp\", \"whtasp\", \"whtsapp\", \"whtsapp\", \"whtsapp\", \"whtsapp\", \"wireless\", \"without\", \"without\", \"without\", \"without\", \"wmc\", \"wmc\", \"wmc\", \"wmc\", \"womb\", \"womb\", \"womb\", \"womb\", \"women\", \"women\", \"women\", \"women\", \"wood\", \"wood\", \"wood\", \"wood\", \"work\", \"work\", \"work\", \"work\", \"workshops\", \"wrestlers\", \"wrestlers\", \"wrestlers\", \"www\", \"www\", \"www\", \"www\", \"xxl\", \"xxl\", \"xxl\", \"xxl\", \"yahoo\", \"yahoo\", \"yahoo\", \"year\", \"year\", \"year\", \"year\", \"years\", \"years\", \"years\", \"years\"]}, \"R\": 30, \"lambda.step\": 0.01, \"plot.opts\": {\"xlab\": \"PC1\", \"ylab\": \"PC2\"}, \"topic.order\": [2, 3, 4, 1]};\n",
       "\n",
       "function LDAvis_load_lib(url, callback){\n",
       "  var s = document.createElement('script');\n",
       "  s.src = url;\n",
       "  s.async = true;\n",
       "  s.onreadystatechange = s.onload = callback;\n",
       "  s.onerror = function(){console.warn(\"failed to load library \" + url);};\n",
       "  document.getElementsByTagName(\"head\")[0].appendChild(s);\n",
       "}\n",
       "\n",
       "if(typeof(LDAvis) !== \"undefined\"){\n",
       "   // already loaded: just create the visualization\n",
       "   !function(LDAvis){\n",
       "       new LDAvis(\"#\" + \"ldavis_el46391406278736784965691865335\", ldavis_el46391406278736784965691865335_data);\n",
       "   }(LDAvis);\n",
       "}else if(typeof define === \"function\" && define.amd){\n",
       "   // require.js is available: use it to load d3/LDAvis\n",
       "   require.config({paths: {d3: \"https://d3js.org/d3.v5\"}});\n",
       "   require([\"d3\"], function(d3){\n",
       "      window.d3 = d3;\n",
       "      LDAvis_load_lib(\"https://cdn.jsdelivr.net/gh/bmabey/pyLDAvis@3.3.1/pyLDAvis/js/ldavis.v3.0.0.js\", function(){\n",
       "        new LDAvis(\"#\" + \"ldavis_el46391406278736784965691865335\", ldavis_el46391406278736784965691865335_data);\n",
       "      });\n",
       "    });\n",
       "}else{\n",
       "    // require.js not available: dynamically load d3 & LDAvis\n",
       "    LDAvis_load_lib(\"https://d3js.org/d3.v5.js\", function(){\n",
       "         LDAvis_load_lib(\"https://cdn.jsdelivr.net/gh/bmabey/pyLDAvis@3.3.1/pyLDAvis/js/ldavis.v3.0.0.js\", function(){\n",
       "                 new LDAvis(\"#\" + \"ldavis_el46391406278736784965691865335\", ldavis_el46391406278736784965691865335_data);\n",
       "            })\n",
       "         });\n",
       "}\n",
       "</script>"
      ],
      "text/plain": [
       "<IPython.core.display.HTML object>"
      ]
     },
     "execution_count": 72,
     "metadata": {},
     "output_type": "execute_result"
    }
   ],
   "source": [
    "vis = pyLDAvis.gensim_models.prepare(topic_model = lda_model, \n",
    "                       corpus = corpus, \n",
    "                       dictionary = id2word)\n",
    "pyLDAvis.enable_notebook()\n",
    "pyLDAvis.display(vis)"
   ]
  },
  {
   "cell_type": "markdown",
   "metadata": {},
   "source": [
    "## Obesity Data"
   ]
  },
  {
   "cell_type": "code",
   "execution_count": null,
   "metadata": {},
   "outputs": [],
   "source": [
    "obesity_labels = pd.DataFrame({\"agglomerate\": yhat_agg,\n",
    "                    \"dbscan\": yhat_db,\n",
    "                    \"birch\": yhat_birch,\n",
    "                    \"kmeans\": yhat_kmeans})\n",
    "\n",
    "print(\"Silhouette Scores for Health Comparator\")\n",
    "print(\"Agglomerative\")\n",
    "print(silhouette_score(dat_obesity_fm, obesity_labels.agglomerate, metric='euclidean')) #0.358\n",
    "print(\"DBSCAN\")\n",
    "print(silhouette_score(dat_obesity_fm, obesity_labels.dbscan, metric='euclidean')) #0.106\n",
    "print(\"BIRCH\")\n",
    "print(silhouette_score(dat_obesity_fm, obesity_labels.birch, metric='euclidean')) #0.343\n",
    "print(\"KMeans\")\n",
    "print(silhouette_score(dat_obesity_fm, obesity_labels.kmeans, metric='euclidean')) #0.241"
   ]
  }
 ],
 "metadata": {
  "interpreter": {
   "hash": "ffe67d4efdf50a67adb541926f1b56bfeeb48b191d1b9a6489e883c5acad5bda"
  },
  "kernelspec": {
   "display_name": "Python 3.8.8 64-bit ('base': conda)",
   "language": "python",
   "name": "python3"
  },
  "language_info": {
   "codemirror_mode": {
    "name": "ipython",
    "version": 3
   },
   "file_extension": ".py",
   "mimetype": "text/x-python",
   "name": "python",
   "nbconvert_exporter": "python",
   "pygments_lexer": "ipython3",
   "version": "3.8.8"
  },
  "orig_nbformat": 4
 },
 "nbformat": 4,
 "nbformat_minor": 2
}
