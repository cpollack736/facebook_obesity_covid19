{
 "cells": [
  {
   "cell_type": "markdown",
   "metadata": {},
   "source": [
    "# Libraries"
   ]
  },
  {
   "cell_type": "code",
   "execution_count": 23,
   "metadata": {},
   "outputs": [],
   "source": [
    "import numpy as np\n",
    "import pandas as pd\n",
    "\n",
    "from sklearn.cluster import AgglomerativeClustering, DBSCAN, Birch, KMeans\n",
    "from sklearn.metrics import silhouette_score"
   ]
  },
  {
   "cell_type": "markdown",
   "metadata": {},
   "source": [
    "# Data"
   ]
  },
  {
   "cell_type": "code",
   "execution_count": 2,
   "metadata": {},
   "outputs": [
    {
     "name": "stderr",
     "output_type": "stream",
     "text": [
      "/Users/catherinepollack/opt/anaconda3/lib/python3.8/site-packages/IPython/core/interactiveshell.py:3165: DtypeWarning: Columns (84) have mixed types.Specify dtype option on import or set low_memory=False.\n",
      "  has_raised = await self.run_ast_nodes(code_ast.body, cell_name,\n",
      "/Users/catherinepollack/opt/anaconda3/lib/python3.8/site-packages/IPython/core/interactiveshell.py:3165: DtypeWarning: Columns (501) have mixed types.Specify dtype option on import or set low_memory=False.\n",
      "  has_raised = await self.run_ast_nodes(code_ast.body, cell_name,\n"
     ]
    }
   ],
   "source": [
    "file_path = \"/Users/catherinepollack/Documents/dartmouth/research/aim3_facebook_covid19_obesity/data\"\n",
    "dat_obesity = \"/211105_feature_matrix_bert.csv\"\n",
    "dat_health = \"/211118_feature_matrix_bert_health_comparator.csv\"\n",
    "dat_nonhealth = \"/211118_feature_matrix_bert_nonhealth_comparator.csv\"\n",
    "\n",
    "dat_obesity = pd.read_csv(str(file_path + dat_obesity))\n",
    "dat_health = pd.read_csv(str(file_path + dat_health))\n",
    "dat_nonhealth = pd.read_csv(str(file_path + dat_nonhealth))"
   ]
  },
  {
   "cell_type": "markdown",
   "metadata": {},
   "source": [
    "# Feature Matrix Curation"
   ]
  },
  {
   "cell_type": "markdown",
   "metadata": {},
   "source": [
    "## Obesity"
   ]
  },
  {
   "cell_type": "code",
   "execution_count": 3,
   "metadata": {},
   "outputs": [
    {
     "data": {
      "text/html": [
       "<div>\n",
       "<style scoped>\n",
       "    .dataframe tbody tr th:only-of-type {\n",
       "        vertical-align: middle;\n",
       "    }\n",
       "\n",
       "    .dataframe tbody tr th {\n",
       "        vertical-align: top;\n",
       "    }\n",
       "\n",
       "    .dataframe thead th {\n",
       "        text-align: right;\n",
       "    }\n",
       "</style>\n",
       "<table border=\"1\" class=\"dataframe\">\n",
       "  <thead>\n",
       "    <tr style=\"text-align: right;\">\n",
       "      <th></th>\n",
       "      <th>api whatsapp</th>\n",
       "      <th>arm reduce</th>\n",
       "      <th>belly fat</th>\n",
       "      <th>blood pressure</th>\n",
       "      <th>body fat</th>\n",
       "      <th>body weight</th>\n",
       "      <th>childhood obesity</th>\n",
       "      <th>com url</th>\n",
       "      <th>detail whatsapp</th>\n",
       "      <th>diabetes heart</th>\n",
       "      <th>...</th>\n",
       "      <th>BERT 758</th>\n",
       "      <th>BERT 759</th>\n",
       "      <th>BERT 760</th>\n",
       "      <th>BERT 761</th>\n",
       "      <th>BERT 762</th>\n",
       "      <th>BERT 763</th>\n",
       "      <th>BERT 764</th>\n",
       "      <th>BERT 765</th>\n",
       "      <th>BERT 766</th>\n",
       "      <th>BERT 767</th>\n",
       "    </tr>\n",
       "  </thead>\n",
       "  <tbody>\n",
       "    <tr>\n",
       "      <th>0</th>\n",
       "      <td>0.0</td>\n",
       "      <td>0.0</td>\n",
       "      <td>0.0</td>\n",
       "      <td>0.0</td>\n",
       "      <td>0.0</td>\n",
       "      <td>0.0</td>\n",
       "      <td>0.0</td>\n",
       "      <td>0.0</td>\n",
       "      <td>0.0</td>\n",
       "      <td>0.0</td>\n",
       "      <td>...</td>\n",
       "      <td>-0.219545</td>\n",
       "      <td>-0.014961</td>\n",
       "      <td>-0.064851</td>\n",
       "      <td>-0.038482</td>\n",
       "      <td>0.084405</td>\n",
       "      <td>0.075298</td>\n",
       "      <td>0.065782</td>\n",
       "      <td>0.248788</td>\n",
       "      <td>0.091218</td>\n",
       "      <td>0.086831</td>\n",
       "    </tr>\n",
       "    <tr>\n",
       "      <th>1</th>\n",
       "      <td>0.0</td>\n",
       "      <td>0.0</td>\n",
       "      <td>0.0</td>\n",
       "      <td>0.0</td>\n",
       "      <td>0.0</td>\n",
       "      <td>0.0</td>\n",
       "      <td>0.0</td>\n",
       "      <td>0.0</td>\n",
       "      <td>0.0</td>\n",
       "      <td>0.0</td>\n",
       "      <td>...</td>\n",
       "      <td>0.034646</td>\n",
       "      <td>-0.170634</td>\n",
       "      <td>-0.160933</td>\n",
       "      <td>0.004613</td>\n",
       "      <td>0.014560</td>\n",
       "      <td>-0.077150</td>\n",
       "      <td>0.029200</td>\n",
       "      <td>0.442995</td>\n",
       "      <td>0.137200</td>\n",
       "      <td>0.112337</td>\n",
       "    </tr>\n",
       "    <tr>\n",
       "      <th>2</th>\n",
       "      <td>0.0</td>\n",
       "      <td>0.0</td>\n",
       "      <td>0.0</td>\n",
       "      <td>0.0</td>\n",
       "      <td>0.0</td>\n",
       "      <td>0.0</td>\n",
       "      <td>0.0</td>\n",
       "      <td>0.0</td>\n",
       "      <td>0.0</td>\n",
       "      <td>0.0</td>\n",
       "      <td>...</td>\n",
       "      <td>0.005560</td>\n",
       "      <td>-0.182919</td>\n",
       "      <td>-0.178136</td>\n",
       "      <td>0.028645</td>\n",
       "      <td>0.152068</td>\n",
       "      <td>0.056867</td>\n",
       "      <td>0.086266</td>\n",
       "      <td>-0.014318</td>\n",
       "      <td>0.170697</td>\n",
       "      <td>0.212658</td>\n",
       "    </tr>\n",
       "    <tr>\n",
       "      <th>3</th>\n",
       "      <td>0.0</td>\n",
       "      <td>0.0</td>\n",
       "      <td>0.0</td>\n",
       "      <td>0.0</td>\n",
       "      <td>0.0</td>\n",
       "      <td>0.0</td>\n",
       "      <td>0.0</td>\n",
       "      <td>0.0</td>\n",
       "      <td>0.0</td>\n",
       "      <td>0.0</td>\n",
       "      <td>...</td>\n",
       "      <td>-0.242043</td>\n",
       "      <td>0.114247</td>\n",
       "      <td>-0.133007</td>\n",
       "      <td>0.009129</td>\n",
       "      <td>0.252129</td>\n",
       "      <td>-0.073247</td>\n",
       "      <td>0.107698</td>\n",
       "      <td>0.175957</td>\n",
       "      <td>0.345249</td>\n",
       "      <td>0.112090</td>\n",
       "    </tr>\n",
       "    <tr>\n",
       "      <th>4</th>\n",
       "      <td>0.0</td>\n",
       "      <td>0.0</td>\n",
       "      <td>0.0</td>\n",
       "      <td>0.0</td>\n",
       "      <td>0.0</td>\n",
       "      <td>0.0</td>\n",
       "      <td>0.0</td>\n",
       "      <td>0.0</td>\n",
       "      <td>0.0</td>\n",
       "      <td>0.0</td>\n",
       "      <td>...</td>\n",
       "      <td>-0.256913</td>\n",
       "      <td>-0.102631</td>\n",
       "      <td>-0.296323</td>\n",
       "      <td>-0.131713</td>\n",
       "      <td>0.172565</td>\n",
       "      <td>0.027309</td>\n",
       "      <td>-0.172738</td>\n",
       "      <td>0.040497</td>\n",
       "      <td>0.369843</td>\n",
       "      <td>0.041904</td>\n",
       "    </tr>\n",
       "  </tbody>\n",
       "</table>\n",
       "<p>5 rows × 938 columns</p>\n",
       "</div>"
      ],
      "text/plain": [
       "   api whatsapp  arm reduce  belly fat  blood pressure  body fat  body weight  \\\n",
       "0           0.0         0.0        0.0             0.0       0.0          0.0   \n",
       "1           0.0         0.0        0.0             0.0       0.0          0.0   \n",
       "2           0.0         0.0        0.0             0.0       0.0          0.0   \n",
       "3           0.0         0.0        0.0             0.0       0.0          0.0   \n",
       "4           0.0         0.0        0.0             0.0       0.0          0.0   \n",
       "\n",
       "   childhood obesity  com url  detail whatsapp  diabetes heart  ...  BERT 758  \\\n",
       "0                0.0      0.0              0.0             0.0  ... -0.219545   \n",
       "1                0.0      0.0              0.0             0.0  ...  0.034646   \n",
       "2                0.0      0.0              0.0             0.0  ...  0.005560   \n",
       "3                0.0      0.0              0.0             0.0  ... -0.242043   \n",
       "4                0.0      0.0              0.0             0.0  ... -0.256913   \n",
       "\n",
       "   BERT 759  BERT 760  BERT 761  BERT 762  BERT 763  BERT 764  BERT 765  \\\n",
       "0 -0.014961 -0.064851 -0.038482  0.084405  0.075298  0.065782  0.248788   \n",
       "1 -0.170634 -0.160933  0.004613  0.014560 -0.077150  0.029200  0.442995   \n",
       "2 -0.182919 -0.178136  0.028645  0.152068  0.056867  0.086266 -0.014318   \n",
       "3  0.114247 -0.133007  0.009129  0.252129 -0.073247  0.107698  0.175957   \n",
       "4 -0.102631 -0.296323 -0.131713  0.172565  0.027309 -0.172738  0.040497   \n",
       "\n",
       "   BERT 766  BERT 767  \n",
       "0  0.091218  0.086831  \n",
       "1  0.137200  0.112337  \n",
       "2  0.170697  0.212658  \n",
       "3  0.345249  0.112090  \n",
       "4  0.369843  0.041904  \n",
       "\n",
       "[5 rows x 938 columns]"
      ]
     },
     "execution_count": 3,
     "metadata": {},
     "output_type": "execute_result"
    }
   ],
   "source": [
    "#api whatsapp : without skip\n",
    "#neg: compound\n",
    "#WC: OtherP\n",
    "#BERT 0 : BERT 767\n",
    "dat_obesity_1 = dat_obesity.loc[:,\"api whatsapp\":\"without skip\"]\n",
    "dat_obesity_2 = dat_obesity.loc[:,\"neg\":\"compound\"]\n",
    "dat_obesity_3 = dat_obesity.loc[:,\"WC\":\"OtherP\"]\n",
    "dat_obesity_4 = dat_obesity.loc[:,\"BERT 0\":\"BERT 767\"]\n",
    "dat_obesity_fm = pd.concat([dat_obesity_1,\n",
    "                            dat_obesity_2,\n",
    "                            dat_obesity_3,\n",
    "                            dat_obesity_4],\n",
    "                            axis = 1)\n",
    "dat_obesity_fm.head()                           \n"
   ]
  },
  {
   "cell_type": "markdown",
   "metadata": {},
   "source": [
    "## Health Comparator"
   ]
  },
  {
   "cell_type": "code",
   "execution_count": 4,
   "metadata": {},
   "outputs": [],
   "source": [
    "#api whatsapp : without skip\n",
    "#neg: compound\n",
    "#WC: OtherP\n",
    "#BERT 0 : BERT 767\n",
    "dat_health_1 = dat_health.loc[:,\"abdominal pain\":\"youtube channel\"]\n",
    "dat_health_2 = dat_health.loc[:,\"neg\":\"compound\"]\n",
    "dat_health_3 = dat_health.loc[:,\"WC\":\"OtherP\"]\n",
    "dat_health_4 = dat_health.loc[:,\"BERT 0\":\"BERT 767\"]\n",
    "dat_health_fm = pd.concat([dat_health_1,\n",
    "                            dat_health_2,\n",
    "                            dat_health_3,\n",
    "                            dat_health_4],\n",
    "                            axis = 1)\n",
    "                      \n"
   ]
  },
  {
   "cell_type": "markdown",
   "metadata": {},
   "source": [
    "## Non-Health Comparator"
   ]
  },
  {
   "cell_type": "code",
   "execution_count": 5,
   "metadata": {},
   "outputs": [],
   "source": [
    "#api whatsapp : without skip\n",
    "#neg: compound\n",
    "#WC: OtherP\n",
    "#BERT 0 : BERT 767\n",
    "dat_nonhealth_1 = dat_nonhealth.loc[:,\"ago father\":\"zfat mix\"]\n",
    "dat_nonhealth_2 = dat_nonhealth.loc[:,\"neg\":\"compound\"]\n",
    "dat_nonhealth_3 = dat_nonhealth.loc[:,\"WC\":\"OtherP\"]\n",
    "dat_nonhealth_4 = dat_nonhealth.loc[:,\"BERT 0\":\"BERT 767\"]\n",
    "dat_nonhealth_fm = pd.concat([dat_nonhealth_1,\n",
    "                            dat_nonhealth_2,\n",
    "                            dat_nonhealth_3,\n",
    "                            dat_nonhealth_4],\n",
    "                            axis = 1)"
   ]
  },
  {
   "cell_type": "markdown",
   "metadata": {},
   "source": [
    "# Clustering"
   ]
  },
  {
   "cell_type": "markdown",
   "metadata": {},
   "source": [
    "- Agglomerative Clustering\n",
    "- DBScan\n",
    "- KMeans\n",
    "- BIRCH\n",
    "- Gaussian Mixture Model"
   ]
  },
  {
   "cell_type": "markdown",
   "metadata": {},
   "source": [
    "## Non-Health Comparator"
   ]
  },
  {
   "cell_type": "code",
   "execution_count": 12,
   "metadata": {},
   "outputs": [
    {
     "name": "stdout",
     "output_type": "stream",
     "text": [
      "Agglomerative\n",
      "DBSCAN\n",
      "BIRCH\n",
      "KMeans\n",
      "Gaussian\n"
     ]
    }
   ],
   "source": [
    "print(\"Agglomerative\")\n",
    "model_agg = AgglomerativeClustering()\n",
    "yhat_agg = model_agg.fit_predict(dat_nonhealth_fm)\n",
    "\n",
    "print(\"DBSCAN\")\n",
    "model_db = DBSCAN()\n",
    "yhat_db = model_db.fit_predict(dat_nonhealth_fm)\n",
    "\n",
    "print(\"BIRCH\")\n",
    "model_birch= Birch()\n",
    "yhat_birch = model_birch.fit_predict(dat_nonhealth_fm)\n",
    "\n",
    "print(\"KMeans\")\n",
    "model_kmeans = KMeans()\n",
    "yhat_kmeans = model_kmeans.fit_predict(dat_nonhealth_fm)\n"
   ]
  },
  {
   "cell_type": "code",
   "execution_count": 20,
   "metadata": {},
   "outputs": [],
   "source": [
    "nonhealth_labels = pd.DataFrame({\"agglomerate\": yhat_agg,\n",
    "                    \"dbscan\": yhat_db,\n",
    "                    \"birch\": yhat_birch,\n",
    "                    \"kmeans\": yhat_kmeans})"
   ]
  },
  {
   "cell_type": "code",
   "execution_count": 21,
   "metadata": {},
   "outputs": [
    {
     "data": {
      "text/html": [
       "<div>\n",
       "<style scoped>\n",
       "    .dataframe tbody tr th:only-of-type {\n",
       "        vertical-align: middle;\n",
       "    }\n",
       "\n",
       "    .dataframe tbody tr th {\n",
       "        vertical-align: top;\n",
       "    }\n",
       "\n",
       "    .dataframe thead th {\n",
       "        text-align: right;\n",
       "    }\n",
       "</style>\n",
       "<table border=\"1\" class=\"dataframe\">\n",
       "  <thead>\n",
       "    <tr style=\"text-align: right;\">\n",
       "      <th></th>\n",
       "      <th>agglomerate</th>\n",
       "      <th>dbscan</th>\n",
       "      <th>birch</th>\n",
       "      <th>kmeans</th>\n",
       "      <th>gmm</th>\n",
       "    </tr>\n",
       "  </thead>\n",
       "  <tbody>\n",
       "    <tr>\n",
       "      <th>0</th>\n",
       "      <td>0</td>\n",
       "      <td>0</td>\n",
       "      <td>0</td>\n",
       "      <td>0</td>\n",
       "      <td>0</td>\n",
       "    </tr>\n",
       "    <tr>\n",
       "      <th>1</th>\n",
       "      <td>0</td>\n",
       "      <td>1</td>\n",
       "      <td>0</td>\n",
       "      <td>2</td>\n",
       "      <td>0</td>\n",
       "    </tr>\n",
       "    <tr>\n",
       "      <th>2</th>\n",
       "      <td>0</td>\n",
       "      <td>0</td>\n",
       "      <td>0</td>\n",
       "      <td>0</td>\n",
       "      <td>0</td>\n",
       "    </tr>\n",
       "    <tr>\n",
       "      <th>3</th>\n",
       "      <td>0</td>\n",
       "      <td>1</td>\n",
       "      <td>0</td>\n",
       "      <td>2</td>\n",
       "      <td>0</td>\n",
       "    </tr>\n",
       "    <tr>\n",
       "      <th>4</th>\n",
       "      <td>0</td>\n",
       "      <td>-1</td>\n",
       "      <td>0</td>\n",
       "      <td>5</td>\n",
       "      <td>0</td>\n",
       "    </tr>\n",
       "  </tbody>\n",
       "</table>\n",
       "</div>"
      ],
      "text/plain": [
       "   agglomerate  dbscan  birch  kmeans  gmm\n",
       "0            0       0      0       0    0\n",
       "1            0       1      0       2    0\n",
       "2            0       0      0       0    0\n",
       "3            0       1      0       2    0\n",
       "4            0      -1      0       5    0"
      ]
     },
     "execution_count": 21,
     "metadata": {},
     "output_type": "execute_result"
    }
   ],
   "source": [
    "print(\"Silhouette Scores for Nonhealth Comparator\")\n",
    "print(\"Agglomerative\")\n",
    "print(silhouette_score(dat_nonhealth_fm, nonhealth_labels.agglomerate, metric='euclidean')) #0.358\n",
    "print(\"DBSCAN\")\n",
    "print(silhouette_score(dat_nonhealth_fm, nonhealth_labels.dbscan, metric='euclidean')) #0.106\n",
    "print(\"BIRCH\")\n",
    "print(silhouette_score(dat_nonhealth_fm, nonhealth_labels.birch, metric='euclidean')) #0.343\n",
    "print(\"KMeans\")\n",
    "print(silhouette_score(dat_nonhealth_fm, nonhealth_labels.kmeans, metric='euclidean')) #0.241"
   ]
  },
  {
   "cell_type": "markdown",
   "metadata": {},
   "source": [
    "## Health Comparator"
   ]
  },
  {
   "cell_type": "code",
   "execution_count": null,
   "metadata": {},
   "outputs": [],
   "source": [
    "print(\"Agglomerative\")\n",
    "model_agg = AgglomerativeClustering()\n",
    "yhat_agg = model_agg.fit_predict(dat_health_fm)\n",
    "\n",
    "print(\"DBSCAN\")\n",
    "model_db = DBSCAN()\n",
    "yhat_db = model_db.fit_predict(dat_health_fm)\n",
    "\n",
    "print(\"BIRCH\")\n",
    "model_birch= Birch()\n",
    "yhat_birch = model_birch.fit_predict(dat_health_fm)\n",
    "\n",
    "print(\"KMeans\")\n",
    "model_kmeans = KMeans()\n",
    "yhat_kmeans = model_kmeans.fit_predict(dat_health_fm)\n",
    "\n",
    "health_labels = pd.DataFrame({\"agglomerate\": yhat_agg,\n",
    "                    \"dbscan\": yhat_db,\n",
    "                    \"birch\": yhat_birch,\n",
    "                    \"kmeans\": yhat_kmeans})\n",
    "\n",
    "print(\"Silhouette Scores for Health Comparator\")\n",
    "print(\"Agglomerative\")\n",
    "print(silhouette_score(dat_health_fm, health_labels.agglomerate, metric='euclidean')) #0.358\n",
    "print(\"DBSCAN\")\n",
    "print(silhouette_score(dat_health_fm, health_labels.dbscan, metric='euclidean')) #0.106\n",
    "print(\"BIRCH\")\n",
    "print(silhouette_score(dat_health_fm, health_labels.birch, metric='euclidean')) #0.343\n",
    "print(\"KMeans\")\n",
    "print(silhouette_score(dat_health_fm, health_labels.kmeans, metric='euclidean')) #0.241"
   ]
  },
  {
   "cell_type": "markdown",
   "metadata": {},
   "source": [
    "## Obesity Data"
   ]
  },
  {
   "cell_type": "code",
   "execution_count": null,
   "metadata": {},
   "outputs": [],
   "source": [
    "print(\"Agglomerative\")\n",
    "model_agg = AgglomerativeClustering()\n",
    "yhat_agg = model_agg.fit_predict(dat_obesity_fm)\n",
    "\n",
    "print(\"DBSCAN\")\n",
    "model_db = DBSCAN()\n",
    "yhat_db = model_db.fit_predict(dat_obesity_fm)\n",
    "\n",
    "print(\"BIRCH\")\n",
    "model_birch= Birch()\n",
    "yhat_birch = model_birch.fit_predict(dat_obesity_fm)\n",
    "\n",
    "print(\"KMeans\")\n",
    "model_kmeans = KMeans()\n",
    "yhat_kmeans = model_kmeans.fit_predict(dat_obesity_fm)\n",
    "\n",
    "obesity_labels = pd.DataFrame({\"agglomerate\": yhat_agg,\n",
    "                    \"dbscan\": yhat_db,\n",
    "                    \"birch\": yhat_birch,\n",
    "                    \"kmeans\": yhat_kmeans})\n",
    "\n",
    "print(\"Silhouette Scores for Health Comparator\")\n",
    "print(\"Agglomerative\")\n",
    "print(silhouette_score(dat_obesity_fm, obesity_labels.agglomerate, metric='euclidean')) #0.358\n",
    "print(\"DBSCAN\")\n",
    "print(silhouette_score(dat_obesity_fm, obesity_labels.dbscan, metric='euclidean')) #0.106\n",
    "print(\"BIRCH\")\n",
    "print(silhouette_score(dat_obesity_fm, obesity_labels.birch, metric='euclidean')) #0.343\n",
    "print(\"KMeans\")\n",
    "print(silhouette_score(dat_obesity_fm, obesity_labels.kmeans, metric='euclidean')) #0.241"
   ]
  }
 ],
 "metadata": {
  "interpreter": {
   "hash": "ffe67d4efdf50a67adb541926f1b56bfeeb48b191d1b9a6489e883c5acad5bda"
  },
  "kernelspec": {
   "display_name": "Python 3.8.8 64-bit ('base': conda)",
   "language": "python",
   "name": "python3"
  },
  "language_info": {
   "codemirror_mode": {
    "name": "ipython",
    "version": 3
   },
   "file_extension": ".py",
   "mimetype": "text/x-python",
   "name": "python",
   "nbconvert_exporter": "python",
   "pygments_lexer": "ipython3",
   "version": "3.8.8"
  },
  "orig_nbformat": 4
 },
 "nbformat": 4,
 "nbformat_minor": 2
}
