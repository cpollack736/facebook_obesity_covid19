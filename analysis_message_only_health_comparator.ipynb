{
 "cells": [
  {
   "cell_type": "markdown",
   "metadata": {},
   "source": [
    "# Bring in Libraries and Packages"
   ]
  },
  {
   "cell_type": "code",
   "execution_count": 1,
   "metadata": {
    "ExecuteTime": {
     "end_time": "2021-10-28T14:16:34.377487Z",
     "start_time": "2021-10-28T14:16:33.957656Z"
    }
   },
   "outputs": [],
   "source": [
    "import html\n",
    "import nltk\n",
    "import numpy as np\n",
    "#nltk.download('stopwords')\n",
    "#nltk.download('wordnet')\n",
    "#nltk.download('vader_lexicon')\n",
    "import pandas as pd\n",
    "import preprocessor as p \n",
    "import re\n",
    "\n",
    "from nltk.corpus import stopwords\n",
    "from nltk.tokenize import word_tokenize\n",
    "from nltk.sentiment.vader import SentimentIntensityAnalyzer\n",
    "from nltk.stem import WordNetLemmatizer\n",
    "from sentence_transformers import SentenceTransformer\n",
    "from sklearn.feature_extraction.text import CountVectorizer, TfidfVectorizer\n",
    "from urllib.parse import urlparse\n"
   ]
  },
  {
   "cell_type": "markdown",
   "metadata": {},
   "source": [
    "# Functions"
   ]
  },
  {
   "cell_type": "markdown",
   "metadata": {},
   "source": [
    "## URL Replacement"
   ]
  },
  {
   "cell_type": "code",
   "execution_count": 2,
   "metadata": {},
   "outputs": [],
   "source": [
    "def url_replacement(text, token_type = \"url\"):\n",
    "    \"\"\"\n",
    "    Function that will take in a block of text and replace the url with a token of some type\n",
    "    text (str): A block of text that contains a url\n",
    "    token_type (str): A specfication on what token should replace the url. Default is \"url\", which just returns \"url\". Other options include: \n",
    "        \"domain\", which returns the domain (e.g., \".gov url\")\n",
    "        \"host\", which returns the host of the website and domain (e.g., \"cdc.gov url\")\n",
    "    \"\"\"\n",
    "    urls = re.findall('http[s]?://(?:[a-zA-Z]|[0-9]|[$-_@.&+]|[!*\\(\\),]|(?:%[0-9a-fA-F][0-9a-fA-F]))+', text)\n",
    "    # Get a list of all urls\n",
    "    \n",
    "    if urls == []: # If list is blank\n",
    "        return text #Return previous text since nothing needs to change\n",
    "    \n",
    "    new_text = text[:] #Deep copy of the text to a new object\n",
    "    \n",
    "    if token_type == \"url\": #For the base case\n",
    "        for url in urls:\n",
    "            new_text = new_text.replace(url, \"url\") #Replace each url with the \"url\" token\n",
    "\n",
    "    elif token_type == \"domain\": #For the case of just extracting the domain\n",
    "        for url in urls:\n",
    "            try: \n",
    "                urlparse(url).netloc.split(\".\")[-1] #Extract just the domain \n",
    "            except ValueError:\n",
    "                print(str(\"URL parse error with \" + url))\n",
    "                domain = \"\"\n",
    "            else:\n",
    "                domain = urlparse(url).netloc.split(\".\")[-1] #Extract just the domain\n",
    "                \n",
    "            domain_url = domain + \" url\"\n",
    "            new_text = new_text.replace(url, domain_url)\n",
    "            \n",
    "    else: #Extracting full host name\n",
    "        for url in urls:\n",
    "            try:\n",
    "                urlparse(url).netloc #Extract the full host name\n",
    "            except ValueError:\n",
    "                print(str(\"URL parse error with \" + url))\n",
    "                domain = \"\"\n",
    "            else:\n",
    "                domain = urlparse(url).netloc #Extract the full host name\n",
    "            domain_url = domain + \" url\"\n",
    "            new_text = new_text.replace(url, domain_url)\n",
    "        \n",
    "    return new_text"
   ]
  },
  {
   "cell_type": "markdown",
   "metadata": {},
   "source": [
    "## VADER Sentiment Analysis"
   ]
  },
  {
   "cell_type": "code",
   "execution_count": 3,
   "metadata": {},
   "outputs": [],
   "source": [
    "def get_vader_score(sid, text, dataframe):\n",
    "    \"\"\"\n",
    "    Function that will take in a text and return an estimated valence. \n",
    "    Note that this assumes that the column names match the VADER output\n",
    "    (i.e., \"neg\", \"neu\", \"pos\", \"compound\")\n",
    "    param sid (str): Name of the SentimentIntensityAnalyzer() defined outside the function \n",
    "    param text (str): A string of text to analyze\n",
    "    param dataframe (DataFrame): The pandas dataframe to append results to\n",
    "    \"\"\"\n",
    "    scores = sid.polarity_scores(text)\n",
    "    return(dataframe.append(scores, ignore_index = True))"
   ]
  },
  {
   "cell_type": "markdown",
   "metadata": {},
   "source": [
    "# Bring in Data"
   ]
  },
  {
   "cell_type": "code",
   "execution_count": 4,
   "metadata": {
    "ExecuteTime": {
     "end_time": "2021-10-28T14:45:43.092298Z",
     "start_time": "2021-10-28T14:45:40.930504Z"
    }
   },
   "outputs": [
    {
     "name": "stderr",
     "output_type": "stream",
     "text": [
      "/Users/catherinepollack/opt/anaconda3/lib/python3.8/site-packages/IPython/core/interactiveshell.py:3165: DtypeWarning: Columns (1,4,9,10,15,16,17,18,19,20,21,22,23,24,27,28,29,38,39,40,41,42) have mixed types.Specify dtype option on import or set low_memory=False.\n",
      "  has_raised = await self.run_ast_nodes(code_ast.body, cell_name,\n"
     ]
    }
   ],
   "source": [
    "data_file_path = \"/Users/catherinepollack/Documents/dartmouth/research/aim3_facebook_covid19_obesity/data/\"\n",
    "#facebook_1 = pd.read_csv(str(data_file_path + \"210627_headaches_1.csv\"))\n",
    "#facebook_2 = pd.read_csv(str(data_file_path + \"210627_headaches_2.csv\"))\n",
    "#facebook_2 = pd.read_csv(str(data_file_path + \"210627_headaches_3.csv\"))\n",
    "#facebook = pd.concat([facebook_1, facebook_2], axis = 0)\n",
    "#facebook = facebook.reset_index()\n",
    "#facebook.to_csv(data_file_path + \"220119_combined_facebook_data_health_control.csv\")\n",
    "\n",
    "facebook_liwc = pd.read_csv(data_file_path + \"220204_combined_facebook_data_health_control_liwc.csv\")"
   ]
  },
  {
   "cell_type": "markdown",
   "metadata": {},
   "source": [
    "# Rename Columns with Metadata"
   ]
  },
  {
   "cell_type": "code",
   "execution_count": 5,
   "metadata": {},
   "outputs": [],
   "source": [
    "colname_mapping = dict(zip(list(facebook_liwc.columns[1:42]), list(facebook_liwc.loc[0, \"B\":\"AQ\"])))\n",
    "facebook_liwc = facebook_liwc.rename(columns = colname_mapping)\n",
    "facebook_liwc = facebook_liwc.iloc[1:,1:]"
   ]
  },
  {
   "cell_type": "markdown",
   "metadata": {},
   "source": [
    "# Remove Posts on Pet-Specific Pages"
   ]
  },
  {
   "cell_type": "code",
   "execution_count": 6,
   "metadata": {
    "ExecuteTime": {
     "end_time": "2021-10-28T19:43:38.229068Z",
     "start_time": "2021-10-28T19:43:32.333806Z"
    }
   },
   "outputs": [],
   "source": [
    "#Identifying which could be pet related\n",
    "set(facebook_liwc[\"Page Category\"]) \n",
    "#ADOPTION_SERVICE, ANIMAL_RESCUE_SERVICE, ANIMAL_SHELTER, AQUARIUM, AQUATIC_PET_STORE,\n",
    "#DOG_BREEDER, DOG_DAY_CARE_CENTER, DOG_PARK, DOG_TRAINING, DOG_WALKER, EQUESTRIAN_FACILITY\n",
    "#HORSEBACK_RIDING_SERVICE, HORSE_TRAINER, KENNEL, PET, PETTING_ZOO, PET_ADOPTION_SERVICE\n",
    "#PET_BREEDER, PET_CAFE, PET_GROOMER, PET_SERVICE, PET_SITTER, PET_STORE, PET_SUPPLIES\n",
    "#REPTILE_PET_STORE, ZOO\n",
    "\n",
    "possible_pet_tags = [\"ADOPTION_SERVICE\", \"ANIMAL_RESCUE_SERVICE\", \"ANIMAL_SHELTER\", \"AQUARIUM\", \"AQUATIC_PET_STORE\",\n",
    "\"DOG_BREEDER\", \"DOG_DAY_CARE_CENTER\", \"DOG_PARK\", \"DOG_TRAINING\", \"DOG_WALKER\", \"EQUESTRIAN_FACILITY\",\n",
    "\"HORSEBACK_RIDING_SERVICE\", \"HORSE_TRAINER\", \"KENNEL\", \"PET\", \"PETTING_ZOO\", \"PET_ADOPTION_SERVICE\",\n",
    "\"PET_BREEDER\", \"PET_CAFE\", \"PET_GROOMER\", \"PET_SERVICE\", \"PET_SITTER\", \"PET_STORE\", \"PET_SUPPLIES\",\n",
    "\"REPTILE_PET_STORE\", \"ZOO\"]\n",
    "\n",
    "facebook_pet = facebook_liwc[(facebook_liwc[\"Page Category\"].isin(possible_pet_tags))] #4,392 in pet category\n",
    "facebook_liwc_no_pet = facebook_liwc[-(facebook_liwc[\"Page Category\"].isin(possible_pet_tags))] #522,467 not in pet category"
   ]
  },
  {
   "cell_type": "markdown",
   "metadata": {},
   "source": [
    "# Text Pre-Processing"
   ]
  },
  {
   "cell_type": "code",
   "execution_count": 7,
   "metadata": {},
   "outputs": [
    {
     "name": "stdout",
     "output_type": "stream",
     "text": [
      "Now processing text!\n"
     ]
    },
    {
     "name": "stderr",
     "output_type": "stream",
     "text": [
      "<ipython-input-7-5286c5d702dc>:2: SettingWithCopyWarning: \n",
      "A value is trying to be set on a copy of a slice from a DataFrame.\n",
      "Try using .loc[row_indexer,col_indexer] = value instead\n",
      "\n",
      "See the caveats in the documentation: https://pandas.pydata.org/pandas-docs/stable/user_guide/indexing.html#returning-a-view-versus-a-copy\n",
      "  facebook_liwc_no_pet['processed_text'] = facebook_liwc_no_pet.Message.apply(str) #Change to string\n",
      "<ipython-input-7-5286c5d702dc>:3: SettingWithCopyWarning: \n",
      "A value is trying to be set on a copy of a slice from a DataFrame.\n",
      "Try using .loc[row_indexer,col_indexer] = value instead\n",
      "\n",
      "See the caveats in the documentation: https://pandas.pydata.org/pandas-docs/stable/user_guide/indexing.html#returning-a-view-versus-a-copy\n",
      "  facebook_liwc_no_pet['processed_text'] = facebook_liwc_no_pet.processed_text.apply(html.unescape) #Remove HTML escape characters\n",
      "<ipython-input-7-5286c5d702dc>:4: SettingWithCopyWarning: \n",
      "A value is trying to be set on a copy of a slice from a DataFrame.\n",
      "Try using .loc[row_indexer,col_indexer] = value instead\n",
      "\n",
      "See the caveats in the documentation: https://pandas.pydata.org/pandas-docs/stable/user_guide/indexing.html#returning-a-view-versus-a-copy\n",
      "  facebook_liwc_no_pet['processed_text_bert'] = facebook_liwc_no_pet['processed_text'] #Create new column for BERT-specific embeddings (don't want to remove additional information)\n"
     ]
    },
    {
     "name": "stdout",
     "output_type": "stream",
     "text": [
      "URL parse error with https://www.ktmrestaurant.co](https://www.ktmrestaurant.com/)m\n",
      "URL parse error with https://www.iskm.international](https://www.iskm.international/?fbclid=IwAR13dmb9p4erlkVIughijk-5zsB_6rOO2ykBDkcwYKoLriLbDnzeimQnwL8)\n",
      "URL parse error with https://www.srikrishnamandir.org](https://www.srikrishnamandir.org/?fbclid=IwAR15h4-7TcXXUuAg0ZKOY3UkVTD5iIlxXD-5SBBdLjuuUMb3qEWV2Vy_axk)\n",
      "URL parse error with https://plasmaenergysolution.com](https://plasmaenergysolution.com/)\n",
      "URL parse error with http://hpsl.ie**](http://hpsl.ie/?fbclid=IwAR12TarcjlrGXks6HfXytBpLrqIpG9uEymlKTcP2TU3kzdj4UFU3YToD2mA)\n",
      "URL parse error with http://delanodigital.com](http://delanodigital.com/?fbclid=IwAR2ZBewvobCHjHqXkZ6sqLYDxrmMJ1dT0xo83z1ajP5tLxsV2TH62nnAcis)\n",
      "URL parse error with http://delanodigital.com](http://delanodigital.com/?fbclid=IwAR29GUabjSStRKITE1gqAMR6jne-LljrMsv4hxVmr5GH2ajqnuE5KNZ8dKE)\n",
      "URL parse error with http://coeursdehs.fr](https://l.facebook.com/l.php?u=http%3A%2F%2Fcoeursdehs.fr%2F%3Ffbclid%3DIwAR1HNeyCmF5XCs9uWps1atGHSfugqxVeDddUmf2qizXnqLQ355D0QOmfbpc&h=AT2-ekVKq7kk1VM8JJQOEGFyScnPy26xR-EVklqxdW5avPo6i6kzjgFI21PgXB2-i5mRKZWA0o4kHlBdgHsn1DcVlTOE112ud2cLDQEqhRzxIu3rGFPApvOoBo2-cjiigUDlFfQXRc261I_vRdXH)\n",
      "URL parse error with http://PopsPlanB.net](http://popsplanb.net/?fbclid=IwAR0EHTE-q3lGrY2ytbBMdsja1VuyjYyW0f41wxVGiLH_e81bcFkvin9LLVY)\n",
      "URL parse error with http://delanodigital.com](http://delanodigital.com/?fbclid=IwAR1YpPhJpJfqJWk8A3Kb0sLyEY-W1UlMHL7p5xfAFSCZSWEKHOtWRsGP_5M)\n",
      "URL parse error with http://delanodigital.com](http://delanodigital.com/?fbclid=IwAR1BbYFFctPz-ndpiE1etGueGXG0iD19ltpQRTH8ZyhKhejCrzaF6d3o3CQ)\n",
      "URL parse error with http://delanodigital.com](https://l.facebook.com/l.php?u=http%3A%2F%2Fdelanodigital.com%2F%3Ffbclid%3DIwAR1tT43TvgjewWFwhzvsiSSfIDLJOBAZOrnmghfeLwojr91IOtxcphpZ600&h=AT1AZo988kelkqWRDECzzM7DIgN4qYlWjVuk-dzhey1BVsJfOYea4ZbLIq10eb4gRYZg62lB13k6nwq5CJze0E6KFHAU3BfsRaIVE_SuDrqjcQuXtrMeGFrCqqOWHe-O9T0DvhDUDL8xVjjcr8ksc99dSYfHhvkwOgNQcj9qZ51bpe9nwQlvnfRoiztU_cimT8smdyoRzzJDfzvKIQ3666497hVEcocxZHuv0_F4syN1qw54vVRkqgnhd2NneZi0XMVLbwH4ld-W1l393B8GBTyvgmYp1xec5BjmZmRt9sQgxSssjUGXqLfLWt8GiQooU6LwMSddnjb_vNZp9s6PloFq9STdq3w9L6GxvOi0Bnf7q0PXPQiojKXAW9JBXE8kndXHXQnsq23acLzmMSYrdVPLuHumwa3C4tk7ngEpab5FdFrynirgBCcl8vm7_QnKBAjrsciJ4w7o89Na_Gd9zLVth1uOdJvHD_A-CFtnKg64lzqJg5BAar8fRuPwkEF7NSARGkb9Qsl8tADP0PUwzydHh9CIlKNI9usLXBa6RiUT-nBdH1v-Xhv1edfEb9PlUxLt4RPXTPVYjfb5xb83ASjk8paFhzkiKy07Oati8L7ovL3qNyLaI2YBm3-w3-g7fCcgbg)\n",
      "URL parse error with http://delanodigital.com](http://delanodigital.com/?fbclid=IwAR1MP_IPOVZSG483kYlCEYdz5UJ0b1y38lMi81C0c3xOq9gpauvbsRsMX5U)\n",
      "URL parse error with http://delanodigital.com](http://delanodigital.com/?fbclid=IwAR25Og01ir-3lI22HcpjrC4t-dBASRjIT3vo3mD1pgpFLj-Bx3d93LSPAvI)\n",
      "URL parse error with http://delanodigital.com](http://delanodigital.com/?fbclid=IwAR09zi2plV606KtkD02nMg0XZAJi5mxnawx9dxEgjUnSEnzWAeCMwyinFdQ)\n",
      "URL parse error with http://delanodigital.com](http://delanodigital.com/?fbclid=IwAR3rPeQ_iqvLVt1N5cfsrE1Q2xm-OI-FFKk--FBMui17zToPd3yGbgX11us)\n",
      "URL parse error with http://delanodigital.com](http://delanodigital.com/?fbclid=IwAR29GUabjSStRKITE1gqAMR6jne-LljrMsv4hxVmr5GH2ajqnuE5KNZ8dKE)\n",
      "URL parse error with http://delanodigital.com](http://delanodigital.com/?fbclid=IwAR2uhDdmm312pSArBUW8ulA7ymmd32QEhGSTOdYt6bnaiioCFOQ_sXeL0KU)\n",
      "URL parse error with http://delanodigital.com](http://delanodigital.com/?fbclid=IwAR38a0mBAV2wxnSRqIWn5sZc2qvcHSltk5p42LGqXCCnBUEVIjmRliSgPWM)\n",
      "URL parse error with http://delanodigital.com](http://delanodigital.com/?fbclid=IwAR0X3sYjUeWFWmVu2v2pdo7LUkC29zvbKpmmoylSAVbiD4dlcoko6x6HXWw)\n",
      "URL parse error with http://delanodigital.com](http://delanodigital.com/?fbclid=IwAR1YpPhJpJfqJWk8A3Kb0sLyEY-W1UlMHL7p5xfAFSCZSWEKHOtWRsGP_5M)\n",
      "URL parse error with http://delanodigital.com](http://delanodigital.com/?fbclid=IwAR1YpPhJpJfqJWk8A3Kb0sLyEY-W1UlMHL7p5xfAFSCZSWEKHOtWRsGP_5M)\n",
      "URL parse error with http://delanodigital.com](http://delanodigital.com/?fbclid=IwAR2Rp5K0OkBapKxh4-qF-PsaE0GiapSp-KDsqMd52wFl2-070wjqRnEN0Oc)\n",
      "URL parse error with http://delanodigital.com](http://delanodigital.com/?fbclid=IwAR1HvmCohYizG0uxXqbmrSsRNW0FaThBdaWhGD4GU3nL0jvy8Jz69xaMnR8)\n",
      "URL parse error with http://delanodigital.com](http://delanodigital.com/?fbclid=IwAR1m3jZPzTf5TpQpSrqdEOMQNQsywLHmrKoiGsSqGQbokNTS616qafAMBvI)\n",
      "URL parse error with http://delanodigital.com](http://delanodigital.com/?fbclid=IwAR25Og01ir-3lI22HcpjrC4t-dBASRjIT3vo3mD1pgpFLj-Bx3d93LSPAvI)\n",
      "URL parse error with http://delanodigital.com](http://delanodigital.com/?fbclid=IwAR09zi2plV606KtkD02nMg0XZAJi5mxnawx9dxEgjUnSEnzWAeCMwyinFdQ)\n",
      "URL parse error with http://delanodigital.com](http://delanodigital.com/?fbclid=IwAR3rPeQ_iqvLVt1N5cfsrE1Q2xm-OI-FFKk--FBMui17zToPd3yGbgX11us)\n",
      "URL parse error with http://delanodigital.com](http://delanodigital.com/?fbclid=IwAR0RIxKm6MMkdojnb-NHOxFCZylgTParde5LV4rcPBlHQDvEunbx2kVXOBE)\n",
      "URL parse error with http://delanodigital.com](http://delanodigital.com/?fbclid=IwAR2uhDdmm312pSArBUW8ulA7ymmd32QEhGSTOdYt6bnaiioCFOQ_sXeL0KU)\n",
      "URL parse error with https://healy-introduction-australia.eventbrite.com](https://l.facebook.com/l.php?u=https%3A%2F%2Fhealy-introduction-australia.eventbrite.com%2F%3Ffbclid%3DIwAR3MVOy4W3cwh_fmG6vBOUu1hbQs6dlIWb4rzF7GM-KcEcPnHEtjUzzZMqQ&h=AT3oHMK761b6taUZpDGLThgKUVThy31iBoGtxHLN8qDQfg6cKmptPmPFRoobJ5-_x4gfeG-DV1-MwWRskXMSqDADOlMLYm0x958Dpj0gxap6S0-ve4y8gxfwrDzVpinAwxGh91-D5aZTyCuJeABLXZNp7psdE8-6rFP44hoaKgFIfNYkTDA2XOSOOJ1p0-FL_1yGjyH1E7TnzIwG2z6wDKykUwuvs_q8lsKGyjwvDm4NaPxxbqcUNA683Xm6csRu5SdvFNY2bG1951tTg7nPgU65LhSzExn4kagQfia-jlUtRif7vFl-X_-xT5bT_rFh3HYKL0CIGiAMs8AF_SG-qyBhWf04VKPlJpvvFEcV8M4LaUwywelWqeV83rkcRQdw6ITNdjAtCz46-CkDKx-4NGAE8Y-TsUTu9mBHBB31GufEmyqO9hdCsgRXdGLZ4d42b_tv-QF27JnV_ekYznVj9N6CMjsURbHSvZZ6a-1oavOP_haU-dQtvaRbXMwVKW0lwabN6dTbPDCtoAZYk51XXCvAf4dbbRZGPAyBcYpQVKgUHLf4iI4AESb7a71lA_qZJgjxavAoTeccbmO_2gUOtVxvtQYaT9fxdJfW9WzpiZkLdgENFud8pxp3SPWMGDn6)\n",
      "URL parse error with http://[hyperurl.co/nodemons](https://l.facebook.com/l.php?u=http%3A%2F%2Fhyperurl.co%2Fnodemons%3Ffbclid%3DIwAR2pTcSf1cbn2uO89feshqx6U34091mv1L-A7gSpylY6fXgEIPujC99F5hw&h=AT3jiKx9UY-o9ZXTWxg2t4uHg7LH8cOjgjbmbIH8_ZofRHFfgJj4nfeoppB7q4cXYStPn8zXLS7TFl53uBazjVTFnszD0OHndp0NJ8AMVD2iwmHsDpY9XyF230DgXx4ONhXwnBh7iJCV09ZZmcGRspWbADAzKFojkyA3UODV8nVPmiLbfiqnv84NufsQ_RuRyJdzERRS3VNHC4WbTxJbp01DYXfUW-qozbhqBJlrqRl-qxlyMrbqlsl_bySu1rBtNXe7u0XCeVY1bgblmPrAHc5YQ_MBX_XiY58eOF2FFygPUdJLYz5P4ucsmWnLF1Fm8fg4948PTCiYbZ8Tz-G0DAipv_FQD-ANWB2yXhv0F60kxkdxrRJwMFCrRQoL6QZB2_jarSXNb6Wyz8T1jCKZIZCDxYnSTPM_2RoYZSpim9A28SjM1bgJMukzC6ORRSAvMRoeqnHKtbCKAJVsrrgZhihUurJ_z_iumRqBDV3MEJCB3VEavhhDTbgGUTgUSDa76_kx1bzovhAQpPzfqDgPTmHgpTZa244ZktXQ1YS24yKoPz49ZAASD0stjxGcSqU9Sf8QZECpu4OyawWo1LI-k6tAMRf4GRU93nVhaNICBZOauej4MM_AS9GN3qE3PITdeB3H0B9I)\n",
      "URL parse error with http://coeursdehs.fr](https://l.facebook.com/l.php?u=http%3A%2F%2Fcoeursdehs.fr%2F%3Ffbclid%3DIwAR1HNeyCmF5XCs9uWps1atGHSfugqxVeDddUmf2qizXnqLQ355D0QOmfbpc&h=AT2-ekVKq7kk1VM8JJQOEGFyScnPy26xR-EVklqxdW5avPo6i6kzjgFI21PgXB2-i5mRKZWA0o4kHlBdgHsn1DcVlTOE112ud2cLDQEqhRzxIu3rGFPApvOoBo2-cjiigUDlFfQXRc261I_vRdXH)\n",
      "URL parse error with http://delanodigital.com](http://delanodigital.com/?fbclid=IwAR2ZBewvobCHjHqXkZ6sqLYDxrmMJ1dT0xo83z1ajP5tLxsV2TH62nnAcis)\n",
      "URL parse error with http://delanodigital.com](http://delanodigital.com/?fbclid=IwAR2Rp5K0OkBapKxh4-qF-PsaE0GiapSp-KDsqMd52wFl2-070wjqRnEN0Oc)\n",
      "URL parse error with http://delanodigital.com](http://delanodigital.com/?fbclid=IwAR1BZ5uq_kfiLmSrPBUJWnj7WF2Ph6yp8qwS8pPfHejrIVlgXrP-N0UAkoA)\n",
      "URL parse error with https://monetizationhelp.com](https://monetizationhelp.com/?fbclid=IwAR2p0yWmED4C0DOpa2v5YncdNMRG_IR34PhpM7ZFrJpg9zi2QCa-6I1Yx38)\n",
      "URL parse error with http://[hyperurl.co/nodemons](http://hyperurl.co/nodemons)\n",
      "URL parse error with https://www.dxn2u.com](https://l.facebook.com/l.php?u=https%3A%2F%2Fwww.dxn2u.com%2F%3Ffbclid%3DIwAR0TBC70qVwmb1YomQ55VnYK39zQJxE9Q0wSPvdSx8G7vc55elaC7jbtm_U&h=AT1KLWWdm8IfMXsrnxzoI9ZRNIbGHrwPA63tK9khtRU6qvIW5rrW57qKpKIgpZ8maXIApUri1tfkBWrYD_McYJnqqEky2nSBpr0iq1iegIeOGkvcRgXwOY-k1QcZs9iC0Nzxfyo42jLvVpD2WZVG)\n",
      "URL parse error with https://www.dxn2u.com](https://www.dxn2u.com/?fbclid=IwAR1CNE-Mp56yoMP4XjSOBlc8XrAjeOk7z2E-GdDVBpBXRC14tQtoss895gY)\n",
      "URL parse error with http://delanodigital.com](http://delanodigital.com/?fbclid=IwAR12vTI48f-UVZoBykO2gNhIwssSrtYY3_LSN-QHG_Ql9ULsQdJ7ln3XTLQ)\n",
      "URL parse error with http://delanodigital.com](http://delanodigital.com/?fbclid=IwAR1HvmCohYizG0uxXqbmrSsRNW0FaThBdaWhGD4GU3nL0jvy8Jz69xaMnR8)\n",
      "URL parse error with http://delanodigital.com](http://delanodigital.com/?fbclid=IwAR0X3sYjUeWFWmVu2v2pdo7LUkC29zvbKpmmoylSAVbiD4dlcoko6x6HXWw)\n",
      "URL parse error with http://delanodigital.com](http://delanodigital.com/?fbclid=IwAR1DkZ9PoWYp2kDTHoKTGrllOVNfhTPa0vDUaQjL2WyWNjJWOTSlhoZ0cVU)\n",
      "URL parse error with http://delanodigital.com](http://delanodigital.com/?fbclid=IwAR11ybLEwWD21lsW28GjPjmEVKr9jzMMb0GuTQtwV2uQQidxNA-705dSKiA)\n",
      "URL parse error with http://delanodigital.com](http://delanodigital.com/?fbclid=IwAR2T5j16sentlp0zuOvtnD-Ck6R6XSD5ENBjl8f-Ke7wYFnd9j99V_wWy04)\n",
      "URL parse error with http://delanodigital.com](http://delanodigital.com/?fbclid=IwAR0n7CLI4aFjyRALHkMqe5gX595wjHZVjfdx7tPCdT3E4jQX-y7JH8Ia92g)\n",
      "URL parse error with http://delanodigital.com](http://delanodigital.com/?fbclid=IwAR1S6lnX9ocNfnrkYn3QdJZz99C7XUEYAqUz-3Lfn9F2v3RvY0gIiS7YioE)\n",
      "URL parse error with http://delanodigital.com](http://delanodigital.com/?fbclid=IwAR1SIei-pBeGMBSlWNkd8u5ZTzDrqz_wz_i7WaHFdDrJi7Cx7ar6PxDbRzY)\n",
      "URL parse error with http://delanodigital.com](http://delanodigital.com/?fbclid=IwAR2yXYX4sTdqfXxMZmOY--rWKicFcH8xBSXOheImXynKiMnUuLI92UJ3Vdw)\n",
      "URL parse error with http://delanodigital.com](http://delanodigital.com/?fbclid=IwAR2rIhE2Ip7QQMU_Nar5aRK8EYE4SlDCLtRk8SQ3M4X-JjSb7BrU-rFxXLw)\n",
      "URL parse error with http://delanodigital.com](http://delanodigital.com/?fbclid=IwAR1tkQVcMlO6LNXXwG2f6OPaj-VNCZJaBkXW-7Y278evKaxUCYtHPr0sOYg)\n",
      "URL parse error with http://delanodigital.com](http://delanodigital.com/?fbclid=IwAR1Vq49f6il2pHN777PS8S6gjFAsL-YdxRY7B4nHzMEdS8IBuxr6g19bmv8)\n",
      "URL parse error with http://delanodigital.com](http://delanodigital.com/?fbclid=IwAR1m3jZPzTf5TpQpSrqdEOMQNQsywLHmrKoiGsSqGQbokNTS616qafAMBvI)\n",
      "URL parse error with http://delanodigital.com](http://delanodigital.com/?fbclid=IwAR2WPM20LC7_ouuAkJKH23KKO9YE1VnCzby4HCLKxzZRUViNHEYZMtTCGHk)\n",
      "URL parse error with http://delanodigital.com](http://delanodigital.com/?fbclid=IwAR2Rp5K0OkBapKxh4-qF-PsaE0GiapSp-KDsqMd52wFl2-070wjqRnEN0Oc)\n",
      "URL parse error with http://delanodigital.com](http://delanodigital.com/?fbclid=IwAR3ewiQNksg0js8jBiIAlMmNJXEiBgFkgKipGyKZo6Yy_kcivVJZXVxtI7s)\n",
      "URL parse error with http://delanodigital.com](http://delanodigital.com/?fbclid=IwAR1UfLMwoxvnErOaakJjoht8-kOdpIBH9Miq6-K3V5D4s6-Ay1ux8ETXvps)\n",
      "URL parse error with http://delanodigital.com](http://delanodigital.com/?fbclid=IwAR0JASpuMNztYAa9yd897okCpIfBrZYotAKpCZEc_rvwxeMJv_oNej_8aAE)\n",
      "URL parse error with http://delanodigital.com](http://delanodigital.com/?fbclid=IwAR0Qo2T4ArxvTTnzrC9qdsnVQa2YP8sY8TYn-W3VtClhZ-mXIPR7AOnqphw)\n",
      "URL parse error with http://delanodigital.com](http://delanodigital.com/?fbclid=IwAR1gYIVOot0ZuwlDuxFvvlK3bEWteyjjDEngODJAyCOtkylYjhD9ZyxS20k)\n",
      "URL parse error with http://delanodigital.com](http://delanodigital.com/?fbclid=IwAR1BZ5uq_kfiLmSrPBUJWnj7WF2Ph6yp8qwS8pPfHejrIVlgXrP-N0UAkoA)\n",
      "URL parse error with http://delanodigital.com](http://delanodigital.com/?fbclid=IwAR0PzVZdeOq-nbtZjmL-gjwHRtsaewwuxtab7l7ZBIMrghoxmbN224hIPBA)\n",
      "URL parse error with http://delanodigital.com](http://delanodigital.com/?fbclid=IwAR16oJWBsyBGY8qRr0yEKXM9G4QroMstv9b5Z52wLpxiwe_ItI-_tuz7HoI)\n",
      "URL parse error with http://delanodigital.com](http://delanodigital.com/?fbclid=IwAR08WgeN4JvB3f0RVI7o-NbHlrpUJBN7rg4CKR6Zj2sEQrpoyVxieAud3Jk)\n",
      "URL parse error with http://delanodigital.com](http://delanodigital.com/?fbclid=IwAR3esKX7O4tAKnhYoXdspG7fYhB3aNOlqMeq6tkYxVwE-QyYht7HHbE1pjU)\n",
      "URL parse error with http://delanodigital.com](http://delanodigital.com/?fbclid=IwAR098hNG16HBllAcZGIQPrpjZMUcTufi49kLlHYELFp1wWVQp2Fn7fv_a9A)\n",
      "URL parse error with http://delanodigital.com](http://delanodigital.com/?fbclid=IwAR0RIxKm6MMkdojnb-NHOxFCZylgTParde5LV4rcPBlHQDvEunbx2kVXOBE)\n",
      "URL parse error with https://www.constructareus.co.za](https://www.constructareus.co.za/)\n",
      "URL parse error with http://delanodigital.com](http://delanodigital.com/?fbclid=IwAR12vTI48f-UVZoBykO2gNhIwssSrtYY3_LSN-QHG_Ql9ULsQdJ7ln3XTLQ)\n",
      "URL parse error with http://delanodigital.com](http://delanodigital.com/?fbclid=IwAR2ZBewvobCHjHqXkZ6sqLYDxrmMJ1dT0xo83z1ajP5tLxsV2TH62nnAcis)\n",
      "URL parse error with http://delanodigital.com](http://delanodigital.com/?fbclid=IwAR1HvmCohYizG0uxXqbmrSsRNW0FaThBdaWhGD4GU3nL0jvy8Jz69xaMnR8)\n",
      "URL parse error with http://delanodigital.com](http://delanodigital.com/?fbclid=IwAR0X3sYjUeWFWmVu2v2pdo7LUkC29zvbKpmmoylSAVbiD4dlcoko6x6HXWw)\n",
      "URL parse error with http://delanodigital.com](http://delanodigital.com/?fbclid=IwAR1DkZ9PoWYp2kDTHoKTGrllOVNfhTPa0vDUaQjL2WyWNjJWOTSlhoZ0cVU)\n",
      "URL parse error with http://delanodigital.com](http://delanodigital.com/?fbclid=IwAR11ybLEwWD21lsW28GjPjmEVKr9jzMMb0GuTQtwV2uQQidxNA-705dSKiA)\n",
      "URL parse error with http://delanodigital.com](http://delanodigital.com/?fbclid=IwAR2T5j16sentlp0zuOvtnD-Ck6R6XSD5ENBjl8f-Ke7wYFnd9j99V_wWy04)\n",
      "URL parse error with http://delanodigital.com](http://delanodigital.com/?fbclid=IwAR0n7CLI4aFjyRALHkMqe5gX595wjHZVjfdx7tPCdT3E4jQX-y7JH8Ia92g)\n",
      "URL parse error with http://delanodigital.com](http://delanodigital.com/?fbclid=IwAR1S6lnX9ocNfnrkYn3QdJZz99C7XUEYAqUz-3Lfn9F2v3RvY0gIiS7YioE)\n",
      "URL parse error with http://delanodigital.com](http://delanodigital.com/?fbclid=IwAR1SIei-pBeGMBSlWNkd8u5ZTzDrqz_wz_i7WaHFdDrJi7Cx7ar6PxDbRzY)\n",
      "URL parse error with http://delanodigital.com](http://delanodigital.com/?fbclid=IwAR2yXYX4sTdqfXxMZmOY--rWKicFcH8xBSXOheImXynKiMnUuLI92UJ3Vdw)\n",
      "URL parse error with http://delanodigital.com](http://delanodigital.com/?fbclid=IwAR1BbYFFctPz-ndpiE1etGueGXG0iD19ltpQRTH8ZyhKhejCrzaF6d3o3CQ)\n",
      "URL parse error with http://delanodigital.com](http://delanodigital.com/?fbclid=IwAR2rIhE2Ip7QQMU_Nar5aRK8EYE4SlDCLtRk8SQ3M4X-JjSb7BrU-rFxXLw)\n",
      "URL parse error with http://delanodigital.com](http://delanodigital.com/?fbclid=IwAR1tkQVcMlO6LNXXwG2f6OPaj-VNCZJaBkXW-7Y278evKaxUCYtHPr0sOYg)\n",
      "URL parse error with https://www.dxn2u.com](https://www.dxn2u.com/?fbclid=IwAR0U6-BrnqC3l5y0QiQ8WTnCK8tSJ88uFobYp4rJTs4x1GILiG-pb8vpMkA)\n",
      "URL parse error with http://delanodigital.com](http://delanodigital.com/?fbclid=IwAR12vTI48f-UVZoBykO2gNhIwssSrtYY3_LSN-QHG_Ql9ULsQdJ7ln3XTLQ)\n",
      "URL parse error with http://delanodigital.com](http://delanodigital.com/?fbclid=IwAR2ZBewvobCHjHqXkZ6sqLYDxrmMJ1dT0xo83z1ajP5tLxsV2TH62nnAcis)\n",
      "URL parse error with http://delanodigital.com](http://delanodigital.com/?fbclid=IwAR1HvmCohYizG0uxXqbmrSsRNW0FaThBdaWhGD4GU3nL0jvy8Jz69xaMnR8)\n",
      "URL parse error with http://delanodigital.com](http://delanodigital.com/?fbclid=IwAR0X3sYjUeWFWmVu2v2pdo7LUkC29zvbKpmmoylSAVbiD4dlcoko6x6HXWw)\n",
      "URL parse error with http://delanodigital.com](http://delanodigital.com/?fbclid=IwAR1DkZ9PoWYp2kDTHoKTGrllOVNfhTPa0vDUaQjL2WyWNjJWOTSlhoZ0cVU)\n",
      "URL parse error with http://delanodigital.com](http://delanodigital.com/?fbclid=IwAR11ybLEwWD21lsW28GjPjmEVKr9jzMMb0GuTQtwV2uQQidxNA-705dSKiA)\n",
      "URL parse error with http://delanodigital.com](http://delanodigital.com/?fbclid=IwAR2T5j16sentlp0zuOvtnD-Ck6R6XSD5ENBjl8f-Ke7wYFnd9j99V_wWy04)\n",
      "URL parse error with http://delanodigital.com](http://delanodigital.com/?fbclid=IwAR0n7CLI4aFjyRALHkMqe5gX595wjHZVjfdx7tPCdT3E4jQX-y7JH8Ia92g)\n",
      "URL parse error with http://delanodigital.com](http://delanodigital.com/?fbclid=IwAR1S6lnX9ocNfnrkYn3QdJZz99C7XUEYAqUz-3Lfn9F2v3RvY0gIiS7YioE)\n",
      "URL parse error with http://delanodigital.com](http://delanodigital.com/?fbclid=IwAR1YpPhJpJfqJWk8A3Kb0sLyEY-W1UlMHL7p5xfAFSCZSWEKHOtWRsGP_5M)\n",
      "URL parse error with http://delanodigital.com](http://delanodigital.com/?fbclid=IwAR1SIei-pBeGMBSlWNkd8u5ZTzDrqz_wz_i7WaHFdDrJi7Cx7ar6PxDbRzY)\n",
      "URL parse error with http://delanodigital.com](http://delanodigital.com/?fbclid=IwAR2yXYX4sTdqfXxMZmOY--rWKicFcH8xBSXOheImXynKiMnUuLI92UJ3Vdw)\n",
      "URL parse error with http://delanodigital.com](http://delanodigital.com/?fbclid=IwAR1BbYFFctPz-ndpiE1etGueGXG0iD19ltpQRTH8ZyhKhejCrzaF6d3o3CQ)\n",
      "URL parse error with http://delanodigital.com](http://delanodigital.com/?fbclid=IwAR2rIhE2Ip7QQMU_Nar5aRK8EYE4SlDCLtRk8SQ3M4X-JjSb7BrU-rFxXLw)\n",
      "URL parse error with http://delanodigital.com](http://delanodigital.com/?fbclid=IwAR1tkQVcMlO6LNXXwG2f6OPaj-VNCZJaBkXW-7Y278evKaxUCYtHPr0sOYg)\n",
      "URL parse error with http://delanodigital.com](http://delanodigital.com/?fbclid=IwAR1Vq49f6il2pHN777PS8S6gjFAsL-YdxRY7B4nHzMEdS8IBuxr6g19bmv8)\n",
      "URL parse error with http://delanodigital.com](http://delanodigital.com/?fbclid=IwAR1m3jZPzTf5TpQpSrqdEOMQNQsywLHmrKoiGsSqGQbokNTS616qafAMBvI)\n",
      "URL parse error with http://delanodigital.com](http://delanodigital.com/?fbclid=IwAR2WPM20LC7_ouuAkJKH23KKO9YE1VnCzby4HCLKxzZRUViNHEYZMtTCGHk)\n",
      "URL parse error with http://delanodigital.com](http://delanodigital.com/?fbclid=IwAR2Rp5K0OkBapKxh4-qF-PsaE0GiapSp-KDsqMd52wFl2-070wjqRnEN0Oc)\n",
      "URL parse error with http://delanodigital.com](http://delanodigital.com/?fbclid=IwAR3ewiQNksg0js8jBiIAlMmNJXEiBgFkgKipGyKZo6Yy_kcivVJZXVxtI7s)\n",
      "URL parse error with http://delanodigital.com](http://delanodigital.com/?fbclid=IwAR1UfLMwoxvnErOaakJjoht8-kOdpIBH9Miq6-K3V5D4s6-Ay1ux8ETXvps)\n",
      "URL parse error with https://easyinternetmoneyandjobs.com](https://easyinternetmoneyandjobs.com/)\n",
      "URL parse error with http://delanodigital.com](http://delanodigital.com/?fbclid=IwAR12vTI48f-UVZoBykO2gNhIwssSrtYY3_LSN-QHG_Ql9ULsQdJ7ln3XTLQ)\n",
      "URL parse error with http://delanodigital.com](http://delanodigital.com/?fbclid=IwAR2ZBewvobCHjHqXkZ6sqLYDxrmMJ1dT0xo83z1ajP5tLxsV2TH62nnAcis)\n",
      "URL parse error with http://delanodigital.com](http://delanodigital.com/?fbclid=IwAR1HvmCohYizG0uxXqbmrSsRNW0FaThBdaWhGD4GU3nL0jvy8Jz69xaMnR8)\n",
      "URL parse error with http://delanodigital.com](http://delanodigital.com/?fbclid=IwAR1DkZ9PoWYp2kDTHoKTGrllOVNfhTPa0vDUaQjL2WyWNjJWOTSlhoZ0cVU)\n",
      "URL parse error with http://delanodigital.com](http://delanodigital.com/?fbclid=IwAR11ybLEwWD21lsW28GjPjmEVKr9jzMMb0GuTQtwV2uQQidxNA-705dSKiA)\n",
      "URL parse error with http://delanodigital.com](http://delanodigital.com/?fbclid=IwAR13O6Zkgr1dMK-GCUKJgAzq-w1tk1N93keC41uh_MJzRe00H5J7Jq1ctqk)\n",
      "URL parse error with http://delanodigital.com](http://delanodigital.com/?fbclid=IwAR0n7CLI4aFjyRALHkMqe5gX595wjHZVjfdx7tPCdT3E4jQX-y7JH8Ia92g)\n",
      "URL parse error with http://delanodigital.com](http://delanodigital.com/?fbclid=IwAR1S6lnX9ocNfnrkYn3QdJZz99C7XUEYAqUz-3Lfn9F2v3RvY0gIiS7YioE)\n",
      "URL parse error with http://delanodigital.com](http://delanodigital.com/?fbclid=IwAR1SIei-pBeGMBSlWNkd8u5ZTzDrqz_wz_i7WaHFdDrJi7Cx7ar6PxDbRzY)\n",
      "URL parse error with http://delanodigital.com](http://delanodigital.com/?fbclid=IwAR2yXYX4sTdqfXxMZmOY--rWKicFcH8xBSXOheImXynKiMnUuLI92UJ3Vdw)\n",
      "URL parse error with http://delanodigital.com](http://delanodigital.com/?fbclid=IwAR1BbYFFctPz-ndpiE1etGueGXG0iD19ltpQRTH8ZyhKhejCrzaF6d3o3CQ)\n",
      "URL parse error with http://delanodigital.com](http://delanodigital.com/?fbclid=IwAR2rIhE2Ip7QQMU_Nar5aRK8EYE4SlDCLtRk8SQ3M4X-JjSb7BrU-rFxXLw)\n",
      "URL parse error with http://delanodigital.com](http://delanodigital.com/?fbclid=IwAR1tkQVcMlO6LNXXwG2f6OPaj-VNCZJaBkXW-7Y278evKaxUCYtHPr0sOYg)\n",
      "URL parse error with http://delanodigital.com](http://delanodigital.com/?fbclid=IwAR1Vq49f6il2pHN777PS8S6gjFAsL-YdxRY7B4nHzMEdS8IBuxr6g19bmv8)\n",
      "URL parse error with http://delanodigital.com](http://delanodigital.com/?fbclid=IwAR1m3jZPzTf5TpQpSrqdEOMQNQsywLHmrKoiGsSqGQbokNTS616qafAMBvI)\n",
      "URL parse error with http://delanodigital.com](http://delanodigital.com/?fbclid=IwAR2WPM20LC7_ouuAkJKH23KKO9YE1VnCzby4HCLKxzZRUViNHEYZMtTCGHk)\n",
      "URL parse error with http://delanodigital.com](http://delanodigital.com/?fbclid=IwAR3ewiQNksg0js8jBiIAlMmNJXEiBgFkgKipGyKZo6Yy_kcivVJZXVxtI7s)\n",
      "URL parse error with http://delanodigital.com](http://delanodigital.com/?fbclid=IwAR1UfLMwoxvnErOaakJjoht8-kOdpIBH9Miq6-K3V5D4s6-Ay1ux8ETXvps)\n",
      "URL parse error with http://delanodigital.com](http://delanodigital.com/?fbclid=IwAR0JASpuMNztYAa9yd897okCpIfBrZYotAKpCZEc_rvwxeMJv_oNej_8aAE)\n",
      "URL parse error with http://delanodigital.com](http://delanodigital.com/?fbclid=IwAR0Qo2T4ArxvTTnzrC9qdsnVQa2YP8sY8TYn-W3VtClhZ-mXIPR7AOnqphw)\n",
      "URL parse error with http://delanodigital.com](http://delanodigital.com/?fbclid=IwAR1gYIVOot0ZuwlDuxFvvlK3bEWteyjjDEngODJAyCOtkylYjhD9ZyxS20k)\n",
      "URL parse error with http://delanodigital.com](http://delanodigital.com/?fbclid=IwAR1BZ5uq_kfiLmSrPBUJWnj7WF2Ph6yp8qwS8pPfHejrIVlgXrP-N0UAkoA)\n",
      "URL parse error with http://delanodigital.com](http://delanodigital.com/?fbclid=IwAR0PzVZdeOq-nbtZjmL-gjwHRtsaewwuxtab7l7ZBIMrghoxmbN224hIPBA)\n",
      "URL parse error with http://delanodigital.com](http://delanodigital.com/?fbclid=IwAR0b4uVPgUEIMVwKf5mKBaNt3LxNQwu_YRQ73-_R5r-Cmkgv82JTDyml5ac)\n",
      "URL parse error with http://delanodigital.com](http://delanodigital.com/?fbclid=IwAR12vTI48f-UVZoBykO2gNhIwssSrtYY3_LSN-QHG_Ql9ULsQdJ7ln3XTLQ)\n",
      "URL parse error with http://delanodigital.com](http://delanodigital.com/?fbclid=IwAR2ZBewvobCHjHqXkZ6sqLYDxrmMJ1dT0xo83z1ajP5tLxsV2TH62nnAcis)\n",
      "URL parse error with http://delanodigital.com](http://delanodigital.com/?fbclid=IwAR0X3sYjUeWFWmVu2v2pdo7LUkC29zvbKpmmoylSAVbiD4dlcoko6x6HXWw)\n",
      "URL parse error with http://delanodigital.com](http://delanodigital.com/?fbclid=IwAR1DkZ9PoWYp2kDTHoKTGrllOVNfhTPa0vDUaQjL2WyWNjJWOTSlhoZ0cVU)\n",
      "URL parse error with http://delanodigital.com](http://delanodigital.com/?fbclid=IwAR11ybLEwWD21lsW28GjPjmEVKr9jzMMb0GuTQtwV2uQQidxNA-705dSKiA)\n",
      "URL parse error with http://delanodigital.com](http://delanodigital.com/?fbclid=IwAR0n7CLI4aFjyRALHkMqe5gX595wjHZVjfdx7tPCdT3E4jQX-y7JH8Ia92g)\n",
      "URL parse error with http://delanodigital.com](http://delanodigital.com/?fbclid=IwAR1S6lnX9ocNfnrkYn3QdJZz99C7XUEYAqUz-3Lfn9F2v3RvY0gIiS7YioE)\n",
      "URL parse error with http://delanodigital.com](http://delanodigital.com/?fbclid=IwAR1YpPhJpJfqJWk8A3Kb0sLyEY-W1UlMHL7p5xfAFSCZSWEKHOtWRsGP_5M)\n",
      "URL parse error with http://delanodigital.com](http://delanodigital.com/?fbclid=IwAR1SIei-pBeGMBSlWNkd8u5ZTzDrqz_wz_i7WaHFdDrJi7Cx7ar6PxDbRzY)\n",
      "URL parse error with http://delanodigital.com](http://delanodigital.com/?fbclid=IwAR2yXYX4sTdqfXxMZmOY--rWKicFcH8xBSXOheImXynKiMnUuLI92UJ3Vdw)\n",
      "URL parse error with http://delanodigital.com](http://delanodigital.com/?fbclid=IwAR1BbYFFctPz-ndpiE1etGueGXG0iD19ltpQRTH8ZyhKhejCrzaF6d3o3CQ)\n",
      "URL parse error with http://delanodigital.com](http://delanodigital.com/?fbclid=IwAR2rIhE2Ip7QQMU_Nar5aRK8EYE4SlDCLtRk8SQ3M4X-JjSb7BrU-rFxXLw)\n",
      "URL parse error with http://delanodigital.com](http://delanodigital.com/?fbclid=IwAR1tkQVcMlO6LNXXwG2f6OPaj-VNCZJaBkXW-7Y278evKaxUCYtHPr0sOYg)\n",
      "URL parse error with http://delanodigital.com](http://delanodigital.com/?fbclid=IwAR1Vq49f6il2pHN777PS8S6gjFAsL-YdxRY7B4nHzMEdS8IBuxr6g19bmv8)\n",
      "URL parse error with http://delanodigital.com](http://delanodigital.com/?fbclid=IwAR2WPM20LC7_ouuAkJKH23KKO9YE1VnCzby4HCLKxzZRUViNHEYZMtTCGHk)\n",
      "URL parse error with http://delanodigital.com](http://delanodigital.com/?fbclid=IwAR2Rp5K0OkBapKxh4-qF-PsaE0GiapSp-KDsqMd52wFl2-070wjqRnEN0Oc)\n",
      "URL parse error with http://delanodigital.com](http://delanodigital.com/?fbclid=IwAR3ewiQNksg0js8jBiIAlMmNJXEiBgFkgKipGyKZo6Yy_kcivVJZXVxtI7s)\n",
      "URL parse error with http://delanodigital.com](http://delanodigital.com/?fbclid=IwAR1UfLMwoxvnErOaakJjoht8-kOdpIBH9Miq6-K3V5D4s6-Ay1ux8ETXvps)\n",
      "URL parse error with http://delanodigital.com](http://delanodigital.com/?fbclid=IwAR0JASpuMNztYAa9yd897okCpIfBrZYotAKpCZEc_rvwxeMJv_oNej_8aAE)\n",
      "URL parse error with http://delanodigital.com](http://delanodigital.com/?fbclid=IwAR0Qo2T4ArxvTTnzrC9qdsnVQa2YP8sY8TYn-W3VtClhZ-mXIPR7AOnqphw)\n",
      "URL parse error with http://delanodigital.com](http://delanodigital.com/?fbclid=IwAR1gYIVOot0ZuwlDuxFvvlK3bEWteyjjDEngODJAyCOtkylYjhD9ZyxS20k)\n",
      "URL parse error with http://delanodigital.com](http://delanodigital.com/?fbclid=IwAR1BZ5uq_kfiLmSrPBUJWnj7WF2Ph6yp8qwS8pPfHejrIVlgXrP-N0UAkoA)\n",
      "URL parse error with http://delanodigital.com](http://delanodigital.com/?fbclid=IwAR0PzVZdeOq-nbtZjmL-gjwHRtsaewwuxtab7l7ZBIMrghoxmbN224hIPBA)\n",
      "URL parse error with http://delanodigital.com](https://l.facebook.com/l.php?u=http%3A%2F%2Fdelanodigital.com%2F%3Ffbclid%3DIwAR1tT43TvgjewWFwhzvsiSSfIDLJOBAZOrnmghfeLwojr91IOtxcphpZ600&h=AT1AZo988kelkqWRDECzzM7DIgN4qYlWjVuk-dzhey1BVsJfOYea4ZbLIq10eb4gRYZg62lB13k6nwq5CJze0E6KFHAU3BfsRaIVE_SuDrqjcQuXtrMeGFrCqqOWHe-O9T0DvhDUDL8xVjjcr8ksc99dSYfHhvkwOgNQcj9qZ51bpe9nwQlvnfRoiztU_cimT8smdyoRzzJDfzvKIQ3666497hVEcocxZHuv0_F4syN1qw54vVRkqgnhd2NneZi0XMVLbwH4ld-W1l393B8GBTyvgmYp1xec5BjmZmRt9sQgxSssjUGXqLfLWt8GiQooU6LwMSddnjb_vNZp9s6PloFq9STdq3w9L6GxvOi0Bnf7q0PXPQiojKXAW9JBXE8kndXHXQnsq23acLzmMSYrdVPLuHumwa3C4tk7ngEpab5FdFrynirgBCcl8vm7_QnKBAjrsciJ4w7o89Na_Gd9zLVth1uOdJvHD_A-CFtnKg64lzqJg5BAar8fRuPwkEF7NSARGkb9Qsl8tADP0PUwzydHh9CIlKNI9usLXBa6RiUT-nBdH1v-Xhv1edfEb9PlUxLt4RPXTPVYjfb5xb83ASjk8paFhzkiKy07Oati8L7ovL3qNyLaI2YBm3-w3-g7fCcgbg)\n",
      "URL parse error with http://delanodigital.com](http://delanodigital.com/?fbclid=IwAR16oJWBsyBGY8qRr0yEKXM9G4QroMstv9b5Z52wLpxiwe_ItI-_tuz7HoI)\n",
      "URL parse error with http://delanodigital.com](http://delanodigital.com/?fbclid=IwAR0KVJykwn_IYJ4CxEALRFLjzt0ejhE_HQs87youPK_BrPjztqhQ7q1JpPc)\n",
      "URL parse error with http://delanodigital.com](http://delanodigital.com/?fbclid=IwAR08WgeN4JvB3f0RVI7o-NbHlrpUJBN7rg4CKR6Zj2sEQrpoyVxieAud3Jk)\n",
      "URL parse error with http://delanodigital.com](http://delanodigital.com/?fbclid=IwAR1MP_IPOVZSG483kYlCEYdz5UJ0b1y38lMi81C0c3xOq9gpauvbsRsMX5U)\n",
      "URL parse error with http://delanodigital.com](http://delanodigital.com/?fbclid=IwAR3esKX7O4tAKnhYoXdspG7fYhB3aNOlqMeq6tkYxVwE-QyYht7HHbE1pjU)\n",
      "URL parse error with http://delanodigital.com](http://delanodigital.com/?fbclid=IwAR098hNG16HBllAcZGIQPrpjZMUcTufi49kLlHYELFp1wWVQp2Fn7fv_a9A)\n",
      "URL parse error with http://delanodigital.com](http://delanodigital.com/?fbclid=IwAR38a0mBAV2wxnSRqIWn5sZc2qvcHSltk5p42LGqXCCnBUEVIjmRliSgPWM)\n",
      "URL parse error with http://coeursdehs.fr](https://l.facebook.com/l.php?u=http%3A%2F%2Fcoeursdehs.fr%2F%3Ffbclid%3DIwAR0oMQfDv2n7CGmuzAB865pOptJ4bsQU4I-kqfdexkcPXaZWgvkUJIzwlto&h=AT1FlLUCRRXmxRazCH4q5kj0su7reHRDbFyA-tAB9MVPFhdYaXaJyjkdWev1ialPeANjrfxaEiPanMkrL-yrvl-7lEo1lhDqTNDYelr4qx3xgslwMrJPpHXp6QEnkSXJJ13WS9Tu-BxW)\n",
      "URL parse error with http://coeursdehs.fr](https://l.facebook.com/l.php?u=http%3A%2F%2Fcoeursdehs.fr%2F%3Ffbclid%3DIwAR0oMQfDv2n7CGmuzAB865pOptJ4bsQU4I-kqfdexkcPXaZWgvkUJIzwlto&h=AT1FlLUCRRXmxRazCH4q5kj0su7reHRDbFyA-tAB9MVPFhdYaXaJyjkdWev1ialPeANjrfxaEiPanMkrL-yrvl-7lEo1lhDqTNDYelr4qx3xgslwMrJPpHXp6QEnkSXJJ13WS9Tu-BxW)\n",
      "URL parse error with http://coeursdehs.fr](https://l.facebook.com/l.php?u=http%3A%2F%2Fcoeursdehs.fr%2F%3Ffbclid%3DIwAR0oMQfDv2n7CGmuzAB865pOptJ4bsQU4I-kqfdexkcPXaZWgvkUJIzwlto&h=AT1FlLUCRRXmxRazCH4q5kj0su7reHRDbFyA-tAB9MVPFhdYaXaJyjkdWev1ialPeANjrfxaEiPanMkrL-yrvl-7lEo1lhDqTNDYelr4qx3xgslwMrJPpHXp6QEnkSXJJ13WS9Tu-BxW)\n",
      "URL parse error with https://monetizationhelp.com](https://monetizationhelp.com/?fbclid=IwAR2p0yWmED4C0DOpa2v5YncdNMRG_IR34PhpM7ZFrJpg9zi2QCa-6I1Yx38)\n",
      "URL parse error with http://PopsPlanB.net](http://popsplanb.net/?fbclid=IwAR0EHTE-q3lGrY2ytbBMdsja1VuyjYyW0f41wxVGiLH_e81bcFkvin9LLVY)\n",
      "URL parse error with http://delanodigital.com](http://delanodigital.com/?fbclid=IwAR12vTI48f-UVZoBykO2gNhIwssSrtYY3_LSN-QHG_Ql9ULsQdJ7ln3XTLQ)\n",
      "URL parse error with http://delanodigital.com](http://delanodigital.com/?fbclid=IwAR1HvmCohYizG0uxXqbmrSsRNW0FaThBdaWhGD4GU3nL0jvy8Jz69xaMnR8)\n",
      "URL parse error with http://delanodigital.com](http://delanodigital.com/?fbclid=IwAR0X3sYjUeWFWmVu2v2pdo7LUkC29zvbKpmmoylSAVbiD4dlcoko6x6HXWw)\n",
      "URL parse error with http://delanodigital.com](http://delanodigital.com/?fbclid=IwAR1DkZ9PoWYp2kDTHoKTGrllOVNfhTPa0vDUaQjL2WyWNjJWOTSlhoZ0cVU)\n",
      "URL parse error with http://delanodigital.com](http://delanodigital.com/?fbclid=IwAR11ybLEwWD21lsW28GjPjmEVKr9jzMMb0GuTQtwV2uQQidxNA-705dSKiA)\n",
      "URL parse error with http://delanodigital.com](http://delanodigital.com/?fbclid=IwAR0n7CLI4aFjyRALHkMqe5gX595wjHZVjfdx7tPCdT3E4jQX-y7JH8Ia92g)\n",
      "URL parse error with http://delanodigital.com](http://delanodigital.com/?fbclid=IwAR1S6lnX9ocNfnrkYn3QdJZz99C7XUEYAqUz-3Lfn9F2v3RvY0gIiS7YioE)\n",
      "URL parse error with http://delanodigital.com](http://delanodigital.com/?fbclid=IwAR1YpPhJpJfqJWk8A3Kb0sLyEY-W1UlMHL7p5xfAFSCZSWEKHOtWRsGP_5M)\n",
      "URL parse error with http://delanodigital.com](http://delanodigital.com/?fbclid=IwAR1SIei-pBeGMBSlWNkd8u5ZTzDrqz_wz_i7WaHFdDrJi7Cx7ar6PxDbRzY)\n",
      "URL parse error with http://delanodigital.com](http://delanodigital.com/?fbclid=IwAR2yXYX4sTdqfXxMZmOY--rWKicFcH8xBSXOheImXynKiMnUuLI92UJ3Vdw)\n",
      "URL parse error with http://delanodigital.com](http://delanodigital.com/?fbclid=IwAR1BbYFFctPz-ndpiE1etGueGXG0iD19ltpQRTH8ZyhKhejCrzaF6d3o3CQ)\n",
      "URL parse error with http://delanodigital.com](http://delanodigital.com/?fbclid=IwAR2rIhE2Ip7QQMU_Nar5aRK8EYE4SlDCLtRk8SQ3M4X-JjSb7BrU-rFxXLw)\n",
      "URL parse error with http://delanodigital.com](http://delanodigital.com/?fbclid=IwAR1tkQVcMlO6LNXXwG2f6OPaj-VNCZJaBkXW-7Y278evKaxUCYtHPr0sOYg)\n",
      "URL parse error with http://delanodigital.com](http://delanodigital.com/?fbclid=IwAR1Vq49f6il2pHN777PS8S6gjFAsL-YdxRY7B4nHzMEdS8IBuxr6g19bmv8)\n",
      "URL parse error with http://delanodigital.com](http://delanodigital.com/?fbclid=IwAR1m3jZPzTf5TpQpSrqdEOMQNQsywLHmrKoiGsSqGQbokNTS616qafAMBvI)\n",
      "URL parse error with http://delanodigital.com](http://delanodigital.com/?fbclid=IwAR2WPM20LC7_ouuAkJKH23KKO9YE1VnCzby4HCLKxzZRUViNHEYZMtTCGHk)\n",
      "URL parse error with http://delanodigital.com](http://delanodigital.com/?fbclid=IwAR2Rp5K0OkBapKxh4-qF-PsaE0GiapSp-KDsqMd52wFl2-070wjqRnEN0Oc)\n",
      "URL parse error with http://delanodigital.com](http://delanodigital.com/?fbclid=IwAR3ewiQNksg0js8jBiIAlMmNJXEiBgFkgKipGyKZo6Yy_kcivVJZXVxtI7s)\n",
      "URL parse error with http://delanodigital.com](http://delanodigital.com/?fbclid=IwAR1UfLMwoxvnErOaakJjoht8-kOdpIBH9Miq6-K3V5D4s6-Ay1ux8ETXvps)\n",
      "URL parse error with http://delanodigital.com](http://delanodigital.com/?fbclid=IwAR0JASpuMNztYAa9yd897okCpIfBrZYotAKpCZEc_rvwxeMJv_oNej_8aAE)\n",
      "URL parse error with http://delanodigital.com](http://delanodigital.com/?fbclid=IwAR0Qo2T4ArxvTTnzrC9qdsnVQa2YP8sY8TYn-W3VtClhZ-mXIPR7AOnqphw)\n",
      "URL parse error with http://delanodigital.com](http://delanodigital.com/?fbclid=IwAR1gYIVOot0ZuwlDuxFvvlK3bEWteyjjDEngODJAyCOtkylYjhD9ZyxS20k)\n",
      "URL parse error with http://delanodigital.com](http://delanodigital.com/?fbclid=IwAR1BZ5uq_kfiLmSrPBUJWnj7WF2Ph6yp8qwS8pPfHejrIVlgXrP-N0UAkoA)\n",
      "URL parse error with http://delanodigital.com](http://delanodigital.com/?fbclid=IwAR0PzVZdeOq-nbtZjmL-gjwHRtsaewwuxtab7l7ZBIMrghoxmbN224hIPBA)\n",
      "URL parse error with http://delanodigital.com](https://l.facebook.com/l.php?u=http%3A%2F%2Fdelanodigital.com%2F%3Ffbclid%3DIwAR1tT43TvgjewWFwhzvsiSSfIDLJOBAZOrnmghfeLwojr91IOtxcphpZ600&h=AT1AZo988kelkqWRDECzzM7DIgN4qYlWjVuk-dzhey1BVsJfOYea4ZbLIq10eb4gRYZg62lB13k6nwq5CJze0E6KFHAU3BfsRaIVE_SuDrqjcQuXtrMeGFrCqqOWHe-O9T0DvhDUDL8xVjjcr8ksc99dSYfHhvkwOgNQcj9qZ51bpe9nwQlvnfRoiztU_cimT8smdyoRzzJDfzvKIQ3666497hVEcocxZHuv0_F4syN1qw54vVRkqgnhd2NneZi0XMVLbwH4ld-W1l393B8GBTyvgmYp1xec5BjmZmRt9sQgxSssjUGXqLfLWt8GiQooU6LwMSddnjb_vNZp9s6PloFq9STdq3w9L6GxvOi0Bnf7q0PXPQiojKXAW9JBXE8kndXHXQnsq23acLzmMSYrdVPLuHumwa3C4tk7ngEpab5FdFrynirgBCcl8vm7_QnKBAjrsciJ4w7o89Na_Gd9zLVth1uOdJvHD_A-CFtnKg64lzqJg5BAar8fRuPwkEF7NSARGkb9Qsl8tADP0PUwzydHh9CIlKNI9usLXBa6RiUT-nBdH1v-Xhv1edfEb9PlUxLt4RPXTPVYjfb5xb83ASjk8paFhzkiKy07Oati8L7ovL3qNyLaI2YBm3-w3-g7fCcgbg)\n",
      "URL parse error with http://delanodigital.com](http://delanodigital.com/?fbclid=IwAR16oJWBsyBGY8qRr0yEKXM9G4QroMstv9b5Z52wLpxiwe_ItI-_tuz7HoI)\n",
      "URL parse error with http://delanodigital.com](http://delanodigital.com/?fbclid=IwAR12vTI48f-UVZoBykO2gNhIwssSrtYY3_LSN-QHG_Ql9ULsQdJ7ln3XTLQ)\n",
      "URL parse error with http://delanodigital.com](http://delanodigital.com/?fbclid=IwAR2ZBewvobCHjHqXkZ6sqLYDxrmMJ1dT0xo83z1ajP5tLxsV2TH62nnAcis)\n",
      "URL parse error with http://delanodigital.com](http://delanodigital.com/?fbclid=IwAR1HvmCohYizG0uxXqbmrSsRNW0FaThBdaWhGD4GU3nL0jvy8Jz69xaMnR8)\n",
      "URL parse error with http://delanodigital.com](http://delanodigital.com/?fbclid=IwAR0X3sYjUeWFWmVu2v2pdo7LUkC29zvbKpmmoylSAVbiD4dlcoko6x6HXWw)\n",
      "URL parse error with http://delanodigital.com](http://delanodigital.com/?fbclid=IwAR1DkZ9PoWYp2kDTHoKTGrllOVNfhTPa0vDUaQjL2WyWNjJWOTSlhoZ0cVU)\n",
      "URL parse error with http://delanodigital.com](http://delanodigital.com/?fbclid=IwAR11ybLEwWD21lsW28GjPjmEVKr9jzMMb0GuTQtwV2uQQidxNA-705dSKiA)\n",
      "URL parse error with http://delanodigital.com](http://delanodigital.com/?fbclid=IwAR2T5j16sentlp0zuOvtnD-Ck6R6XSD5ENBjl8f-Ke7wYFnd9j99V_wWy04)\n",
      "URL parse error with http://delanodigital.com](http://delanodigital.com/?fbclid=IwAR0n7CLI4aFjyRALHkMqe5gX595wjHZVjfdx7tPCdT3E4jQX-y7JH8Ia92g)\n",
      "URL parse error with http://delanodigital.com](http://delanodigital.com/?fbclid=IwAR1S6lnX9ocNfnrkYn3QdJZz99C7XUEYAqUz-3Lfn9F2v3RvY0gIiS7YioE)\n",
      "URL parse error with http://delanodigital.com](http://delanodigital.com/?fbclid=IwAR1YpPhJpJfqJWk8A3Kb0sLyEY-W1UlMHL7p5xfAFSCZSWEKHOtWRsGP_5M)\n",
      "URL parse error with http://delanodigital.com](http://delanodigital.com/?fbclid=IwAR1SIei-pBeGMBSlWNkd8u5ZTzDrqz_wz_i7WaHFdDrJi7Cx7ar6PxDbRzY)\n",
      "URL parse error with http://delanodigital.com](http://delanodigital.com/?fbclid=IwAR2yXYX4sTdqfXxMZmOY--rWKicFcH8xBSXOheImXynKiMnUuLI92UJ3Vdw)\n",
      "URL parse error with http://delanodigital.com](http://delanodigital.com/?fbclid=IwAR1BbYFFctPz-ndpiE1etGueGXG0iD19ltpQRTH8ZyhKhejCrzaF6d3o3CQ)\n",
      "URL parse error with http://delanodigital.com](http://delanodigital.com/?fbclid=IwAR2rIhE2Ip7QQMU_Nar5aRK8EYE4SlDCLtRk8SQ3M4X-JjSb7BrU-rFxXLw)\n",
      "URL parse error with http://delanodigital.com](http://delanodigital.com/?fbclid=IwAR1tkQVcMlO6LNXXwG2f6OPaj-VNCZJaBkXW-7Y278evKaxUCYtHPr0sOYg)\n",
      "URL parse error with http://delanodigital.com](http://delanodigital.com/?fbclid=IwAR2ZBewvobCHjHqXkZ6sqLYDxrmMJ1dT0xo83z1ajP5tLxsV2TH62nnAcis)\n",
      "URL parse error with http://delanodigital.com](http://delanodigital.com/?fbclid=IwAR1HvmCohYizG0uxXqbmrSsRNW0FaThBdaWhGD4GU3nL0jvy8Jz69xaMnR8)\n",
      "URL parse error with http://delanodigital.com](http://delanodigital.com/?fbclid=IwAR0X3sYjUeWFWmVu2v2pdo7LUkC29zvbKpmmoylSAVbiD4dlcoko6x6HXWw)\n",
      "URL parse error with http://delanodigital.com](http://delanodigital.com/?fbclid=IwAR1DkZ9PoWYp2kDTHoKTGrllOVNfhTPa0vDUaQjL2WyWNjJWOTSlhoZ0cVU)\n",
      "URL parse error with http://delanodigital.com](http://delanodigital.com/?fbclid=IwAR11ybLEwWD21lsW28GjPjmEVKr9jzMMb0GuTQtwV2uQQidxNA-705dSKiA)\n",
      "URL parse error with http://delanodigital.com](http://delanodigital.com/?fbclid=IwAR0n7CLI4aFjyRALHkMqe5gX595wjHZVjfdx7tPCdT3E4jQX-y7JH8Ia92g)\n",
      "URL parse error with http://delanodigital.com](http://delanodigital.com/?fbclid=IwAR1S6lnX9ocNfnrkYn3QdJZz99C7XUEYAqUz-3Lfn9F2v3RvY0gIiS7YioE)\n",
      "URL parse error with http://delanodigital.com](http://delanodigital.com/?fbclid=IwAR1YpPhJpJfqJWk8A3Kb0sLyEY-W1UlMHL7p5xfAFSCZSWEKHOtWRsGP_5M)\n",
      "URL parse error with http://delanodigital.com](http://delanodigital.com/?fbclid=IwAR1SIei-pBeGMBSlWNkd8u5ZTzDrqz_wz_i7WaHFdDrJi7Cx7ar6PxDbRzY)\n",
      "URL parse error with http://delanodigital.com](http://delanodigital.com/?fbclid=IwAR2yXYX4sTdqfXxMZmOY--rWKicFcH8xBSXOheImXynKiMnUuLI92UJ3Vdw)\n",
      "URL parse error with http://delanodigital.com](http://delanodigital.com/?fbclid=IwAR1BbYFFctPz-ndpiE1etGueGXG0iD19ltpQRTH8ZyhKhejCrzaF6d3o3CQ)\n",
      "URL parse error with http://delanodigital.com](http://delanodigital.com/?fbclid=IwAR2rIhE2Ip7QQMU_Nar5aRK8EYE4SlDCLtRk8SQ3M4X-JjSb7BrU-rFxXLw)\n",
      "URL parse error with http://delanodigital.com](http://delanodigital.com/?fbclid=IwAR1tkQVcMlO6LNXXwG2f6OPaj-VNCZJaBkXW-7Y278evKaxUCYtHPr0sOYg)\n",
      "URL parse error with http://delanodigital.com](http://delanodigital.com/?fbclid=IwAR1Vq49f6il2pHN777PS8S6gjFAsL-YdxRY7B4nHzMEdS8IBuxr6g19bmv8)\n",
      "URL parse error with http://delanodigital.com](http://delanodigital.com/?fbclid=IwAR1m3jZPzTf5TpQpSrqdEOMQNQsywLHmrKoiGsSqGQbokNTS616qafAMBvI)\n",
      "URL parse error with http://delanodigital.com](http://delanodigital.com/?fbclid=IwAR2WPM20LC7_ouuAkJKH23KKO9YE1VnCzby4HCLKxzZRUViNHEYZMtTCGHk)\n",
      "URL parse error with http://delanodigital.com](http://delanodigital.com/?fbclid=IwAR3ewiQNksg0js8jBiIAlMmNJXEiBgFkgKipGyKZo6Yy_kcivVJZXVxtI7s)\n",
      "URL parse error with http://delanodigital.com](http://delanodigital.com/?fbclid=IwAR1UfLMwoxvnErOaakJjoht8-kOdpIBH9Miq6-K3V5D4s6-Ay1ux8ETXvps)\n",
      "URL parse error with http://delanodigital.com](http://delanodigital.com/?fbclid=IwAR0JASpuMNztYAa9yd897okCpIfBrZYotAKpCZEc_rvwxeMJv_oNej_8aAE)\n",
      "URL parse error with http://delanodigital.com](http://delanodigital.com/?fbclid=IwAR0Qo2T4ArxvTTnzrC9qdsnVQa2YP8sY8TYn-W3VtClhZ-mXIPR7AOnqphw)\n",
      "URL parse error with http://delanodigital.com](http://delanodigital.com/?fbclid=IwAR1gYIVOot0ZuwlDuxFvvlK3bEWteyjjDEngODJAyCOtkylYjhD9ZyxS20k)\n",
      "URL parse error with http://delanodigital.com](http://delanodigital.com/?fbclid=IwAR0PzVZdeOq-nbtZjmL-gjwHRtsaewwuxtab7l7ZBIMrghoxmbN224hIPBA)\n",
      "URL parse error with http://delanodigital.com](https://l.facebook.com/l.php?u=http%3A%2F%2Fdelanodigital.com%2F%3Ffbclid%3DIwAR1tT43TvgjewWFwhzvsiSSfIDLJOBAZOrnmghfeLwojr91IOtxcphpZ600&h=AT1AZo988kelkqWRDECzzM7DIgN4qYlWjVuk-dzhey1BVsJfOYea4ZbLIq10eb4gRYZg62lB13k6nwq5CJze0E6KFHAU3BfsRaIVE_SuDrqjcQuXtrMeGFrCqqOWHe-O9T0DvhDUDL8xVjjcr8ksc99dSYfHhvkwOgNQcj9qZ51bpe9nwQlvnfRoiztU_cimT8smdyoRzzJDfzvKIQ3666497hVEcocxZHuv0_F4syN1qw54vVRkqgnhd2NneZi0XMVLbwH4ld-W1l393B8GBTyvgmYp1xec5BjmZmRt9sQgxSssjUGXqLfLWt8GiQooU6LwMSddnjb_vNZp9s6PloFq9STdq3w9L6GxvOi0Bnf7q0PXPQiojKXAW9JBXE8kndXHXQnsq23acLzmMSYrdVPLuHumwa3C4tk7ngEpab5FdFrynirgBCcl8vm7_QnKBAjrsciJ4w7o89Na_Gd9zLVth1uOdJvHD_A-CFtnKg64lzqJg5BAar8fRuPwkEF7NSARGkb9Qsl8tADP0PUwzydHh9CIlKNI9usLXBa6RiUT-nBdH1v-Xhv1edfEb9PlUxLt4RPXTPVYjfb5xb83ASjk8paFhzkiKy07Oati8L7ovL3qNyLaI2YBm3-w3-g7fCcgbg)\n",
      "URL parse error with http://delanodigital.com](http://delanodigital.com/?fbclid=IwAR16oJWBsyBGY8qRr0yEKXM9G4QroMstv9b5Z52wLpxiwe_ItI-_tuz7HoI)\n",
      "URL parse error with http://airchexxlive.com](http://airchexxlive.com/?fbclid=IwAR0WyzOgkGq_AGzwQNDroJB5Q_OykryUX-ZGpp2cbwEVGAiH_jkErVRPDlo)\n",
      "URL parse error with http://airchexxlive.com](http://airchexxlive.com/?fbclid=IwAR0WyzOgkGq_AGzwQNDroJB5Q_OykryUX-ZGpp2cbwEVGAiH_jkErVRPDlo)\n",
      "URL parse error with https://ourshot.in.gov](https://l.facebook.com/l.php?u=https%3A%2F%2Fourshot.in.gov%2F%3Ffbclid%3DIwAR0ldBXChtrFlUlZpVAIJ5rQgxzIilVqFKGpn_NYJit3z7k9GcugUseHO-I&h=AT0PyIUkKUTPCS0B5TUq1UgXO0mqa7Pyp3I-IPNrolzqbrUJ19BUVkZun2cUZTrgCuA7q1VU5IE2Ns2PjAcskWx9ZjrULQzOypHPPG9EbjNwX0MFALelWkwRrfqIEO8sAQqQ&__tn__=-UK-R&c[0]=AT18lYvmTTjT7psrLK7uYhRhx-HJ5pDcWzXZSktJQzzcFxQItzEZhcgQDhGVrRCPXYVYuY-OyLhT0z8kcQVNT8fJlDNFQBFI0Xpn6jFTs-GCgcbSddsbcWVTZYM5Ve0ywKaX0aYToJ4NpFELVo_JpGnrUtW9c7TwbT2nxQErymv-pX0),\n",
      "URL parse error with https://22qcare-during-covid.eventbrite.com](https://22qcare-during-covid.eventbrite.com/)\n",
      "URL parse error with https://audible-download.com](https://audible-download.com/)\n",
      "URL parse error with https://audible-download.com](https://audible-download.com/)\n",
      "URL parse error with http://Www.Exampin.net]\n",
      "URL parse error with https://www.goodthingsfoundation.org](https://www.goodthingsfoundation.org/)\n",
      "URL parse error with https://bzmoapride.com](https://l.facebook.com/l.php?u=https%3A%2F%2Fbzmoapride.com%2F%3Ffbclid%3DIwAR0Sj7mtmdeIwGKHhywIhJwcT2dFPwyZHEHhqlZMAuZaTNN6k_f7Vea5qpU&h=AT1S1StgpP2P1Ibj8bh1Ryjz-fbjSJRj5Hxl3g8084yAslt-rIlGBlXeQMxUOmsHvpBHiO0P7vUydw4qnyrUOWLuTVFZ3Xy5rTuTWTkZPsw2aUPRCK4xVZlOS3tRnJlhGRMpp_my397B7ahfJN8U&__tn__=-UK-R&c[0]=AT2IlghB9Bq_UEz00ttDBi-0ppkE9hppGKcHIOKv_76x0XjlC3RCtggAevTFaJ5TrwneHEuFIpO-Jt1v4r4VzUYeB5X6IFRhMbktpkGMXS6-t476V3juaFkDlBi7iMnVszUyFLDUFxepXFdLuMiqg_gtISoO48BFX8MbApx4bVDaaPJck1ucpyKl)\n",
      "URL parse error with http://genedrivefiles.synbiowatch.org](https://l.facebook.com/l.php?u=http%3A%2F%2Fgenedrivefiles.synbiowatch.org%2F%3Ffbclid%3DIwAR0wIWGkHZOMxryKWp1y8cmNA1pnFiloi-FngKziuVFDz3aIPv3i61YR_VI&h=AT1DPct7AoRVNGzBD_mxM0tG2en-ItEHGnNnVUq_qA9Ae0Ygn3THtf7t9Hb3CfDR4ZiCa8nZnKFk952soPoZtMvzh8uME3CmowW_9jFmRZmeM5F6QnWvhVLgzx8UGO4gpQ&__tn__=-UK-y-R&c[0]=AT1RB-NqTZEjjI7DnMxafaZgsV284bclf5JFzl9JFIj-1pkR0kYTkfmYOeUc1XBd9LYKX_8Bzrd6yBxELrCpZ83dtb--baeKS7zPCOfOCw4a3F83KfnFvSZGxdu_MUvHItICSp-cEI-vCwRyk_8d9ANmAFH8Vgw97k58CCnf6j82LlCiuw)\n",
      "URL parse error with https://www.theorganicguys.com.sg](https://www.theorganicguys.com.sg/?fbclid=IwAR2akVFMIWK3T3KRpYPOGJRN4DpI8dlftulyvliMpplC7tEFvDF1qXFKC1I)\n",
      "URL parse error with https://www.sarcgoa.com](https://www.sarcgoa.com/?fbclid=IwAR2MYtqIQIiNTwiDNp44N2DSKYK0BS9NEWIP6Zrii3LDtm3-Kcic_kwHnD0)\n",
      "URL parse error with https://www.greenworldvr.co](https://l.facebook.com/l.php?u=https%3A%2F%2Fwww.greenworldvr.com%2F%3Ffbclid%3DIwAR23P4rnMt70M986R3FM5asxCwzDIVd3dR7X87HTBq4A21N80Q6WTRc7MZA&h=AT12kSGaAZB7noxvxqMYgHQiUxv4_qdwYZZRRstOuMOH8gIaBBZsi_yFYqSsOz9EexZ_olgMutVbuRTWdQud8Ng5B5B2tJiK5E6NKJt8fbRHv9EcOEJZtqcIpL76EoR5xN8g&__tn__=-UK-R&c[0]=AT1Vy8WhRUqWHaHOYtqm6VEY7kyef4Jo3DSAmTMfwkKzP9ijQQVMpBe-jxchId2xIxTgm3PiGlVQHvQ-t-UKtGPKHNyULomKh_R4LqIfYdi6UfejfvsrzzX71LHANQyU8IqF-gjYr7PMRN30LUTT-lVNnQ)m\n",
      "URL parse error with https://www.voiceforthegenz.com](https://l.facebook.com/l.php?u=https%3A%2F%2Fwww.voiceforthegenz.com%2F%3Ffbclid%3DIwAR3jlGYJrZYfhmww8iV0mtlpuR3meVxxsvXwW3g3y6vHtCRUFapXhrRVzFM&h=AT2b_00c-kkvpBjL7akTmnDI1D3QD0VNoQuxfqQLonVSuGnNBM5ll-h6vULycKS6ZOxoLOYmh9mLvptWMJCDDDKIx1bQ5pYZ9kzKXYoMk6S6ff6Z88BKbprNJTV__Zcvyrdg&__tn__=-UK-R&c[0]=AT1Vy8WhRUqWHaHOYtqm6VEY7kyef4Jo3DSAmTMfwkKzP9ijQQVMpBe-jxchId2xIxTgm3PiGlVQHvQ-t-UKtGPKHNyULomKh_R4LqIfYdi6UfejfvsrzzX71LHANQyU8IqF-gjYr7PMRN30LUTT-lVNnQ)\n",
      "URL parse error with https://wyonaturals.co](https://wyonaturals.com/)[m](https://wyonaturals.com/)**or\n",
      "URL parse error with https://metaflare.com.sg](https://metaflare.com.sg/?fbclid=IwAR3LxJeLBdrNQTK6g5rP0zKaQH8pykr3Dwc6bnWh7OxRdiaoFc0zO8MW8uY)\n",
      "URL parse error with https://bzmoapride.com](https://l.facebook.com/l.php?u=https%3A%2F%2Fbzmoapride.com%2F%3Ffbclid%3DIwAR0Sj7mtmdeIwGKHhywIhJwcT2dFPwyZHEHhqlZMAuZaTNN6k_f7Vea5qpU&h=AT1S1StgpP2P1Ibj8bh1Ryjz-fbjSJRj5Hxl3g8084yAslt-rIlGBlXeQMxUOmsHvpBHiO0P7vUydw4qnyrUOWLuTVFZ3Xy5rTuTWTkZPsw2aUPRCK4xVZlOS3tRnJlhGRMpp_my397B7ahfJN8U&__tn__=-UK-R&c[0]=AT2IlghB9Bq_UEz00ttDBi-0ppkE9hppGKcHIOKv_76x0XjlC3RCtggAevTFaJ5TrwneHEuFIpO-Jt1v4r4VzUYeB5X6IFRhMbktpkGMXS6-t476V3juaFkDlBi7iMnVszUyFLDUFxepXFdLuMiqg_gtISoO48BFX8MbApx4bVDaaPJck1ucpyKl)\n",
      "URL parse error with https://www.zztchi.com](https://www.zztchi.com/?fbclid=IwAR3aV9ypKZebvTaKFkZYypP5GwqKAI-5DtKkvH-umCkvn7XkwLgEijcDD3Y)\n",
      "URL parse error with https://www.sarcgoa.com](https://www.sarcgoa.com/?fbclid=IwAR2MYtqIQIiNTwiDNp44N2DSKYK0BS9NEWIP6Zrii3LDtm3-Kcic_kwHnD0)\n",
      "URL parse error with https://wyonaturals.co](https://wyonaturals.com/)[m](https://wyonaturals.com/)**or\n",
      "URL parse error with https://UltimateBliss.in](https://l.facebook.com/l.php?u=https%3A%2F%2FUltimateBliss.in%2F%3Ffbclid%3DIwAR3PLi2jVNmbgyg82UHN_LQnFDQ-e8AdcxHbqbx9QXjAbyj0iOKPdSFrjEk&h=AT1eisJwsUYpubhXMhGfvqEmSh0F2cUYVgpsMVWnMpjbsxNf3WcBCg9QeBpfnsMcV3PAFJi8tthTuznI8NFJfhPn5zzTFbE8XqZoekJvY-Jj1pcfmxac94gGOJUk1TLGwfWTDqY04yrpRJsF9yaz&__tn__=-UK-R&c[0]=AT2J1JKp6Uss2EPDe3TrwXQjRalnMhcmQs2Rd_9pXRu0RvmhisTcfKQvs0nbYAzzBO0YnuV4pnlrK-P-e4SPmsxewPyV7gekLonNTBzU8aoFEhUN1lTf2G9hr-BHMt_VDPCV)\n",
      "URL parse error with https://Spirituality.in.net](https://l.facebook.com/l.php?u=https%3A%2F%2FSpirituality.in.net%2F%3Ffbclid%3DIwAR2vBr9PFVaQ87pPp0P6z12FZfRaBlwZIZ41MBDZMxEsYTPbLT-Luhgc42U&h=AT3n7UDJUd2iJzX_D1RJXU3pKYvhbsqoSbfqpbThkMlWwoPhWV_FcZCxj8aoHpGU9Ta-Dt5Q8R1Qy8OSyXWv41Y8xrvood1IL6MGgtT67DPLKvbjBBXitcv02NILgRcC19aYQeqSDcJTvXDsO0bj&__tn__=-UK-R&c[0]=AT2J1JKp6Uss2EPDe3TrwXQjRalnMhcmQs2Rd_9pXRu0RvmhisTcfKQvs0nbYAzzBO0YnuV4pnlrK-P-e4SPmsxewPyV7gekLonNTBzU8aoFEhUN1lTf2G9hr-BHMt_VDPCV)\n",
      "URL parse error with https://bzmoapride.com](https://l.facebook.com/l.php?u=https%3A%2F%2Fbzmoapride.com%2F%3Ffbclid%3DIwAR0Sj7mtmdeIwGKHhywIhJwcT2dFPwyZHEHhqlZMAuZaTNN6k_f7Vea5qpU&h=AT1S1StgpP2P1Ibj8bh1Ryjz-fbjSJRj5Hxl3g8084yAslt-rIlGBlXeQMxUOmsHvpBHiO0P7vUydw4qnyrUOWLuTVFZ3Xy5rTuTWTkZPsw2aUPRCK4xVZlOS3tRnJlhGRMpp_my397B7ahfJN8U&__tn__=-UK-R&c[0]=AT2IlghB9Bq_UEz00ttDBi-0ppkE9hppGKcHIOKv_76x0XjlC3RCtggAevTFaJ5TrwneHEuFIpO-Jt1v4r4VzUYeB5X6IFRhMbktpkGMXS6-t476V3juaFkDlBi7iMnVszUyFLDUFxepXFdLuMiqg_gtISoO48BFX8MbApx4bVDaaPJck1ucpyKl)\n"
     ]
    },
    {
     "name": "stderr",
     "output_type": "stream",
     "text": [
      "<ipython-input-7-5286c5d702dc>:5: SettingWithCopyWarning: \n",
      "A value is trying to be set on a copy of a slice from a DataFrame.\n",
      "Try using .loc[row_indexer,col_indexer] = value instead\n",
      "\n",
      "See the caveats in the documentation: https://pandas.pydata.org/pandas-docs/stable/user_guide/indexing.html#returning-a-view-versus-a-copy\n",
      "  facebook_liwc_no_pet['processed_text'] = facebook_liwc_no_pet.processed_text.apply(lambda x: url_replacement(x, \"host\"))\n",
      "<ipython-input-7-5286c5d702dc>:6: SettingWithCopyWarning: \n",
      "A value is trying to be set on a copy of a slice from a DataFrame.\n",
      "Try using .loc[row_indexer,col_indexer] = value instead\n",
      "\n",
      "See the caveats in the documentation: https://pandas.pydata.org/pandas-docs/stable/user_guide/indexing.html#returning-a-view-versus-a-copy\n",
      "  facebook_liwc_no_pet['processed_text'] = facebook_liwc_no_pet.processed_text.apply(p.clean) #Preprocessor removes hashtags and cleans text\n",
      "<ipython-input-7-5286c5d702dc>:7: SettingWithCopyWarning: \n",
      "A value is trying to be set on a copy of a slice from a DataFrame.\n",
      "Try using .loc[row_indexer,col_indexer] = value instead\n",
      "\n",
      "See the caveats in the documentation: https://pandas.pydata.org/pandas-docs/stable/user_guide/indexing.html#returning-a-view-versus-a-copy\n",
      "  facebook_liwc_no_pet['processed_text'] = facebook_liwc_no_pet.processed_text.apply(str.lower) #Convert to lowercase\n",
      "<ipython-input-7-5286c5d702dc>:8: SettingWithCopyWarning: \n",
      "A value is trying to be set on a copy of a slice from a DataFrame.\n",
      "Try using .loc[row_indexer,col_indexer] = value instead\n",
      "\n",
      "See the caveats in the documentation: https://pandas.pydata.org/pandas-docs/stable/user_guide/indexing.html#returning-a-view-versus-a-copy\n",
      "  facebook_liwc_no_pet['processed_text'] = facebook_liwc_no_pet.processed_text.apply(lambda x: ''.join([i for i in x if not i.isdigit()])) #Remove numbers\n",
      "<ipython-input-7-5286c5d702dc>:9: SettingWithCopyWarning: \n",
      "A value is trying to be set on a copy of a slice from a DataFrame.\n",
      "Try using .loc[row_indexer,col_indexer] = value instead\n",
      "\n",
      "See the caveats in the documentation: https://pandas.pydata.org/pandas-docs/stable/user_guide/indexing.html#returning-a-view-versus-a-copy\n",
      "  facebook_liwc_no_pet['processed_text'] = facebook_liwc_no_pet.processed_text.apply(lambda x: re.sub('[^a-zA-z]', \" \", x)) #Remove non-letters\n"
     ]
    }
   ],
   "source": [
    "print(\"Now processing text!\")\n",
    "facebook_liwc_no_pet['processed_text'] = facebook_liwc_no_pet.Message.apply(str) #Change to string\n",
    "facebook_liwc_no_pet['processed_text'] = facebook_liwc_no_pet.processed_text.apply(html.unescape) #Remove HTML escape characters\n",
    "facebook_liwc_no_pet['processed_text_bert'] = facebook_liwc_no_pet['processed_text'] #Create new column for BERT-specific embeddings (don't want to remove additional information)\n",
    "facebook_liwc_no_pet['processed_text'] = facebook_liwc_no_pet.processed_text.apply(lambda x: url_replacement(x, \"host\"))\n",
    "facebook_liwc_no_pet['processed_text'] = facebook_liwc_no_pet.processed_text.apply(p.clean) #Preprocessor removes hashtags and cleans text\n",
    "facebook_liwc_no_pet['processed_text'] = facebook_liwc_no_pet.processed_text.apply(str.lower) #Convert to lowercase\n",
    "facebook_liwc_no_pet['processed_text'] = facebook_liwc_no_pet.processed_text.apply(lambda x: ''.join([i for i in x if not i.isdigit()])) #Remove numbers\n",
    "facebook_liwc_no_pet['processed_text'] = facebook_liwc_no_pet.processed_text.apply(lambda x: re.sub('[^a-zA-z]', \" \", x)) #Remove non-letters"
   ]
  },
  {
   "cell_type": "markdown",
   "metadata": {},
   "source": [
    "# Additional Processing"
   ]
  },
  {
   "cell_type": "code",
   "execution_count": null,
   "metadata": {},
   "outputs": [],
   "source": [
    "print(\"Now tokenizing\")\n",
    "facebook_liwc_no_pet['tokens'] = facebook_liwc_no_pet.processed_text.apply(word_tokenize)\n",
    "\n",
    "print(\"Now removing stop words\")\n",
    "stop_words = set(stopwords.words('english'))\n",
    "facebook_liwc_no_pet['tokens'] = facebook_liwc_no_pet.tokens.apply(lambda x: [item for item in x if item not in stop_words])\n",
    "\n",
    "print(\"Now lemmatizing\")\n",
    "lemma = WordNetLemmatizer()\n",
    "facebook_liwc_no_pet['tokens'] = facebook_liwc_no_pet.tokens.apply(lambda x: [lemma.lemmatize(word = w, pos = 'v') for w in x])\n",
    "\n",
    "print(\"Now converting back to final string\")\n",
    "\n",
    "facebook_liwc_no_pet['final_text'] = facebook_liwc_no_pet.tokens.apply(lambda x: ' '.join(x))"
   ]
  },
  {
   "cell_type": "markdown",
   "metadata": {},
   "source": [
    "# Feature Matrix Construction"
   ]
  },
  {
   "cell_type": "markdown",
   "metadata": {},
   "source": [
    "## TF-IDF"
   ]
  },
  {
   "cell_type": "code",
   "execution_count": 9,
   "metadata": {},
   "outputs": [
    {
     "name": "stdout",
     "output_type": "stream",
     "text": [
      "Now running TFIDF!\n",
      "Count Vectorizer\n",
      "Get Feature Names\n",
      "TFIDF Vectorizer\n"
     ]
    },
    {
     "name": "stderr",
     "output_type": "stream",
     "text": [
      "/Users/catherinepollack/opt/anaconda3/lib/python3.8/site-packages/sklearn/utils/deprecation.py:87: FutureWarning: Function get_feature_names is deprecated; get_feature_names is deprecated in 1.0 and will be removed in 1.2. Please use get_feature_names_out instead.\n",
      "  warnings.warn(msg, category=FutureWarning)\n"
     ]
    },
    {
     "name": "stdout",
     "output_type": "stream",
     "text": [
      "Compiling Rankings\n",
      "             term          rank\n",
      "7         com url  31084.641576\n",
      "31         ly url  12796.511902\n",
      "43    side effect  10905.567479\n",
      "3         bite ly   9671.011519\n",
      "19  give headache   8342.552425\n",
      "['amzn url', 'anti inflammatory', 'back pain', 'bite ly', 'blood pressure', 'body ache', 'chest pain', 'com url', 'come back', 'contact us', 'covid vaccine', 'difficulty breathe', 'every day', 'facebook com', 'feel like', 'fever chill', 'fever headache', 'get headache', 'get rid', 'give headache', 'give us', 'go away', 'go back', 'god bless', 'health benefit', 'high blood', 'immune system', 'joint pain', 'last night', 'look like', 'loss taste', 'ly url', 'make sure', 'many people', 'migraine headache', 'migraine headaches', 'muscle pain', 'nausea vomit', 'org url', 'pain headache', 'runny nose', 'severe headache', 'shortness breath', 'side effect', 'social media', 'sore throat', 'stay home', 'take care', 'taste smell', 'varicose vein', 'would like', 'www facebook', 'year old']\n"
     ]
    }
   ],
   "source": [
    "print(\"Now running TFIDF!\")\n",
    "count_vectorizer = CountVectorizer(ngram_range = (2,2), min_df = 0.01, max_df = 0.75)\n",
    "tfidf_vectorizer = TfidfVectorizer(ngram_range=(2,2), min_df = 0.01, max_df = 0.75)\n",
    "print(\"Count Vectorizer\")\n",
    "count_matrix = count_vectorizer.fit_transform(facebook_liwc_no_pet['final_text'])\n",
    "print(\"Get Feature Names\")\n",
    "features = count_vectorizer.get_feature_names()\n",
    "print(\"TFIDF Vectorizer\")\n",
    "tfidf_matrix = tfidf_vectorizer.fit_transform(facebook_liwc_no_pet['final_text'])\n",
    "scores = np.asarray(tfidf_matrix)\n",
    "sums = tfidf_matrix.sum(axis = 0)\n",
    "data = []\n",
    "print(\"Compiling Rankings\")\n",
    "for col, term in enumerate(features):\n",
    "    data.append((term, sums[0,col]))\n",
    "ranking = pd.DataFrame(data, columns = ['term', 'rank'])\n",
    "words = ranking.sort_values('rank', ascending = False)\n",
    "print(words.head())\n",
    "\n",
    "tf_idf_dataframe = pd.DataFrame(tfidf_matrix.todense())\n",
    "\n",
    "# Creating list of terms that can be used as column names\n",
    "terms = []\n",
    "for col, term in enumerate(features):\n",
    "    terms.append(term)\n",
    "print(terms)\n",
    "\n",
    "tf_idf_dataframe.columns = [x for x in terms]"
   ]
  },
  {
   "cell_type": "markdown",
   "metadata": {},
   "source": [
    "## Sentiment Analysis"
   ]
  },
  {
   "cell_type": "code",
   "execution_count": 10,
   "metadata": {},
   "outputs": [
    {
     "name": "stdout",
     "output_type": "stream",
     "text": [
      "Now running sentiment analysis!\n"
     ]
    }
   ],
   "source": [
    "print(\"Now running sentiment analysis!\")\n",
    "sid = SentimentIntensityAnalyzer()\n",
    "sentiments = pd.DataFrame(columns = ['neg', 'neu', 'pos', 'compound'])\n",
    "for text in facebook_liwc_no_pet['processed_text_bert']:\n",
    "    sentiments = get_vader_score(sid, text, sentiments)"
   ]
  },
  {
   "cell_type": "markdown",
   "metadata": {},
   "source": [
    "## Compiling Feature Matrix"
   ]
  },
  {
   "cell_type": "code",
   "execution_count": 11,
   "metadata": {},
   "outputs": [
    {
     "name": "stdout",
     "output_type": "stream",
     "text": [
      "Now running feature matrix!\n"
     ]
    }
   ],
   "source": [
    "print(\"Now running feature matrix!\")\n",
    "feature_matrix_no_bert = pd.concat([tf_idf_dataframe.reset_index(), \n",
    "                            sentiments.reset_index(), \n",
    "                            facebook_liwc_no_pet.reset_index()],\n",
    "                          axis = 1)\n",
    "file_name = \"/220218_feature_matrix_no_bert_health_comparator.csv\"\n",
    "feature_matrix_no_bert.to_csv(str(data_file_path + file_name))"
   ]
  }
 ],
 "metadata": {
  "interpreter": {
   "hash": "ffe67d4efdf50a67adb541926f1b56bfeeb48b191d1b9a6489e883c5acad5bda"
  },
  "kernelspec": {
   "display_name": "Python 3.8.8 64-bit ('base': conda)",
   "name": "python3"
  },
  "language_info": {
   "codemirror_mode": {
    "name": "ipython",
    "version": 3
   },
   "file_extension": ".py",
   "mimetype": "text/x-python",
   "name": "python",
   "nbconvert_exporter": "python",
   "pygments_lexer": "ipython3",
   "version": "3.8.8"
  },
  "toc": {
   "base_numbering": 1,
   "nav_menu": {},
   "number_sections": true,
   "sideBar": true,
   "skip_h1_title": false,
   "title_cell": "Table of Contents",
   "title_sidebar": "Contents",
   "toc_cell": false,
   "toc_position": {},
   "toc_section_display": true,
   "toc_window_display": false
  },
  "varInspector": {
   "cols": {
    "lenName": 16,
    "lenType": 16,
    "lenVar": 40
   },
   "kernels_config": {
    "python": {
     "delete_cmd_postfix": "",
     "delete_cmd_prefix": "del ",
     "library": "var_list.py",
     "varRefreshCmd": "print(var_dic_list())"
    },
    "r": {
     "delete_cmd_postfix": ") ",
     "delete_cmd_prefix": "rm(",
     "library": "var_list.r",
     "varRefreshCmd": "cat(var_dic_list()) "
    }
   },
   "types_to_exclude": [
    "module",
    "function",
    "builtin_function_or_method",
    "instance",
    "_Feature"
   ],
   "window_display": false
  }
 },
 "nbformat": 4,
 "nbformat_minor": 4
}
